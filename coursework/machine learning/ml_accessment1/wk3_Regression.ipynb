{
  "cells": [
    {
      "cell_type": "markdown",
      "metadata": {
        "id": "8NRMjCyyZdMy"
      },
      "source": [
        "## 0. Introduction\n",
        "\n",
        "The aim of this lab is to get familiar with **regression problems**, the concepts of **under/over-fitting**, and **regularization**.\n",
        "\n",
        "\n",
        "1.   This lab is the first course-work activity **Assignment 1 part 1: Regression (10%)**\n",
        "2. The Assignment is due on **Friday, 27th October, 11:59pm**\n",
        "2.   A report answering the <font color = 'red'>**questions in</font><font color = \"maroon\"> red**</font> should be submitted on QMplus along with the completed Notebook.\n",
        "3. The report should be a separate file in **pdf format** (so **NOT** *doc, docx, notebook* etc.), well identified with your name, student number, assignment number (for instance, Assignment 1), module code.\n",
        "4. Make sure that **any figures or code** you comment on, are **included in the report**.\n",
        "5. No other means of submission other than the appropriate QM+ link is acceptable at any time (so NO email attachments, etc.)\n",
        "6. **PLAGIARISM** <ins>is an irreversible non-negotiable failure in the course</ins> (if in doubt of what constitutes plagiarism, ask!).\n",
        "\n",
        "\n",
        "For this lab we will use the [diabetes](https://www4.stat.ncsu.edu/~boos/var.select/diabetes.html) dataset."
      ]
    },
    {
      "cell_type": "code",
      "execution_count": null,
      "metadata": {
        "id": "lkLnfbLLwxxS"
      },
      "outputs": [],
      "source": [
        "import torch\n",
        "from torch import nn\n",
        "from sklearn import model_selection\n",
        "import pandas as pd\n",
        "import matplotlib.pyplot as plt\n",
        "import seaborn as sn\n",
        "from IPython import display\n",
        "\n",
        "import typing\n",
        "%matplotlib inline"
      ]
    },
    {
      "cell_type": "code",
      "execution_count": null,
      "metadata": {
        "id": "LJJVj3d3b43I"
      },
      "outputs": [],
      "source": [
        "diabetes_db = pd.read_csv('https://www4.stat.ncsu.edu/~boos/var.select/diabetes.tab.txt', sep='\\t', header=0)\n",
        "#sn.pairplot(diabetes_db)"
      ]
    },
    {
      "cell_type": "code",
      "execution_count": null,
      "metadata": {
        "colab": {
          "base_uri": "https://localhost:8080/",
          "height": 363
        },
        "id": "imFNxOVrf36P",
        "outputId": "e01b15d7-f477-44a3-9c3d-e35aac356c3b"
      },
      "outputs": [
        {
          "output_type": "execute_result",
          "data": {
            "text/plain": [
              "   AGE  SEX   BMI     BP   S1     S2    S3    S4      S5  S6    Y\n",
              "0   59    2  32.1  101.0  157   93.2  38.0  4.00  4.8598  87  151\n",
              "1   48    1  21.6   87.0  183  103.2  70.0  3.00  3.8918  69   75\n",
              "2   72    2  30.5   93.0  156   93.6  41.0  4.00  4.6728  85  141\n",
              "3   24    1  25.3   84.0  198  131.4  40.0  5.00  4.8903  89  206\n",
              "4   50    1  23.0  101.0  192  125.4  52.0  4.00  4.2905  80  135\n",
              "5   23    1  22.6   89.0  139   64.8  61.0  2.00  4.1897  68   97\n",
              "6   36    2  22.0   90.0  160   99.6  50.0  3.00  3.9512  82  138\n",
              "7   66    2  26.2  114.0  255  185.0  56.0  4.55  4.2485  92   63\n",
              "8   60    2  32.1   83.0  179  119.4  42.0  4.00  4.4773  94  110\n",
              "9   29    1  30.0   85.0  180   93.4  43.0  4.00  5.3845  88  310"
            ],
            "text/html": [
              "\n",
              "  <div id=\"df-45205b70-d9cd-43bd-8693-298b083265cd\" class=\"colab-df-container\">\n",
              "    <div>\n",
              "<style scoped>\n",
              "    .dataframe tbody tr th:only-of-type {\n",
              "        vertical-align: middle;\n",
              "    }\n",
              "\n",
              "    .dataframe tbody tr th {\n",
              "        vertical-align: top;\n",
              "    }\n",
              "\n",
              "    .dataframe thead th {\n",
              "        text-align: right;\n",
              "    }\n",
              "</style>\n",
              "<table border=\"1\" class=\"dataframe\">\n",
              "  <thead>\n",
              "    <tr style=\"text-align: right;\">\n",
              "      <th></th>\n",
              "      <th>AGE</th>\n",
              "      <th>SEX</th>\n",
              "      <th>BMI</th>\n",
              "      <th>BP</th>\n",
              "      <th>S1</th>\n",
              "      <th>S2</th>\n",
              "      <th>S3</th>\n",
              "      <th>S4</th>\n",
              "      <th>S5</th>\n",
              "      <th>S6</th>\n",
              "      <th>Y</th>\n",
              "    </tr>\n",
              "  </thead>\n",
              "  <tbody>\n",
              "    <tr>\n",
              "      <th>0</th>\n",
              "      <td>59</td>\n",
              "      <td>2</td>\n",
              "      <td>32.1</td>\n",
              "      <td>101.0</td>\n",
              "      <td>157</td>\n",
              "      <td>93.2</td>\n",
              "      <td>38.0</td>\n",
              "      <td>4.00</td>\n",
              "      <td>4.8598</td>\n",
              "      <td>87</td>\n",
              "      <td>151</td>\n",
              "    </tr>\n",
              "    <tr>\n",
              "      <th>1</th>\n",
              "      <td>48</td>\n",
              "      <td>1</td>\n",
              "      <td>21.6</td>\n",
              "      <td>87.0</td>\n",
              "      <td>183</td>\n",
              "      <td>103.2</td>\n",
              "      <td>70.0</td>\n",
              "      <td>3.00</td>\n",
              "      <td>3.8918</td>\n",
              "      <td>69</td>\n",
              "      <td>75</td>\n",
              "    </tr>\n",
              "    <tr>\n",
              "      <th>2</th>\n",
              "      <td>72</td>\n",
              "      <td>2</td>\n",
              "      <td>30.5</td>\n",
              "      <td>93.0</td>\n",
              "      <td>156</td>\n",
              "      <td>93.6</td>\n",
              "      <td>41.0</td>\n",
              "      <td>4.00</td>\n",
              "      <td>4.6728</td>\n",
              "      <td>85</td>\n",
              "      <td>141</td>\n",
              "    </tr>\n",
              "    <tr>\n",
              "      <th>3</th>\n",
              "      <td>24</td>\n",
              "      <td>1</td>\n",
              "      <td>25.3</td>\n",
              "      <td>84.0</td>\n",
              "      <td>198</td>\n",
              "      <td>131.4</td>\n",
              "      <td>40.0</td>\n",
              "      <td>5.00</td>\n",
              "      <td>4.8903</td>\n",
              "      <td>89</td>\n",
              "      <td>206</td>\n",
              "    </tr>\n",
              "    <tr>\n",
              "      <th>4</th>\n",
              "      <td>50</td>\n",
              "      <td>1</td>\n",
              "      <td>23.0</td>\n",
              "      <td>101.0</td>\n",
              "      <td>192</td>\n",
              "      <td>125.4</td>\n",
              "      <td>52.0</td>\n",
              "      <td>4.00</td>\n",
              "      <td>4.2905</td>\n",
              "      <td>80</td>\n",
              "      <td>135</td>\n",
              "    </tr>\n",
              "    <tr>\n",
              "      <th>5</th>\n",
              "      <td>23</td>\n",
              "      <td>1</td>\n",
              "      <td>22.6</td>\n",
              "      <td>89.0</td>\n",
              "      <td>139</td>\n",
              "      <td>64.8</td>\n",
              "      <td>61.0</td>\n",
              "      <td>2.00</td>\n",
              "      <td>4.1897</td>\n",
              "      <td>68</td>\n",
              "      <td>97</td>\n",
              "    </tr>\n",
              "    <tr>\n",
              "      <th>6</th>\n",
              "      <td>36</td>\n",
              "      <td>2</td>\n",
              "      <td>22.0</td>\n",
              "      <td>90.0</td>\n",
              "      <td>160</td>\n",
              "      <td>99.6</td>\n",
              "      <td>50.0</td>\n",
              "      <td>3.00</td>\n",
              "      <td>3.9512</td>\n",
              "      <td>82</td>\n",
              "      <td>138</td>\n",
              "    </tr>\n",
              "    <tr>\n",
              "      <th>7</th>\n",
              "      <td>66</td>\n",
              "      <td>2</td>\n",
              "      <td>26.2</td>\n",
              "      <td>114.0</td>\n",
              "      <td>255</td>\n",
              "      <td>185.0</td>\n",
              "      <td>56.0</td>\n",
              "      <td>4.55</td>\n",
              "      <td>4.2485</td>\n",
              "      <td>92</td>\n",
              "      <td>63</td>\n",
              "    </tr>\n",
              "    <tr>\n",
              "      <th>8</th>\n",
              "      <td>60</td>\n",
              "      <td>2</td>\n",
              "      <td>32.1</td>\n",
              "      <td>83.0</td>\n",
              "      <td>179</td>\n",
              "      <td>119.4</td>\n",
              "      <td>42.0</td>\n",
              "      <td>4.00</td>\n",
              "      <td>4.4773</td>\n",
              "      <td>94</td>\n",
              "      <td>110</td>\n",
              "    </tr>\n",
              "    <tr>\n",
              "      <th>9</th>\n",
              "      <td>29</td>\n",
              "      <td>1</td>\n",
              "      <td>30.0</td>\n",
              "      <td>85.0</td>\n",
              "      <td>180</td>\n",
              "      <td>93.4</td>\n",
              "      <td>43.0</td>\n",
              "      <td>4.00</td>\n",
              "      <td>5.3845</td>\n",
              "      <td>88</td>\n",
              "      <td>310</td>\n",
              "    </tr>\n",
              "  </tbody>\n",
              "</table>\n",
              "</div>\n",
              "    <div class=\"colab-df-buttons\">\n",
              "\n",
              "  <div class=\"colab-df-container\">\n",
              "    <button class=\"colab-df-convert\" onclick=\"convertToInteractive('df-45205b70-d9cd-43bd-8693-298b083265cd')\"\n",
              "            title=\"Convert this dataframe to an interactive table.\"\n",
              "            style=\"display:none;\">\n",
              "\n",
              "  <svg xmlns=\"http://www.w3.org/2000/svg\" height=\"24px\" viewBox=\"0 -960 960 960\">\n",
              "    <path d=\"M120-120v-720h720v720H120Zm60-500h600v-160H180v160Zm220 220h160v-160H400v160Zm0 220h160v-160H400v160ZM180-400h160v-160H180v160Zm440 0h160v-160H620v160ZM180-180h160v-160H180v160Zm440 0h160v-160H620v160Z\"/>\n",
              "  </svg>\n",
              "    </button>\n",
              "\n",
              "  <style>\n",
              "    .colab-df-container {\n",
              "      display:flex;\n",
              "      gap: 12px;\n",
              "    }\n",
              "\n",
              "    .colab-df-convert {\n",
              "      background-color: #E8F0FE;\n",
              "      border: none;\n",
              "      border-radius: 50%;\n",
              "      cursor: pointer;\n",
              "      display: none;\n",
              "      fill: #1967D2;\n",
              "      height: 32px;\n",
              "      padding: 0 0 0 0;\n",
              "      width: 32px;\n",
              "    }\n",
              "\n",
              "    .colab-df-convert:hover {\n",
              "      background-color: #E2EBFA;\n",
              "      box-shadow: 0px 1px 2px rgba(60, 64, 67, 0.3), 0px 1px 3px 1px rgba(60, 64, 67, 0.15);\n",
              "      fill: #174EA6;\n",
              "    }\n",
              "\n",
              "    .colab-df-buttons div {\n",
              "      margin-bottom: 4px;\n",
              "    }\n",
              "\n",
              "    [theme=dark] .colab-df-convert {\n",
              "      background-color: #3B4455;\n",
              "      fill: #D2E3FC;\n",
              "    }\n",
              "\n",
              "    [theme=dark] .colab-df-convert:hover {\n",
              "      background-color: #434B5C;\n",
              "      box-shadow: 0px 1px 3px 1px rgba(0, 0, 0, 0.15);\n",
              "      filter: drop-shadow(0px 1px 2px rgba(0, 0, 0, 0.3));\n",
              "      fill: #FFFFFF;\n",
              "    }\n",
              "  </style>\n",
              "\n",
              "    <script>\n",
              "      const buttonEl =\n",
              "        document.querySelector('#df-45205b70-d9cd-43bd-8693-298b083265cd button.colab-df-convert');\n",
              "      buttonEl.style.display =\n",
              "        google.colab.kernel.accessAllowed ? 'block' : 'none';\n",
              "\n",
              "      async function convertToInteractive(key) {\n",
              "        const element = document.querySelector('#df-45205b70-d9cd-43bd-8693-298b083265cd');\n",
              "        const dataTable =\n",
              "          await google.colab.kernel.invokeFunction('convertToInteractive',\n",
              "                                                    [key], {});\n",
              "        if (!dataTable) return;\n",
              "\n",
              "        const docLinkHtml = 'Like what you see? Visit the ' +\n",
              "          '<a target=\"_blank\" href=https://colab.research.google.com/notebooks/data_table.ipynb>data table notebook</a>'\n",
              "          + ' to learn more about interactive tables.';\n",
              "        element.innerHTML = '';\n",
              "        dataTable['output_type'] = 'display_data';\n",
              "        await google.colab.output.renderOutput(dataTable, element);\n",
              "        const docLink = document.createElement('div');\n",
              "        docLink.innerHTML = docLinkHtml;\n",
              "        element.appendChild(docLink);\n",
              "      }\n",
              "    </script>\n",
              "  </div>\n",
              "\n",
              "\n",
              "<div id=\"df-aaf7b5bd-87fc-41ac-876f-0d1ba9689324\">\n",
              "  <button class=\"colab-df-quickchart\" onclick=\"quickchart('df-aaf7b5bd-87fc-41ac-876f-0d1ba9689324')\"\n",
              "            title=\"Suggest charts.\"\n",
              "            style=\"display:none;\">\n",
              "\n",
              "<svg xmlns=\"http://www.w3.org/2000/svg\" height=\"24px\"viewBox=\"0 0 24 24\"\n",
              "     width=\"24px\">\n",
              "    <g>\n",
              "        <path d=\"M19 3H5c-1.1 0-2 .9-2 2v14c0 1.1.9 2 2 2h14c1.1 0 2-.9 2-2V5c0-1.1-.9-2-2-2zM9 17H7v-7h2v7zm4 0h-2V7h2v10zm4 0h-2v-4h2v4z\"/>\n",
              "    </g>\n",
              "</svg>\n",
              "  </button>\n",
              "\n",
              "<style>\n",
              "  .colab-df-quickchart {\n",
              "      --bg-color: #E8F0FE;\n",
              "      --fill-color: #1967D2;\n",
              "      --hover-bg-color: #E2EBFA;\n",
              "      --hover-fill-color: #174EA6;\n",
              "      --disabled-fill-color: #AAA;\n",
              "      --disabled-bg-color: #DDD;\n",
              "  }\n",
              "\n",
              "  [theme=dark] .colab-df-quickchart {\n",
              "      --bg-color: #3B4455;\n",
              "      --fill-color: #D2E3FC;\n",
              "      --hover-bg-color: #434B5C;\n",
              "      --hover-fill-color: #FFFFFF;\n",
              "      --disabled-bg-color: #3B4455;\n",
              "      --disabled-fill-color: #666;\n",
              "  }\n",
              "\n",
              "  .colab-df-quickchart {\n",
              "    background-color: var(--bg-color);\n",
              "    border: none;\n",
              "    border-radius: 50%;\n",
              "    cursor: pointer;\n",
              "    display: none;\n",
              "    fill: var(--fill-color);\n",
              "    height: 32px;\n",
              "    padding: 0;\n",
              "    width: 32px;\n",
              "  }\n",
              "\n",
              "  .colab-df-quickchart:hover {\n",
              "    background-color: var(--hover-bg-color);\n",
              "    box-shadow: 0 1px 2px rgba(60, 64, 67, 0.3), 0 1px 3px 1px rgba(60, 64, 67, 0.15);\n",
              "    fill: var(--button-hover-fill-color);\n",
              "  }\n",
              "\n",
              "  .colab-df-quickchart-complete:disabled,\n",
              "  .colab-df-quickchart-complete:disabled:hover {\n",
              "    background-color: var(--disabled-bg-color);\n",
              "    fill: var(--disabled-fill-color);\n",
              "    box-shadow: none;\n",
              "  }\n",
              "\n",
              "  .colab-df-spinner {\n",
              "    border: 2px solid var(--fill-color);\n",
              "    border-color: transparent;\n",
              "    border-bottom-color: var(--fill-color);\n",
              "    animation:\n",
              "      spin 1s steps(1) infinite;\n",
              "  }\n",
              "\n",
              "  @keyframes spin {\n",
              "    0% {\n",
              "      border-color: transparent;\n",
              "      border-bottom-color: var(--fill-color);\n",
              "      border-left-color: var(--fill-color);\n",
              "    }\n",
              "    20% {\n",
              "      border-color: transparent;\n",
              "      border-left-color: var(--fill-color);\n",
              "      border-top-color: var(--fill-color);\n",
              "    }\n",
              "    30% {\n",
              "      border-color: transparent;\n",
              "      border-left-color: var(--fill-color);\n",
              "      border-top-color: var(--fill-color);\n",
              "      border-right-color: var(--fill-color);\n",
              "    }\n",
              "    40% {\n",
              "      border-color: transparent;\n",
              "      border-right-color: var(--fill-color);\n",
              "      border-top-color: var(--fill-color);\n",
              "    }\n",
              "    60% {\n",
              "      border-color: transparent;\n",
              "      border-right-color: var(--fill-color);\n",
              "    }\n",
              "    80% {\n",
              "      border-color: transparent;\n",
              "      border-right-color: var(--fill-color);\n",
              "      border-bottom-color: var(--fill-color);\n",
              "    }\n",
              "    90% {\n",
              "      border-color: transparent;\n",
              "      border-bottom-color: var(--fill-color);\n",
              "    }\n",
              "  }\n",
              "</style>\n",
              "\n",
              "  <script>\n",
              "    async function quickchart(key) {\n",
              "      const quickchartButtonEl =\n",
              "        document.querySelector('#' + key + ' button');\n",
              "      quickchartButtonEl.disabled = true;  // To prevent multiple clicks.\n",
              "      quickchartButtonEl.classList.add('colab-df-spinner');\n",
              "      try {\n",
              "        const charts = await google.colab.kernel.invokeFunction(\n",
              "            'suggestCharts', [key], {});\n",
              "      } catch (error) {\n",
              "        console.error('Error during call to suggestCharts:', error);\n",
              "      }\n",
              "      quickchartButtonEl.classList.remove('colab-df-spinner');\n",
              "      quickchartButtonEl.classList.add('colab-df-quickchart-complete');\n",
              "    }\n",
              "    (() => {\n",
              "      let quickchartButtonEl =\n",
              "        document.querySelector('#df-aaf7b5bd-87fc-41ac-876f-0d1ba9689324 button');\n",
              "      quickchartButtonEl.style.display =\n",
              "        google.colab.kernel.accessAllowed ? 'block' : 'none';\n",
              "    })();\n",
              "  </script>\n",
              "</div>\n",
              "    </div>\n",
              "  </div>\n"
            ]
          },
          "metadata": {},
          "execution_count": 56
        }
      ],
      "source": [
        "diabetes_db.head(10)"
      ]
    },
    {
      "cell_type": "markdown",
      "metadata": {
        "id": "LGjbgZxNdrLH"
      },
      "source": [
        "We first split the data into test and training sets. For consistency and to allow for meaningful comparison the same splits are maintained in the remainder of the lab."
      ]
    },
    {
      "cell_type": "code",
      "execution_count": null,
      "metadata": {
        "id": "Lad3ihXjd-Ev"
      },
      "outputs": [],
      "source": [
        "X_train, X_test, y_train, y_test = model_selection.train_test_split(\n",
        "    diabetes_db.loc[:, diabetes_db.columns != 'Y'],\n",
        "    diabetes_db['Y'],\n",
        "    test_size=0.2,\n",
        "    random_state=42\n",
        "    )\n",
        "x_train = torch.from_numpy(X_train.values).float()\n",
        "x_test = torch.from_numpy(X_test.values).float()\n",
        "\n",
        "y_train = torch.from_numpy(y_train.values).float()\n",
        "y_train = y_train.reshape(-1, 1)\n",
        "\n",
        "y_test = torch.from_numpy(y_test.values).float()\n",
        "y_test = y_test.reshape(-1, 1)\n",
        "\n",
        "\n",
        "mu_val = torch.mean(x_train,dim=0)\n",
        "std = torch.std(x_train,dim=0)"
      ]
    },
    {
      "cell_type": "markdown",
      "metadata": {
        "id": "hLLITe4POndx"
      },
      "source": [
        "We can see that all the independent variables are on different scales. This can affect gradient descent, we therefore need to normalize all features to zero mean, and unit standard deviation. The normalized value $z_i$ of $x_i$ is obtained through $z_i = \\frac{x_i - μ}{σ}$ where $μ$ is the mean and $σ$ is the standard deviation of $X$ and $x_i, μ, σ ∈ \\mathbb{R}^D$.\n",
        "\n",
        "**Q1.** Complete the method and normalize `x_train, x_test` [2 marks]"
      ]
    },
    {
      "cell_type": "code",
      "execution_count": null,
      "metadata": {
        "id": "z3E-8C1USNFP"
      },
      "outputs": [],
      "source": [
        "def norm_set(x: torch.Tensor, mu: torch.Tensor, sigma: torch.Tensor) -> torch.tensor:\n",
        "  ### your code here\n",
        "  norm_val=(x-mu)/sigma\n",
        "  return norm_val\n"
      ]
    },
    {
      "cell_type": "markdown",
      "metadata": {
        "id": "d_qQkwRGFBF8"
      },
      "source": [
        "## 1.1 Linear Regression\n",
        "\n",
        "We will building the linear regression model in pytorch using a custom layer.\n",
        "\n",
        "Refering back to the lecture notes, we define $ y = f(x) = w^T x$, so we need to learn weight vector $w$.\n",
        "\n",
        "**Q2.** Fill in the forward method of the LinearRegression class. [2 marks]"
      ]
    },
    {
      "cell_type": "code",
      "execution_count": null,
      "metadata": {
        "id": "mxp1LoliF3Qc"
      },
      "outputs": [],
      "source": [
        "class LinearRegression(nn.Module):\n",
        "  def __init__(self, num_features):\n",
        "    super().__init__()\n",
        "    self.weight = nn.Parameter(torch.zeros(1, num_features), requires_grad=False)\n",
        "\n",
        "  def forward(self, x):\n",
        "    y = 0\n",
        "    ### your code here\n",
        "    y = torch.mm(x, self.weight.t())\n",
        "    return y"
      ]
    },
    {
      "cell_type": "markdown",
      "metadata": {
        "id": "Rr7MDAIWboLi"
      },
      "source": [
        "As we need to account for the bias, we add a column of ones to the `x_data`"
      ]
    },
    {
      "cell_type": "code",
      "execution_count": null,
      "metadata": {
        "id": "rCn-E-CZbxOL"
      },
      "outputs": [],
      "source": [
        "# add a feature for bias\n",
        "x_train=norm_set(x_train, mu_val, std)\n",
        "x_test=norm_set(x_test, mu_val, std)\n",
        "x_train = torch.cat([x_train, torch.ones(x_train.shape[0], 1)], dim=1)\n",
        "x_test = torch.cat([x_test, torch.ones(x_test.shape[0], 1)], dim=1)"
      ]
    },
    {
      "cell_type": "code",
      "execution_count": null,
      "metadata": {
        "colab": {
          "base_uri": "https://localhost:8080/"
        },
        "id": "Tfeh3o4Gk_xW",
        "outputId": "e44c280a-a679-40a8-ada4-32802dd1037c"
      },
      "outputs": [
        {
          "output_type": "execute_result",
          "data": {
            "text/plain": [
              "torch.Size([353, 1])"
            ]
          },
          "metadata": {},
          "execution_count": 61
        }
      ],
      "source": [
        "## test the custom layer\n",
        "model = LinearRegression(x_train.shape[1])\n",
        "prediction = model(x_train)\n",
        "prediction.shape # the output should be Nx1"
      ]
    },
    {
      "cell_type": "markdown",
      "metadata": {
        "id": "H-kUQVD9ne_i"
      },
      "source": [
        "The next step is to calculate the cost. For this we will use the mean squared error $E(w) = \\frac{1}{N} Σ_{i=0}^N (f(x_i) - y_i)^2$\n",
        "\n",
        "**Q3.** Fill in the method to calculate the squared error of for any set of labels $y$ and predictions [2 marks]"
      ]
    },
    {
      "cell_type": "code",
      "execution_count": null,
      "metadata": {
        "id": "25SVCd01l29-"
      },
      "outputs": [],
      "source": [
        "def mean_squared_error(y_pred: torch.Tensor, y_true: torch.Tensor) -> torch.Tensor:\n",
        "  ### your code here\n",
        "  mse_val = torch.mean((y_pred - y_true) ** 2)\n",
        "  return mse_val"
      ]
    },
    {
      "cell_type": "code",
      "execution_count": null,
      "metadata": {
        "colab": {
          "base_uri": "https://localhost:8080/"
        },
        "id": "yTuAgK6FpLEh",
        "outputId": "ce44a71a-8c93-4a5c-9b1d-f96fc2d172d2"
      },
      "outputs": [
        {
          "output_type": "stream",
          "name": "stdout",
          "text": [
            "tensor(29711.3223)\n"
          ]
        }
      ],
      "source": [
        "cost = mean_squared_error(y_train, prediction)\n",
        "print(cost)"
      ]
    },
    {
      "cell_type": "markdown",
      "metadata": {
        "id": "qVV7MCfxqtyA"
      },
      "source": [
        "We see that using a random set of initial parameters for bias and weight, yields a relatively high error. As such, we will update the values for $w$ using gradient descent. We will implement a custom method for gradient descent.\n",
        "\n",
        "**Q4.** In the method below, add your code to update bias and weight using learning rate $α$. [2 marks]\n",
        "\n",
        "First you need to calculate the partial derivative of the loss function with respect to the weights.\n",
        "\n",
        "We then update the weights vector using the following equation:\n",
        "\n",
        "$ weight = weight - α * ∂_{weight}$"
      ]
    },
    {
      "cell_type": "code",
      "source": [
        "def gradient_descent_step(model: nn.Module, X: torch.Tensor, y: torch.Tensor, y_pred: torch.Tensor, lr: float) -> None:\n",
        "  weight = model.weight\n",
        "  N = X.shape[0]\n",
        "  ### your code here\n",
        "  # calculate the partial derivative of the loss function with respect to w\n",
        "  theta = 2/N * torch.mm((y_pred-y).t(), X)\n",
        "  # calculate the new values the weights\n",
        "  weight = weight - lr*theta\n",
        "  model.weight = nn.Parameter(weight, requires_grad=False)"
      ],
      "metadata": {
        "id": "jysStL4qvun1"
      },
      "execution_count": null,
      "outputs": []
    },
    {
      "cell_type": "code",
      "execution_count": null,
      "metadata": {
        "colab": {
          "base_uri": "https://localhost:8080/",
          "height": 501
        },
        "id": "4lQDX_zeG6W1",
        "outputId": "35bd357d-2a2b-444f-dbd2-1afc379a729b"
      },
      "outputs": [
        {
          "output_type": "display_data",
          "data": {
            "text/plain": [
              "<Figure size 640x480 with 2 Axes>"
            ],
            "image/png": "[encoded data removed]"
          },
          "metadata": {}
        },
        {
          "output_type": "stream",
          "name": "stdout",
          "text": [
            "Parameter containing:\n",
            "tensor([[  1.9400, -11.4488,  26.3047,  16.6306,  -9.8810,  -2.3179,  -7.6995,\n",
            "           8.2121,  21.9769,   2.6065, 153.7365]])\n",
            "Minimum cost: 2890.406494140625\n"
          ]
        }
      ],
      "source": [
        "cost_lst = list()\n",
        "model = LinearRegression(x_train.shape[1])\n",
        "alpha = .1\n",
        "for it in range(100):\n",
        "  prediction = model(x_train)\n",
        "  cost = mean_squared_error(y_train, prediction)\n",
        "  cost_lst.append(cost)\n",
        "  gradient_descent_step(model, x_train, y_train, prediction, alpha)\n",
        "fig, axs = plt.subplots(2)\n",
        "axs[0].plot(list(range(it+1)), cost_lst)\n",
        "axs[1].scatter(prediction, y_train)\n",
        "plt.show()\n",
        "print(model.weight)\n",
        "print('Minimum cost: {}'.format(min(cost_lst)))"
      ]
    },
    {
      "cell_type": "markdown",
      "metadata": {
        "id": "Mwypj_XWLKKq"
      },
      "source": [
        "<font color=\"maroon\">**Q5.** What conclusion if any can be drawn from the weight values? How does gender and BMI affect blood sugar levels?\n",
        "\n",
        "What are the estimated blood sugar levels for the below examples? [2 marks] </font>\n",
        "\n",
        "| AGE | SEX | BMI | BP  | S1  | S2    | S3 | S4  | S5     | S6  |\n",
        "|-----|-----|-----|-----|-----|-------|----|-----|--------|-----|\n",
        "| 25  | F   | 18  | 79  | 130 | 64.8  | 61 | 2   | 4.1897 | 68  |\n",
        "| 50  | M   | 28  | 103 | 229 | 162.2 | 60 | 4.5 | 6.107  | 124 |"
      ]
    },
    {
      "cell_type": "code",
      "execution_count": null,
      "metadata": {
        "colab": {
          "base_uri": "https://localhost:8080/"
        },
        "id": "StYxCUdPWSEp",
        "outputId": "791f03c8-b045-4340-a7b9-09ead519a357"
      },
      "outputs": [
        {
          "output_type": "stream",
          "name": "stdout",
          "text": [
            "tensor([[ 66.4351],\n",
            "        [209.3253]])\n",
            "Parameter containing:\n",
            "tensor([[  1.9400, -11.4488,  26.3047,  16.6306,  -9.8810,  -2.3179,  -7.6995,\n",
            "           8.2121,  21.9769,   2.6065, 153.7365]])\n"
          ]
        }
      ],
      "source": [
        "### your code here\n",
        "X = torch.tensor([[25,1,18,79,130,64.8,61,2,4.1897,68],[50,2,28,103,229,162.2,60,4.5,6.107,124]])\n",
        "X = norm_set(X, mu_val, std)\n",
        "val_data = torch.cat([X, torch.ones(X.shape[0], 1)], dim=1)\n",
        "prediction = model(val_data)\n",
        "\n",
        "print(prediction)\n",
        "print(model.weight)"
      ]
    },
    {
      "cell_type": "markdown",
      "metadata": {
        "id": "9IlXN47P-cCY"
      },
      "source": [
        "Now estimate the error on the test set. Is the error on the test set comparable to that of the train set? What can be said about the fit of the model? When does a model over/under fits?\n"
      ]
    },
    {
      "cell_type": "code",
      "execution_count": null,
      "metadata": {
        "id": "_yuYH06A-xoj",
        "colab": {
          "base_uri": "https://localhost:8080/"
        },
        "outputId": "c7e74466-8700-4e72-b522-a5a5f3e83a42"
      },
      "outputs": [
        {
          "output_type": "stream",
          "name": "stdout",
          "text": [
            "tensor(2885.6191)\n",
            "tensor(2890.4065)\n"
          ]
        }
      ],
      "source": [
        "### your code here\n",
        "pred=model(x_test)\n",
        "cost = mean_squared_error(y_test, pred)\n",
        "print(cost)\n",
        "print(min(cost_lst))"
      ]
    },
    {
      "cell_type": "markdown",
      "metadata": {
        "id": "qnz2O9Pagpf7"
      },
      "source": [
        "<font color=\"maroon\">**Q6.** Try the code with a number of learning rates that differ by orders of magnitude and record the error of the training and test sets. What do you observe on the training error? What about the error on the test set? [3 marks]</font>"
      ]
    },
    {
      "cell_type": "code",
      "execution_count": null,
      "metadata": {
        "id": "Sp9nNM0R-7CH",
        "colab": {
          "base_uri": "https://localhost:8080/"
        },
        "outputId": "faf5b394-4ca9-493f-9e06-301f1b33f667"
      },
      "outputs": [
        {
          "output_type": "stream",
          "name": "stdout",
          "text": [
            "learning rate: 0.1\n",
            "train error: 2890.406494140625\n",
            "test error: 2885.619140625\n"
          ]
        }
      ],
      "source": [
        "cost_lst = list()\n",
        "model = LinearRegression(x_train.shape[1])\n",
        "alpha = .1\n",
        "# alpha = .01\n",
        "# alpha = .001\n",
        "# alpha = .0001\n",
        "# alpha = .00001\n",
        "# alpha =1\n",
        "# alpha =10\n",
        "for it in range(100):\n",
        "   prediction = model(x_train)\n",
        "   cost = mean_squared_error(y_train, prediction)\n",
        "   cost_lst.append(cost)\n",
        "   gradient_descent_step(model, x_train, y_train, prediction, alpha)\n",
        "\n",
        "test_pred = model(x_test)\n",
        "test_error = mean_squared_error(y_test, test_pred)\n",
        "\n",
        "print(\"learning rate:\", alpha)\n",
        "print(\"train error:\", min(cost_lst).item())\n",
        "print(\"test error:\", test_error.item())"
      ]
    },
    {
      "cell_type": "markdown",
      "metadata": {
        "id": "eI9cKY_TWiUM"
      },
      "source": [
        "# 1.2 Regularized Linear Regression\n",
        "In this exercise, we will be trying to create a model that fits data that is clearly not linear. We will be attempting to fit the data points seen in the graph below:"
      ]
    },
    {
      "cell_type": "code",
      "execution_count": null,
      "metadata": {
        "colab": {
          "base_uri": "https://localhost:8080/",
          "height": 430
        },
        "id": "hupAUhrofKfy",
        "outputId": "ff628f8a-e492-4e60-c070-c0bc5d179408"
      },
      "outputs": [
        {
          "output_type": "display_data",
          "data": {
            "text/plain": [
              "<Figure size 640x480 with 1 Axes>"
            ],
            "image/png": "[encoded data removed]"
          },
          "metadata": {}
        }
      ],
      "source": [
        "x = torch.tensor([-0.99768, -0.69574, -0.40373, -0.10236, 0.22024, 0.47742, 0.82229])\n",
        "y = torch.tensor([2.0885, 1.1646, 0.3287, 0.46013, 0.44808, 0.10013, -0.32952]).reshape(-1, 1)\n",
        "plt.scatter(x, y)\n",
        "plt.show()"
      ]
    },
    {
      "cell_type": "markdown",
      "metadata": {
        "id": "k6epuBvnf7P9"
      },
      "source": [
        "In order to fit this data we will create a new hypothesis function, which uses a fifth-order polynomial:\n",
        "\n",
        "$\n",
        " h_{\\theta}(x) = \\theta_{0} x_{0} + \\theta_{1} x_{1} + \\theta_{2} x_{1} ^2 + \\theta_{3} x_{1} ^3 + \\theta_{4} x_{1} ^4 + \\theta_{5} x_{1} ^5\n",
        "$\n",
        "\n",
        "As we are fitting a small number of points with a high order model, there is a danger of overfitting.  \\\\\n",
        "\n",
        "To attempt to avoid this we will use regularization. Our cost function becomes:\n",
        "\n",
        "$\n",
        " J(\\theta) = \\frac{1}{2m}  \\left[ \\sum_{i=1}^m ( h_{\\theta}(x^{(i)}) - y^{(i)})^2 + \\lambda    \\sum_{j=1}^n \\theta_{j}^2 \\right]\n",
        "$\n",
        "\n",
        "Adjust variable `x` to include the higher order polynomials"
      ]
    },
    {
      "cell_type": "code",
      "execution_count": null,
      "metadata": {
        "id": "4nOF1xJKY_Jx"
      },
      "outputs": [],
      "source": [
        "### your code here\n",
        "x_1 = x.reshape(-1,1)\n",
        "x_2 = (x**2).reshape(-1,1)\n",
        "x_3 = (x**3).reshape(-1,1)\n",
        "x_4 = (x**4).reshape(-1,1)\n",
        "x_5 = (x**5).reshape(-1,1)\n",
        "x3 = torch.cat([x_1,x_2,x_3,x_4,x_5,torch.ones(x.shape[0], 1)], dim=1)\n",
        "### hint: remember to add x_0 for the bias"
      ]
    },
    {
      "cell_type": "markdown",
      "metadata": {
        "id": "cg9OdKcyhEN0"
      },
      "source": [
        "**Q7.** Update the cost and gradient descent methods to use the regularised cost, as shown above. [4 marks]\n",
        "\n",
        "Note that the punishment for having more terms is not applied to the bias. This means that we use a different update technique for the partial derivative of $\\theta_{0}$, and add the regularization to all of the others:\n",
        "\n",
        "\n",
        "\n",
        "$\n",
        " \\theta_{j} =  \\theta_{j} - \\alpha \\frac{1}{m} \\sum_{i=1}^m ( h_{\\theta}(x^{(i)}) - y^{(i)})x^{(i)}_{j} , j=0\n",
        "$\n",
        "\n",
        "\n",
        "\n",
        "$\n",
        " \\theta_{j} =  \\theta_{j} (1 - \\alpha \\frac{\\lambda}{m}) -\n",
        " \\alpha \\frac{1}{m} \\sum_{i=1}^m ( h_{\\theta}(x^{(i)}) - y^{(i)})x^{(i)}_{j} , j>0\n",
        "$"
      ]
    },
    {
      "cell_type": "code",
      "execution_count": null,
      "metadata": {
        "id": "c-h9vdC5hSPO"
      },
      "outputs": [],
      "source": [
        "def mean_squared_error(y_true: torch.Tensor, y_pred: torch.Tensor, lam: float, theta: torch.tensor) -> torch.Tensor:\n",
        "  ### your code here\n",
        "  mse_val = 1/2 * torch.mean(torch.pow((y_pred - y_true), 2) + (1/y_pred.shape[0])*lam*torch.sum(torch.pow(theta, 2)))\n",
        "  return mse_val\n",
        "\n",
        "def gradient_descent_step(model: nn.Module, X: torch.Tensor, y: torch.Tensor, y_pred: torch.Tensor, lr: float, lam: float) -> None:\n",
        "  weight = model.weight\n",
        "  N = X.shape[0]\n",
        "  ### your code here\n",
        "  loss = 1/N*(torch.mm((y_pred - y).t(),X))\n",
        "  weight[0] = weight[0]-(lr*loss[0])\n",
        "  weight[1:] = weight[1:]*(1-(lr*lam)/N)  - lr*loss[1:]\n",
        "  model.weight = nn.Parameter(weight, requires_grad=False)"
      ]
    },
    {
      "cell_type": "code",
      "source": [
        "model = LinearRegression(x3.shape[1])\n",
        "prediction=model(x3)\n",
        "cost = mean_squared_error(prediction,y,0.01,model.weight)\n",
        "print(cost)"
      ],
      "metadata": {
        "colab": {
          "base_uri": "https://localhost:8080/"
        },
        "id": "gJdxOg1i1IjP",
        "outputId": "cd1f113c-5022-45bc-a52f-ec11484c46f5"
      },
      "execution_count": null,
      "outputs": [
        {
          "output_type": "stream",
          "name": "stdout",
          "text": [
            "tensor(0.4541)\n"
          ]
        }
      ]
    },
    {
      "cell_type": "markdown",
      "metadata": {
        "id": "-ZfVxPRYkns1"
      },
      "source": [
        "<font color=\"maroon\"> **Q8.** First of all, find the best value of alpha to use in order to optimize best.\n",
        "Next, experiment with different values of $\\lambda$ and see how this affects the shape of the hypothesis. [3 marks]</font>"
      ]
    },
    {
      "cell_type": "code",
      "execution_count": null,
      "metadata": {
        "id": "9hFP4DHzZDkB",
        "colab": {
          "base_uri": "https://localhost:8080/",
          "height": 501
        },
        "outputId": "a65fb661-4841-49b3-a18b-ae474b4799a9"
      },
      "outputs": [
        {
          "output_type": "display_data",
          "data": {
            "text/plain": [
              "<Figure size 640x480 with 1 Axes>"
            ],
            "image/png": "[encoded data removed]"
          },
          "metadata": {}
        },
        {
          "output_type": "stream",
          "name": "stdout",
          "text": [
            "Parameter containing:\n",
            "tensor([[-0.2919,  0.0907, -0.7664,  0.1417, -0.4623,  0.3817]])\n",
            "learning rate: 1\n",
            "Minimum cost: 0.01548904087394476\n"
          ]
        }
      ],
      "source": [
        "cost_lst = list()\n",
        "model = LinearRegression(x3.shape[1])\n",
        "# alpha =  0.1 # select an appropriate alpha\n",
        "# alpha = .01\n",
        "# alpha = .001\n",
        "# alpha = .0001\n",
        "# alpha = .00001\n",
        "alpha =1\n",
        "# alpha =10\n",
        "lam = 0.1 # select an appropriate lambda\n",
        "for it in range(100):\n",
        "  prediction = model(x3)\n",
        "  cost = mean_squared_error(y, prediction, lam, model.weight)\n",
        "  cost_lst.append(cost)\n",
        "  gradient_descent_step(model, x3, y, prediction, alpha, lam)\n",
        "display.clear_output(wait=True)\n",
        "plt.plot(list(range(it+1)), cost_lst)\n",
        "plt.show()\n",
        "print(model.weight)\n",
        "print('learning rate:',alpha)\n",
        "print('Minimum cost: {}'.format(min(cost_lst)))\n"
      ]
    },
    {
      "cell_type": "code",
      "execution_count": null,
      "metadata": {
        "id": "xys3bBGpk8wp",
        "colab": {
          "base_uri": "https://localhost:8080/",
          "height": 449
        },
        "outputId": "eb30ad66-551c-4092-a0d4-9e290553e39a"
      },
      "outputs": [
        {
          "output_type": "display_data",
          "data": {
            "text/plain": [
              "<Figure size 640x480 with 1 Axes>"
            ],
            "image/png": "[encoded data removed]"
          },
          "metadata": {}
        }
      ],
      "source": [
        "plt.scatter(x3[:, 0], y, c='red', marker='x', label='groundtruth')\n",
        "outputs = model(x3)\n",
        "plt.plot(x3[:, 0], outputs, c='blue', marker='o', label='prediction')\n",
        "plt.xlabel('x1')\n",
        "plt.ylabel('y=f(x1)')\n",
        "plt.legend()\n",
        "plt.show()"
      ]
    },
    {
      "cell_type": "code",
      "source": [],
      "metadata": {
        "id": "EZ1gF4xsTB9k"
      },
      "execution_count": null,
      "outputs": []
    }
  ],
  "metadata": {
    "colab": {
      "provenance": [],
      "toc_visible": true
    },
    "kernelspec": {
      "display_name": "Python 3",
      "name": "python3"
    },
    "language_info": {
      "name": "python"
    }
  },
  "nbformat": 4,
  "nbformat_minor": 0
}