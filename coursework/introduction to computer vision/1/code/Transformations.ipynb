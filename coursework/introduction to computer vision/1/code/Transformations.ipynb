{
 "cells": [
  {
   "cell_type": "code",
   "execution_count": null,
   "id": "0c0d86b1-0972-40fa-98aa-6f404d3771f2",
   "metadata": {},
   "outputs": [],
   "source": [
    "import cv2\n",
    "import numpy as np\n",
    "import matplotlib\n",
    "import matplotlib.pyplot as plt"
   ]
  },
  {
   "cell_type": "code",
   "execution_count": null,
   "id": "dd55db1b-8256-43a7-be6e-3aee139c8796",
   "metadata": {},
   "outputs": [],
   "source": [
    "# Question a)"
   ]
  },
  {
   "cell_type": "code",
   "execution_count": null,
   "id": "ff5d027a-e16b-4b0c-8d3a-43795bb6044b",
   "metadata": {},
   "outputs": [],
   "source": [
    "# bilinear interpolation\n",
    "def bilinear_interpolation(image, x, y):\n",
    "    x1, y1 = int(np.floor(x)), int(np.floor(y))\n",
    "    x2, y2 = x1 + 1, y1 + 1\n",
    "\n",
    "    weight_x2 = x - x1\n",
    "    weight_x1 = 1 - weight_x2\n",
    "    weight_y2 = y - y1\n",
    "    weight_y1 = 1 - weight_y2\n",
    "\n",
    "    interpolated_value = (image[y1, x1] * weight_x1 * weight_y1 +\n",
    "                          image[y1, x2] * weight_x2 * weight_y1 +\n",
    "                          image[y2, x1] * weight_x1 * weight_y2 +\n",
    "                          image[y2, x2] * weight_x2 * weight_y2)\n",
    "    \n",
    "    return interpolated_value\n",
    "\n",
    "# Nearest Neighbour interpolation\n",
    "# def nearest_neighbor_interpolation(image, rotated_x, rotated_y):\n",
    "#     height, width, _ = image.shape\n",
    "#     new_width = 2 * width  # Double the width for interpolation\n",
    "\n",
    "#     # Initialize the interpolated pixel value\n",
    "#     interpolated_pixel = np.zeros(3, dtype=np.uint8)\n",
    "\n",
    "#     for channel in range(3):\n",
    "#         # Nearest Neighbour interpolation\n",
    "#         nearest_x = int(round(rotated_x / 2))\n",
    "#         nearest_y = int(round(rotated_y))\n",
    "        \n",
    "#         # Clamp coordinates to be within the image boundaries\n",
    "#         nearest_x = max(0, min(nearest_x, width - 1))\n",
    "#         nearest_y = max(0, min(nearest_y, height - 1))\n",
    "\n",
    "#         # Assign the nearest pixel value to the interpolated pixel\n",
    "#         interpolated_pixel[channel] = image[nearest_y, nearest_x, channel]\n",
    "#     return interpolated_pixel\n",
    "    \n",
    "# a function that takes as input an image I, rotates it by an angle θ1\n",
    "def ICV_rotate_image(image, angle):\n",
    "    radians = np.deg2rad(angle) # Convert angle to radians\n",
    "\n",
    "    # Calculate cos and sin of the negative angle for clockwise rotation\n",
    "    cos_theta = np.cos(-radians)\n",
    "    sin_theta = np.sin(-radians)\n",
    "\n",
    "    height, width = image.shape[:2] # Get the dimensions of the original image\n",
    "    new_width = int(np.round(width * abs(cos_theta) + height * abs(sin_theta)))\n",
    "    new_height = int(np.round(height * abs(cos_theta) + width * abs(sin_theta)))\n",
    "\n",
    "    rotated_image = np.zeros((new_height, new_width, 3), dtype=np.uint8)\n",
    "    center_x, center_y = width / 2, height / 2\n",
    "    new_center_x, new_center_y = new_width / 2, new_height / 2\n",
    "\n",
    "    \n",
    "    for y in range(new_height):\n",
    "        for x in range(new_width):\n",
    "            # Calculate coordinates before rotation\n",
    "            rotated_x = (cos_theta * (x - new_center_x) - sin_theta * (y - new_center_y)) + center_x\n",
    "            rotated_y = (sin_theta * (x - new_center_x) + cos_theta * (y - new_center_y)) + center_y\n",
    "\n",
    "            # Check if the calculated coordinates are within the original image boundaries\n",
    "            if 0 <= rotated_x < width - 1 and 0 <= rotated_y < height - 1:\n",
    "                # Perform bilinear interpolation to get the pixel value\n",
    "                interpolated_value = bilinear_interpolation(image, rotated_x, rotated_y)\n",
    "                rotated_image[y, x] = interpolated_value\n",
    "\n",
    "    return rotated_image"
   ]
  },
  {
   "cell_type": "code",
   "execution_count": null,
   "id": "bf4d679d-8194-4956-b88a-924ee7d747f7",
   "metadata": {},
   "outputs": [],
   "source": [
    "# a function that takes as input an image I, horizontally skews it by an angle θ2\n",
    "def ICV_skew_image(image, theta):\n",
    "    height, width = image.shape[:2]\n",
    "    \n",
    "    # Calculate the new dimensions after skewing\n",
    "    new_width = int(width + height * np.tan(np.radians(theta)))\n",
    "\n",
    "    skewed_image = np.zeros((height, new_width, 3), dtype=np.uint8)\n",
    "\n",
    "    for y in range(height):\n",
    "        for x in range(new_width):\n",
    "            # Calculate the source coordinates in the original image\n",
    "            source_x = x - (y * np.tan(np.radians(theta)))\n",
    "            source_y = y\n",
    "\n",
    "            if 0 <= source_x < width - 1 and 0 <= source_y < height - 1:\n",
    "                interpolated_value = bilinear_interpolation(image, source_x, source_y)\n",
    "                skewed_image[y, x] = interpolated_value\n",
    "\n",
    "    return skewed_image"
   ]
  },
  {
   "cell_type": "code",
   "execution_count": null,
   "id": "46e843e5-dc09-4915-8c99-6ee0e737f844",
   "metadata": {},
   "outputs": [],
   "source": [
    "# Question b)"
   ]
  },
  {
   "cell_type": "code",
   "execution_count": null,
   "id": "8fc74b36-2854-49a6-a098-54900d742d45",
   "metadata": {},
   "outputs": [],
   "source": [
    "# an image that contains my name written in Arial, point 72, capital letters\n",
    "img = cv2.imread('name.jpg')\n",
    "plt.axis('off') \n",
    "plt.imshow(img)\n",
    "plt.show()"
   ]
  },
  {
   "cell_type": "code",
   "execution_count": null,
   "id": "e540851d-d91e-4c65-805d-35509c0178f3",
   "metadata": {},
   "outputs": [],
   "source": [
    "# Rotate clockwise the image by 30 degrees\n",
    "theta = 30\n",
    "img_rotated = ICV_rotate_image(img, theta)\n",
    "def ICV_pltandsaveimg(image):\n",
    "    plt.imshow(image)\n",
    "    plt.axis('off')  # Turn off the axes\n",
    "    # plt.savefig('rotated_image.png', bbox_inches='tight', pad_inches=0)  # Save the image without extra white space\n",
    "    plt.show()\n",
    "ICV_pltandsaveimg(img_rotated)"
   ]
  },
  {
   "cell_type": "code",
   "execution_count": null,
   "id": "9dc5ce2b-0199-4324-ade9-3c86f05814d3",
   "metadata": {},
   "outputs": [],
   "source": [
    "# Rotate clockwise the image by 60 degrees\n",
    "theta = 60\n",
    "img_rotated = ICV_rotate_image(img, theta)\n",
    "ICV_pltandsaveimg(img_rotated)"
   ]
  },
  {
   "cell_type": "code",
   "execution_count": null,
   "id": "b7eea21f-b615-4d0e-aa50-5db1cc4bbca9",
   "metadata": {},
   "outputs": [],
   "source": [
    "# Rotate clockwise the image by 120 degrees\n",
    "theta = 120\n",
    "img_rotated = ICV_rotate_image(img, theta)\n",
    "ICV_pltandsaveimg(img_rotated)"
   ]
  },
  {
   "cell_type": "code",
   "execution_count": null,
   "id": "c5008958-0bdf-4263-bd76-d9e0b488efd3",
   "metadata": {},
   "outputs": [],
   "source": [
    "# Rotate clockwise the image by -50 degrees\n",
    "theta = -50\n",
    "img_rotated = ICV_rotate_image(img, theta)\n",
    "ICV_pltandsaveimg(img_rotated)"
   ]
  },
  {
   "cell_type": "code",
   "execution_count": null,
   "id": "2c7767b9-750f-424b-8e3b-49647ed76316",
   "metadata": {},
   "outputs": [],
   "source": [
    "# Skew the same image by 10 degrees\n",
    "theta = 10\n",
    "img_skew = ICV_skew_image(img, theta)\n",
    "ICV_pltandsaveimg(img_skew)"
   ]
  },
  {
   "cell_type": "code",
   "execution_count": null,
   "id": "df008802-40fd-48e3-9810-9e758a895516",
   "metadata": {},
   "outputs": [],
   "source": [
    "# Skew the same image by 40 degrees\n",
    "theta = 40\n",
    "img_skew = ICV_skew_image(img, theta)\n",
    "ICV_pltandsaveimg(img_skew)"
   ]
  },
  {
   "cell_type": "code",
   "execution_count": null,
   "id": "80b4fd3a-dc4e-4793-a021-5aee141f96ee",
   "metadata": {},
   "outputs": [],
   "source": [
    "# Skew the same image by 60 degrees\n",
    "theta = 60\n",
    "img_skew = ICV_skew_image(img, theta)\n",
    "ICV_pltandsaveimg(img_skew)"
   ]
  },
  {
   "cell_type": "code",
   "execution_count": null,
   "id": "0ade63c3-7ba9-400d-8c2c-8a3870b29b27",
   "metadata": {},
   "outputs": [],
   "source": [
    "# Question c)"
   ]
  },
  {
   "cell_type": "code",
   "execution_count": null,
   "id": "bfc43242-63b9-4282-bb75-1dbc0b631aaf",
   "metadata": {},
   "outputs": [],
   "source": [
    "# Rotate the image by θ1 = 20 clockwise and then skew the result by θ2 = 50.\n",
    "img_rotated = ICV_rotate_image(img, 20)\n",
    "img_skew = ICV_skew_image(img_rotated, 50)\n",
    "ICV_pltandsaveimg(img_skew)"
   ]
  },
  {
   "cell_type": "code",
   "execution_count": null,
   "id": "3872fd19-5b46-4603-84b1-d501b5bb6fda",
   "metadata": {},
   "outputs": [],
   "source": [
    "# Skew the image by θ2 = 50 and then rotate the result by θ1 = 20 clockwise.\n",
    "img_skew = ICV_skew_image(img, 50)\n",
    "img_rotated = ICV_rotate_image(img_skew, 20)\n",
    "ICV_pltandsaveimg(img_rotated)"
   ]
  },
  {
   "cell_type": "code",
   "execution_count": null,
   "id": "dff548eb-969e-4a50-a1fc-a5b8508fe4c3",
   "metadata": {},
   "outputs": [],
   "source": []
  }
 ],
 "metadata": {
  "kernelspec": {
   "display_name": "Python 3 (ipykernel)",
   "language": "python",
   "name": "python3"
  },
  "language_info": {
   "codemirror_mode": {
    "name": "ipython",
    "version": 3
   },
   "file_extension": ".py",
   "mimetype": "text/x-python",
   "name": "python",
   "nbconvert_exporter": "python",
   "pygments_lexer": "ipython3",
   "version": "3.10.13"
  }
 },
 "nbformat": 4,
 "nbformat_minor": 5
}
