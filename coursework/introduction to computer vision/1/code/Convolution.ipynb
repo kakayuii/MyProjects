{
 "cells": [
  {
   "cell_type": "code",
   "execution_count": null,
   "id": "c736797f-46f3-4d04-8471-c117b8aa3d27",
   "metadata": {},
   "outputs": [],
   "source": [
    "# Question a)"
   ]
  },
  {
   "cell_type": "code",
   "execution_count": null,
   "id": "308142ca-7718-4f3a-ba74-566948467397",
   "metadata": {},
   "outputs": [],
   "source": [
    "import cv2\n",
    "import numpy as np\n",
    "import matplotlib\n",
    "import matplotlib.pyplot as plt\n",
    "\n",
    "# a function that takes an input image, performs convolution with a given kernel, and returns the resulting image.\n",
    "def ICV_convolution(img,kernel): \n",
    "    # Get the height and width of the kernel\n",
    "    h = kernel.shape[0] // 2\n",
    "    w = kernel.shape[1] // 2\n",
    "\n",
    "    # Apply convolution using the _convolve function\n",
    "    dstack = _convolve(img, kernel)\n",
    "\n",
    "    # Check if the input image has multiple channels (RGB)\n",
    "    if len(img.shape) > 2:\n",
    "       img = np.pad(img, ((h, h), (w, w), (0, 0)), 'constant') # Pad the image for convolution along channels\n",
    "        \n",
    "       conv_b = _convolve(img[:, :, 0], kernel) \n",
    "       conv_g = _convolve(img[:, :, 1], kernel)\n",
    "       conv_r = _convolve(img[:, :, 2], kernel)\n",
    "       dstack = np.dstack([conv_b, conv_g, conv_r]) # Stack the channels back together\n",
    "    \n",
    "    return dstack\n",
    "\n",
    "def _convolve(img, kernel):\n",
    "    kernel_height = kernel.shape[0]\n",
    "    kernel_width = kernel.shape[1]\n",
    "\n",
    "    conv_height = img.shape[0] - kernel.shape[0] + 1\n",
    "    conv_width = img.shape[1] - kernel.shape[1] + 1\n",
    "\n",
    "    conv = np.zeros((conv_height, conv_width), dtype='uint8') # Initialize an array to store the convolution result\n",
    "\n",
    "    for i in range(conv_height):\n",
    "        for j in range(conv_width):\n",
    "            # Calculate the convolution for each position\n",
    "            conv[i][j] = wise_element_sum(img[i:i + kernel_height, j:j + kernel_width], kernel)\n",
    "    return conv\n",
    "\n",
    "\n",
    "def wise_element_sum(img, kernel):\n",
    "    abs_sum = np.sum(np.abs(kernel))\n",
    "    normalized_kernel = kernel / abs_sum  # Normalize the kernel\n",
    "    res = (img * normalized_kernel).sum() # Calculate the sum after normalization\n",
    "     # Clip the result to the valid range [0, 255]\n",
    "    if (res < 0):\n",
    "        res = 0\n",
    "    elif res > 255:\n",
    "        res = 255\n",
    "    return res\n",
    "\n",
    "\n",
    "img = cv2.imread('car-1.jpg')\n",
    "img_rgb = cv2.cvtColor(img, cv2.COLOR_BGR2RGB)\n",
    "plt.imshow(img_rgb)\n",
    "\n",
    "def ICV_pltandsaveimg(image, image_name):\n",
    "    plt.imshow(image)\n",
    "    plt.axis('off')  # Turn off the axes\n",
    "    plt.imsave(f\"{image_name}.png\", image)\n",
    "    plt.show()"
   ]
  },
  {
   "cell_type": "code",
   "execution_count": null,
   "id": "1344ac54-39da-4519-8537-15a311ab6e60",
   "metadata": {},
   "outputs": [],
   "source": [
    "# Question b)"
   ]
  },
  {
   "cell_type": "code",
   "execution_count": null,
   "id": "85071818-a1ad-48af-9fc5-f4b0189c99fd",
   "metadata": {},
   "outputs": [],
   "source": [
    "# Design a convolution kernel that computes, for each pixel, the average intensity value in a 3x3 region. Use this kernel and the filtering function above, and save the resulting image\n",
    "kernel = np.ones((3, 3), dtype=np.float32) / 9.0\n",
    "result=ICV_convolution(img_rgb, kernel)\n",
    "ICV_pltandsaveimg(result,'average')"
   ]
  },
  {
   "cell_type": "code",
   "execution_count": null,
   "id": "e562b471-d7fb-408b-aba6-cba44a2851d7",
   "metadata": {},
   "outputs": [],
   "source": [
    "# Question c)"
   ]
  },
  {
   "cell_type": "code",
   "execution_count": null,
   "id": "8d788241-8bc9-4e46-a670-11f684704a56",
   "metadata": {},
   "outputs": [],
   "source": [
    "# Use the kernels provided below, apply the filtering function and save the resulting images\n",
    "kernelA = np.array([[1, 2, 1],\n",
    "                   [2, 4, 2],\n",
    "                   [1, 2, 1]])\n",
    "\n",
    "resultA=ICV_convolution(img_rgb, kernelA)\n",
    "ICV_pltandsaveimg(resultA,'resultA')"
   ]
  },
  {
   "cell_type": "code",
   "execution_count": null,
   "id": "ed72fe28-a73d-40cc-b550-c9aaecbc7504",
   "metadata": {},
   "outputs": [],
   "source": [
    "kernelB=np.array([[0, 1, 0],\n",
    "                   [1, -4, 1],\n",
    "                   [0, 1, 0]])\n",
    "\n",
    "gray_image = cv2.cvtColor(img, cv2.COLOR_BGR2GRAY)\n",
    "resultB=ICV_convolution(gray_image, kernelB)\n",
    "plt.imshow(resultB, cmap='gray')\n",
    "plt.axis('off')\n",
    "plt.imsave(\"resultB.png\", resultB, cmap='gray')\n",
    "plt.show()"
   ]
  },
  {
   "cell_type": "code",
   "execution_count": null,
   "id": "693d7fd6-29e3-476a-b6f5-103517fd1fe4",
   "metadata": {},
   "outputs": [],
   "source": [
    "# Question d)"
   ]
  },
  {
   "cell_type": "code",
   "execution_count": null,
   "id": "fab80981-a5e3-4345-83e4-e366dc2393b7",
   "metadata": {},
   "outputs": [],
   "source": [
    "# Use the filtering function for the following filtering operations:\n",
    "# A followed by A\n",
    "resultAA=ICV_convolution(resultA, kernelA)\n",
    "plt.imshow(resultAA, cmap='gray')\n",
    "plt.axis('off')\n",
    "plt.imsave(\"resultAA.png\", resultAA, cmap='gray')\n",
    "plt.show()"
   ]
  },
  {
   "cell_type": "code",
   "execution_count": null,
   "id": "942aabc9-212f-47d0-a021-74f6b5678857",
   "metadata": {},
   "outputs": [],
   "source": [
    "# A followed by B\n",
    "gray_image = cv2.cvtColor(resultA, cv2.COLOR_BGR2GRAY)\n",
    "resultAB=ICV_convolution(gray_image, kernelB)\n",
    "\n",
    "plt.imshow(resultAB, cmap='gray')\n",
    "plt.axis('off')\n",
    "plt.imsave(\"resultAB.png\", resultAB, cmap='gray')\n",
    "plt.show()"
   ]
  },
  {
   "cell_type": "code",
   "execution_count": null,
   "id": "bf172c1d-2c1b-4f25-9f1e-3b41614b3fd7",
   "metadata": {},
   "outputs": [],
   "source": [
    "# B followed by A\n",
    "resultBA=ICV_convolution(resultB, kernelA)\n",
    "plt.imshow(resultBA, cmap='gray')\n",
    "plt.axis('off')\n",
    "plt.imsave(\"resultBA.png\", resultBA, cmap='gray')\n",
    "plt.show()"
   ]
  },
  {
   "cell_type": "code",
   "execution_count": null,
   "id": "6ce59fea-c9aa-4d96-85b1-e9052bbab539",
   "metadata": {},
   "outputs": [],
   "source": []
  }
 ],
 "metadata": {
  "kernelspec": {
   "display_name": "Python 3 (ipykernel)",
   "language": "python",
   "name": "python3"
  },
  "language_info": {
   "codemirror_mode": {
    "name": "ipython",
    "version": 3
   },
   "file_extension": ".py",
   "mimetype": "text/x-python",
   "name": "python",
   "nbconvert_exporter": "python",
   "pygments_lexer": "ipython3",
   "version": "3.10.13"
  }
 },
 "nbformat": 4,
 "nbformat_minor": 5
}
