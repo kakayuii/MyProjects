{
 "cells": [
  {
   "cell_type": "markdown",
   "metadata": {
    "id": "nZfqzG-psHbd"
   },
   "source": [
    "**Lab 1 and 2: Neural Machine Translation (Extra Guide)**"
   ]
  },
  {
   "cell_type": "markdown",
   "metadata": {
    "id": "r9GBwu1PsSR3"
   },
   "source": [
    "This week and the next, we will build a neural machine translation model based on the sequence-to-sequence (seq2seq) models proposed by Sutskever et al., 2014 and Cho et al., 2014. The seq2seq model is widely used in Machine Translation systems such as Google’s neural machine translation system (GNMT) (Wu et al., 2016).\n",
    "\n",
    "The folder **nmt_lab_files** has been provided for you. This folder contains 3 files:\n",
    "1. **data.30.vi** - a file where each line contains a Vietnamese sentence to be translated (i.e. the source sentences)\n",
    "2. **data.30.en** - a file where each line contains an English sentence corresponding to the Vietnamese sentence in the same line position. (i.e. the target sentences)\n",
    "3. **nmt_model_keras.py** - incomplete code for this lab.\n",
    "\n",
    "The pdf file provided contains an explanation of the code file and a guide on how to complete the code (by doing 3 tasks). Read the pdf file and complete the code as instructed."
   ]
  },
  {
   "cell_type": "markdown",
   "metadata": {
    "id": "KyDvxbvTt70n"
   },
   "source": [
    "##**LanguageDict**\n",
    "\n",
    "LanguageDict is a class for creating language dict objects."
   ]
  },
  {
   "cell_type": "markdown",
   "metadata": {
    "id": "AtHvI1pGvMBG"
   },
   "source": [
    "## **The load_dataset() Method**\n",
    "\n",
    "This helper method reads from the source and target files to load max_num_examples sentences, split those sentences into train, development and test sets, and return relevant data.\n",
    "\n",
    "As an example of the ouput returned by this code, let's assume we are translating the sentence 'I like rabbits' from English to English (this of course is never the case), such that the tokenised and case-normalised source sentence list and target sentence list are as follows:\n",
    "\n",
    "\n",
    "```\n",
    "# In Vietnamese this would actually be [['tôi', 'thích', 'thỏ']].\n",
    "# We will use English to English here using the following code.\n",
    "source_words = [['i', 'like', 'rabbits']]\n",
    "target_words = [['i', 'like', 'rabbits']]\n",
    "```\n",
    "The word2ids for the source and target language dictionaries look as follows:\n",
    "```\n",
    "source_dict.word2ids = {'<PAD>': 0, '<UNK>': 1, 'i': 2, 'like': 3, 'rabbits':4}\n",
    "\n",
    "# end and start tokens are added to the target words\n",
    "target_dict.word2ids = {'<PAD>': 0, '<UNK>': 1, '<start>': 2, 'i': 3, 'like': 4, 'rabbits':5, '<end>':6}\n",
    "\n",
    "```\n",
    "Let's also assume that we are training and testing on this dataset of one sentence.\n",
    "The **source words** for train/dev/test will be given as follows:\n",
    "```\n",
    "# [batch_size X max_sent_length]\n",
    "source_words_train = [[2,3,4]] # corresponding to ['i', 'like', 'rabbits']\n",
    "source_words_dev = [[2,3,4]]  # corresponding to ['i', 'like', 'rabbits']\n",
    "source_words_test = [[2,3,4]] # corresponding to ['i', 'like', 'rabbits']\n",
    "```\n",
    "\n",
    "The **target words** for the train data will be given as follows (dev/test do not need target words as the model will generate those):\n",
    "```\n",
    "target_words_train = [[2,3,4,5]] # corresponding to ['<start>', 'i', 'like', 'rabbits']\n",
    "```\n",
    "\n",
    "The **target words labels** for each word will be the next word. The target word labels for train/dev/test data will be given as follows\n",
    "```\n",
    "target_words_train_labels = [[3,4,5,6]] # corresponding to ['i', 'like', 'rabbits', '<end>']\n",
    "target_words_dev_labels = [[3,4,5,6]] # corresponding to ['i', 'like', 'rabbits', '<end>']\n",
    "target_words_test_labels = [[3,4,5,6]] # corresponding to ['i', 'like', 'rabbits', '<end>']\n",
    "```\n",
    "The dimensions for the train target words labels would be expanded to have the following dimentionality:\n",
    "```\n",
    "# [batch_size X max_sent_length array X 1]\n",
    "[[3], [4], [5], [6]]\n",
    "```\n",
    "\n",
    "\n",
    "\n",
    "\n"
   ]
  },
  {
   "cell_type": "markdown",
   "metadata": {
    "id": "cc8KZaJn3uBK"
   },
   "source": [
    "##**Neural Translation Model (NMT)**\n",
    "\n",
    "For NMT, the network (a system of connected layers/models) used for training differs slightly from the network used for inference. Both use the encoder-decoder architecture.\n",
    "\n",
    "\n"
   ]
  },
  {
   "cell_type": "markdown",
   "metadata": {
    "id": "sgtz6XAl4E8D"
   },
   "source": [
    "###**Training mode**\n",
    "\n",
    "**Encoder**\n",
    "\n",
    "Given:\n",
    "- `source_words`: a `batch_size(num_sents) x max_sentence_length` array representing the source words. In our mini example, this would be the Vietnamese equivalent of `['i', 'like', 'rabbits']`, i.e. `[['tôi', 'thích', 'thỏ']]`.\n",
    "\n",
    "The following steps comprise the encoder network:\n",
    "\n",
    "1. Transform `source_words` into `source_words_embeddings` using a randomly initialized embedding lookup. `source_words_embeddings` is thus an array with the shape `batch_size(num_sents) x max_sentence_length x embedding_dim`.\n",
    "2. Apply embedding dropout with `embedding_dropout_rate`.\n",
    "3. Use a single `LSTM` with the `hidden_size` units to learn a representation for the source words i.e. to encode the input.\n",
    "\n",
    "    (a.) The hidden and cell states for this `LSTM` are initialized to zeros (i.e. we leave the `initial_state = None` default as is).\n",
    "\n",
    "    (b.) We save the `encoder_outputs` (the sequence not just the last state); and the encoder (hidden and cell) states.\n",
    "\n",
    "This way, the model encodes a representation for the source words. Task 1 guides you to complete the encoder part of the training model.\n",
    "\n",
    "\n",
    "**Decoder (No Attention)**\n",
    "\n",
    "Given:\n",
    "- `target_words`: a `batch_size(i.e. num_sents in batch) x max_sentence_length` array representing the target words. This is a time shifted translation of the source words with an added (prepended) `<START>` token `['<start>', 'i', 'like', 'rabbits']`.\n",
    "\n",
    "The decoding is done in the following steps:\n",
    "\n",
    "1. Transform `target_words` into `target_words_embeddings` using a randomly initialized embedding lookup. `target_words_embeddings` is thus an array with the shape `batch_size x max_sentence_length x embedding_dim`.\n",
    "\n",
    "2. Apply embedding dropout of `embedding_dropout_rate`.\n",
    "\n",
    "3. Use a single `LSTM` with `hidden_size` units to learn a representation for the target words. The context is given to this model by using the encoder states to initialise the decoder LSTM. For example, the encoder state for `'thỏ'` (last word in the input sequence, its hidden representation summarises the sentence) is used to learn the representation for the `'<start>'` token.\n",
    "\n",
    "4. For each token representation, we use a dense layer to output a `target_vocab_size` vector of probabilities to be the next word following the represented token. The output `decoder_outputs_train` is thus an array  with the shape `batch_size x max_sent_length + 1 x target_vocab_size`.\n"
   ]
  },
  {
   "cell_type": "markdown",
   "metadata": {
    "id": "-4tsMpCYJUk1"
   },
   "source": [
    "###**Inference Mode**\n",
    "\n",
    "**Encoder**\n",
    "\n",
    "The inference time encoding follows the same steps as the training time encoding.\n",
    "\n",
    "\n",
    "**Decoder (No attention)**\n",
    "\n",
    "During training time, we passed a `batch_size(num_sents) x max_sentence_length` array representing the target words into the decoder LSTM. The `decoder_lstm` represents the given target sentence using the context from the encoder LSTM (representation for the source sentence).  \n",
    "\n",
    "At test time, several things are different:\n",
    "\n",
    "1. We no longer have access to a complete translation of the source sentence (recall that no `target_words` arrays exist for dev and test sets). Rather we initialise the target words array as follows:\n",
    "\n",
    "    Each expected target sentence contains only a single token index, the index of the `'<start>'` token. So, the target_word_dev/test is a `batch_size x 1` array (see the nmt.eval() function).\n",
    "\n",
    "2. This `batch_size x 1` array is fed to the trained `decoder_lstm` and the predicted array is a `batch_size x 1 x target_vocab_size` such that taking the argmax of this array across the dimension 2 will give the most probable next word.\n",
    "\n",
    "For example, at time_step 0 (first time step) the `step_target_words` is given. It is a `batch_size x 1` array containing the `'<start>'` token. The next word prediction of the decoder is for each sentence (in the batch) the first actual word.\n",
    "\n",
    "\n",
    "At the first time step, the `decoder_lstm` still uses the `encoder_states` as its initial states. At subsequent time steps, it uses its own states from the previous time steps. We hence loop over time steps to generate a new word at a time.\n",
    "\n",
    "\n",
    "\n"
   ]
  },
  {
   "cell_type": "code",
   "execution_count": 10,
   "metadata": {
    "colab": {
     "base_uri": "https://localhost:8080/"
    },
    "executionInfo": {
     "elapsed": 42434,
     "status": "ok",
     "timestamp": 1705742481730,
     "user": {
      "displayName": "julia ive",
      "userId": "11396706016758891847"
     },
     "user_tz": 0
    },
    "id": "8V5YoFP3yQO-",
    "outputId": "dedde17d-2b20-4767-d4cf-7db6a8c58d05"
   },
   "outputs": [],
   "source": [
    "from google.colab import drive\n",
    "drive.mount('/content/drive/')"
   ]
  },
  {
   "cell_type": "code",
   "execution_count": 11,
   "metadata": {
    "executionInfo": {
     "elapsed": 18,
     "status": "ok",
     "timestamp": 1705742481731,
     "user": {
      "displayName": "julia ive",
      "userId": "11396706016758891847"
     },
     "user_tz": 0
    },
    "id": "upXa_erqyzKm"
   },
   "outputs": [],
   "source": [
    "# change this to the path to your folder. Remember to start from the home directory\n",
    "PATH = 'MyDrive/NLP_NN_24/Lab1-2-NMT/nmt_lab_files'"
   ]
  },
  {
   "cell_type": "code",
   "execution_count": 12,
   "metadata": {
    "executionInfo": {
     "elapsed": 15,
     "status": "ok",
     "timestamp": 1705742481731,
     "user": {
      "displayName": "julia ive",
      "userId": "11396706016758891847"
     },
     "user_tz": 0
    },
    "id": "ffbGcgrRy7p6"
   },
   "outputs": [],
   "source": [
    "PATH_TO_FOLDER = \"/content/drive/\" + PATH"
   ]
  },
  {
   "cell_type": "code",
   "execution_count": 13,
   "metadata": {
    "executionInfo": {
     "elapsed": 14,
     "status": "ok",
     "timestamp": 1705742481731,
     "user": {
      "displayName": "julia ive",
      "userId": "11396706016758891847"
     },
     "user_tz": 0
    },
    "id": "XfSgKakK0QgV"
   },
   "outputs": [],
   "source": [
    "import sys\n",
    "sys.path.append(PATH_TO_FOLDER)"
   ]
  },
  {
   "cell_type": "code",
   "execution_count": 14,
   "metadata": {
    "executionInfo": {
     "elapsed": 13,
     "status": "ok",
     "timestamp": 1705742481731,
     "user": {
      "displayName": "julia ive",
      "userId": "11396706016758891847"
     },
     "user_tz": 0
    },
    "id": "NmSgv44y0TN9"
   },
   "outputs": [],
   "source": [
    "SOURCE_PATH = PATH_TO_FOLDER + '/data.30.vi'\n",
    "TARGET_PATH = PATH_TO_FOLDER + '/data.30.en'\n",
    "\n",
    "# SOURCE_PATH = './data.30.vi'\n",
    "# TARGET_PATH = './data.30.en'"
   ]
  },
  {
   "cell_type": "markdown",
   "metadata": {
    "id": "273YkXga27zD"
   },
   "source": [
    "Let's install the Sacrebleu (https://github.com/mjpost/sacrebleu) package for BLEU computation."
   ]
  },
  {
   "cell_type": "code",
   "execution_count": 15,
   "metadata": {
    "colab": {
     "base_uri": "https://localhost:8080/"
    },
    "executionInfo": {
     "elapsed": 6827,
     "status": "ok",
     "timestamp": 1705742488547,
     "user": {
      "displayName": "julia ive",
      "userId": "11396706016758891847"
     },
     "user_tz": 0
    },
    "id": "t6ai1zDFZgMy",
    "outputId": "b83e159c-eaf8-45f3-87b9-ecb7bfb64e48"
   },
   "outputs": [
    {
     "name": "stdout",
     "output_type": "stream",
     "text": [
      "Requirement already satisfied: sacrebleu in /opt/conda/lib/python3.10/site-packages (2.4.0)\n",
      "Requirement already satisfied: portalocker in /opt/conda/lib/python3.10/site-packages (from sacrebleu) (2.8.2)\n",
      "Requirement already satisfied: regex in /opt/conda/lib/python3.10/site-packages (from sacrebleu) (2023.12.25)\n",
      "Requirement already satisfied: tabulate>=0.8.9 in /opt/conda/lib/python3.10/site-packages (from sacrebleu) (0.9.0)\n",
      "Requirement already satisfied: numpy>=1.17 in /opt/conda/lib/python3.10/site-packages (from sacrebleu) (1.24.4)\n",
      "Requirement already satisfied: colorama in /opt/conda/lib/python3.10/site-packages (from sacrebleu) (0.4.6)\n",
      "Requirement already satisfied: lxml in /opt/conda/lib/python3.10/site-packages (from sacrebleu) (5.1.0)\n"
     ]
    }
   ],
   "source": [
    "!pip install sacrebleu"
   ]
  },
  {
   "cell_type": "code",
   "execution_count": 16,
   "metadata": {
    "executionInfo": {
     "elapsed": 6113,
     "status": "ok",
     "timestamp": 1705742494650,
     "user": {
      "displayName": "julia ive",
      "userId": "11396706016758891847"
     },
     "user_tz": 0
    },
    "id": "OOTMtc_l0_ut"
   },
   "outputs": [],
   "source": [
    "import nmt_model_keras as nmt"
   ]
  },
  {
   "cell_type": "markdown",
   "metadata": {
    "id": "wFIKOF5sed68"
   },
   "source": [
    "##**Training Without Attention**\n",
    "\n",
    "If you have completed Tasks 1 and 2, you are ready to train the NMT model without attention.\n",
    "\n",
    "Run the following cells to train the model for 10 epochs. The model summary is also shown below.\n",
    "\n",
    "If you're using a GPU, training will be no more than 10 minutes and you will get the test BLEU score between 5 and 6."
   ]
  },
  {
   "cell_type": "code",
   "execution_count": 17,
   "metadata": {
    "colab": {
     "base_uri": "https://localhost:8080/"
    },
    "executionInfo": {
     "elapsed": 527522,
     "status": "ok",
     "timestamp": 1705743022165,
     "user": {
      "displayName": "julia ive",
      "userId": "11396706016758891847"
     },
     "user_tz": 0
    },
    "id": "IsO7wW6U1w2m",
    "outputId": "941aca3e-a683-4452-f190-198f7196cdde"
   },
   "outputs": [
    {
     "name": "stdout",
     "output_type": "stream",
     "text": [
      "loading dictionaries\n",
      "read 24000/3000/3000 train/dev/test batches\n",
      "number of tokens in source: 2034, number of tokens in target:2506\n",
      "Task 1(a): Creating the embedding lookups...\n",
      "\n",
      "Task 1(b): Looking up source and target words...\n",
      "\n",
      "Task 1(c): Creating an encoder\n"
     ]
    },
    {
     "name": "stderr",
     "output_type": "stream",
     "text": [
      "WARNING:absl:`lr` is deprecated in Keras optimizer, please use `learning_rate` or use the legacy optimizer, e.g.,tf.keras.optimizers.legacy.Adam.\n"
     ]
    },
    {
     "name": "stdout",
     "output_type": "stream",
     "text": [
      "\t\t\t\t\t\t Train Model Summary.\n",
      "Model: \"model_6\"\n",
      "__________________________________________________________________________________________________\n",
      " Layer (type)                Output Shape                 Param #   Connected to                  \n",
      "==================================================================================================\n",
      " input_11 (InputLayer)       [(None, None)]               0         []                            \n",
      "                                                                                                  \n",
      " input_12 (InputLayer)       [(None, None)]               0         []                            \n",
      "                                                                                                  \n",
      " embedding_4 (Embedding)     (None, None, 100)            203400    ['input_11[0][0]']            \n",
      "                                                                                                  \n",
      " embedding_5 (Embedding)     (None, None, 100)            250600    ['input_12[0][0]']            \n",
      "                                                                                                  \n",
      " dropout_4 (Dropout)         (None, None, 100)            0         ['embedding_4[0][0]']         \n",
      "                                                                                                  \n",
      " dropout_5 (Dropout)         (None, None, 100)            0         ['embedding_5[0][0]']         \n",
      "                                                                                                  \n",
      " lstm_4 (LSTM)               [(None, None, 200),          240800    ['dropout_4[0][0]']           \n",
      "                              (None, 200),                                                        \n",
      "                              (None, 200)]                                                        \n",
      "                                                                                                  \n",
      " lstm_5 (LSTM)               [(None, None, 200),          240800    ['dropout_5[0][0]',           \n",
      "                              (None, 200),                           'lstm_4[0][1]',              \n",
      "                              (None, 200)]                           'lstm_4[0][2]']              \n",
      "                                                                                                  \n",
      " dense_2 (Dense)             (None, None, 2506)           503706    ['lstm_5[0][0]']              \n",
      "                                                                                                  \n",
      "==================================================================================================\n",
      "Total params: 1439306 (5.49 MB)\n",
      "Trainable params: 1439306 (5.49 MB)\n",
      "Non-trainable params: 0 (0.00 Byte)\n",
      "__________________________________________________________________________________________________\n",
      "\t\t\t\t\t\t Inference Time Encoder Model Summary.\n",
      "Model: \"model_7\"\n",
      "_________________________________________________________________\n",
      " Layer (type)                Output Shape              Param #   \n",
      "=================================================================\n",
      " input_11 (InputLayer)       [(None, None)]            0         \n",
      "                                                                 \n",
      " embedding_4 (Embedding)     (None, None, 100)         203400    \n",
      "                                                                 \n",
      " dropout_4 (Dropout)         (None, None, 100)         0         \n",
      "                                                                 \n",
      " lstm_4 (LSTM)               [(None, None, 200),       240800    \n",
      "                              (None, 200),                       \n",
      "                              (None, 200)]                       \n",
      "                                                                 \n",
      "=================================================================\n",
      "Total params: 444200 (1.69 MB)\n",
      "Trainable params: 444200 (1.69 MB)\n",
      "Non-trainable params: 0 (0.00 Byte)\n",
      "_________________________________________________________________\n",
      "\n",
      " Putting together the decoder states\n",
      "\t\t\t\t\t\t Decoder Inference Model summary\n",
      "Model: \"model_8\"\n",
      "__________________________________________________________________________________________________\n",
      " Layer (type)                Output Shape                 Param #   Connected to                  \n",
      "==================================================================================================\n",
      " input_12 (InputLayer)       [(None, None)]               0         []                            \n",
      "                                                                                                  \n",
      " embedding_5 (Embedding)     (None, None, 100)            250600    ['input_12[0][0]']            \n",
      "                                                                                                  \n",
      " dropout_5 (Dropout)         (None, None, 100)            0         ['embedding_5[0][0]']         \n",
      "                                                                                                  \n",
      " input_13 (InputLayer)       [(None, 200)]                0         []                            \n",
      "                                                                                                  \n",
      " input_14 (InputLayer)       [(None, 200)]                0         []                            \n",
      "                                                                                                  \n",
      " lstm_5 (LSTM)               [(None, None, 200),          240800    ['dropout_5[0][0]',           \n",
      "                              (None, 200),                           'input_13[0][0]',            \n",
      "                              (None, 200)]                           'input_14[0][0]']            \n",
      "                                                                                                  \n",
      " input_15 (InputLayer)       [(None, None, 200)]          0         []                            \n",
      "                                                                                                  \n",
      " dense_2 (Dense)             (None, None, 2506)           503706    ['lstm_5[1][0]']              \n",
      "                                                                                                  \n",
      "==================================================================================================\n",
      "Total params: 995106 (3.80 MB)\n",
      "Trainable params: 995106 (3.80 MB)\n",
      "Non-trainable params: 0 (0.00 Byte)\n",
      "__________________________________________________________________________________________________\n",
      "None\n",
      "Starting training epoch 1/10\n",
      "240/240 [==============================] - 121s 491ms/step - loss: 5.1342 - accuracy: 0.1638\n",
      "Time used for epoch 1: 2 m 0 s\n",
      "Evaluating on dev set after epoch 1/10:\n",
      "30/30 [==============================] - 1s 23ms/step\n",
      "30/30 [==============================] - 0s 3ms/step\n",
      "30/30 [==============================] - 0s 3ms/step\n",
      "30/30 [==============================] - 0s 4ms/step\n",
      "30/30 [==============================] - 0s 4ms/step\n",
      "30/30 [==============================] - 0s 3ms/step\n",
      "30/30 [==============================] - 0s 2ms/step\n",
      "30/30 [==============================] - 0s 2ms/step\n",
      "30/30 [==============================] - 0s 3ms/step\n",
      "30/30 [==============================] - 0s 3ms/step\n",
      "30/30 [==============================] - 0s 3ms/step\n",
      "30/30 [==============================] - 0s 3ms/step\n",
      "30/30 [==============================] - 0s 3ms/step\n",
      "30/30 [==============================] - 0s 2ms/step\n",
      "30/30 [==============================] - 0s 3ms/step\n",
      "30/30 [==============================] - 0s 2ms/step\n",
      "30/30 [==============================] - 0s 2ms/step\n",
      "30/30 [==============================] - 0s 2ms/step\n",
      "30/30 [==============================] - 0s 4ms/step\n",
      "30/30 [==============================] - 0s 3ms/step\n",
      "30/30 [==============================] - 0s 2ms/step\n",
      "30/30 [==============================] - 0s 2ms/step\n",
      "30/30 [==============================] - 0s 4ms/step\n",
      "30/30 [==============================] - 0s 3ms/step\n",
      "30/30 [==============================] - 0s 2ms/step\n",
      "30/30 [==============================] - 0s 2ms/step\n",
      "30/30 [==============================] - 0s 4ms/step\n",
      "30/30 [==============================] - 0s 2ms/step\n",
      "30/30 [==============================] - 0s 2ms/step\n",
      "30/30 [==============================] - 0s 4ms/step\n",
      "30/30 [==============================] - 0s 3ms/step\n"
     ]
    },
    {
     "name": "stderr",
     "output_type": "stream",
     "text": [
      "WARNING:sacrebleu:That's 100 lines that end in a tokenized period ('.')\n",
      "WARNING:sacrebleu:It looks like you forgot to detokenize your test data, which may hurt your score.\n",
      "WARNING:sacrebleu:If you insist your data is detokenized, or don't care, you can suppress this message with the `force` parameter.\n"
     ]
    },
    {
     "name": "stdout",
     "output_type": "stream",
     "text": [
      "Model BLEU score: 0.30\n",
      "Time used for evaluate on dev set: 0 m 9 s\n",
      "Starting training epoch 2/10\n",
      "240/240 [==============================] - 117s 487ms/step - loss: 4.4747 - accuracy: 0.2367\n",
      "Time used for epoch 2: 1 m 57 s\n",
      "Evaluating on dev set after epoch 2/10:\n",
      "30/30 [==============================] - 1s 25ms/step\n",
      "30/30 [==============================] - 0s 2ms/step\n",
      "30/30 [==============================] - 0s 3ms/step\n",
      "30/30 [==============================] - 0s 3ms/step\n",
      "30/30 [==============================] - 0s 3ms/step\n",
      "30/30 [==============================] - 0s 3ms/step\n",
      "30/30 [==============================] - 0s 3ms/step\n",
      "30/30 [==============================] - 0s 5ms/step\n",
      "30/30 [==============================] - 0s 7ms/step\n",
      "30/30 [==============================] - 0s 3ms/step\n",
      "30/30 [==============================] - 0s 3ms/step\n",
      "30/30 [==============================] - 0s 2ms/step\n",
      "30/30 [==============================] - 0s 4ms/step\n",
      "30/30 [==============================] - 0s 3ms/step\n",
      "30/30 [==============================] - 0s 2ms/step\n",
      "30/30 [==============================] - 0s 2ms/step\n",
      "30/30 [==============================] - 0s 5ms/step\n",
      "30/30 [==============================] - 0s 6ms/step\n",
      "30/30 [==============================] - 0s 3ms/step\n",
      "30/30 [==============================] - 0s 2ms/step\n",
      "30/30 [==============================] - 0s 3ms/step\n",
      "30/30 [==============================] - 0s 2ms/step\n",
      "30/30 [==============================] - 0s 2ms/step\n",
      "30/30 [==============================] - 0s 4ms/step\n",
      "30/30 [==============================] - 0s 3ms/step\n",
      "30/30 [==============================] - 0s 4ms/step\n",
      "30/30 [==============================] - 0s 2ms/step\n",
      "30/30 [==============================] - 0s 2ms/step\n",
      "30/30 [==============================] - 0s 2ms/step\n",
      "30/30 [==============================] - 0s 3ms/step\n",
      "30/30 [==============================] - 0s 3ms/step\n"
     ]
    },
    {
     "name": "stderr",
     "output_type": "stream",
     "text": [
      "WARNING:sacrebleu:That's 100 lines that end in a tokenized period ('.')\n",
      "WARNING:sacrebleu:It looks like you forgot to detokenize your test data, which may hurt your score.\n",
      "WARNING:sacrebleu:If you insist your data is detokenized, or don't care, you can suppress this message with the `force` parameter.\n"
     ]
    },
    {
     "name": "stdout",
     "output_type": "stream",
     "text": [
      "Model BLEU score: 1.88\n",
      "Time used for evaluate on dev set: 0 m 9 s\n",
      "Starting training epoch 3/10\n",
      "240/240 [==============================] - 118s 491ms/step - loss: 4.2061 - accuracy: 0.2669\n",
      "Time used for epoch 3: 1 m 57 s\n",
      "Evaluating on dev set after epoch 3/10:\n",
      "30/30 [==============================] - 1s 22ms/step\n",
      "30/30 [==============================] - 0s 4ms/step\n",
      "30/30 [==============================] - 0s 2ms/step\n",
      "30/30 [==============================] - 0s 3ms/step\n",
      "30/30 [==============================] - 0s 3ms/step\n",
      "30/30 [==============================] - 0s 2ms/step\n",
      "30/30 [==============================] - 0s 4ms/step\n",
      "30/30 [==============================] - 0s 3ms/step\n",
      "30/30 [==============================] - 0s 2ms/step\n",
      "30/30 [==============================] - 0s 3ms/step\n",
      "30/30 [==============================] - 0s 2ms/step\n",
      "30/30 [==============================] - 0s 3ms/step\n",
      "30/30 [==============================] - 0s 3ms/step\n",
      "30/30 [==============================] - 0s 3ms/step\n",
      "30/30 [==============================] - 0s 2ms/step\n",
      "30/30 [==============================] - 0s 2ms/step\n",
      "30/30 [==============================] - 0s 4ms/step\n",
      "30/30 [==============================] - 0s 2ms/step\n",
      "30/30 [==============================] - 0s 2ms/step\n",
      "30/30 [==============================] - 0s 4ms/step\n",
      "30/30 [==============================] - 0s 3ms/step\n",
      "30/30 [==============================] - 0s 2ms/step\n",
      "30/30 [==============================] - 0s 4ms/step\n",
      "30/30 [==============================] - 0s 3ms/step\n",
      "30/30 [==============================] - 0s 2ms/step\n",
      "30/30 [==============================] - 0s 4ms/step\n",
      "30/30 [==============================] - 0s 3ms/step\n",
      "30/30 [==============================] - 0s 4ms/step\n",
      "30/30 [==============================] - 0s 3ms/step\n",
      "30/30 [==============================] - 0s 2ms/step\n",
      "30/30 [==============================] - 0s 2ms/step\n"
     ]
    },
    {
     "name": "stderr",
     "output_type": "stream",
     "text": [
      "WARNING:sacrebleu:That's 100 lines that end in a tokenized period ('.')\n",
      "WARNING:sacrebleu:It looks like you forgot to detokenize your test data, which may hurt your score.\n",
      "WARNING:sacrebleu:If you insist your data is detokenized, or don't care, you can suppress this message with the `force` parameter.\n"
     ]
    },
    {
     "name": "stdout",
     "output_type": "stream",
     "text": [
      "Model BLEU score: 1.40\n",
      "Time used for evaluate on dev set: 0 m 8 s\n",
      "Starting training epoch 4/10\n",
      "240/240 [==============================] - 116s 486ms/step - loss: 4.0414 - accuracy: 0.2838\n",
      "Time used for epoch 4: 1 m 56 s\n",
      "Evaluating on dev set after epoch 4/10:\n",
      "30/30 [==============================] - 1s 25ms/step\n",
      "30/30 [==============================] - 0s 3ms/step\n",
      "30/30 [==============================] - 0s 3ms/step\n",
      "30/30 [==============================] - 0s 3ms/step\n",
      "30/30 [==============================] - 0s 3ms/step\n",
      "30/30 [==============================] - 0s 2ms/step\n",
      "30/30 [==============================] - 0s 2ms/step\n",
      "30/30 [==============================] - 0s 3ms/step\n",
      "30/30 [==============================] - 0s 2ms/step\n",
      "30/30 [==============================] - 0s 4ms/step\n",
      "30/30 [==============================] - 0s 3ms/step\n",
      "30/30 [==============================] - 0s 2ms/step\n",
      "30/30 [==============================] - 0s 3ms/step\n",
      "30/30 [==============================] - 0s 3ms/step\n",
      "30/30 [==============================] - 0s 3ms/step\n",
      "30/30 [==============================] - 0s 3ms/step\n",
      "30/30 [==============================] - 0s 3ms/step\n",
      "30/30 [==============================] - 0s 3ms/step\n",
      "30/30 [==============================] - 0s 2ms/step\n",
      "30/30 [==============================] - 0s 3ms/step\n",
      "30/30 [==============================] - 0s 2ms/step\n",
      "30/30 [==============================] - 0s 2ms/step\n",
      "30/30 [==============================] - 0s 2ms/step\n",
      "30/30 [==============================] - 0s 4ms/step\n",
      "30/30 [==============================] - 0s 2ms/step\n",
      "30/30 [==============================] - 0s 2ms/step\n",
      "30/30 [==============================] - 0s 4ms/step\n",
      "30/30 [==============================] - 0s 3ms/step\n",
      "30/30 [==============================] - 0s 2ms/step\n",
      "30/30 [==============================] - 0s 4ms/step\n",
      "30/30 [==============================] - 0s 3ms/step\n"
     ]
    },
    {
     "name": "stderr",
     "output_type": "stream",
     "text": [
      "WARNING:sacrebleu:That's 100 lines that end in a tokenized period ('.')\n",
      "WARNING:sacrebleu:It looks like you forgot to detokenize your test data, which may hurt your score.\n",
      "WARNING:sacrebleu:If you insist your data is detokenized, or don't care, you can suppress this message with the `force` parameter.\n"
     ]
    },
    {
     "name": "stdout",
     "output_type": "stream",
     "text": [
      "Model BLEU score: 2.44\n",
      "Time used for evaluate on dev set: 0 m 8 s\n",
      "Starting training epoch 5/10\n",
      "240/240 [==============================] - 117s 487ms/step - loss: 3.8961 - accuracy: 0.3026\n",
      "Time used for epoch 5: 1 m 56 s\n",
      "Evaluating on dev set after epoch 5/10:\n",
      "30/30 [==============================] - 1s 22ms/step\n",
      "30/30 [==============================] - 0s 3ms/step\n",
      "30/30 [==============================] - 0s 2ms/step\n",
      "30/30 [==============================] - 0s 3ms/step\n",
      "30/30 [==============================] - 0s 3ms/step\n",
      "30/30 [==============================] - 0s 3ms/step\n",
      "30/30 [==============================] - 0s 3ms/step\n",
      "30/30 [==============================] - 0s 4ms/step\n",
      "30/30 [==============================] - 0s 3ms/step\n",
      "30/30 [==============================] - 0s 4ms/step\n",
      "30/30 [==============================] - 0s 3ms/step\n",
      "30/30 [==============================] - 0s 2ms/step\n",
      "30/30 [==============================] - 0s 3ms/step\n",
      "30/30 [==============================] - 0s 3ms/step\n",
      "30/30 [==============================] - 0s 2ms/step\n",
      "30/30 [==============================] - 0s 3ms/step\n",
      "30/30 [==============================] - 0s 2ms/step\n",
      "30/30 [==============================] - 0s 3ms/step\n",
      "30/30 [==============================] - 0s 3ms/step\n",
      "30/30 [==============================] - 0s 4ms/step\n",
      "30/30 [==============================] - 0s 3ms/step\n",
      "30/30 [==============================] - 0s 2ms/step\n",
      "30/30 [==============================] - 0s 2ms/step\n",
      "30/30 [==============================] - 0s 4ms/step\n",
      "30/30 [==============================] - 0s 3ms/step\n",
      "30/30 [==============================] - 0s 6ms/step\n",
      "30/30 [==============================] - 0s 4ms/step\n",
      "30/30 [==============================] - 0s 3ms/step\n",
      "30/30 [==============================] - 0s 3ms/step\n",
      "30/30 [==============================] - 0s 2ms/step\n",
      "30/30 [==============================] - 0s 4ms/step\n"
     ]
    },
    {
     "name": "stderr",
     "output_type": "stream",
     "text": [
      "WARNING:sacrebleu:That's 100 lines that end in a tokenized period ('.')\n",
      "WARNING:sacrebleu:It looks like you forgot to detokenize your test data, which may hurt your score.\n",
      "WARNING:sacrebleu:If you insist your data is detokenized, or don't care, you can suppress this message with the `force` parameter.\n"
     ]
    },
    {
     "name": "stdout",
     "output_type": "stream",
     "text": [
      "Model BLEU score: 2.68\n",
      "Time used for evaluate on dev set: 0 m 8 s\n",
      "Starting training epoch 6/10\n",
      "240/240 [==============================] - 119s 497ms/step - loss: 3.7711 - accuracy: 0.3212\n",
      "Time used for epoch 6: 1 m 59 s\n",
      "Evaluating on dev set after epoch 6/10:\n",
      "30/30 [==============================] - 1s 23ms/step\n",
      "30/30 [==============================] - 0s 3ms/step\n",
      "30/30 [==============================] - 0s 4ms/step\n",
      "30/30 [==============================] - 0s 3ms/step\n",
      "30/30 [==============================] - 0s 4ms/step\n",
      "30/30 [==============================] - 0s 3ms/step\n",
      "30/30 [==============================] - 0s 2ms/step\n",
      "30/30 [==============================] - 0s 2ms/step\n",
      "30/30 [==============================] - 0s 4ms/step\n",
      "30/30 [==============================] - 0s 3ms/step\n",
      "30/30 [==============================] - 0s 4ms/step\n",
      "30/30 [==============================] - 0s 6ms/step\n",
      "30/30 [==============================] - 0s 2ms/step\n",
      "30/30 [==============================] - 0s 3ms/step\n",
      "30/30 [==============================] - 0s 3ms/step\n",
      "30/30 [==============================] - 0s 4ms/step\n",
      "30/30 [==============================] - 0s 3ms/step\n",
      "30/30 [==============================] - 0s 2ms/step\n",
      "30/30 [==============================] - 0s 2ms/step\n",
      "30/30 [==============================] - 0s 4ms/step\n",
      "30/30 [==============================] - 0s 3ms/step\n",
      "30/30 [==============================] - 0s 3ms/step\n",
      "30/30 [==============================] - 0s 2ms/step\n",
      "30/30 [==============================] - 0s 2ms/step\n",
      "30/30 [==============================] - 0s 3ms/step\n",
      "30/30 [==============================] - 0s 2ms/step\n",
      "30/30 [==============================] - 0s 2ms/step\n",
      "30/30 [==============================] - 0s 3ms/step\n",
      "30/30 [==============================] - 0s 4ms/step\n",
      "30/30 [==============================] - 0s 3ms/step\n",
      "30/30 [==============================] - 0s 2ms/step\n"
     ]
    },
    {
     "name": "stderr",
     "output_type": "stream",
     "text": [
      "WARNING:sacrebleu:That's 100 lines that end in a tokenized period ('.')\n",
      "WARNING:sacrebleu:It looks like you forgot to detokenize your test data, which may hurt your score.\n",
      "WARNING:sacrebleu:If you insist your data is detokenized, or don't care, you can suppress this message with the `force` parameter.\n"
     ]
    },
    {
     "name": "stdout",
     "output_type": "stream",
     "text": [
      "Model BLEU score: 3.00\n",
      "Time used for evaluate on dev set: 0 m 8 s\n",
      "Starting training epoch 7/10\n",
      "240/240 [==============================] - 117s 487ms/step - loss: 3.6695 - accuracy: 0.3358\n",
      "Time used for epoch 7: 1 m 56 s\n",
      "Evaluating on dev set after epoch 7/10:\n",
      "30/30 [==============================] - 1s 26ms/step\n",
      "30/30 [==============================] - 0s 3ms/step\n",
      "30/30 [==============================] - 0s 3ms/step\n",
      "30/30 [==============================] - 0s 6ms/step\n",
      "30/30 [==============================] - 0s 4ms/step\n",
      "30/30 [==============================] - 0s 6ms/step\n",
      "30/30 [==============================] - 0s 3ms/step\n",
      "30/30 [==============================] - 0s 2ms/step\n",
      "30/30 [==============================] - 0s 2ms/step\n",
      "30/30 [==============================] - 0s 4ms/step\n",
      "30/30 [==============================] - 0s 3ms/step\n",
      "30/30 [==============================] - 0s 4ms/step\n",
      "30/30 [==============================] - 0s 5ms/step\n",
      "30/30 [==============================] - 0s 6ms/step\n",
      "30/30 [==============================] - 0s 2ms/step\n",
      "30/30 [==============================] - 0s 3ms/step\n",
      "30/30 [==============================] - 0s 3ms/step\n",
      "30/30 [==============================] - 0s 2ms/step\n",
      "30/30 [==============================] - 0s 3ms/step\n",
      "30/30 [==============================] - 0s 4ms/step\n",
      "30/30 [==============================] - 0s 3ms/step\n",
      "30/30 [==============================] - 0s 3ms/step\n",
      "30/30 [==============================] - 0s 3ms/step\n",
      "30/30 [==============================] - 0s 2ms/step\n",
      "30/30 [==============================] - 0s 2ms/step\n",
      "30/30 [==============================] - 0s 4ms/step\n",
      "30/30 [==============================] - 0s 3ms/step\n",
      "30/30 [==============================] - 0s 3ms/step\n",
      "30/30 [==============================] - 0s 2ms/step\n",
      "30/30 [==============================] - 0s 4ms/step\n",
      "30/30 [==============================] - 0s 4ms/step\n"
     ]
    },
    {
     "name": "stderr",
     "output_type": "stream",
     "text": [
      "WARNING:sacrebleu:That's 100 lines that end in a tokenized period ('.')\n",
      "WARNING:sacrebleu:It looks like you forgot to detokenize your test data, which may hurt your score.\n",
      "WARNING:sacrebleu:If you insist your data is detokenized, or don't care, you can suppress this message with the `force` parameter.\n"
     ]
    },
    {
     "name": "stdout",
     "output_type": "stream",
     "text": [
      "Model BLEU score: 3.31\n",
      "Time used for evaluate on dev set: 0 m 8 s\n",
      "Starting training epoch 8/10\n",
      "240/240 [==============================] - 117s 487ms/step - loss: 3.5770 - accuracy: 0.3485\n",
      "Time used for epoch 8: 1 m 56 s\n",
      "Evaluating on dev set after epoch 8/10:\n",
      "30/30 [==============================] - 1s 20ms/step\n",
      "30/30 [==============================] - 0s 2ms/step\n",
      "30/30 [==============================] - 0s 2ms/step\n",
      "30/30 [==============================] - 0s 3ms/step\n",
      "30/30 [==============================] - 0s 4ms/step\n",
      "30/30 [==============================] - 0s 3ms/step\n",
      "30/30 [==============================] - 0s 4ms/step\n",
      "30/30 [==============================] - 0s 4ms/step\n",
      "30/30 [==============================] - 0s 2ms/step\n",
      "30/30 [==============================] - 0s 4ms/step\n",
      "30/30 [==============================] - 0s 3ms/step\n",
      "30/30 [==============================] - 0s 2ms/step\n",
      "30/30 [==============================] - 0s 3ms/step\n",
      "30/30 [==============================] - 0s 2ms/step\n",
      "30/30 [==============================] - 0s 2ms/step\n",
      "30/30 [==============================] - 0s 4ms/step\n",
      "30/30 [==============================] - 0s 2ms/step\n",
      "30/30 [==============================] - 0s 2ms/step\n",
      "30/30 [==============================] - 0s 3ms/step\n",
      "30/30 [==============================] - 0s 2ms/step\n",
      "30/30 [==============================] - 0s 2ms/step\n",
      "30/30 [==============================] - 0s 2ms/step\n",
      "30/30 [==============================] - 0s 2ms/step\n",
      "30/30 [==============================] - 0s 6ms/step\n",
      "30/30 [==============================] - 0s 4ms/step\n",
      "30/30 [==============================] - 0s 2ms/step\n",
      "30/30 [==============================] - 0s 2ms/step\n",
      "30/30 [==============================] - 0s 4ms/step\n",
      "30/30 [==============================] - 0s 3ms/step\n",
      "30/30 [==============================] - 0s 2ms/step\n",
      "30/30 [==============================] - 0s 2ms/step\n"
     ]
    },
    {
     "name": "stderr",
     "output_type": "stream",
     "text": [
      "WARNING:sacrebleu:That's 100 lines that end in a tokenized period ('.')\n",
      "WARNING:sacrebleu:It looks like you forgot to detokenize your test data, which may hurt your score.\n",
      "WARNING:sacrebleu:If you insist your data is detokenized, or don't care, you can suppress this message with the `force` parameter.\n"
     ]
    },
    {
     "name": "stdout",
     "output_type": "stream",
     "text": [
      "Model BLEU score: 3.95\n",
      "Time used for evaluate on dev set: 0 m 8 s\n",
      "Starting training epoch 9/10\n",
      "240/240 [==============================] - 116s 482ms/step - loss: 3.4957 - accuracy: 0.3589\n",
      "Time used for epoch 9: 1 m 55 s\n",
      "Evaluating on dev set after epoch 9/10:\n",
      "30/30 [==============================] - 1s 23ms/step\n",
      "30/30 [==============================] - 0s 2ms/step\n",
      "30/30 [==============================] - 0s 3ms/step\n",
      "30/30 [==============================] - 0s 4ms/step\n",
      "30/30 [==============================] - 0s 2ms/step\n",
      "30/30 [==============================] - 0s 4ms/step\n",
      "30/30 [==============================] - 0s 3ms/step\n",
      "30/30 [==============================] - 0s 3ms/step\n",
      "30/30 [==============================] - 0s 3ms/step\n",
      "30/30 [==============================] - 0s 3ms/step\n",
      "30/30 [==============================] - 0s 2ms/step\n",
      "30/30 [==============================] - 0s 2ms/step\n",
      "30/30 [==============================] - 0s 2ms/step\n",
      "30/30 [==============================] - 0s 4ms/step\n",
      "30/30 [==============================] - 0s 3ms/step\n",
      "30/30 [==============================] - 0s 2ms/step\n",
      "30/30 [==============================] - 0s 2ms/step\n",
      "30/30 [==============================] - 0s 4ms/step\n",
      "30/30 [==============================] - 0s 3ms/step\n",
      "30/30 [==============================] - 0s 3ms/step\n",
      "30/30 [==============================] - 0s 2ms/step\n",
      "30/30 [==============================] - 0s 4ms/step\n",
      "30/30 [==============================] - 0s 3ms/step\n",
      "30/30 [==============================] - 0s 2ms/step\n",
      "30/30 [==============================] - 0s 2ms/step\n",
      "30/30 [==============================] - 0s 4ms/step\n",
      "30/30 [==============================] - 0s 2ms/step\n",
      "30/30 [==============================] - 0s 3ms/step\n",
      "30/30 [==============================] - 0s 3ms/step\n",
      "30/30 [==============================] - 0s 2ms/step\n",
      "30/30 [==============================] - 0s 4ms/step\n"
     ]
    },
    {
     "name": "stderr",
     "output_type": "stream",
     "text": [
      "WARNING:sacrebleu:That's 100 lines that end in a tokenized period ('.')\n",
      "WARNING:sacrebleu:It looks like you forgot to detokenize your test data, which may hurt your score.\n",
      "WARNING:sacrebleu:If you insist your data is detokenized, or don't care, you can suppress this message with the `force` parameter.\n"
     ]
    },
    {
     "name": "stdout",
     "output_type": "stream",
     "text": [
      "Model BLEU score: 4.44\n",
      "Time used for evaluate on dev set: 0 m 8 s\n",
      "Starting training epoch 10/10\n",
      "240/240 [==============================] - 118s 490ms/step - loss: 3.4256 - accuracy: 0.3676\n",
      "Time used for epoch 10: 1 m 57 s\n",
      "Evaluating on dev set after epoch 10/10:\n",
      "30/30 [==============================] - 1s 24ms/step\n",
      "30/30 [==============================] - 0s 2ms/step\n",
      "30/30 [==============================] - 0s 2ms/step\n",
      "30/30 [==============================] - 0s 3ms/step\n",
      "30/30 [==============================] - 0s 3ms/step\n",
      "30/30 [==============================] - 0s 2ms/step\n",
      "30/30 [==============================] - 0s 4ms/step\n",
      "30/30 [==============================] - 0s 3ms/step\n",
      "30/30 [==============================] - 0s 3ms/step\n",
      "30/30 [==============================] - 0s 3ms/step\n",
      "30/30 [==============================] - 0s 3ms/step\n",
      "30/30 [==============================] - 0s 3ms/step\n",
      "30/30 [==============================] - 0s 2ms/step\n",
      "30/30 [==============================] - 0s 2ms/step\n",
      "30/30 [==============================] - 0s 3ms/step\n",
      "30/30 [==============================] - 0s 2ms/step\n",
      "30/30 [==============================] - 0s 2ms/step\n",
      "30/30 [==============================] - 0s 2ms/step\n",
      "30/30 [==============================] - 0s 2ms/step\n",
      "30/30 [==============================] - 0s 5ms/step\n",
      "30/30 [==============================] - 0s 3ms/step\n",
      "30/30 [==============================] - 0s 2ms/step\n",
      "30/30 [==============================] - 0s 2ms/step\n",
      "30/30 [==============================] - 0s 4ms/step\n",
      "30/30 [==============================] - 0s 2ms/step\n",
      "30/30 [==============================] - 0s 2ms/step\n",
      "30/30 [==============================] - 0s 2ms/step\n",
      "30/30 [==============================] - 0s 4ms/step\n",
      "30/30 [==============================] - 0s 3ms/step\n",
      "30/30 [==============================] - 0s 3ms/step\n",
      "30/30 [==============================] - 0s 2ms/step\n"
     ]
    },
    {
     "name": "stderr",
     "output_type": "stream",
     "text": [
      "WARNING:sacrebleu:That's 100 lines that end in a tokenized period ('.')\n",
      "WARNING:sacrebleu:It looks like you forgot to detokenize your test data, which may hurt your score.\n",
      "WARNING:sacrebleu:If you insist your data is detokenized, or don't care, you can suppress this message with the `force` parameter.\n"
     ]
    },
    {
     "name": "stdout",
     "output_type": "stream",
     "text": [
      "Model BLEU score: 4.76\n",
      "Time used for evaluate on dev set: 0 m 8 s\n",
      "Training finished!\n",
      "Time used for training: 21 m 3 s\n",
      "Evaluating on test set:\n",
      "30/30 [==============================] - 1s 26ms/step\n",
      "30/30 [==============================] - 0s 3ms/step\n",
      "30/30 [==============================] - 0s 4ms/step\n",
      "30/30 [==============================] - 0s 2ms/step\n",
      "30/30 [==============================] - 0s 4ms/step\n",
      "30/30 [==============================] - 0s 2ms/step\n",
      "30/30 [==============================] - 0s 4ms/step\n",
      "30/30 [==============================] - 0s 2ms/step\n",
      "30/30 [==============================] - 0s 4ms/step\n",
      "30/30 [==============================] - 0s 3ms/step\n",
      "30/30 [==============================] - 0s 2ms/step\n",
      "30/30 [==============================] - 0s 4ms/step\n",
      "30/30 [==============================] - 0s 3ms/step\n",
      "30/30 [==============================] - 0s 2ms/step\n",
      "30/30 [==============================] - 0s 2ms/step\n",
      "30/30 [==============================] - 0s 4ms/step\n",
      "30/30 [==============================] - 0s 3ms/step\n",
      "30/30 [==============================] - 0s 2ms/step\n",
      "30/30 [==============================] - 0s 2ms/step\n",
      "30/30 [==============================] - 0s 3ms/step\n",
      "30/30 [==============================] - 0s 2ms/step\n",
      "30/30 [==============================] - 0s 4ms/step\n",
      "30/30 [==============================] - 0s 3ms/step\n",
      "30/30 [==============================] - 0s 3ms/step\n",
      "30/30 [==============================] - 0s 2ms/step\n",
      "30/30 [==============================] - 0s 2ms/step\n",
      "30/30 [==============================] - 0s 2ms/step\n",
      "30/30 [==============================] - 0s 4ms/step\n",
      "30/30 [==============================] - 0s 3ms/step\n",
      "30/30 [==============================] - 0s 2ms/step\n",
      "30/30 [==============================] - 0s 4ms/step\n"
     ]
    },
    {
     "name": "stderr",
     "output_type": "stream",
     "text": [
      "WARNING:sacrebleu:That's 100 lines that end in a tokenized period ('.')\n",
      "WARNING:sacrebleu:It looks like you forgot to detokenize your test data, which may hurt your score.\n",
      "WARNING:sacrebleu:If you insist your data is detokenized, or don't care, you can suppress this message with the `force` parameter.\n"
     ]
    },
    {
     "name": "stdout",
     "output_type": "stream",
     "text": [
      "Model BLEU score: 4.97\n",
      "Time used for evaluate on test set: 0 m 8 s\n"
     ]
    }
   ],
   "source": [
    "nmt.main(SOURCE_PATH, TARGET_PATH, use_attention=False)"
   ]
  },
  {
   "cell_type": "markdown",
   "metadata": {
    "id": "dlMDC3DJi12c"
   },
   "source": [
    "##**Training and Decoding with Attention**"
   ]
  },
  {
   "cell_type": "markdown",
   "metadata": {
    "id": "4cQKwvFqurVY"
   },
   "source": [
    "The inputs to the attention layer are encoder and decoder outputs. The attention mechanism:\n",
    "1. Computes a score (Luong's dot product attention score) for each source word\n",
    "2. Weights the encoder representations using these scores.\n",
    "3. Concatenates the weighted encoder representation with the decoder ouput.\n",
    "This new decoder output will now be the input to the `decoder_dense` layer.\n",
    "\n",
    "Step-by-step details for Task 3 are in the pdf file. Once you have completed this Task, you are ready to train with attention. Training time will be no more than 10 minutes using a GPU and you should get a test BLEU score of around 10."
   ]
  },
  {
   "cell_type": "code",
   "execution_count": 18,
   "metadata": {
    "colab": {
     "base_uri": "https://localhost:8080/"
    },
    "executionInfo": {
     "elapsed": 586218,
     "status": "ok",
     "timestamp": 1705743608371,
     "user": {
      "displayName": "julia ive",
      "userId": "11396706016758891847"
     },
     "user_tz": 0
    },
    "id": "23t6wfpLkb2F",
    "outputId": "2dd37ffc-6eca-4bed-9171-16b290d74391"
   },
   "outputs": [
    {
     "name": "stdout",
     "output_type": "stream",
     "text": [
      "loading dictionaries\n",
      "read 24000/3000/3000 train/dev/test batches\n",
      "number of tokens in source: 2034, number of tokens in target:2506\n",
      "Task 1(a): Creating the embedding lookups...\n",
      "\n",
      "Task 1(b): Looking up source and target words...\n",
      "\n",
      "Task 1(c): Creating an encoder\n"
     ]
    },
    {
     "name": "stderr",
     "output_type": "stream",
     "text": [
      "WARNING:absl:`lr` is deprecated in Keras optimizer, please use `learning_rate` or use the legacy optimizer, e.g.,tf.keras.optimizers.legacy.Adam.\n"
     ]
    },
    {
     "name": "stdout",
     "output_type": "stream",
     "text": [
      "\t\t\t\t\t\t Train Model Summary.\n",
      "Model: \"model_9\"\n",
      "__________________________________________________________________________________________________\n",
      " Layer (type)                Output Shape                 Param #   Connected to                  \n",
      "==================================================================================================\n",
      " input_16 (InputLayer)       [(None, None)]               0         []                            \n",
      "                                                                                                  \n",
      " embedding_6 (Embedding)     (None, None, 100)            203400    ['input_16[0][0]']            \n",
      "                                                                                                  \n",
      " input_17 (InputLayer)       [(None, None)]               0         []                            \n",
      "                                                                                                  \n",
      " dropout_6 (Dropout)         (None, None, 100)            0         ['embedding_6[0][0]']         \n",
      "                                                                                                  \n",
      " embedding_7 (Embedding)     (None, None, 100)            250600    ['input_17[0][0]']            \n",
      "                                                                                                  \n",
      " lstm_6 (LSTM)               [(None, None, 200),          240800    ['dropout_6[0][0]']           \n",
      "                              (None, 200),                                                        \n",
      "                              (None, 200)]                                                        \n",
      "                                                                                                  \n",
      " dropout_7 (Dropout)         (None, None, 100)            0         ['embedding_7[0][0]']         \n",
      "                                                                                                  \n",
      " lstm_7 (LSTM)               [(None, None, 200),          240800    ['dropout_7[0][0]',           \n",
      "                              (None, 200),                           'lstm_6[0][1]',              \n",
      "                              (None, 200)]                           'lstm_6[0][2]']              \n",
      "                                                                                                  \n",
      " attention_layer_1 (Attenti  (None, None, 400)            0         ['lstm_6[0][0]',              \n",
      " onLayer)                                                            'lstm_7[0][0]']              \n",
      "                                                                                                  \n",
      " dense_3 (Dense)             (None, None, 2506)           1004906   ['attention_layer_1[0][0]']   \n",
      "                                                                                                  \n",
      "==================================================================================================\n",
      "Total params: 1940506 (7.40 MB)\n",
      "Trainable params: 1940506 (7.40 MB)\n",
      "Non-trainable params: 0 (0.00 Byte)\n",
      "__________________________________________________________________________________________________\n",
      "\t\t\t\t\t\t Inference Time Encoder Model Summary.\n",
      "Model: \"model_10\"\n",
      "_________________________________________________________________\n",
      " Layer (type)                Output Shape              Param #   \n",
      "=================================================================\n",
      " input_16 (InputLayer)       [(None, None)]            0         \n",
      "                                                                 \n",
      " embedding_6 (Embedding)     (None, None, 100)         203400    \n",
      "                                                                 \n",
      " dropout_6 (Dropout)         (None, None, 100)         0         \n",
      "                                                                 \n",
      " lstm_6 (LSTM)               [(None, None, 200),       240800    \n",
      "                              (None, 200),                       \n",
      "                              (None, 200)]                       \n",
      "                                                                 \n",
      "=================================================================\n",
      "Total params: 444200 (1.69 MB)\n",
      "Trainable params: 444200 (1.69 MB)\n",
      "Non-trainable params: 0 (0.00 Byte)\n",
      "_________________________________________________________________\n",
      "\n",
      " Putting together the decoder states\n",
      "\t\t\t\t\t\t Decoder Inference Model summary\n",
      "Model: \"model_11\"\n",
      "__________________________________________________________________________________________________\n",
      " Layer (type)                Output Shape                 Param #   Connected to                  \n",
      "==================================================================================================\n",
      " input_17 (InputLayer)       [(None, None)]               0         []                            \n",
      "                                                                                                  \n",
      " embedding_7 (Embedding)     (None, None, 100)            250600    ['input_17[0][0]']            \n",
      "                                                                                                  \n",
      " dropout_7 (Dropout)         (None, None, 100)            0         ['embedding_7[0][0]']         \n",
      "                                                                                                  \n",
      " input_18 (InputLayer)       [(None, 200)]                0         []                            \n",
      "                                                                                                  \n",
      " input_19 (InputLayer)       [(None, 200)]                0         []                            \n",
      "                                                                                                  \n",
      " input_20 (InputLayer)       [(None, None, 200)]          0         []                            \n",
      "                                                                                                  \n",
      " lstm_7 (LSTM)               [(None, None, 200),          240800    ['dropout_7[0][0]',           \n",
      "                              (None, 200),                           'input_18[0][0]',            \n",
      "                              (None, 200)]                           'input_19[0][0]']            \n",
      "                                                                                                  \n",
      " attention_layer_1 (Attenti  (None, None, 400)            0         ['input_20[0][0]',            \n",
      " onLayer)                                                            'lstm_7[1][0]']              \n",
      "                                                                                                  \n",
      " dense_3 (Dense)             (None, None, 2506)           1004906   ['attention_layer_1[1][0]']   \n",
      "                                                                                                  \n",
      "==================================================================================================\n",
      "Total params: 1496306 (5.71 MB)\n",
      "Trainable params: 1496306 (5.71 MB)\n",
      "Non-trainable params: 0 (0.00 Byte)\n",
      "__________________________________________________________________________________________________\n",
      "None\n",
      "Starting training epoch 1/10\n",
      "240/240 [==============================] - 182s 747ms/step - loss: 5.0240 - accuracy: 0.1811\n",
      "Time used for epoch 1: 3 m 2 s\n",
      "Evaluating on dev set after epoch 1/10:\n",
      "30/30 [==============================] - 1s 23ms/step\n",
      "30/30 [==============================] - 0s 6ms/step\n",
      "30/30 [==============================] - 0s 7ms/step\n",
      "30/30 [==============================] - 0s 7ms/step\n",
      "30/30 [==============================] - 0s 7ms/step\n",
      "30/30 [==============================] - 0s 6ms/step\n",
      "30/30 [==============================] - 0s 7ms/step\n",
      "30/30 [==============================] - 0s 9ms/step\n",
      "30/30 [==============================] - 0s 9ms/step\n",
      "30/30 [==============================] - 0s 7ms/step\n",
      "30/30 [==============================] - 0s 7ms/step\n",
      "30/30 [==============================] - 0s 7ms/step\n",
      "30/30 [==============================] - 0s 7ms/step\n",
      "30/30 [==============================] - 0s 7ms/step\n",
      "30/30 [==============================] - 0s 9ms/step\n",
      "30/30 [==============================] - 0s 6ms/step\n",
      "30/30 [==============================] - 0s 7ms/step\n",
      "30/30 [==============================] - 0s 7ms/step\n",
      "30/30 [==============================] - 0s 7ms/step\n",
      "30/30 [==============================] - 0s 7ms/step\n",
      "30/30 [==============================] - 0s 7ms/step\n",
      "30/30 [==============================] - 0s 7ms/step\n",
      "30/30 [==============================] - 0s 7ms/step\n",
      "30/30 [==============================] - 0s 7ms/step\n",
      "30/30 [==============================] - 0s 7ms/step\n",
      "30/30 [==============================] - 0s 7ms/step\n",
      "30/30 [==============================] - 0s 7ms/step\n",
      "30/30 [==============================] - 0s 7ms/step\n",
      "30/30 [==============================] - 0s 7ms/step\n",
      "30/30 [==============================] - 0s 7ms/step\n",
      "30/30 [==============================] - 0s 7ms/step\n"
     ]
    },
    {
     "name": "stderr",
     "output_type": "stream",
     "text": [
      "WARNING:sacrebleu:That's 100 lines that end in a tokenized period ('.')\n",
      "WARNING:sacrebleu:It looks like you forgot to detokenize your test data, which may hurt your score.\n",
      "WARNING:sacrebleu:If you insist your data is detokenized, or don't care, you can suppress this message with the `force` parameter.\n"
     ]
    },
    {
     "name": "stdout",
     "output_type": "stream",
     "text": [
      "Model BLEU score: 1.07\n",
      "Time used for evaluate on dev set: 0 m 13 s\n",
      "Starting training epoch 2/10\n",
      "240/240 [==============================] - 180s 751ms/step - loss: 4.3367 - accuracy: 0.2528\n",
      "Time used for epoch 2: 3 m 0 s\n",
      "Evaluating on dev set after epoch 2/10:\n",
      "30/30 [==============================] - 1s 22ms/step\n",
      "30/30 [==============================] - 0s 6ms/step\n",
      "30/30 [==============================] - 0s 7ms/step\n",
      "30/30 [==============================] - 0s 7ms/step\n",
      "30/30 [==============================] - 0s 6ms/step\n",
      "30/30 [==============================] - 0s 6ms/step\n",
      "30/30 [==============================] - 0s 6ms/step\n",
      "30/30 [==============================] - 0s 6ms/step\n",
      "30/30 [==============================] - 0s 7ms/step\n",
      "30/30 [==============================] - 0s 7ms/step\n",
      "30/30 [==============================] - 0s 7ms/step\n",
      "30/30 [==============================] - 0s 7ms/step\n",
      "30/30 [==============================] - 0s 7ms/step\n",
      "30/30 [==============================] - 0s 7ms/step\n",
      "30/30 [==============================] - 0s 7ms/step\n",
      "30/30 [==============================] - 0s 7ms/step\n",
      "30/30 [==============================] - 0s 7ms/step\n",
      "30/30 [==============================] - 0s 7ms/step\n",
      "30/30 [==============================] - 0s 7ms/step\n",
      "30/30 [==============================] - 0s 7ms/step\n",
      "30/30 [==============================] - 0s 7ms/step\n",
      "30/30 [==============================] - 0s 7ms/step\n",
      "30/30 [==============================] - 0s 7ms/step\n",
      "30/30 [==============================] - 0s 7ms/step\n",
      "30/30 [==============================] - 0s 7ms/step\n",
      "30/30 [==============================] - 0s 7ms/step\n",
      "30/30 [==============================] - 0s 7ms/step\n",
      "30/30 [==============================] - 0s 7ms/step\n",
      "30/30 [==============================] - 0s 7ms/step\n",
      "30/30 [==============================] - 0s 7ms/step\n",
      "30/30 [==============================] - 0s 7ms/step\n"
     ]
    },
    {
     "name": "stderr",
     "output_type": "stream",
     "text": [
      "WARNING:sacrebleu:That's 100 lines that end in a tokenized period ('.')\n",
      "WARNING:sacrebleu:It looks like you forgot to detokenize your test data, which may hurt your score.\n",
      "WARNING:sacrebleu:If you insist your data is detokenized, or don't care, you can suppress this message with the `force` parameter.\n"
     ]
    },
    {
     "name": "stdout",
     "output_type": "stream",
     "text": [
      "Model BLEU score: 1.05\n",
      "Time used for evaluate on dev set: 0 m 12 s\n",
      "Starting training epoch 3/10\n",
      "240/240 [==============================] - 183s 761ms/step - loss: 4.0587 - accuracy: 0.2872\n",
      "Time used for epoch 3: 3 m 2 s\n",
      "Evaluating on dev set after epoch 3/10:\n",
      "30/30 [==============================] - 1s 22ms/step\n",
      "30/30 [==============================] - 0s 6ms/step\n",
      "30/30 [==============================] - 0s 7ms/step\n",
      "30/30 [==============================] - 0s 6ms/step\n",
      "30/30 [==============================] - 0s 7ms/step\n",
      "30/30 [==============================] - 0s 7ms/step\n",
      "30/30 [==============================] - 0s 7ms/step\n",
      "30/30 [==============================] - 0s 7ms/step\n",
      "30/30 [==============================] - 0s 7ms/step\n",
      "30/30 [==============================] - 0s 7ms/step\n",
      "30/30 [==============================] - 0s 7ms/step\n",
      "30/30 [==============================] - 0s 7ms/step\n",
      "30/30 [==============================] - 0s 10ms/step\n",
      "30/30 [==============================] - 0s 9ms/step\n",
      "30/30 [==============================] - 0s 6ms/step\n",
      "30/30 [==============================] - 0s 7ms/step\n",
      "30/30 [==============================] - 0s 7ms/step\n",
      "30/30 [==============================] - 0s 7ms/step\n",
      "30/30 [==============================] - 0s 7ms/step\n",
      "30/30 [==============================] - 0s 7ms/step\n",
      "30/30 [==============================] - 0s 7ms/step\n",
      "30/30 [==============================] - 0s 7ms/step\n",
      "30/30 [==============================] - 0s 7ms/step\n",
      "30/30 [==============================] - 0s 7ms/step\n",
      "30/30 [==============================] - 0s 7ms/step\n",
      "30/30 [==============================] - 0s 7ms/step\n",
      "30/30 [==============================] - 0s 7ms/step\n",
      "30/30 [==============================] - 0s 7ms/step\n",
      "30/30 [==============================] - 0s 7ms/step\n",
      "30/30 [==============================] - 0s 7ms/step\n",
      "30/30 [==============================] - 0s 7ms/step\n"
     ]
    },
    {
     "name": "stderr",
     "output_type": "stream",
     "text": [
      "WARNING:sacrebleu:That's 100 lines that end in a tokenized period ('.')\n",
      "WARNING:sacrebleu:It looks like you forgot to detokenize your test data, which may hurt your score.\n",
      "WARNING:sacrebleu:If you insist your data is detokenized, or don't care, you can suppress this message with the `force` parameter.\n"
     ]
    },
    {
     "name": "stdout",
     "output_type": "stream",
     "text": [
      "Model BLEU score: 2.27\n",
      "Time used for evaluate on dev set: 0 m 12 s\n",
      "Starting training epoch 4/10\n",
      "240/240 [==============================] - 180s 749ms/step - loss: 3.8812 - accuracy: 0.3084\n",
      "Time used for epoch 4: 2 m 59 s\n",
      "Evaluating on dev set after epoch 4/10:\n",
      "30/30 [==============================] - 1s 23ms/step\n",
      "30/30 [==============================] - 0s 6ms/step\n",
      "30/30 [==============================] - 0s 7ms/step\n",
      "30/30 [==============================] - 0s 7ms/step\n",
      "30/30 [==============================] - 0s 7ms/step\n",
      "30/30 [==============================] - 0s 7ms/step\n",
      "30/30 [==============================] - 0s 7ms/step\n",
      "30/30 [==============================] - 0s 6ms/step\n",
      "30/30 [==============================] - 0s 6ms/step\n",
      "30/30 [==============================] - 0s 7ms/step\n",
      "30/30 [==============================] - 0s 7ms/step\n",
      "30/30 [==============================] - 0s 6ms/step\n",
      "30/30 [==============================] - 0s 7ms/step\n",
      "30/30 [==============================] - 0s 7ms/step\n",
      "30/30 [==============================] - 0s 7ms/step\n",
      "30/30 [==============================] - 0s 7ms/step\n",
      "30/30 [==============================] - 0s 7ms/step\n",
      "30/30 [==============================] - 0s 7ms/step\n",
      "30/30 [==============================] - 0s 7ms/step\n",
      "30/30 [==============================] - 0s 7ms/step\n",
      "30/30 [==============================] - 0s 7ms/step\n",
      "30/30 [==============================] - 0s 7ms/step\n",
      "30/30 [==============================] - 0s 7ms/step\n",
      "30/30 [==============================] - 0s 7ms/step\n",
      "30/30 [==============================] - 0s 7ms/step\n",
      "30/30 [==============================] - 0s 7ms/step\n",
      "30/30 [==============================] - 0s 7ms/step\n",
      "30/30 [==============================] - 0s 7ms/step\n",
      "30/30 [==============================] - 0s 7ms/step\n",
      "30/30 [==============================] - 0s 7ms/step\n",
      "30/30 [==============================] - 0s 7ms/step\n"
     ]
    },
    {
     "name": "stderr",
     "output_type": "stream",
     "text": [
      "WARNING:sacrebleu:That's 100 lines that end in a tokenized period ('.')\n",
      "WARNING:sacrebleu:It looks like you forgot to detokenize your test data, which may hurt your score.\n",
      "WARNING:sacrebleu:If you insist your data is detokenized, or don't care, you can suppress this message with the `force` parameter.\n"
     ]
    },
    {
     "name": "stdout",
     "output_type": "stream",
     "text": [
      "Model BLEU score: 2.99\n",
      "Time used for evaluate on dev set: 0 m 12 s\n",
      "Starting training epoch 5/10\n",
      "240/240 [==============================] - 180s 749ms/step - loss: 3.7195 - accuracy: 0.3294\n",
      "Time used for epoch 5: 2 m 59 s\n",
      "Evaluating on dev set after epoch 5/10:\n",
      "30/30 [==============================] - 1s 23ms/step\n",
      "30/30 [==============================] - 0s 6ms/step\n",
      "30/30 [==============================] - 0s 6ms/step\n",
      "30/30 [==============================] - 0s 7ms/step\n",
      "30/30 [==============================] - 0s 7ms/step\n",
      "30/30 [==============================] - 0s 7ms/step\n",
      "30/30 [==============================] - 0s 7ms/step\n",
      "30/30 [==============================] - 0s 7ms/step\n",
      "30/30 [==============================] - 0s 7ms/step\n",
      "30/30 [==============================] - 0s 6ms/step\n",
      "30/30 [==============================] - 0s 7ms/step\n",
      "30/30 [==============================] - 0s 6ms/step\n",
      "30/30 [==============================] - 0s 7ms/step\n",
      "30/30 [==============================] - 0s 6ms/step\n",
      "30/30 [==============================] - 0s 7ms/step\n",
      "30/30 [==============================] - 0s 7ms/step\n",
      "30/30 [==============================] - 0s 7ms/step\n",
      "30/30 [==============================] - 0s 7ms/step\n",
      "30/30 [==============================] - 0s 7ms/step\n",
      "30/30 [==============================] - 0s 7ms/step\n",
      "30/30 [==============================] - 0s 7ms/step\n",
      "30/30 [==============================] - 0s 6ms/step\n",
      "30/30 [==============================] - 0s 6ms/step\n",
      "30/30 [==============================] - 0s 7ms/step\n",
      "30/30 [==============================] - 0s 7ms/step\n",
      "30/30 [==============================] - 0s 7ms/step\n",
      "30/30 [==============================] - 0s 7ms/step\n",
      "30/30 [==============================] - 0s 7ms/step\n",
      "30/30 [==============================] - 0s 7ms/step\n",
      "30/30 [==============================] - 0s 7ms/step\n",
      "30/30 [==============================] - 0s 7ms/step\n"
     ]
    },
    {
     "name": "stderr",
     "output_type": "stream",
     "text": [
      "WARNING:sacrebleu:That's 100 lines that end in a tokenized period ('.')\n",
      "WARNING:sacrebleu:It looks like you forgot to detokenize your test data, which may hurt your score.\n",
      "WARNING:sacrebleu:If you insist your data is detokenized, or don't care, you can suppress this message with the `force` parameter.\n"
     ]
    },
    {
     "name": "stdout",
     "output_type": "stream",
     "text": [
      "Model BLEU score: 4.15\n",
      "Time used for evaluate on dev set: 0 m 12 s\n",
      "Starting training epoch 6/10\n",
      "240/240 [==============================] - 182s 759ms/step - loss: 3.5704 - accuracy: 0.3518\n",
      "Time used for epoch 6: 3 m 2 s\n",
      "Evaluating on dev set after epoch 6/10:\n",
      "30/30 [==============================] - 1s 25ms/step\n",
      "30/30 [==============================] - 0s 6ms/step\n",
      "30/30 [==============================] - 0s 6ms/step\n",
      "30/30 [==============================] - 0s 9ms/step\n",
      "30/30 [==============================] - 0s 6ms/step\n",
      "30/30 [==============================] - 0s 7ms/step\n",
      "30/30 [==============================] - 0s 7ms/step\n",
      "30/30 [==============================] - 0s 7ms/step\n",
      "30/30 [==============================] - 0s 7ms/step\n",
      "30/30 [==============================] - 0s 7ms/step\n",
      "30/30 [==============================] - 0s 7ms/step\n",
      "30/30 [==============================] - 0s 7ms/step\n",
      "30/30 [==============================] - 0s 7ms/step\n",
      "30/30 [==============================] - 0s 7ms/step\n",
      "30/30 [==============================] - 0s 7ms/step\n",
      "30/30 [==============================] - 0s 6ms/step\n",
      "30/30 [==============================] - 0s 7ms/step\n",
      "30/30 [==============================] - 0s 7ms/step\n",
      "30/30 [==============================] - 0s 7ms/step\n",
      "30/30 [==============================] - 0s 7ms/step\n",
      "30/30 [==============================] - 0s 7ms/step\n",
      "30/30 [==============================] - 0s 7ms/step\n",
      "30/30 [==============================] - 0s 7ms/step\n",
      "30/30 [==============================] - 0s 7ms/step\n",
      "30/30 [==============================] - 0s 7ms/step\n",
      "30/30 [==============================] - 0s 7ms/step\n",
      "30/30 [==============================] - 0s 7ms/step\n",
      "30/30 [==============================] - 0s 5ms/step\n",
      "30/30 [==============================] - 0s 7ms/step\n",
      "30/30 [==============================] - 0s 7ms/step\n",
      "30/30 [==============================] - 0s 7ms/step\n"
     ]
    },
    {
     "name": "stderr",
     "output_type": "stream",
     "text": [
      "WARNING:sacrebleu:That's 100 lines that end in a tokenized period ('.')\n",
      "WARNING:sacrebleu:It looks like you forgot to detokenize your test data, which may hurt your score.\n",
      "WARNING:sacrebleu:If you insist your data is detokenized, or don't care, you can suppress this message with the `force` parameter.\n"
     ]
    },
    {
     "name": "stdout",
     "output_type": "stream",
     "text": [
      "Model BLEU score: 4.81\n",
      "Time used for evaluate on dev set: 0 m 13 s\n",
      "Starting training epoch 7/10\n",
      "240/240 [==============================] - 181s 755ms/step - loss: 3.4377 - accuracy: 0.3695\n",
      "Time used for epoch 7: 3 m 1 s\n",
      "Evaluating on dev set after epoch 7/10:\n",
      "30/30 [==============================] - 1s 22ms/step\n",
      "30/30 [==============================] - 0s 6ms/step\n",
      "30/30 [==============================] - 0s 7ms/step\n",
      "30/30 [==============================] - 0s 7ms/step\n",
      "30/30 [==============================] - 0s 6ms/step\n",
      "30/30 [==============================] - 0s 6ms/step\n",
      "30/30 [==============================] - 0s 7ms/step\n",
      "30/30 [==============================] - 0s 7ms/step\n",
      "30/30 [==============================] - 0s 7ms/step\n",
      "30/30 [==============================] - 0s 6ms/step\n",
      "30/30 [==============================] - 0s 7ms/step\n",
      "30/30 [==============================] - 0s 7ms/step\n",
      "30/30 [==============================] - 0s 7ms/step\n",
      "30/30 [==============================] - 0s 7ms/step\n",
      "30/30 [==============================] - 0s 7ms/step\n",
      "30/30 [==============================] - 0s 7ms/step\n",
      "30/30 [==============================] - 0s 7ms/step\n",
      "30/30 [==============================] - 0s 7ms/step\n",
      "30/30 [==============================] - 0s 7ms/step\n",
      "30/30 [==============================] - 0s 7ms/step\n",
      "30/30 [==============================] - 0s 7ms/step\n",
      "30/30 [==============================] - 0s 7ms/step\n",
      "30/30 [==============================] - 0s 7ms/step\n",
      "30/30 [==============================] - 0s 7ms/step\n",
      "30/30 [==============================] - 0s 7ms/step\n",
      "30/30 [==============================] - 0s 6ms/step\n",
      "30/30 [==============================] - 0s 7ms/step\n",
      "30/30 [==============================] - 0s 7ms/step\n",
      "30/30 [==============================] - 0s 7ms/step\n",
      "30/30 [==============================] - 0s 7ms/step\n",
      "30/30 [==============================] - 0s 7ms/step\n"
     ]
    },
    {
     "name": "stderr",
     "output_type": "stream",
     "text": [
      "WARNING:sacrebleu:That's 100 lines that end in a tokenized period ('.')\n",
      "WARNING:sacrebleu:It looks like you forgot to detokenize your test data, which may hurt your score.\n",
      "WARNING:sacrebleu:If you insist your data is detokenized, or don't care, you can suppress this message with the `force` parameter.\n"
     ]
    },
    {
     "name": "stdout",
     "output_type": "stream",
     "text": [
      "Model BLEU score: 5.91\n",
      "Time used for evaluate on dev set: 0 m 13 s\n",
      "Starting training epoch 8/10\n",
      "240/240 [==============================] - 180s 749ms/step - loss: 3.3083 - accuracy: 0.3847\n",
      "Time used for epoch 8: 2 m 59 s\n",
      "Evaluating on dev set after epoch 8/10:\n",
      "30/30 [==============================] - 1s 22ms/step\n",
      "30/30 [==============================] - 0s 6ms/step\n",
      "30/30 [==============================] - 0s 6ms/step\n",
      "30/30 [==============================] - 0s 6ms/step\n",
      "30/30 [==============================] - 0s 9ms/step\n",
      "30/30 [==============================] - 0s 9ms/step\n",
      "30/30 [==============================] - 0s 9ms/step\n",
      "30/30 [==============================] - 0s 8ms/step\n",
      "30/30 [==============================] - 0s 6ms/step\n",
      "30/30 [==============================] - 0s 7ms/step\n",
      "30/30 [==============================] - 0s 7ms/step\n",
      "30/30 [==============================] - 0s 6ms/step\n",
      "30/30 [==============================] - 0s 7ms/step\n",
      "30/30 [==============================] - 0s 7ms/step\n",
      "30/30 [==============================] - 0s 7ms/step\n",
      "30/30 [==============================] - 0s 7ms/step\n",
      "30/30 [==============================] - 0s 7ms/step\n",
      "30/30 [==============================] - 0s 7ms/step\n",
      "30/30 [==============================] - 0s 7ms/step\n",
      "30/30 [==============================] - 0s 9ms/step\n",
      "30/30 [==============================] - 0s 7ms/step\n",
      "30/30 [==============================] - 0s 7ms/step\n",
      "30/30 [==============================] - 0s 7ms/step\n",
      "30/30 [==============================] - 0s 7ms/step\n",
      "30/30 [==============================] - 0s 7ms/step\n",
      "30/30 [==============================] - 0s 7ms/step\n",
      "30/30 [==============================] - 0s 7ms/step\n",
      "30/30 [==============================] - 0s 7ms/step\n",
      "30/30 [==============================] - 0s 7ms/step\n",
      "30/30 [==============================] - 0s 7ms/step\n",
      "30/30 [==============================] - 0s 7ms/step\n"
     ]
    },
    {
     "name": "stderr",
     "output_type": "stream",
     "text": [
      "WARNING:sacrebleu:That's 100 lines that end in a tokenized period ('.')\n",
      "WARNING:sacrebleu:It looks like you forgot to detokenize your test data, which may hurt your score.\n",
      "WARNING:sacrebleu:If you insist your data is detokenized, or don't care, you can suppress this message with the `force` parameter.\n"
     ]
    },
    {
     "name": "stdout",
     "output_type": "stream",
     "text": [
      "Model BLEU score: 6.82\n",
      "Time used for evaluate on dev set: 0 m 13 s\n",
      "Starting training epoch 9/10\n",
      "240/240 [==============================] - 181s 752ms/step - loss: 3.1914 - accuracy: 0.3992\n",
      "Time used for epoch 9: 3 m 0 s\n",
      "Evaluating on dev set after epoch 9/10:\n",
      "30/30 [==============================] - 1s 22ms/step\n",
      "30/30 [==============================] - 0s 7ms/step\n",
      "30/30 [==============================] - 0s 7ms/step\n",
      "30/30 [==============================] - 0s 7ms/step\n",
      "30/30 [==============================] - 0s 9ms/step\n",
      "30/30 [==============================] - 0s 8ms/step\n",
      "30/30 [==============================] - 0s 6ms/step\n",
      "30/30 [==============================] - 0s 7ms/step\n",
      "30/30 [==============================] - 0s 7ms/step\n",
      "30/30 [==============================] - 0s 7ms/step\n",
      "30/30 [==============================] - 0s 6ms/step\n",
      "30/30 [==============================] - 0s 8ms/step\n",
      "30/30 [==============================] - 0s 9ms/step\n",
      "30/30 [==============================] - 0s 9ms/step\n",
      "30/30 [==============================] - 0s 6ms/step\n",
      "30/30 [==============================] - 0s 6ms/step\n",
      "30/30 [==============================] - 0s 7ms/step\n",
      "30/30 [==============================] - 0s 7ms/step\n",
      "30/30 [==============================] - 0s 7ms/step\n",
      "30/30 [==============================] - 0s 7ms/step\n",
      "30/30 [==============================] - 0s 7ms/step\n",
      "30/30 [==============================] - 0s 7ms/step\n",
      "30/30 [==============================] - 0s 7ms/step\n",
      "30/30 [==============================] - 0s 7ms/step\n",
      "30/30 [==============================] - 0s 7ms/step\n",
      "30/30 [==============================] - 0s 7ms/step\n",
      "30/30 [==============================] - 0s 7ms/step\n",
      "30/30 [==============================] - 0s 7ms/step\n",
      "30/30 [==============================] - 0s 7ms/step\n",
      "30/30 [==============================] - 0s 7ms/step\n",
      "30/30 [==============================] - 0s 7ms/step\n"
     ]
    },
    {
     "name": "stderr",
     "output_type": "stream",
     "text": [
      "WARNING:sacrebleu:That's 100 lines that end in a tokenized period ('.')\n",
      "WARNING:sacrebleu:It looks like you forgot to detokenize your test data, which may hurt your score.\n",
      "WARNING:sacrebleu:If you insist your data is detokenized, or don't care, you can suppress this message with the `force` parameter.\n"
     ]
    },
    {
     "name": "stdout",
     "output_type": "stream",
     "text": [
      "Model BLEU score: 7.52\n",
      "Time used for evaluate on dev set: 0 m 13 s\n",
      "Starting training epoch 10/10\n",
      "240/240 [==============================] - 186s 775ms/step - loss: 3.0768 - accuracy: 0.4135\n",
      "Time used for epoch 10: 3 m 5 s\n",
      "Evaluating on dev set after epoch 10/10:\n",
      "30/30 [==============================] - 1s 22ms/step\n",
      "30/30 [==============================] - 0s 5ms/step\n",
      "30/30 [==============================] - 0s 7ms/step\n",
      "30/30 [==============================] - 0s 7ms/step\n",
      "30/30 [==============================] - 0s 7ms/step\n",
      "30/30 [==============================] - 0s 6ms/step\n",
      "30/30 [==============================] - 0s 6ms/step\n",
      "30/30 [==============================] - 0s 6ms/step\n",
      "30/30 [==============================] - 0s 7ms/step\n",
      "30/30 [==============================] - 0s 7ms/step\n",
      "30/30 [==============================] - 0s 7ms/step\n",
      "30/30 [==============================] - 0s 7ms/step\n",
      "30/30 [==============================] - 0s 7ms/step\n",
      "30/30 [==============================] - 0s 7ms/step\n",
      "30/30 [==============================] - 0s 6ms/step\n",
      "30/30 [==============================] - 0s 6ms/step\n",
      "30/30 [==============================] - 0s 6ms/step\n",
      "30/30 [==============================] - 0s 7ms/step\n",
      "30/30 [==============================] - 0s 7ms/step\n",
      "30/30 [==============================] - 0s 7ms/step\n",
      "30/30 [==============================] - 0s 7ms/step\n",
      "30/30 [==============================] - 0s 7ms/step\n",
      "30/30 [==============================] - 0s 10ms/step\n",
      "30/30 [==============================] - 0s 6ms/step\n",
      "30/30 [==============================] - 0s 7ms/step\n",
      "30/30 [==============================] - 0s 7ms/step\n",
      "30/30 [==============================] - 0s 7ms/step\n",
      "30/30 [==============================] - 0s 7ms/step\n",
      "30/30 [==============================] - 0s 7ms/step\n",
      "30/30 [==============================] - 0s 7ms/step\n",
      "30/30 [==============================] - 0s 7ms/step\n"
     ]
    },
    {
     "name": "stderr",
     "output_type": "stream",
     "text": [
      "WARNING:sacrebleu:That's 100 lines that end in a tokenized period ('.')\n",
      "WARNING:sacrebleu:It looks like you forgot to detokenize your test data, which may hurt your score.\n",
      "WARNING:sacrebleu:If you insist your data is detokenized, or don't care, you can suppress this message with the `force` parameter.\n"
     ]
    },
    {
     "name": "stdout",
     "output_type": "stream",
     "text": [
      "Model BLEU score: 8.06\n",
      "Time used for evaluate on dev set: 0 m 12 s\n",
      "Training finished!\n",
      "Time used for training: 32 m 25 s\n",
      "Evaluating on test set:\n",
      "30/30 [==============================] - 1s 23ms/step\n",
      "30/30 [==============================] - 0s 8ms/step\n",
      "30/30 [==============================] - 0s 6ms/step\n",
      "30/30 [==============================] - 0s 7ms/step\n",
      "30/30 [==============================] - 0s 7ms/step\n",
      "30/30 [==============================] - 0s 7ms/step\n",
      "30/30 [==============================] - 0s 7ms/step\n",
      "30/30 [==============================] - 0s 7ms/step\n",
      "30/30 [==============================] - 0s 7ms/step\n",
      "30/30 [==============================] - 0s 7ms/step\n",
      "30/30 [==============================] - 0s 6ms/step\n",
      "30/30 [==============================] - 0s 7ms/step\n",
      "30/30 [==============================] - 0s 7ms/step\n",
      "30/30 [==============================] - 0s 7ms/step\n",
      "30/30 [==============================] - 0s 7ms/step\n",
      "30/30 [==============================] - 0s 7ms/step\n",
      "30/30 [==============================] - 0s 7ms/step\n",
      "30/30 [==============================] - 0s 7ms/step\n",
      "30/30 [==============================] - 0s 7ms/step\n",
      "30/30 [==============================] - 0s 9ms/step\n",
      "30/30 [==============================] - 0s 7ms/step\n",
      "30/30 [==============================] - 0s 7ms/step\n",
      "30/30 [==============================] - 0s 7ms/step\n",
      "30/30 [==============================] - 0s 7ms/step\n",
      "30/30 [==============================] - 0s 7ms/step\n",
      "30/30 [==============================] - 0s 7ms/step\n",
      "30/30 [==============================] - 0s 7ms/step\n",
      "30/30 [==============================] - 0s 6ms/step\n",
      "30/30 [==============================] - 0s 7ms/step\n",
      "30/30 [==============================] - 0s 7ms/step\n",
      "30/30 [==============================] - 0s 7ms/step\n"
     ]
    },
    {
     "name": "stderr",
     "output_type": "stream",
     "text": [
      "WARNING:sacrebleu:That's 100 lines that end in a tokenized period ('.')\n",
      "WARNING:sacrebleu:It looks like you forgot to detokenize your test data, which may hurt your score.\n",
      "WARNING:sacrebleu:If you insist your data is detokenized, or don't care, you can suppress this message with the `force` parameter.\n"
     ]
    },
    {
     "name": "stdout",
     "output_type": "stream",
     "text": [
      "Model BLEU score: 8.56\n",
      "Time used for evaluate on test set: 0 m 12 s\n"
     ]
    }
   ],
   "source": [
    "nmt.main(SOURCE_PATH, TARGET_PATH, use_attention=True)"
   ]
  },
  {
   "cell_type": "code",
   "execution_count": null,
   "metadata": {
    "executionInfo": {
     "elapsed": 12,
     "status": "ok",
     "timestamp": 1705743608372,
     "user": {
      "displayName": "julia ive",
      "userId": "11396706016758891847"
     },
     "user_tz": 0
    },
    "id": "oUOUAjLYpCMk"
   },
   "outputs": [],
   "source": []
  }
 ],
 "metadata": {
  "accelerator": "GPU",
  "colab": {
   "provenance": [
    {
     "file_id": "1T0TcxMNRsCYE-sRo72iZkjDcoKaE6vsT",
     "timestamp": 1675984528696
    }
   ]
  },
  "kernelspec": {
   "display_name": "Python 3 (ipykernel)",
   "language": "python",
   "name": "python3"
  },
  "language_info": {
   "codemirror_mode": {
    "name": "ipython",
    "version": 3
   },
   "file_extension": ".py",
   "mimetype": "text/x-python",
   "name": "python",
   "nbconvert_exporter": "python",
   "pygments_lexer": "ipython3",
   "version": "3.10.13"
  }
 },
 "nbformat": 4,
 "nbformat_minor": 4
}
