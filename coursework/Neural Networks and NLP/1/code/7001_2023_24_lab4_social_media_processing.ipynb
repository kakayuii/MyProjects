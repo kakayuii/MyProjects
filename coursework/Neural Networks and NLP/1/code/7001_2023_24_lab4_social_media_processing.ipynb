{
 "cells": [
  {
   "cell_type": "code",
   "execution_count": null,
   "metadata": {
    "colab": {
     "base_uri": "https://localhost:8080/"
    },
    "id": "PZTDYxSjbHlg",
    "outputId": "35ea4b84-f29a-4dca-8c06-08eb5ed2040e"
   },
   "outputs": [],
   "source": [
    "!!pip install tensorflow_probability==0.14"
   ]
  },
  {
   "cell_type": "markdown",
   "metadata": {
    "id": "2TvyemfDlDmu"
   },
   "source": [
    "# Lab 4 - Social Media Processing\n",
    "\n",
    "This notebook shows how to use HuggingFace's package to import and train regression models to assess humor rating in social media posts in English (SemEval2021: HaHackathon: Detecting and Rating Humor and Offense https://competitions.codalab.org/competitions/27446, **Task-1b**).\n",
    "\n",
    "Detection of humour, especially in social media posts, poses a linguistic challenge to NLP, due to the noise, figurative language, contextuality and subjectivity. You will hence try different methods to address those challenges such as preprocessing, data augmentation, ensembling and multi-task learning.\n",
    "\n",
    "We will download and unzip the data from here: http://smash.inf.ed.ac.uk/hahackathon_data/hahackathon_data.zip.\n",
    "\n",
    "\n",
    "We recommend you to do this lab on a Colab TPU provided by Google."
   ]
  },
  {
   "cell_type": "code",
   "execution_count": null,
   "metadata": {
    "colab": {
     "base_uri": "https://localhost:8080/"
    },
    "id": "Vkzoj2bRu3Ky",
    "outputId": "0b37fc57-38ef-4a51-b860-aafc2263359b"
   },
   "outputs": [],
   "source": [
    "!wget http://smash.inf.ed.ac.uk/hahackathon_data/hahackathon_data.zip\n",
    "!unzip '/content/hahackathon_data.zip'"
   ]
  },
  {
   "cell_type": "markdown",
   "metadata": {
    "id": "aa3hj8h05WZL"
   },
   "source": [
    "First, we need to install Hugging Face [transformers](https://huggingface.co/transformers/index.html) and [Sentence piece Tokenizers](https://github.com/google/sentencepiece), as well as some helper libraries, with the following commands."
   ]
  },
  {
   "cell_type": "code",
   "execution_count": null,
   "metadata": {
    "colab": {
     "base_uri": "https://localhost:8080/"
    },
    "id": "modern-olympus",
    "outputId": "267f6c77-c723-41b0-d713-d69f60fffddd"
   },
   "outputs": [],
   "source": [
    "!pip install -q transformers\n",
    "!pip install -q sentencepiece\n",
    "!pip install -q  ipywidgets\n",
    "!jupyter nbextension enable --py widgetsnbextension"
   ]
  },
  {
   "cell_type": "code",
   "execution_count": null,
   "metadata": {
    "id": "85fRpTxP-W8L"
   },
   "outputs": [],
   "source": [
    "import keras\n",
    "import numpy as np\n",
    "import random\n",
    "import matplotlib.pyplot as plt\n",
    "\n",
    "from keras.layers import Dense\n",
    "from keras.layers import Input, GlobalAveragePooling1D\n",
    "from keras.models import Model\n",
    "from keras import backend as K"
   ]
  },
  {
   "cell_type": "markdown",
   "metadata": {
    "id": "yLbYtQNndziN"
   },
   "source": [
    "We define the fix seed method to be able to introduce variety into ensembling models."
   ]
  },
  {
   "cell_type": "code",
   "execution_count": null,
   "metadata": {
    "id": "CedBVCKMyq9d"
   },
   "outputs": [],
   "source": [
    "def set_random_seed(seed=123):\n",
    "  random.seed(seed)\n",
    "  np.random.seed(seed)\n",
    "\n",
    "set_random_seed()"
   ]
  },
  {
   "cell_type": "markdown",
   "metadata": {
    "id": "Zj_jHh2-ggC3"
   },
   "source": [
    "## Regression with BERT\n",
    "\n",
    "We will use the [DistilBert](https://arxiv.org/abs/1910.01108v4) model and its Tokeniser following the preprocessing code from Lab 6."
   ]
  },
  {
   "cell_type": "code",
   "execution_count": null,
   "metadata": {
    "colab": {
     "base_uri": "https://localhost:8080/",
     "height": 272,
     "referenced_widgets": [
      "d6af33d35ec54142afe656d795565bb0",
      "23ba17cc6fad4c8ca1a95a55d58bb9e7",
      "652f5302ee20454ba541a604457ba287",
      "8c2dac873694490e99648e2e3d59d850",
      "7e3de6eb669841e9b42228ea5d465931",
      "659181c501a646e39cbb0f8b27624b4f",
      "e73f58ec796a4cdf8549ac8f3d88f4c9",
      "ec75548e2fbe491a81489df9dcd77a57",
      "6acf0f134e114530b5bc936309dd551c",
      "454108daf38a4886bcb179203ab3eb87",
      "47b587c4f863414ea470aca938a7c97b",
      "733327a4700b479ead37cf961d11c106",
      "9b8c05277ef54e61afe774c10bb535a3",
      "e87d1d0c494f47fea671f343416813e2",
      "e54431e2825646da82ad937acbfae46d",
      "3da7d228c0c94d04a1f4dd5af2cd860d",
      "33ee8e82261d4dca89b58b9dc1ff4f80",
      "06f0bf115f9149509c02453f466bbe65",
      "e39e4ab23b784ae0bd39ab8715c5859a",
      "896d16c217bc42dda93cec34b78f742c",
      "4ef68afcaaa44294801023e11f40426b",
      "f42513586a1c4e8c80c24b6f8a8a211d",
      "60bc82b0a7824c278074942f1a12a05f",
      "8b649f56380a498286952714251e7682",
      "a37e6bce6859487096e9f48bc20054cc",
      "da4d71e096db49e0915de2c5adf33546",
      "0e6f2aecec9443b89616ae4c7f55e881",
      "249d4f145f8a413f9547b102f73dc48d",
      "0f49e5f6d7544a9c8367200a7acbdf40",
      "71b5935c69934928b0caad9c7977c40c",
      "b09088b2f24e454dadb210880649d787",
      "4baedbbe0410436caf1c270b64e4913d",
      "e0d0bdf753a34edbaa91400cc046f8f8",
      "ec6e81780a344d1f920291964c3038ec",
      "bf60ba6405ed4279a809ce28daa6d1ef",
      "2df89f7be0914916a7891e18e2dc65cc",
      "d736598736d6428b9f0cffc51078cd29",
      "312967a2a10041748a7a5fc2b0fc6012",
      "fd066f9d6b60420eb5fbbb2b645c63c3",
      "42a037cbabf144e299fc744abf72bf46",
      "2aa37834f55a483a90a33c135ed26fc4",
      "3bd57eef7b824d38abc49d919569bac5",
      "61deffda347e4e97a5a750f2c8228143",
      "f9b96f6474bf4aad8cf17562edf9731b"
     ]
    },
    "id": "ySbyGAsF-tNH",
    "outputId": "82987c66-b7e5-4094-90e9-ed400bc1e32a"
   },
   "outputs": [],
   "source": [
    "from transformers import DistilBertTokenizer\n",
    "import tqdm\n",
    "\n",
    "# we will pad to 128 subword tokens\n",
    "PAD_LENGTH = 128\n",
    "bert = 'distilbert-base-uncased'\n",
    "BATCH_SIZE = 512\n",
    "EPOCHS =10\n",
    "\n",
    "# Defining DistilBERT tokenizer\n",
    "tokenizer = DistilBertTokenizer.from_pretrained(bert, do_lower_case=True, add_special_tokens=True,\n",
    "                                                max_length=PAD_LENGTH, padding='max_length', truncation=True)\n",
    "\n",
    "def tokenize(sentences, tokenizer, pad_length=PAD_LENGTH):\n",
    "    if type(sentences) == str:\n",
    "        inputs = tokenizer.encode_plus(sentences, add_special_tokens=True, max_length=pad_length, padding='max_length', truncation=True,\n",
    "                                             return_attention_mask=True, return_token_type_ids=True)\n",
    "        return np.asarray(inputs['input_ids'], dtype='int32'), np.asarray(inputs['attention_mask'], dtype='int32'), np.asarray(inputs['token_type_ids'], dtype='int32')\n",
    "    input_ids, input_masks, input_segments = [],[],[]\n",
    "    for sentence in sentences:\n",
    "        inputs = tokenizer.encode_plus(sentence, add_special_tokens=True, max_length=pad_length, padding='max_length', truncation=True,\n",
    "                                             return_attention_mask=True, return_token_type_ids=True)\n",
    "        input_ids.append(inputs['input_ids'])\n",
    "        input_masks.append(inputs['attention_mask'])\n",
    "        input_segments.append(inputs['token_type_ids'])\n",
    "\n",
    "    return (np.asarray(input_ids, dtype='int32'), np.asarray(input_masks, dtype='int32'), np.asarray(input_segments, dtype='int32'))\n"
   ]
  },
  {
   "cell_type": "markdown",
   "metadata": {
    "id": "WaEJpImWjBdB"
   },
   "source": [
    "Let's read the data using Pandas."
   ]
  },
  {
   "cell_type": "code",
   "execution_count": null,
   "metadata": {
    "id": "7kHK7eTIBAbk"
   },
   "outputs": [],
   "source": [
    "import pandas as pd\n",
    "\n",
    "# Load data with only the necessary columns\n",
    "train_df = pd.read_csv('hahackathon data/train.csv', usecols = ['text','humor_rating','offense_rating'])\n",
    "test_df = pd.read_csv('hahackathon data/test.csv', usecols = ['text','humor_rating','offense_rating'])\n",
    "\n",
    "# Drop the Nans\n",
    "train_df = train_df.dropna()\n",
    "test_df = test_df.dropna()"
   ]
  },
  {
   "cell_type": "markdown",
   "metadata": {
    "id": "x54kpiRejuQd"
   },
   "source": [
    "Let's check a couple of examples."
   ]
  },
  {
   "cell_type": "code",
   "execution_count": null,
   "metadata": {
    "colab": {
     "base_uri": "https://localhost:8080/",
     "height": 424
    },
    "id": "GRSqyozoERV7",
    "outputId": "6520425c-57e1-4792-c5b8-1ddf7b789661"
   },
   "outputs": [],
   "source": [
    "train_df"
   ]
  },
  {
   "cell_type": "code",
   "execution_count": null,
   "metadata": {
    "id": "AO-g6KuyBAWG"
   },
   "outputs": [],
   "source": [
    "# Get the post text\n",
    "train_examples_list = train_df['text'].tolist()\n",
    "test_examples_list = test_df['text'].tolist()\n",
    "\n",
    "# Get the humour rating for the regression task (we normalise, the values are between 0 and 5)\n",
    "train_targets_list = (train_df['humor_rating']/5).tolist()\n",
    "test_targets_list = (test_df['humor_rating']/5).tolist()"
   ]
  },
  {
   "cell_type": "code",
   "execution_count": null,
   "metadata": {
    "id": "DTg5t7uvtdkd"
   },
   "outputs": [],
   "source": [
    "def get_bert_inputs(examples_list, targets):\n",
    "  input_ids=list()\n",
    "  attention_masks=list()\n",
    "\n",
    "  bert_inp=tokenize(examples_list, tokenizer)\n",
    "  input_ids = bert_inp[0]\n",
    "  attention_masks = bert_inp[1]\n",
    "\n",
    "  targets = np.array(targets)\n",
    "\n",
    "  return input_ids, attention_masks, targets\n",
    "\n",
    "train_input_ids, train_attention_masks, train_targets = get_bert_inputs(train_examples_list, train_targets_list)\n",
    "test_input_ids, test_attention_masks, test_targets = get_bert_inputs(test_examples_list, test_targets_list)\n"
   ]
  },
  {
   "cell_type": "markdown",
   "metadata": {
    "id": "7oNjOY4rl6WR"
   },
   "source": [
    "**Task 1: Build a neural bag of words model using DistilBERT embeddings and the sigmoid activation on the output layer for the regression task.**\n",
    "\n",
    "Investigate its performance using the Mean Squared Error (MSE) metric. We will use this metric as the loss function as well. We will also use the Adam optimiser with `learning_rate=2e-5`. This code is already provided.\n",
    "\n",
    "*Hint*: You can reuse the code from Lab 6 on Transfer Learning (Model 2)."
   ]
  },
  {
   "cell_type": "code",
   "execution_count": null,
   "metadata": {
    "colab": {
     "base_uri": "https://localhost:8080/",
     "height": 1000,
     "referenced_widgets": [
      "b3098c8020f440bd80daa7cbd09309d6",
      "fb46a16371874b8c83b86d346f48b32a",
      "6746fd4587dd4bc6be97f85882d8546e",
      "75e1e47f9633458cb06b1ee302a19739",
      "89fffb5ed50f45e8b08225a71f812b6a",
      "61a44516610241cebf7920e3db698ab7",
      "7a606859406b4f42a2729b268dea524b",
      "8ef81d49bd3b409dbccbdbd67a934312",
      "958d4234c7f646a2b5b10ca637c18c92",
      "ddabdb9957d44660bc63a0c7ee5cf9b2",
      "e134690956ec44bdaf5fbf3af829c956"
     ]
    },
    "id": "ALw1nMjNKTgn",
    "outputId": "69974c76-bc63-4f3d-8e09-fcd4682127c2"
   },
   "outputs": [],
   "source": [
    "from transformers import TFDistilBertModel, DistilBertConfig\n",
    "import tensorflow as tf\n",
    "\n",
    "\n",
    "class GlobalAveragePooling1DMasked(GlobalAveragePooling1D):\n",
    "    def call(self, x, mask=None):\n",
    "        if mask != None:\n",
    "            return K.sum(x, axis=1) / K.sum(mask, axis=1)\n",
    "        else:\n",
    "            return super().call(x)\n",
    "\n",
    "def get_BERT_layer():\n",
    "  distil_bert = 'distilbert-base-uncased'\n",
    "  config = DistilBertConfig(dropout=0.2, attention_dropout=0.2)\n",
    "  config.output_hidden_states = False\n",
    "\n",
    "  return TFDistilBertModel.from_pretrained(distil_bert, config = config)\n",
    "\n",
    "def create_regression_BoW_bert():\n",
    "  # Your code goes here\n",
    "  input_ids = Input(shape=(128,), dtype=tf.int32, name='input_token')\n",
    "  input_masks_ids = Input(shape=(128,), dtype=tf.int32, name='masked_token')\n",
    "\n",
    "  bert_embeddings = get_BERT_layer()\n",
    "  embedded_sent = bert_embeddings(input_ids, attention_mask=input_masks_ids)[0]\n",
    "\n",
    "  pooled_sent = GlobalAveragePooling1DMasked()(embedded_sent)\n",
    "\n",
    "  hidden_output= Dense(16, activation='sigmoid', kernel_initializer='glorot_uniform')(pooled_sent)\n",
    "  out_reg= Dense(1, activation='linear', kernel_initializer='glorot_uniform')(hidden_output)\n",
    "\n",
    "  return tf.keras.Model(inputs=[input_ids, input_masks_ids], outputs=[out_reg])\n",
    "\n",
    "def get_model(use_tpu=True, use_gpu=False, learning_rate=2e-5):\n",
    "  if use_tpu:\n",
    "    # Create distribution strategy\n",
    "    tpu = tf.distribute.cluster_resolver.TPUClusterResolver()\n",
    "    tf.config.experimental_connect_to_cluster(tpu)\n",
    "    tf.tpu.experimental.initialize_tpu_system(tpu)\n",
    "    strategy = tf.distribute.TPUStrategy(tpu)\n",
    "\n",
    "    # Create model on TPU:\n",
    "    with strategy.scope():\n",
    "      model = create_regression_BoW_bert()\n",
    "      optimizer = tf.keras.optimizers.Adam(learning_rate=learning_rate)\n",
    "      model.compile(optimizer=optimizer, loss='mse', metrics=[tf.keras.losses.MeanSquaredError()])\n",
    "  elif use_gpu:\n",
    "    device_name = tf.test.gpu_device_name()\n",
    "    print(device_name)\n",
    "    with tf.device('/device:GPU:0'):\n",
    "      model = create_regression_BoW_bert()\n",
    "      optimizer = tf.keras.optimizers.Adam(learning_rate=learning_rate)\n",
    "      model.compile(optimizer=optimizer, loss='mse', metrics=[tf.keras.losses.MeanSquaredError()])\n",
    "  else:\n",
    "    model = create_regression_BoW_bert()\n",
    "    model.compile(optimizer='adam',\n",
    "                loss='mse',\n",
    "                metrics=[tf.keras.losses.MeanSquaredError()])\n",
    "  return model\n",
    "\n",
    "\n",
    "model = get_model()"
   ]
  },
  {
   "cell_type": "code",
   "execution_count": null,
   "metadata": {
    "id": "wpoibWdGQJA-"
   },
   "outputs": [],
   "source": [
    "model.summary()"
   ]
  },
  {
   "cell_type": "code",
   "execution_count": null,
   "metadata": {
    "id": "FHz1pJyV50cM"
   },
   "outputs": [],
   "source": [
    "history = model.fit([train_input_ids[:50], train_attention_masks[:50]],\n",
    "                    train_targets[:50],\n",
    "                    epochs=EPOCHS,\n",
    "                    batch_size=BATCH_SIZE,\n",
    "                    verbose=1)"
   ]
  },
  {
   "cell_type": "markdown",
   "metadata": {
    "id": "ILYZoU8bDskk"
   },
   "source": [
    "We evaluate our model on the test set."
   ]
  },
  {
   "cell_type": "code",
   "execution_count": null,
   "metadata": {
    "id": "3C75iSsedcRX"
   },
   "outputs": [],
   "source": [
    "results = model.evaluate([test_input_ids,test_attention_masks], test_targets)\n",
    "print('Test loss:', results[0])\n",
    "print('Test MSE:', results[1])"
   ]
  },
  {
   "cell_type": "markdown",
   "metadata": {
    "id": "aa0sSeJE0UwU"
   },
   "source": [
    "Get the array of predictions here so that you can plot the outputs later."
   ]
  },
  {
   "cell_type": "code",
   "execution_count": null,
   "metadata": {
    "id": "OpXK5mAs38US"
   },
   "outputs": [],
   "source": [
    "preds = model.predict(\n",
    "      [test_input_ids,test_attention_masks],\n",
    "      batch_size=None,\n",
    "      verbose=\"auto\",\n",
    "      steps=None,\n",
    "      callbacks=None,\n",
    "      max_queue_size=10,\n",
    "      workers=1,\n",
    "      use_multiprocessing=False)\n",
    "\n",
    "preds = np.array(preds).flatten()"
   ]
  },
  {
   "cell_type": "markdown",
   "metadata": {
    "id": "_ll2c9dIPFdQ"
   },
   "source": [
    "## Predictive Distribution\n",
    "\n",
    "We compute min, max and mean for the golden and predicted humour ratings."
   ]
  },
  {
   "cell_type": "code",
   "execution_count": null,
   "metadata": {
    "id": "M9h_-3pxdNM9"
   },
   "outputs": [],
   "source": [
    "min(preds), max(preds), preds.mean()"
   ]
  },
  {
   "cell_type": "code",
   "execution_count": null,
   "metadata": {
    "id": "Op_zenYZFNm8"
   },
   "outputs": [],
   "source": [
    "min(test_targets), max(test_targets), test_targets.mean()"
   ]
  },
  {
   "cell_type": "code",
   "execution_count": null,
   "metadata": {
    "id": "7KO14nTkFUvq"
   },
   "outputs": [],
   "source": [
    "pd.Series(preds).hist()"
   ]
  },
  {
   "cell_type": "code",
   "execution_count": null,
   "metadata": {
    "id": "OuRkmr0HPFdR"
   },
   "outputs": [],
   "source": [
    "pd.Series(test_targets).hist()"
   ]
  },
  {
   "cell_type": "markdown",
   "metadata": {
    "id": "rt8ufAjVFjCf"
   },
   "source": [
    "Next, we plot the true vs predicted humour grade for our model."
   ]
  },
  {
   "cell_type": "code",
   "execution_count": null,
   "metadata": {
    "id": "YkTird8tFxrY"
   },
   "outputs": [],
   "source": [
    "import seaborn as sns\n",
    "import matplotlib.pyplot as plt\n",
    "def get_pred_true_plot(preds, labels, title):\n",
    "    limits = [labels.min(), labels.max()]\n",
    "    fig, ax = plt.subplots()\n",
    "    fig.set_dpi(150)\n",
    "    ax.set_title(title)\n",
    "    ax.scatter(labels, preds, marker='.')\n",
    "    ax.plot(limits, limits, color=\"gray\", linestyle=\":\")\n",
    "    ax.set_xlabel('True Humour Grade')\n",
    "    ax.set_ylabel('Predicted Humour Grade')\n",
    "    sns.regplot(x=labels, y=preds, ax=ax, scatter_kws={\"s\": 5})\n",
    "    plt.show()\n",
    "\n",
    "get_pred_true_plot(preds, test_targets, 'True vs Predicted Humour Grade for DistilBERT Model')"
   ]
  },
  {
   "cell_type": "markdown",
   "metadata": {
    "id": "ves524STEEeR"
   },
   "source": [
    "Our regressor tends to smooth down the extreme rating values to make them closer to the mean."
   ]
  },
  {
   "cell_type": "markdown",
   "metadata": {
    "id": "-LS3Oox93a4x"
   },
   "source": [
    "# Feature Engineering & Data Augmentation\n",
    "\n",
    "**Task 2: Preprocess the textual data with the Ekphrasis library following the standard pipeline https://github.com/cbaziotis/ekphrasis#text-pre-processing-pipeline. How does this affect the performance?**"
   ]
  },
  {
   "cell_type": "markdown",
   "metadata": {
    "id": "ZOhLQtu_HZgq"
   },
   "source": [
    "*Hint*: You might not want to annotate terms in order to keep the same length of the input sentences (for this, do not use the parameter `annotate={\"hashtag\", \"allcaps\", \"elongated\", \"repeated\", 'emphasis', 'censored'}`)."
   ]
  },
  {
   "cell_type": "code",
   "execution_count": null,
   "metadata": {
    "id": "oTVPfG-43ZSe"
   },
   "outputs": [],
   "source": [
    "!pip install -q ekphrasis\n",
    "!pip3 install -q emoji==0.6.0"
   ]
  },
  {
   "cell_type": "code",
   "execution_count": null,
   "metadata": {
    "id": "7_KBBFNn30Cp"
   },
   "outputs": [],
   "source": [
    "# Your code goes here\n",
    "from ekphrasis.classes.preprocessor import TextPreProcessor\n",
    "from ekphrasis.classes.tokenizer import SocialTokenizer\n",
    "from ekphrasis.dicts.emoticons import emoticons\n",
    "\n",
    "text_processor = TextPreProcessor(\n",
    "    # terms that will be normalized\n",
    "    normalize=['url', 'email', 'percent', 'money', 'phone', 'user',\n",
    "        'time', 'url', 'date', 'number'],\n",
    "    # terms that will be annotated\n",
    "    annotate={},\n",
    "    fix_html=True,  # fix HTML tokens\n",
    "\n",
    "    # corpus from which the word statistics are going to be used\n",
    "    # for word segmentation\n",
    "    segmenter=\"twitter\",\n",
    "\n",
    "    # corpus from which the word statistics are going to be used\n",
    "    # for spell correction\n",
    "    corrector=\"twitter\",\n",
    "\n",
    "    unpack_hashtags=True,  # perform word segmentation on hashtags\n",
    "    unpack_contractions=True,  # Unpack contractions (can't -> can not)\n",
    "    spell_correct_elong=False,  # spell correction for elongated words\n",
    "\n",
    "    # select a tokenizer. You can use SocialTokenizer, or pass your own\n",
    "    # the tokenizer, should take as input a string and return a list of tokens\n",
    "    tokenizer=SocialTokenizer(lowercase=True).tokenize,\n",
    "\n",
    "    # list of dictionaries, for replacing tokens extracted from the text,\n",
    "    # with other expressions. You can pass more than one dictionaries.\n",
    "    dicts=[emoticons]\n",
    ")\n",
    "\n",
    "new_train_examples_list = [\" \".join(text_processor.pre_process_doc(example)) for example in train_examples_list]\n",
    "new_test_examples_list = [\" \".join(text_processor.pre_process_doc(example)) for example in test_examples_list]\n"
   ]
  },
  {
   "cell_type": "code",
   "execution_count": null,
   "metadata": {
    "id": "OgBytRATYCJl"
   },
   "outputs": [],
   "source": [
    "print(\"Original Text:\", train_examples_list[0])\n",
    "print(\"Preprocessed Text:\", new_train_examples_list[0])"
   ]
  },
  {
   "cell_type": "code",
   "execution_count": null,
   "metadata": {
    "id": "16Vk_2Km31pB"
   },
   "outputs": [],
   "source": [
    "train_input_ids, train_attention_masks, train_targets = get_bert_inputs(new_train_examples_list, train_targets_list)\n",
    "test_input_ids, test_attention_masks, test_targets = get_bert_inputs(new_test_examples_list, test_targets_list)\n",
    "\n",
    "model = get_model()\n",
    "history = model.fit([train_input_ids[:50],train_attention_masks[:50]],\n",
    "                    train_targets[:50],\n",
    "                    epochs=EPOCHS,\n",
    "                    batch_size=BATCH_SIZE,\n",
    "                    verbose=1)"
   ]
  },
  {
   "cell_type": "code",
   "execution_count": null,
   "metadata": {
    "id": "Jq1skI4nLEJl"
   },
   "outputs": [],
   "source": [
    "results = model.evaluate([test_input_ids,test_attention_masks], test_targets)\n",
    "print('Test loss:', results[0])\n",
    "print('Test MSE:', results[1])"
   ]
  },
  {
   "cell_type": "markdown",
   "metadata": {
    "id": "DKzuPMLiQWL6"
   },
   "source": [
    "Your results may be different depending on the implementation but typically special preprocessing does not drastically change the performance for this task."
   ]
  },
  {
   "cell_type": "markdown",
   "metadata": {
    "id": "rrfXrLUm36XZ"
   },
   "source": [
    "**Task 3: Augment the training data twice by changing the original data via two methods from the Nlpaug (https://github.com/makcedward/nlpaug) library: (a) synonym replacement from WordNet; (b) deletion of random words. Comment on which method gives the best performance.**\n",
    "\n",
    "*Hint*: Use the Synonym Augmenter and Random Word Augmenter (Delete word randomly) classes as follows:\n",
    "```\n",
    "aug = naw.SynonymAug(aug_src='wordnet')\n",
    "augmented_text = aug.augment(text)\n",
    "\n",
    "aug = naw.RandomWordAug()\n",
    "augmented_text = aug.augment(text)\n",
    "```\n",
    "\n",
    "\n",
    "\n",
    "\n",
    "\n",
    "For more examples check https://github.com/makcedward/nlpaug/blob/master/example/textual_augmenter.ipynb"
   ]
  },
  {
   "cell_type": "code",
   "execution_count": null,
   "metadata": {
    "id": "iGBjZmyj37ZA"
   },
   "outputs": [],
   "source": [
    "!pip install nlpaug"
   ]
  },
  {
   "cell_type": "code",
   "execution_count": null,
   "metadata": {
    "id": "Ke50JombOY-s"
   },
   "outputs": [],
   "source": [
    "# Get the data again to apply augmentation\n",
    "train_examples_list = train_df['text'].tolist()\n",
    "train_targets_list = (train_df['humor_rating']/5).tolist()"
   ]
  },
  {
   "cell_type": "code",
   "execution_count": null,
   "metadata": {
    "id": "bdWjBgQRpSui"
   },
   "outputs": [],
   "source": [
    "import nlpaug.augmenter.word as naw\n",
    "\n",
    "# # Your code goes here\n",
    "\n",
    "# Augmentation using Synonym replacement from WordNet\n",
    "# def augment_with_synonyms(texts):\n",
    "#     aug = naw.SynonymAug(aug_src='wordnet')\n",
    "#     augmented_texts = [aug.augment(text) for text in train_examples_list]\n",
    "#     return augmented_texts\n",
    "\n",
    "# train_examples_list = augment_with_synonyms(train_examples_list)\n",
    "\n",
    "\n",
    "# # Augmentation by deleting random words\n",
    "# def augment_by_deleting_words(texts):\n",
    "#     aug = naw.RandomWordAug(action=\"delete\")\n",
    "#     return [aug.augment(text) for text in texts]\n",
    "\n",
    "# train_examples_list = augment_by_deleting_words(train_examples_list)\n",
    "\n",
    "# # Combine both augmentation methods\n",
    "def combined_augmentation(texts):\n",
    "    aug_synonym = naw.SynonymAug(aug_src='wordnet')\n",
    "    aug_deletion = naw.RandomWordAug(action=\"delete\")\n",
    "\n",
    "    augmented_texts = []\n",
    "    for text in texts:\n",
    "        augmented_text = aug_synonym.augment(text)\n",
    "        augmented_text = aug_deletion.augment(augmented_text)\n",
    "        augmented_texts.append(augmented_text)\n",
    "\n",
    "    return augmented_texts\n",
    "\n",
    "train_examples_list = combined_augmentation(train_examples_list)"
   ]
  },
  {
   "cell_type": "code",
   "execution_count": null,
   "metadata": {
    "id": "i4b6SkXk4Kuu"
   },
   "outputs": [],
   "source": [
    "train_input_ids, train_attention_masks, train_targets = get_bert_inputs(train_examples_list, train_targets_list)\n",
    "test_input_ids, test_attention_masks, test_targets = get_bert_inputs(test_examples_list, test_targets_list)\n"
   ]
  },
  {
   "cell_type": "markdown",
   "metadata": {
    "id": "PWrhEU4CAiUe"
   },
   "source": [
    "We have now augmented the original data twice:"
   ]
  },
  {
   "cell_type": "code",
   "execution_count": null,
   "metadata": {
    "id": "0d1m15P3oEh-"
   },
   "outputs": [],
   "source": [
    "print(\"Training examples before augmentation:\")\n",
    "print(len(train_df['text'].tolist()))\n",
    "print(\"Training examples after augmentation:\")\n",
    "print(len(train_examples_list))"
   ]
  },
  {
   "cell_type": "code",
   "execution_count": null,
   "metadata": {
    "id": "qc15eVYtG2Dv"
   },
   "outputs": [],
   "source": [
    "model = get_model()\n",
    "history = model.fit([train_input_ids[:50],train_attention_masks[:50]],\n",
    "                    train_targets[:50],\n",
    "                    epochs=EPOCHS,\n",
    "                    batch_size=BATCH_SIZE,\n",
    "                    verbose=1)"
   ]
  },
  {
   "cell_type": "code",
   "execution_count": null,
   "metadata": {
    "id": "WGrTvBP9OtMX"
   },
   "outputs": [],
   "source": [
    "results = model.evaluate([np.asarray(test_input_ids),np.asarray(test_attention_masks)], test_targets)\n",
    "print('Test loss:', results[0])\n",
    "print('Test MSE:', results[1])"
   ]
  },
  {
   "cell_type": "markdown",
   "metadata": {
    "id": "Kpz5hGuIRYBX"
   },
   "source": [
    "Your results may be different depending on the implementation but typically there are no drastic differences between the augmentation setups."
   ]
  },
  {
   "cell_type": "markdown",
   "metadata": {
    "id": "F4RbT-0T3OMY"
   },
   "source": [
    "# Ensembled BERT Model\n",
    "\n",
    "In this section you will train and evaluate an **ensemble** of BERT models.\n",
    "\n",
    "We define the hyperparameters, including the number of models we want to ensemble (RERUNS=3, i.e., 3 models).\n",
    "\n",
    "**Task 4: Train three DistilBERT models, get their predictions on the test set, take the mean of those predictions and evaluate this ensembled prediction. Comment on the resulting performance.**\n",
    "\n",
    "We create three models in a loop, set a new random seed before creating each of them (`set_random_seed(seed=random.randint(0, 500))`) and accumulate predictions per model in a list."
   ]
  },
  {
   "cell_type": "code",
   "execution_count": null,
   "metadata": {
    "id": "RMIdOlIukwu-"
   },
   "outputs": [],
   "source": [
    "# Get the train data again to avoid any confusion\n",
    "train_examples_list = train_df['text'].tolist()\n",
    "train_targets_list = (train_df['humor_rating']/5).tolist()\n",
    "\n",
    "train_input_ids, train_attention_masks, train_targets = get_bert_inputs(train_examples_list, train_targets_list)\n"
   ]
  },
  {
   "cell_type": "code",
   "execution_count": null,
   "metadata": {
    "id": "PI5nSuK3jygf"
   },
   "outputs": [],
   "source": [
    "RERUNS = 3\n",
    "# We save the predictions of each model to the list\n",
    "all_model_preds = list()\n",
    "\n",
    "for i in range(RERUNS):\n",
    "\n",
    "  set_random_seed(seed=random.randint(0, 500))\n",
    "\n",
    "  # Your code goes here\n",
    "\n",
    "  model = get_model()\n",
    "\n",
    "  model.fit(\n",
    "      [train_input_ids[:50], train_attention_masks[:50]],\n",
    "      train_targets[:50],\n",
    "      epochs=EPOCHS,\n",
    "      batch_size=32,\n",
    "      validation_split=0.1,\n",
    "      verbose=1\n",
    "  )\n",
    "\n",
    "  preds = model.predict([test_input_ids, test_attention_masks])\n",
    "\n",
    "  # Accumulate predictions\n",
    "  all_model_preds.append(preds)"
   ]
  },
  {
   "cell_type": "code",
   "execution_count": null,
   "metadata": {
    "id": "Zzm8Afa1wz7i"
   },
   "outputs": [],
   "source": [
    "from sklearn.metrics import classification_report, mean_squared_error\n",
    "\n",
    "mean_preds = np.mean(np.array(all_model_preds), axis=0)\n",
    "ensemble_mse = mean_squared_error(test_targets, mean_preds)\n",
    "\n",
    "print('Ensemble Test MSE : {:.4f}'.format(ensemble_mse))"
   ]
  },
  {
   "cell_type": "markdown",
   "metadata": {
    "id": "UNa2mwVBRzYq"
   },
   "source": [
    "Your results may be different depending on the implementation but typically ensembling slightly improves the performance for this task."
   ]
  },
  {
   "cell_type": "markdown",
   "metadata": {
    "id": "IL2QN-k32OSj"
   },
   "source": [
    "# Multi-task Learning with BERT\n",
    "\n",
    "**Task 6: Train a multi-task (MTL) model with the additional regression task of predicting the offense rating. Re-train the single-task model from Task 1 with half of the initial training data. The code to fetch these data is provided below. Comment on the resulting performance for the regresion task in the data sparsity conditions for the two models (single-task and MTL).**\n",
    "\n",
    "*Hint*: The MTL model will have two identical output layers (one for predicting humour rating, the other to predict offense rating).\n",
    "\n",
    "We specify two losses and two metrics to compile the model `loss={'out_reg1': 'mse', 'out_reg2': 'mse'}, metrics={'out_reg1': 'mse', 'out_reg2': 'mse'}`. We increase the epoch count to 25 due to the reduced training data."
   ]
  },
  {
   "cell_type": "code",
   "execution_count": null,
   "metadata": {
    "id": "eV5DB1QTSRLm"
   },
   "outputs": [],
   "source": [
    "set_random_seed()\n",
    "\n",
    "from transformers import TFDistilBertModel, DistilBertConfig\n",
    "\n",
    "def create_TFBertMultitask():\n",
    "\n",
    "  # Your code goes here\n",
    "\n",
    "  input_ids = Input(shape=(128,), dtype=tf.int32, name='input_token')\n",
    "  input_masks_ids = Input(shape=(128,), dtype=tf.int32, name='masked_token')\n",
    "\n",
    "  bert_embeddings = get_BERT_layer()\n",
    "  embedded_sent = bert_embeddings(input_ids, attention_mask=input_masks_ids)[0]\n",
    "\n",
    "  pooled_sent = GlobalAveragePooling1DMasked()(embedded_sent)\n",
    "\n",
    "  hidden_output= Dense(16, activation='sigmoid', kernel_initializer='glorot_uniform')(pooled_sent)\n",
    "  # Output layers for each task\n",
    "  out_reg1 = Dense(1, activation='linear', name='out_reg1')(hidden_output)\n",
    "  out_reg2 = Dense(1, activation='linear', name='out_reg2')(hidden_output)\n",
    "\n",
    "  # comment to run a single-task model\n",
    "  return tf.keras.Model(inputs=[input_ids, input_masks_ids], outputs = [out_reg1, out_reg2])\n",
    "  # uncomment to run a single-task model\n",
    "  # return tf.keras.Model(inputs=[input_ids, input_masks_ids], outputs = [out_reg1])\n",
    "\n",
    "\n",
    "\n",
    "use_tpu = True\n",
    "use_gpu = False\n",
    "if use_tpu:\n",
    "  # Create distribution strategy\n",
    "  tpu = tf.distribute.cluster_resolver.TPUClusterResolver()\n",
    "  tf.config.experimental_connect_to_cluster(tpu)\n",
    "  tf.tpu.experimental.initialize_tpu_system(tpu)\n",
    "  strategy = tf.distribute.TPUStrategy(tpu)\n",
    "\n",
    "  # Create model on TPU:\n",
    "  with strategy.scope():\n",
    "    model = create_TFBertMultitask()\n",
    "    optimizer = tf.keras.optimizers.Adam(learning_rate=2e-5)\n",
    "    # comment to run a single-task model\n",
    "    model.compile(optimizer=optimizer, loss={'out_reg1': 'mse',\n",
    "                         'out_reg2': 'mse'}, metrics={'out_reg1': 'mse',\n",
    "                          'out_reg2': 'mse'})\n",
    "    # uncomment to run a single-task model\n",
    "    # model.compile(optimizer=optimizer, loss={'out_reg1': 'mse'}, metrics={'out_reg1': 'mse'})\n",
    "\n",
    "elif use_gpu:\n",
    "  device_name = tf.test.gpu_device_name()\n",
    "  print(device_name)\n",
    "  with tf.device('/device:GPU:0'):\n",
    "    model = create_TFBertMultitask()\n",
    "    optimizer = tf.keras.optimizers.Adam(learning_rate=2e-5)\n",
    "    model.compile(optimizer=optimizer, loss={'out_reg1': 'mse',\n",
    "                         'out_reg2': 'mse'}, metrics={'out_reg1': 'mse',\n",
    "                          'out_reg2': 'mse'})\n",
    "else:\n",
    "  model = create_TFBertMultitask()\n",
    "  optimizer = tf.keras.optimizers.Adam(learning_rate=2e-5)\n",
    "  model.compile(optimizer=optimizer, loss={'out_reg1': 'mse',\n",
    "                         'out_reg2': 'mse'}, metrics={'out_reg1': 'mse',\n",
    "                          'out_reg2': 'mse'})\n"
   ]
  },
  {
   "cell_type": "code",
   "execution_count": null,
   "metadata": {
    "id": "Lfci4A85inT2"
   },
   "outputs": [],
   "source": [
    "model.summary()"
   ]
  },
  {
   "cell_type": "code",
   "execution_count": null,
   "metadata": {
    "id": "-XQqz3Gr2ZkG"
   },
   "outputs": [],
   "source": [
    "# Get half of the training data\n",
    "train_examples_list = train_df['text'].tolist()[2500:]\n",
    "train_targets_list = (train_df['humor_rating']/5).tolist()[2500:]\n",
    "\n",
    "train_input_ids, train_attention_masks, train_targets = get_bert_inputs(train_examples_list, train_targets_list)\n",
    "\n",
    "# Get the offense ratings for the second regression task (we normalise them as well)\n",
    "train_targets2_list = (train_df['offense_rating']/5).tolist()[2500:]\n",
    "test_targets2_list = (test_df['offense_rating']/5).tolist()\n",
    "\n",
    "train_targets2 = np.array(train_targets2_list)\n",
    "test_targets2 = np.array(test_targets2_list)"
   ]
  },
  {
   "cell_type": "code",
   "execution_count": null,
   "metadata": {
    "id": "PX7fEExQZ8tE"
   },
   "outputs": [],
   "source": [
    "# comment to run a single-task model\n",
    "\n",
    "history = model.fit([train_input_ids[:50], train_attention_masks[:50]],\n",
    "                    [train_targets[:50], train_targets2[:50]],\n",
    "                    epochs=25,\n",
    "                    batch_size=BATCH_SIZE,\n",
    "                    verbose=1)\n",
    "\n",
    "# uncomment to run a single-task model\n",
    "# history = model.fit([train_input_ids, train_attention_masks],\n",
    "#                    [train_targets],\n",
    "#                    epochs=25,\n",
    "#                    batch_size=BATCH_SIZE,\n",
    "#                    verbose=1)"
   ]
  },
  {
   "cell_type": "code",
   "execution_count": null,
   "metadata": {
    "id": "UiJg_LlqaRPp"
   },
   "outputs": [],
   "source": [
    "results = model.evaluate([test_input_ids,test_attention_masks], [test_targets, test_targets2])\n",
    "print('Test loss:', results[0])\n",
    "print('Test MSE:', results[1])"
   ]
  },
  {
   "cell_type": "markdown",
   "metadata": {
    "id": "ARRZiV9Ga79g"
   },
   "source": [
    "Your results may be different depending on the implementation but typically MTL slightly improves the performance over the single-task model trained in similar conditions."
   ]
  }
 ],
 "metadata": {
  "accelerator": "TPU",
  "colab": {
   "provenance": []
  },
  "gpuClass": "standard",
  "kernelspec": {
   "display_name": "Python 3 (ipykernel)",
   "language": "python",
   "name": "python3"
  },
  "language_info": {
   "codemirror_mode": {
    "name": "ipython",
    "version": 3
   },
   "file_extension": ".py",
   "mimetype": "text/x-python",
   "name": "python",
   "nbconvert_exporter": "python",
   "pygments_lexer": "ipython3",
   "version": "3.10.13"
  },
  "widgets": {
   "application/vnd.jupyter.widget-state+json": {
    "06f0bf115f9149509c02453f466bbe65": {
     "model_module": "@jupyter-widgets/controls",
     "model_module_version": "1.5.0",
     "model_name": "DescriptionStyleModel",
     "state": {
      "_model_module": "@jupyter-widgets/controls",
      "_model_module_version": "1.5.0",
      "_model_name": "DescriptionStyleModel",
      "_view_count": null,
      "_view_module": "@jupyter-widgets/base",
      "_view_module_version": "1.2.0",
      "_view_name": "StyleView",
      "description_width": ""
     }
    },
    "0e6f2aecec9443b89616ae4c7f55e881": {
     "model_module": "@jupyter-widgets/base",
     "model_module_version": "1.2.0",
     "model_name": "LayoutModel",
     "state": {
      "_model_module": "@jupyter-widgets/base",
      "_model_module_version": "1.2.0",
      "_model_name": "LayoutModel",
      "_view_count": null,
      "_view_module": "@jupyter-widgets/base",
      "_view_module_version": "1.2.0",
      "_view_name": "LayoutView",
      "align_content": null,
      "align_items": null,
      "align_self": null,
      "border": null,
      "bottom": null,
      "display": null,
      "flex": null,
      "flex_flow": null,
      "grid_area": null,
      "grid_auto_columns": null,
      "grid_auto_flow": null,
      "grid_auto_rows": null,
      "grid_column": null,
      "grid_gap": null,
      "grid_row": null,
      "grid_template_areas": null,
      "grid_template_columns": null,
      "grid_template_rows": null,
      "height": null,
      "justify_content": null,
      "justify_items": null,
      "left": null,
      "margin": null,
      "max_height": null,
      "max_width": null,
      "min_height": null,
      "min_width": null,
      "object_fit": null,
      "object_position": null,
      "order": null,
      "overflow": null,
      "overflow_x": null,
      "overflow_y": null,
      "padding": null,
      "right": null,
      "top": null,
      "visibility": null,
      "width": null
     }
    },
    "0f49e5f6d7544a9c8367200a7acbdf40": {
     "model_module": "@jupyter-widgets/controls",
     "model_module_version": "1.5.0",
     "model_name": "DescriptionStyleModel",
     "state": {
      "_model_module": "@jupyter-widgets/controls",
      "_model_module_version": "1.5.0",
      "_model_name": "DescriptionStyleModel",
      "_view_count": null,
      "_view_module": "@jupyter-widgets/base",
      "_view_module_version": "1.2.0",
      "_view_name": "StyleView",
      "description_width": ""
     }
    },
    "23ba17cc6fad4c8ca1a95a55d58bb9e7": {
     "model_module": "@jupyter-widgets/controls",
     "model_module_version": "1.5.0",
     "model_name": "HTMLModel",
     "state": {
      "_dom_classes": [],
      "_model_module": "@jupyter-widgets/controls",
      "_model_module_version": "1.5.0",
      "_model_name": "HTMLModel",
      "_view_count": null,
      "_view_module": "@jupyter-widgets/controls",
      "_view_module_version": "1.5.0",
      "_view_name": "HTMLView",
      "description": "",
      "description_tooltip": null,
      "layout": "IPY_MODEL_659181c501a646e39cbb0f8b27624b4f",
      "placeholder": "​",
      "style": "IPY_MODEL_e73f58ec796a4cdf8549ac8f3d88f4c9",
      "value": "tokenizer_config.json: 100%"
     }
    },
    "249d4f145f8a413f9547b102f73dc48d": {
     "model_module": "@jupyter-widgets/base",
     "model_module_version": "1.2.0",
     "model_name": "LayoutModel",
     "state": {
      "_model_module": "@jupyter-widgets/base",
      "_model_module_version": "1.2.0",
      "_model_name": "LayoutModel",
      "_view_count": null,
      "_view_module": "@jupyter-widgets/base",
      "_view_module_version": "1.2.0",
      "_view_name": "LayoutView",
      "align_content": null,
      "align_items": null,
      "align_self": null,
      "border": null,
      "bottom": null,
      "display": null,
      "flex": null,
      "flex_flow": null,
      "grid_area": null,
      "grid_auto_columns": null,
      "grid_auto_flow": null,
      "grid_auto_rows": null,
      "grid_column": null,
      "grid_gap": null,
      "grid_row": null,
      "grid_template_areas": null,
      "grid_template_columns": null,
      "grid_template_rows": null,
      "height": null,
      "justify_content": null,
      "justify_items": null,
      "left": null,
      "margin": null,
      "max_height": null,
      "max_width": null,
      "min_height": null,
      "min_width": null,
      "object_fit": null,
      "object_position": null,
      "order": null,
      "overflow": null,
      "overflow_x": null,
      "overflow_y": null,
      "padding": null,
      "right": null,
      "top": null,
      "visibility": null,
      "width": null
     }
    },
    "2aa37834f55a483a90a33c135ed26fc4": {
     "model_module": "@jupyter-widgets/base",
     "model_module_version": "1.2.0",
     "model_name": "LayoutModel",
     "state": {
      "_model_module": "@jupyter-widgets/base",
      "_model_module_version": "1.2.0",
      "_model_name": "LayoutModel",
      "_view_count": null,
      "_view_module": "@jupyter-widgets/base",
      "_view_module_version": "1.2.0",
      "_view_name": "LayoutView",
      "align_content": null,
      "align_items": null,
      "align_self": null,
      "border": null,
      "bottom": null,
      "display": null,
      "flex": null,
      "flex_flow": null,
      "grid_area": null,
      "grid_auto_columns": null,
      "grid_auto_flow": null,
      "grid_auto_rows": null,
      "grid_column": null,
      "grid_gap": null,
      "grid_row": null,
      "grid_template_areas": null,
      "grid_template_columns": null,
      "grid_template_rows": null,
      "height": null,
      "justify_content": null,
      "justify_items": null,
      "left": null,
      "margin": null,
      "max_height": null,
      "max_width": null,
      "min_height": null,
      "min_width": null,
      "object_fit": null,
      "object_position": null,
      "order": null,
      "overflow": null,
      "overflow_x": null,
      "overflow_y": null,
      "padding": null,
      "right": null,
      "top": null,
      "visibility": null,
      "width": null
     }
    },
    "2df89f7be0914916a7891e18e2dc65cc": {
     "model_module": "@jupyter-widgets/controls",
     "model_module_version": "1.5.0",
     "model_name": "FloatProgressModel",
     "state": {
      "_dom_classes": [],
      "_model_module": "@jupyter-widgets/controls",
      "_model_module_version": "1.5.0",
      "_model_name": "FloatProgressModel",
      "_view_count": null,
      "_view_module": "@jupyter-widgets/controls",
      "_view_module_version": "1.5.0",
      "_view_name": "ProgressView",
      "bar_style": "success",
      "description": "",
      "description_tooltip": null,
      "layout": "IPY_MODEL_2aa37834f55a483a90a33c135ed26fc4",
      "max": 483,
      "min": 0,
      "orientation": "horizontal",
      "style": "IPY_MODEL_3bd57eef7b824d38abc49d919569bac5",
      "value": 483
     }
    },
    "312967a2a10041748a7a5fc2b0fc6012": {
     "model_module": "@jupyter-widgets/base",
     "model_module_version": "1.2.0",
     "model_name": "LayoutModel",
     "state": {
      "_model_module": "@jupyter-widgets/base",
      "_model_module_version": "1.2.0",
      "_model_name": "LayoutModel",
      "_view_count": null,
      "_view_module": "@jupyter-widgets/base",
      "_view_module_version": "1.2.0",
      "_view_name": "LayoutView",
      "align_content": null,
      "align_items": null,
      "align_self": null,
      "border": null,
      "bottom": null,
      "display": null,
      "flex": null,
      "flex_flow": null,
      "grid_area": null,
      "grid_auto_columns": null,
      "grid_auto_flow": null,
      "grid_auto_rows": null,
      "grid_column": null,
      "grid_gap": null,
      "grid_row": null,
      "grid_template_areas": null,
      "grid_template_columns": null,
      "grid_template_rows": null,
      "height": null,
      "justify_content": null,
      "justify_items": null,
      "left": null,
      "margin": null,
      "max_height": null,
      "max_width": null,
      "min_height": null,
      "min_width": null,
      "object_fit": null,
      "object_position": null,
      "order": null,
      "overflow": null,
      "overflow_x": null,
      "overflow_y": null,
      "padding": null,
      "right": null,
      "top": null,
      "visibility": null,
      "width": null
     }
    },
    "33ee8e82261d4dca89b58b9dc1ff4f80": {
     "model_module": "@jupyter-widgets/base",
     "model_module_version": "1.2.0",
     "model_name": "LayoutModel",
     "state": {
      "_model_module": "@jupyter-widgets/base",
      "_model_module_version": "1.2.0",
      "_model_name": "LayoutModel",
      "_view_count": null,
      "_view_module": "@jupyter-widgets/base",
      "_view_module_version": "1.2.0",
      "_view_name": "LayoutView",
      "align_content": null,
      "align_items": null,
      "align_self": null,
      "border": null,
      "bottom": null,
      "display": null,
      "flex": null,
      "flex_flow": null,
      "grid_area": null,
      "grid_auto_columns": null,
      "grid_auto_flow": null,
      "grid_auto_rows": null,
      "grid_column": null,
      "grid_gap": null,
      "grid_row": null,
      "grid_template_areas": null,
      "grid_template_columns": null,
      "grid_template_rows": null,
      "height": null,
      "justify_content": null,
      "justify_items": null,
      "left": null,
      "margin": null,
      "max_height": null,
      "max_width": null,
      "min_height": null,
      "min_width": null,
      "object_fit": null,
      "object_position": null,
      "order": null,
      "overflow": null,
      "overflow_x": null,
      "overflow_y": null,
      "padding": null,
      "right": null,
      "top": null,
      "visibility": null,
      "width": null
     }
    },
    "3bd57eef7b824d38abc49d919569bac5": {
     "model_module": "@jupyter-widgets/controls",
     "model_module_version": "1.5.0",
     "model_name": "ProgressStyleModel",
     "state": {
      "_model_module": "@jupyter-widgets/controls",
      "_model_module_version": "1.5.0",
      "_model_name": "ProgressStyleModel",
      "_view_count": null,
      "_view_module": "@jupyter-widgets/base",
      "_view_module_version": "1.2.0",
      "_view_name": "StyleView",
      "bar_color": null,
      "description_width": ""
     }
    },
    "3da7d228c0c94d04a1f4dd5af2cd860d": {
     "model_module": "@jupyter-widgets/base",
     "model_module_version": "1.2.0",
     "model_name": "LayoutModel",
     "state": {
      "_model_module": "@jupyter-widgets/base",
      "_model_module_version": "1.2.0",
      "_model_name": "LayoutModel",
      "_view_count": null,
      "_view_module": "@jupyter-widgets/base",
      "_view_module_version": "1.2.0",
      "_view_name": "LayoutView",
      "align_content": null,
      "align_items": null,
      "align_self": null,
      "border": null,
      "bottom": null,
      "display": null,
      "flex": null,
      "flex_flow": null,
      "grid_area": null,
      "grid_auto_columns": null,
      "grid_auto_flow": null,
      "grid_auto_rows": null,
      "grid_column": null,
      "grid_gap": null,
      "grid_row": null,
      "grid_template_areas": null,
      "grid_template_columns": null,
      "grid_template_rows": null,
      "height": null,
      "justify_content": null,
      "justify_items": null,
      "left": null,
      "margin": null,
      "max_height": null,
      "max_width": null,
      "min_height": null,
      "min_width": null,
      "object_fit": null,
      "object_position": null,
      "order": null,
      "overflow": null,
      "overflow_x": null,
      "overflow_y": null,
      "padding": null,
      "right": null,
      "top": null,
      "visibility": null,
      "width": null
     }
    },
    "42a037cbabf144e299fc744abf72bf46": {
     "model_module": "@jupyter-widgets/controls",
     "model_module_version": "1.5.0",
     "model_name": "DescriptionStyleModel",
     "state": {
      "_model_module": "@jupyter-widgets/controls",
      "_model_module_version": "1.5.0",
      "_model_name": "DescriptionStyleModel",
      "_view_count": null,
      "_view_module": "@jupyter-widgets/base",
      "_view_module_version": "1.2.0",
      "_view_name": "StyleView",
      "description_width": ""
     }
    },
    "454108daf38a4886bcb179203ab3eb87": {
     "model_module": "@jupyter-widgets/base",
     "model_module_version": "1.2.0",
     "model_name": "LayoutModel",
     "state": {
      "_model_module": "@jupyter-widgets/base",
      "_model_module_version": "1.2.0",
      "_model_name": "LayoutModel",
      "_view_count": null,
      "_view_module": "@jupyter-widgets/base",
      "_view_module_version": "1.2.0",
      "_view_name": "LayoutView",
      "align_content": null,
      "align_items": null,
      "align_self": null,
      "border": null,
      "bottom": null,
      "display": null,
      "flex": null,
      "flex_flow": null,
      "grid_area": null,
      "grid_auto_columns": null,
      "grid_auto_flow": null,
      "grid_auto_rows": null,
      "grid_column": null,
      "grid_gap": null,
      "grid_row": null,
      "grid_template_areas": null,
      "grid_template_columns": null,
      "grid_template_rows": null,
      "height": null,
      "justify_content": null,
      "justify_items": null,
      "left": null,
      "margin": null,
      "max_height": null,
      "max_width": null,
      "min_height": null,
      "min_width": null,
      "object_fit": null,
      "object_position": null,
      "order": null,
      "overflow": null,
      "overflow_x": null,
      "overflow_y": null,
      "padding": null,
      "right": null,
      "top": null,
      "visibility": null,
      "width": null
     }
    },
    "47b587c4f863414ea470aca938a7c97b": {
     "model_module": "@jupyter-widgets/controls",
     "model_module_version": "1.5.0",
     "model_name": "DescriptionStyleModel",
     "state": {
      "_model_module": "@jupyter-widgets/controls",
      "_model_module_version": "1.5.0",
      "_model_name": "DescriptionStyleModel",
      "_view_count": null,
      "_view_module": "@jupyter-widgets/base",
      "_view_module_version": "1.2.0",
      "_view_name": "StyleView",
      "description_width": ""
     }
    },
    "4baedbbe0410436caf1c270b64e4913d": {
     "model_module": "@jupyter-widgets/base",
     "model_module_version": "1.2.0",
     "model_name": "LayoutModel",
     "state": {
      "_model_module": "@jupyter-widgets/base",
      "_model_module_version": "1.2.0",
      "_model_name": "LayoutModel",
      "_view_count": null,
      "_view_module": "@jupyter-widgets/base",
      "_view_module_version": "1.2.0",
      "_view_name": "LayoutView",
      "align_content": null,
      "align_items": null,
      "align_self": null,
      "border": null,
      "bottom": null,
      "display": null,
      "flex": null,
      "flex_flow": null,
      "grid_area": null,
      "grid_auto_columns": null,
      "grid_auto_flow": null,
      "grid_auto_rows": null,
      "grid_column": null,
      "grid_gap": null,
      "grid_row": null,
      "grid_template_areas": null,
      "grid_template_columns": null,
      "grid_template_rows": null,
      "height": null,
      "justify_content": null,
      "justify_items": null,
      "left": null,
      "margin": null,
      "max_height": null,
      "max_width": null,
      "min_height": null,
      "min_width": null,
      "object_fit": null,
      "object_position": null,
      "order": null,
      "overflow": null,
      "overflow_x": null,
      "overflow_y": null,
      "padding": null,
      "right": null,
      "top": null,
      "visibility": null,
      "width": null
     }
    },
    "4ef68afcaaa44294801023e11f40426b": {
     "model_module": "@jupyter-widgets/base",
     "model_module_version": "1.2.0",
     "model_name": "LayoutModel",
     "state": {
      "_model_module": "@jupyter-widgets/base",
      "_model_module_version": "1.2.0",
      "_model_name": "LayoutModel",
      "_view_count": null,
      "_view_module": "@jupyter-widgets/base",
      "_view_module_version": "1.2.0",
      "_view_name": "LayoutView",
      "align_content": null,
      "align_items": null,
      "align_self": null,
      "border": null,
      "bottom": null,
      "display": null,
      "flex": null,
      "flex_flow": null,
      "grid_area": null,
      "grid_auto_columns": null,
      "grid_auto_flow": null,
      "grid_auto_rows": null,
      "grid_column": null,
      "grid_gap": null,
      "grid_row": null,
      "grid_template_areas": null,
      "grid_template_columns": null,
      "grid_template_rows": null,
      "height": null,
      "justify_content": null,
      "justify_items": null,
      "left": null,
      "margin": null,
      "max_height": null,
      "max_width": null,
      "min_height": null,
      "min_width": null,
      "object_fit": null,
      "object_position": null,
      "order": null,
      "overflow": null,
      "overflow_x": null,
      "overflow_y": null,
      "padding": null,
      "right": null,
      "top": null,
      "visibility": null,
      "width": null
     }
    },
    "60bc82b0a7824c278074942f1a12a05f": {
     "model_module": "@jupyter-widgets/controls",
     "model_module_version": "1.5.0",
     "model_name": "HBoxModel",
     "state": {
      "_dom_classes": [],
      "_model_module": "@jupyter-widgets/controls",
      "_model_module_version": "1.5.0",
      "_model_name": "HBoxModel",
      "_view_count": null,
      "_view_module": "@jupyter-widgets/controls",
      "_view_module_version": "1.5.0",
      "_view_name": "HBoxView",
      "box_style": "",
      "children": [
       "IPY_MODEL_8b649f56380a498286952714251e7682",
       "IPY_MODEL_a37e6bce6859487096e9f48bc20054cc",
       "IPY_MODEL_da4d71e096db49e0915de2c5adf33546"
      ],
      "layout": "IPY_MODEL_0e6f2aecec9443b89616ae4c7f55e881"
     }
    },
    "61a44516610241cebf7920e3db698ab7": {
     "model_module": "@jupyter-widgets/base",
     "model_module_version": "1.2.0",
     "model_name": "LayoutModel",
     "state": {
      "_model_module": "@jupyter-widgets/base",
      "_model_module_version": "1.2.0",
      "_model_name": "LayoutModel",
      "_view_count": null,
      "_view_module": "@jupyter-widgets/base",
      "_view_module_version": "1.2.0",
      "_view_name": "LayoutView",
      "align_content": null,
      "align_items": null,
      "align_self": null,
      "border": null,
      "bottom": null,
      "display": null,
      "flex": null,
      "flex_flow": null,
      "grid_area": null,
      "grid_auto_columns": null,
      "grid_auto_flow": null,
      "grid_auto_rows": null,
      "grid_column": null,
      "grid_gap": null,
      "grid_row": null,
      "grid_template_areas": null,
      "grid_template_columns": null,
      "grid_template_rows": null,
      "height": null,
      "justify_content": null,
      "justify_items": null,
      "left": null,
      "margin": null,
      "max_height": null,
      "max_width": null,
      "min_height": null,
      "min_width": null,
      "object_fit": null,
      "object_position": null,
      "order": null,
      "overflow": null,
      "overflow_x": null,
      "overflow_y": null,
      "padding": null,
      "right": null,
      "top": null,
      "visibility": null,
      "width": null
     }
    },
    "61deffda347e4e97a5a750f2c8228143": {
     "model_module": "@jupyter-widgets/base",
     "model_module_version": "1.2.0",
     "model_name": "LayoutModel",
     "state": {
      "_model_module": "@jupyter-widgets/base",
      "_model_module_version": "1.2.0",
      "_model_name": "LayoutModel",
      "_view_count": null,
      "_view_module": "@jupyter-widgets/base",
      "_view_module_version": "1.2.0",
      "_view_name": "LayoutView",
      "align_content": null,
      "align_items": null,
      "align_self": null,
      "border": null,
      "bottom": null,
      "display": null,
      "flex": null,
      "flex_flow": null,
      "grid_area": null,
      "grid_auto_columns": null,
      "grid_auto_flow": null,
      "grid_auto_rows": null,
      "grid_column": null,
      "grid_gap": null,
      "grid_row": null,
      "grid_template_areas": null,
      "grid_template_columns": null,
      "grid_template_rows": null,
      "height": null,
      "justify_content": null,
      "justify_items": null,
      "left": null,
      "margin": null,
      "max_height": null,
      "max_width": null,
      "min_height": null,
      "min_width": null,
      "object_fit": null,
      "object_position": null,
      "order": null,
      "overflow": null,
      "overflow_x": null,
      "overflow_y": null,
      "padding": null,
      "right": null,
      "top": null,
      "visibility": null,
      "width": null
     }
    },
    "652f5302ee20454ba541a604457ba287": {
     "model_module": "@jupyter-widgets/controls",
     "model_module_version": "1.5.0",
     "model_name": "FloatProgressModel",
     "state": {
      "_dom_classes": [],
      "_model_module": "@jupyter-widgets/controls",
      "_model_module_version": "1.5.0",
      "_model_name": "FloatProgressModel",
      "_view_count": null,
      "_view_module": "@jupyter-widgets/controls",
      "_view_module_version": "1.5.0",
      "_view_name": "ProgressView",
      "bar_style": "success",
      "description": "",
      "description_tooltip": null,
      "layout": "IPY_MODEL_ec75548e2fbe491a81489df9dcd77a57",
      "max": 28,
      "min": 0,
      "orientation": "horizontal",
      "style": "IPY_MODEL_6acf0f134e114530b5bc936309dd551c",
      "value": 28
     }
    },
    "659181c501a646e39cbb0f8b27624b4f": {
     "model_module": "@jupyter-widgets/base",
     "model_module_version": "1.2.0",
     "model_name": "LayoutModel",
     "state": {
      "_model_module": "@jupyter-widgets/base",
      "_model_module_version": "1.2.0",
      "_model_name": "LayoutModel",
      "_view_count": null,
      "_view_module": "@jupyter-widgets/base",
      "_view_module_version": "1.2.0",
      "_view_name": "LayoutView",
      "align_content": null,
      "align_items": null,
      "align_self": null,
      "border": null,
      "bottom": null,
      "display": null,
      "flex": null,
      "flex_flow": null,
      "grid_area": null,
      "grid_auto_columns": null,
      "grid_auto_flow": null,
      "grid_auto_rows": null,
      "grid_column": null,
      "grid_gap": null,
      "grid_row": null,
      "grid_template_areas": null,
      "grid_template_columns": null,
      "grid_template_rows": null,
      "height": null,
      "justify_content": null,
      "justify_items": null,
      "left": null,
      "margin": null,
      "max_height": null,
      "max_width": null,
      "min_height": null,
      "min_width": null,
      "object_fit": null,
      "object_position": null,
      "order": null,
      "overflow": null,
      "overflow_x": null,
      "overflow_y": null,
      "padding": null,
      "right": null,
      "top": null,
      "visibility": null,
      "width": null
     }
    },
    "6746fd4587dd4bc6be97f85882d8546e": {
     "model_module": "@jupyter-widgets/controls",
     "model_module_version": "1.5.0",
     "model_name": "FloatProgressModel",
     "state": {
      "_dom_classes": [],
      "_model_module": "@jupyter-widgets/controls",
      "_model_module_version": "1.5.0",
      "_model_name": "FloatProgressModel",
      "_view_count": null,
      "_view_module": "@jupyter-widgets/controls",
      "_view_module_version": "1.5.0",
      "_view_name": "ProgressView",
      "bar_style": "success",
      "description": "",
      "description_tooltip": null,
      "layout": "IPY_MODEL_8ef81d49bd3b409dbccbdbd67a934312",
      "max": 267954768,
      "min": 0,
      "orientation": "horizontal",
      "style": "IPY_MODEL_958d4234c7f646a2b5b10ca637c18c92",
      "value": 267954768
     }
    },
    "6acf0f134e114530b5bc936309dd551c": {
     "model_module": "@jupyter-widgets/controls",
     "model_module_version": "1.5.0",
     "model_name": "ProgressStyleModel",
     "state": {
      "_model_module": "@jupyter-widgets/controls",
      "_model_module_version": "1.5.0",
      "_model_name": "ProgressStyleModel",
      "_view_count": null,
      "_view_module": "@jupyter-widgets/base",
      "_view_module_version": "1.2.0",
      "_view_name": "StyleView",
      "bar_color": null,
      "description_width": ""
     }
    },
    "71b5935c69934928b0caad9c7977c40c": {
     "model_module": "@jupyter-widgets/base",
     "model_module_version": "1.2.0",
     "model_name": "LayoutModel",
     "state": {
      "_model_module": "@jupyter-widgets/base",
      "_model_module_version": "1.2.0",
      "_model_name": "LayoutModel",
      "_view_count": null,
      "_view_module": "@jupyter-widgets/base",
      "_view_module_version": "1.2.0",
      "_view_name": "LayoutView",
      "align_content": null,
      "align_items": null,
      "align_self": null,
      "border": null,
      "bottom": null,
      "display": null,
      "flex": null,
      "flex_flow": null,
      "grid_area": null,
      "grid_auto_columns": null,
      "grid_auto_flow": null,
      "grid_auto_rows": null,
      "grid_column": null,
      "grid_gap": null,
      "grid_row": null,
      "grid_template_areas": null,
      "grid_template_columns": null,
      "grid_template_rows": null,
      "height": null,
      "justify_content": null,
      "justify_items": null,
      "left": null,
      "margin": null,
      "max_height": null,
      "max_width": null,
      "min_height": null,
      "min_width": null,
      "object_fit": null,
      "object_position": null,
      "order": null,
      "overflow": null,
      "overflow_x": null,
      "overflow_y": null,
      "padding": null,
      "right": null,
      "top": null,
      "visibility": null,
      "width": null
     }
    },
    "733327a4700b479ead37cf961d11c106": {
     "model_module": "@jupyter-widgets/controls",
     "model_module_version": "1.5.0",
     "model_name": "HBoxModel",
     "state": {
      "_dom_classes": [],
      "_model_module": "@jupyter-widgets/controls",
      "_model_module_version": "1.5.0",
      "_model_name": "HBoxModel",
      "_view_count": null,
      "_view_module": "@jupyter-widgets/controls",
      "_view_module_version": "1.5.0",
      "_view_name": "HBoxView",
      "box_style": "",
      "children": [
       "IPY_MODEL_9b8c05277ef54e61afe774c10bb535a3",
       "IPY_MODEL_e87d1d0c494f47fea671f343416813e2",
       "IPY_MODEL_e54431e2825646da82ad937acbfae46d"
      ],
      "layout": "IPY_MODEL_3da7d228c0c94d04a1f4dd5af2cd860d"
     }
    },
    "75e1e47f9633458cb06b1ee302a19739": {
     "model_module": "@jupyter-widgets/controls",
     "model_module_version": "1.5.0",
     "model_name": "HTMLModel",
     "state": {
      "_dom_classes": [],
      "_model_module": "@jupyter-widgets/controls",
      "_model_module_version": "1.5.0",
      "_model_name": "HTMLModel",
      "_view_count": null,
      "_view_module": "@jupyter-widgets/controls",
      "_view_module_version": "1.5.0",
      "_view_name": "HTMLView",
      "description": "",
      "description_tooltip": null,
      "layout": "IPY_MODEL_ddabdb9957d44660bc63a0c7ee5cf9b2",
      "placeholder": "​",
      "style": "IPY_MODEL_e134690956ec44bdaf5fbf3af829c956",
      "value": " 268M/268M [00:02&lt;00:00, 111MB/s]"
     }
    },
    "7a606859406b4f42a2729b268dea524b": {
     "model_module": "@jupyter-widgets/controls",
     "model_module_version": "1.5.0",
     "model_name": "DescriptionStyleModel",
     "state": {
      "_model_module": "@jupyter-widgets/controls",
      "_model_module_version": "1.5.0",
      "_model_name": "DescriptionStyleModel",
      "_view_count": null,
      "_view_module": "@jupyter-widgets/base",
      "_view_module_version": "1.2.0",
      "_view_name": "StyleView",
      "description_width": ""
     }
    },
    "7e3de6eb669841e9b42228ea5d465931": {
     "model_module": "@jupyter-widgets/base",
     "model_module_version": "1.2.0",
     "model_name": "LayoutModel",
     "state": {
      "_model_module": "@jupyter-widgets/base",
      "_model_module_version": "1.2.0",
      "_model_name": "LayoutModel",
      "_view_count": null,
      "_view_module": "@jupyter-widgets/base",
      "_view_module_version": "1.2.0",
      "_view_name": "LayoutView",
      "align_content": null,
      "align_items": null,
      "align_self": null,
      "border": null,
      "bottom": null,
      "display": null,
      "flex": null,
      "flex_flow": null,
      "grid_area": null,
      "grid_auto_columns": null,
      "grid_auto_flow": null,
      "grid_auto_rows": null,
      "grid_column": null,
      "grid_gap": null,
      "grid_row": null,
      "grid_template_areas": null,
      "grid_template_columns": null,
      "grid_template_rows": null,
      "height": null,
      "justify_content": null,
      "justify_items": null,
      "left": null,
      "margin": null,
      "max_height": null,
      "max_width": null,
      "min_height": null,
      "min_width": null,
      "object_fit": null,
      "object_position": null,
      "order": null,
      "overflow": null,
      "overflow_x": null,
      "overflow_y": null,
      "padding": null,
      "right": null,
      "top": null,
      "visibility": null,
      "width": null
     }
    },
    "896d16c217bc42dda93cec34b78f742c": {
     "model_module": "@jupyter-widgets/controls",
     "model_module_version": "1.5.0",
     "model_name": "ProgressStyleModel",
     "state": {
      "_model_module": "@jupyter-widgets/controls",
      "_model_module_version": "1.5.0",
      "_model_name": "ProgressStyleModel",
      "_view_count": null,
      "_view_module": "@jupyter-widgets/base",
      "_view_module_version": "1.2.0",
      "_view_name": "StyleView",
      "bar_color": null,
      "description_width": ""
     }
    },
    "89fffb5ed50f45e8b08225a71f812b6a": {
     "model_module": "@jupyter-widgets/base",
     "model_module_version": "1.2.0",
     "model_name": "LayoutModel",
     "state": {
      "_model_module": "@jupyter-widgets/base",
      "_model_module_version": "1.2.0",
      "_model_name": "LayoutModel",
      "_view_count": null,
      "_view_module": "@jupyter-widgets/base",
      "_view_module_version": "1.2.0",
      "_view_name": "LayoutView",
      "align_content": null,
      "align_items": null,
      "align_self": null,
      "border": null,
      "bottom": null,
      "display": null,
      "flex": null,
      "flex_flow": null,
      "grid_area": null,
      "grid_auto_columns": null,
      "grid_auto_flow": null,
      "grid_auto_rows": null,
      "grid_column": null,
      "grid_gap": null,
      "grid_row": null,
      "grid_template_areas": null,
      "grid_template_columns": null,
      "grid_template_rows": null,
      "height": null,
      "justify_content": null,
      "justify_items": null,
      "left": null,
      "margin": null,
      "max_height": null,
      "max_width": null,
      "min_height": null,
      "min_width": null,
      "object_fit": null,
      "object_position": null,
      "order": null,
      "overflow": null,
      "overflow_x": null,
      "overflow_y": null,
      "padding": null,
      "right": null,
      "top": null,
      "visibility": null,
      "width": null
     }
    },
    "8b649f56380a498286952714251e7682": {
     "model_module": "@jupyter-widgets/controls",
     "model_module_version": "1.5.0",
     "model_name": "HTMLModel",
     "state": {
      "_dom_classes": [],
      "_model_module": "@jupyter-widgets/controls",
      "_model_module_version": "1.5.0",
      "_model_name": "HTMLModel",
      "_view_count": null,
      "_view_module": "@jupyter-widgets/controls",
      "_view_module_version": "1.5.0",
      "_view_name": "HTMLView",
      "description": "",
      "description_tooltip": null,
      "layout": "IPY_MODEL_249d4f145f8a413f9547b102f73dc48d",
      "placeholder": "​",
      "style": "IPY_MODEL_0f49e5f6d7544a9c8367200a7acbdf40",
      "value": "tokenizer.json: 100%"
     }
    },
    "8c2dac873694490e99648e2e3d59d850": {
     "model_module": "@jupyter-widgets/controls",
     "model_module_version": "1.5.0",
     "model_name": "HTMLModel",
     "state": {
      "_dom_classes": [],
      "_model_module": "@jupyter-widgets/controls",
      "_model_module_version": "1.5.0",
      "_model_name": "HTMLModel",
      "_view_count": null,
      "_view_module": "@jupyter-widgets/controls",
      "_view_module_version": "1.5.0",
      "_view_name": "HTMLView",
      "description": "",
      "description_tooltip": null,
      "layout": "IPY_MODEL_454108daf38a4886bcb179203ab3eb87",
      "placeholder": "​",
      "style": "IPY_MODEL_47b587c4f863414ea470aca938a7c97b",
      "value": " 28.0/28.0 [00:00&lt;00:00, 399B/s]"
     }
    },
    "8ef81d49bd3b409dbccbdbd67a934312": {
     "model_module": "@jupyter-widgets/base",
     "model_module_version": "1.2.0",
     "model_name": "LayoutModel",
     "state": {
      "_model_module": "@jupyter-widgets/base",
      "_model_module_version": "1.2.0",
      "_model_name": "LayoutModel",
      "_view_count": null,
      "_view_module": "@jupyter-widgets/base",
      "_view_module_version": "1.2.0",
      "_view_name": "LayoutView",
      "align_content": null,
      "align_items": null,
      "align_self": null,
      "border": null,
      "bottom": null,
      "display": null,
      "flex": null,
      "flex_flow": null,
      "grid_area": null,
      "grid_auto_columns": null,
      "grid_auto_flow": null,
      "grid_auto_rows": null,
      "grid_column": null,
      "grid_gap": null,
      "grid_row": null,
      "grid_template_areas": null,
      "grid_template_columns": null,
      "grid_template_rows": null,
      "height": null,
      "justify_content": null,
      "justify_items": null,
      "left": null,
      "margin": null,
      "max_height": null,
      "max_width": null,
      "min_height": null,
      "min_width": null,
      "object_fit": null,
      "object_position": null,
      "order": null,
      "overflow": null,
      "overflow_x": null,
      "overflow_y": null,
      "padding": null,
      "right": null,
      "top": null,
      "visibility": null,
      "width": null
     }
    },
    "958d4234c7f646a2b5b10ca637c18c92": {
     "model_module": "@jupyter-widgets/controls",
     "model_module_version": "1.5.0",
     "model_name": "ProgressStyleModel",
     "state": {
      "_model_module": "@jupyter-widgets/controls",
      "_model_module_version": "1.5.0",
      "_model_name": "ProgressStyleModel",
      "_view_count": null,
      "_view_module": "@jupyter-widgets/base",
      "_view_module_version": "1.2.0",
      "_view_name": "StyleView",
      "bar_color": null,
      "description_width": ""
     }
    },
    "9b8c05277ef54e61afe774c10bb535a3": {
     "model_module": "@jupyter-widgets/controls",
     "model_module_version": "1.5.0",
     "model_name": "HTMLModel",
     "state": {
      "_dom_classes": [],
      "_model_module": "@jupyter-widgets/controls",
      "_model_module_version": "1.5.0",
      "_model_name": "HTMLModel",
      "_view_count": null,
      "_view_module": "@jupyter-widgets/controls",
      "_view_module_version": "1.5.0",
      "_view_name": "HTMLView",
      "description": "",
      "description_tooltip": null,
      "layout": "IPY_MODEL_33ee8e82261d4dca89b58b9dc1ff4f80",
      "placeholder": "​",
      "style": "IPY_MODEL_06f0bf115f9149509c02453f466bbe65",
      "value": "vocab.txt: 100%"
     }
    },
    "a37e6bce6859487096e9f48bc20054cc": {
     "model_module": "@jupyter-widgets/controls",
     "model_module_version": "1.5.0",
     "model_name": "FloatProgressModel",
     "state": {
      "_dom_classes": [],
      "_model_module": "@jupyter-widgets/controls",
      "_model_module_version": "1.5.0",
      "_model_name": "FloatProgressModel",
      "_view_count": null,
      "_view_module": "@jupyter-widgets/controls",
      "_view_module_version": "1.5.0",
      "_view_name": "ProgressView",
      "bar_style": "success",
      "description": "",
      "description_tooltip": null,
      "layout": "IPY_MODEL_71b5935c69934928b0caad9c7977c40c",
      "max": 466062,
      "min": 0,
      "orientation": "horizontal",
      "style": "IPY_MODEL_b09088b2f24e454dadb210880649d787",
      "value": 466062
     }
    },
    "b09088b2f24e454dadb210880649d787": {
     "model_module": "@jupyter-widgets/controls",
     "model_module_version": "1.5.0",
     "model_name": "ProgressStyleModel",
     "state": {
      "_model_module": "@jupyter-widgets/controls",
      "_model_module_version": "1.5.0",
      "_model_name": "ProgressStyleModel",
      "_view_count": null,
      "_view_module": "@jupyter-widgets/base",
      "_view_module_version": "1.2.0",
      "_view_name": "StyleView",
      "bar_color": null,
      "description_width": ""
     }
    },
    "b3098c8020f440bd80daa7cbd09309d6": {
     "model_module": "@jupyter-widgets/controls",
     "model_module_version": "1.5.0",
     "model_name": "HBoxModel",
     "state": {
      "_dom_classes": [],
      "_model_module": "@jupyter-widgets/controls",
      "_model_module_version": "1.5.0",
      "_model_name": "HBoxModel",
      "_view_count": null,
      "_view_module": "@jupyter-widgets/controls",
      "_view_module_version": "1.5.0",
      "_view_name": "HBoxView",
      "box_style": "",
      "children": [
       "IPY_MODEL_fb46a16371874b8c83b86d346f48b32a",
       "IPY_MODEL_6746fd4587dd4bc6be97f85882d8546e",
       "IPY_MODEL_75e1e47f9633458cb06b1ee302a19739"
      ],
      "layout": "IPY_MODEL_89fffb5ed50f45e8b08225a71f812b6a"
     }
    },
    "bf60ba6405ed4279a809ce28daa6d1ef": {
     "model_module": "@jupyter-widgets/controls",
     "model_module_version": "1.5.0",
     "model_name": "HTMLModel",
     "state": {
      "_dom_classes": [],
      "_model_module": "@jupyter-widgets/controls",
      "_model_module_version": "1.5.0",
      "_model_name": "HTMLModel",
      "_view_count": null,
      "_view_module": "@jupyter-widgets/controls",
      "_view_module_version": "1.5.0",
      "_view_name": "HTMLView",
      "description": "",
      "description_tooltip": null,
      "layout": "IPY_MODEL_fd066f9d6b60420eb5fbbb2b645c63c3",
      "placeholder": "​",
      "style": "IPY_MODEL_42a037cbabf144e299fc744abf72bf46",
      "value": "config.json: 100%"
     }
    },
    "d6af33d35ec54142afe656d795565bb0": {
     "model_module": "@jupyter-widgets/controls",
     "model_module_version": "1.5.0",
     "model_name": "HBoxModel",
     "state": {
      "_dom_classes": [],
      "_model_module": "@jupyter-widgets/controls",
      "_model_module_version": "1.5.0",
      "_model_name": "HBoxModel",
      "_view_count": null,
      "_view_module": "@jupyter-widgets/controls",
      "_view_module_version": "1.5.0",
      "_view_name": "HBoxView",
      "box_style": "",
      "children": [
       "IPY_MODEL_23ba17cc6fad4c8ca1a95a55d58bb9e7",
       "IPY_MODEL_652f5302ee20454ba541a604457ba287",
       "IPY_MODEL_8c2dac873694490e99648e2e3d59d850"
      ],
      "layout": "IPY_MODEL_7e3de6eb669841e9b42228ea5d465931"
     }
    },
    "d736598736d6428b9f0cffc51078cd29": {
     "model_module": "@jupyter-widgets/controls",
     "model_module_version": "1.5.0",
     "model_name": "HTMLModel",
     "state": {
      "_dom_classes": [],
      "_model_module": "@jupyter-widgets/controls",
      "_model_module_version": "1.5.0",
      "_model_name": "HTMLModel",
      "_view_count": null,
      "_view_module": "@jupyter-widgets/controls",
      "_view_module_version": "1.5.0",
      "_view_name": "HTMLView",
      "description": "",
      "description_tooltip": null,
      "layout": "IPY_MODEL_61deffda347e4e97a5a750f2c8228143",
      "placeholder": "​",
      "style": "IPY_MODEL_f9b96f6474bf4aad8cf17562edf9731b",
      "value": " 483/483 [00:00&lt;00:00, 9.16kB/s]"
     }
    },
    "da4d71e096db49e0915de2c5adf33546": {
     "model_module": "@jupyter-widgets/controls",
     "model_module_version": "1.5.0",
     "model_name": "HTMLModel",
     "state": {
      "_dom_classes": [],
      "_model_module": "@jupyter-widgets/controls",
      "_model_module_version": "1.5.0",
      "_model_name": "HTMLModel",
      "_view_count": null,
      "_view_module": "@jupyter-widgets/controls",
      "_view_module_version": "1.5.0",
      "_view_name": "HTMLView",
      "description": "",
      "description_tooltip": null,
      "layout": "IPY_MODEL_4baedbbe0410436caf1c270b64e4913d",
      "placeholder": "​",
      "style": "IPY_MODEL_e0d0bdf753a34edbaa91400cc046f8f8",
      "value": " 466k/466k [00:00&lt;00:00, 3.60MB/s]"
     }
    },
    "ddabdb9957d44660bc63a0c7ee5cf9b2": {
     "model_module": "@jupyter-widgets/base",
     "model_module_version": "1.2.0",
     "model_name": "LayoutModel",
     "state": {
      "_model_module": "@jupyter-widgets/base",
      "_model_module_version": "1.2.0",
      "_model_name": "LayoutModel",
      "_view_count": null,
      "_view_module": "@jupyter-widgets/base",
      "_view_module_version": "1.2.0",
      "_view_name": "LayoutView",
      "align_content": null,
      "align_items": null,
      "align_self": null,
      "border": null,
      "bottom": null,
      "display": null,
      "flex": null,
      "flex_flow": null,
      "grid_area": null,
      "grid_auto_columns": null,
      "grid_auto_flow": null,
      "grid_auto_rows": null,
      "grid_column": null,
      "grid_gap": null,
      "grid_row": null,
      "grid_template_areas": null,
      "grid_template_columns": null,
      "grid_template_rows": null,
      "height": null,
      "justify_content": null,
      "justify_items": null,
      "left": null,
      "margin": null,
      "max_height": null,
      "max_width": null,
      "min_height": null,
      "min_width": null,
      "object_fit": null,
      "object_position": null,
      "order": null,
      "overflow": null,
      "overflow_x": null,
      "overflow_y": null,
      "padding": null,
      "right": null,
      "top": null,
      "visibility": null,
      "width": null
     }
    },
    "e0d0bdf753a34edbaa91400cc046f8f8": {
     "model_module": "@jupyter-widgets/controls",
     "model_module_version": "1.5.0",
     "model_name": "DescriptionStyleModel",
     "state": {
      "_model_module": "@jupyter-widgets/controls",
      "_model_module_version": "1.5.0",
      "_model_name": "DescriptionStyleModel",
      "_view_count": null,
      "_view_module": "@jupyter-widgets/base",
      "_view_module_version": "1.2.0",
      "_view_name": "StyleView",
      "description_width": ""
     }
    },
    "e134690956ec44bdaf5fbf3af829c956": {
     "model_module": "@jupyter-widgets/controls",
     "model_module_version": "1.5.0",
     "model_name": "DescriptionStyleModel",
     "state": {
      "_model_module": "@jupyter-widgets/controls",
      "_model_module_version": "1.5.0",
      "_model_name": "DescriptionStyleModel",
      "_view_count": null,
      "_view_module": "@jupyter-widgets/base",
      "_view_module_version": "1.2.0",
      "_view_name": "StyleView",
      "description_width": ""
     }
    },
    "e39e4ab23b784ae0bd39ab8715c5859a": {
     "model_module": "@jupyter-widgets/base",
     "model_module_version": "1.2.0",
     "model_name": "LayoutModel",
     "state": {
      "_model_module": "@jupyter-widgets/base",
      "_model_module_version": "1.2.0",
      "_model_name": "LayoutModel",
      "_view_count": null,
      "_view_module": "@jupyter-widgets/base",
      "_view_module_version": "1.2.0",
      "_view_name": "LayoutView",
      "align_content": null,
      "align_items": null,
      "align_self": null,
      "border": null,
      "bottom": null,
      "display": null,
      "flex": null,
      "flex_flow": null,
      "grid_area": null,
      "grid_auto_columns": null,
      "grid_auto_flow": null,
      "grid_auto_rows": null,
      "grid_column": null,
      "grid_gap": null,
      "grid_row": null,
      "grid_template_areas": null,
      "grid_template_columns": null,
      "grid_template_rows": null,
      "height": null,
      "justify_content": null,
      "justify_items": null,
      "left": null,
      "margin": null,
      "max_height": null,
      "max_width": null,
      "min_height": null,
      "min_width": null,
      "object_fit": null,
      "object_position": null,
      "order": null,
      "overflow": null,
      "overflow_x": null,
      "overflow_y": null,
      "padding": null,
      "right": null,
      "top": null,
      "visibility": null,
      "width": null
     }
    },
    "e54431e2825646da82ad937acbfae46d": {
     "model_module": "@jupyter-widgets/controls",
     "model_module_version": "1.5.0",
     "model_name": "HTMLModel",
     "state": {
      "_dom_classes": [],
      "_model_module": "@jupyter-widgets/controls",
      "_model_module_version": "1.5.0",
      "_model_name": "HTMLModel",
      "_view_count": null,
      "_view_module": "@jupyter-widgets/controls",
      "_view_module_version": "1.5.0",
      "_view_name": "HTMLView",
      "description": "",
      "description_tooltip": null,
      "layout": "IPY_MODEL_4ef68afcaaa44294801023e11f40426b",
      "placeholder": "​",
      "style": "IPY_MODEL_f42513586a1c4e8c80c24b6f8a8a211d",
      "value": " 232k/232k [00:00&lt;00:00, 1.80MB/s]"
     }
    },
    "e73f58ec796a4cdf8549ac8f3d88f4c9": {
     "model_module": "@jupyter-widgets/controls",
     "model_module_version": "1.5.0",
     "model_name": "DescriptionStyleModel",
     "state": {
      "_model_module": "@jupyter-widgets/controls",
      "_model_module_version": "1.5.0",
      "_model_name": "DescriptionStyleModel",
      "_view_count": null,
      "_view_module": "@jupyter-widgets/base",
      "_view_module_version": "1.2.0",
      "_view_name": "StyleView",
      "description_width": ""
     }
    },
    "e87d1d0c494f47fea671f343416813e2": {
     "model_module": "@jupyter-widgets/controls",
     "model_module_version": "1.5.0",
     "model_name": "FloatProgressModel",
     "state": {
      "_dom_classes": [],
      "_model_module": "@jupyter-widgets/controls",
      "_model_module_version": "1.5.0",
      "_model_name": "FloatProgressModel",
      "_view_count": null,
      "_view_module": "@jupyter-widgets/controls",
      "_view_module_version": "1.5.0",
      "_view_name": "ProgressView",
      "bar_style": "success",
      "description": "",
      "description_tooltip": null,
      "layout": "IPY_MODEL_e39e4ab23b784ae0bd39ab8715c5859a",
      "max": 231508,
      "min": 0,
      "orientation": "horizontal",
      "style": "IPY_MODEL_896d16c217bc42dda93cec34b78f742c",
      "value": 231508
     }
    },
    "ec6e81780a344d1f920291964c3038ec": {
     "model_module": "@jupyter-widgets/controls",
     "model_module_version": "1.5.0",
     "model_name": "HBoxModel",
     "state": {
      "_dom_classes": [],
      "_model_module": "@jupyter-widgets/controls",
      "_model_module_version": "1.5.0",
      "_model_name": "HBoxModel",
      "_view_count": null,
      "_view_module": "@jupyter-widgets/controls",
      "_view_module_version": "1.5.0",
      "_view_name": "HBoxView",
      "box_style": "",
      "children": [
       "IPY_MODEL_bf60ba6405ed4279a809ce28daa6d1ef",
       "IPY_MODEL_2df89f7be0914916a7891e18e2dc65cc",
       "IPY_MODEL_d736598736d6428b9f0cffc51078cd29"
      ],
      "layout": "IPY_MODEL_312967a2a10041748a7a5fc2b0fc6012"
     }
    },
    "ec75548e2fbe491a81489df9dcd77a57": {
     "model_module": "@jupyter-widgets/base",
     "model_module_version": "1.2.0",
     "model_name": "LayoutModel",
     "state": {
      "_model_module": "@jupyter-widgets/base",
      "_model_module_version": "1.2.0",
      "_model_name": "LayoutModel",
      "_view_count": null,
      "_view_module": "@jupyter-widgets/base",
      "_view_module_version": "1.2.0",
      "_view_name": "LayoutView",
      "align_content": null,
      "align_items": null,
      "align_self": null,
      "border": null,
      "bottom": null,
      "display": null,
      "flex": null,
      "flex_flow": null,
      "grid_area": null,
      "grid_auto_columns": null,
      "grid_auto_flow": null,
      "grid_auto_rows": null,
      "grid_column": null,
      "grid_gap": null,
      "grid_row": null,
      "grid_template_areas": null,
      "grid_template_columns": null,
      "grid_template_rows": null,
      "height": null,
      "justify_content": null,
      "justify_items": null,
      "left": null,
      "margin": null,
      "max_height": null,
      "max_width": null,
      "min_height": null,
      "min_width": null,
      "object_fit": null,
      "object_position": null,
      "order": null,
      "overflow": null,
      "overflow_x": null,
      "overflow_y": null,
      "padding": null,
      "right": null,
      "top": null,
      "visibility": null,
      "width": null
     }
    },
    "f42513586a1c4e8c80c24b6f8a8a211d": {
     "model_module": "@jupyter-widgets/controls",
     "model_module_version": "1.5.0",
     "model_name": "DescriptionStyleModel",
     "state": {
      "_model_module": "@jupyter-widgets/controls",
      "_model_module_version": "1.5.0",
      "_model_name": "DescriptionStyleModel",
      "_view_count": null,
      "_view_module": "@jupyter-widgets/base",
      "_view_module_version": "1.2.0",
      "_view_name": "StyleView",
      "description_width": ""
     }
    },
    "f9b96f6474bf4aad8cf17562edf9731b": {
     "model_module": "@jupyter-widgets/controls",
     "model_module_version": "1.5.0",
     "model_name": "DescriptionStyleModel",
     "state": {
      "_model_module": "@jupyter-widgets/controls",
      "_model_module_version": "1.5.0",
      "_model_name": "DescriptionStyleModel",
      "_view_count": null,
      "_view_module": "@jupyter-widgets/base",
      "_view_module_version": "1.2.0",
      "_view_name": "StyleView",
      "description_width": ""
     }
    },
    "fb46a16371874b8c83b86d346f48b32a": {
     "model_module": "@jupyter-widgets/controls",
     "model_module_version": "1.5.0",
     "model_name": "HTMLModel",
     "state": {
      "_dom_classes": [],
      "_model_module": "@jupyter-widgets/controls",
      "_model_module_version": "1.5.0",
      "_model_name": "HTMLModel",
      "_view_count": null,
      "_view_module": "@jupyter-widgets/controls",
      "_view_module_version": "1.5.0",
      "_view_name": "HTMLView",
      "description": "",
      "description_tooltip": null,
      "layout": "IPY_MODEL_61a44516610241cebf7920e3db698ab7",
      "placeholder": "​",
      "style": "IPY_MODEL_7a606859406b4f42a2729b268dea524b",
      "value": "model.safetensors: 100%"
     }
    },
    "fd066f9d6b60420eb5fbbb2b645c63c3": {
     "model_module": "@jupyter-widgets/base",
     "model_module_version": "1.2.0",
     "model_name": "LayoutModel",
     "state": {
      "_model_module": "@jupyter-widgets/base",
      "_model_module_version": "1.2.0",
      "_model_name": "LayoutModel",
      "_view_count": null,
      "_view_module": "@jupyter-widgets/base",
      "_view_module_version": "1.2.0",
      "_view_name": "LayoutView",
      "align_content": null,
      "align_items": null,
      "align_self": null,
      "border": null,
      "bottom": null,
      "display": null,
      "flex": null,
      "flex_flow": null,
      "grid_area": null,
      "grid_auto_columns": null,
      "grid_auto_flow": null,
      "grid_auto_rows": null,
      "grid_column": null,
      "grid_gap": null,
      "grid_row": null,
      "grid_template_areas": null,
      "grid_template_columns": null,
      "grid_template_rows": null,
      "height": null,
      "justify_content": null,
      "justify_items": null,
      "left": null,
      "margin": null,
      "max_height": null,
      "max_width": null,
      "min_height": null,
      "min_width": null,
      "object_fit": null,
      "object_position": null,
      "order": null,
      "overflow": null,
      "overflow_x": null,
      "overflow_y": null,
      "padding": null,
      "right": null,
      "top": null,
      "visibility": null,
      "width": null
     }
    }
   }
  }
 },
 "nbformat": 4,
 "nbformat_minor": 4
}
