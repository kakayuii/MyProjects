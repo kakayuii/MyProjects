{
  "cells": [
    {
      "cell_type": "code",
      "execution_count": 1,
      "metadata": {
        "colab": {
          "base_uri": "https://localhost:8080/"
        },
        "id": "ZnzhvT7nQAzg",
        "outputId": "e0d816f8-7db4-4e09-9239-91030f6b436a"
      },
      "outputs": [
        {
          "name": "stdout",
          "output_type": "stream",
          "text": [
            "Collecting transformers==4.35.2\n",
            "  Downloading transformers-4.35.2-py3-none-any.whl (7.9 MB)\n",
            "\u001b[2K     \u001b[90m━━━━━━━━━━━━━━━━━━━━━━━━━━━━━━━━━━━━━━━━\u001b[0m \u001b[32m7.9/7.9 MB\u001b[0m \u001b[31m14.1 MB/s\u001b[0m eta \u001b[36m0:00:00\u001b[0m\n",
            "\u001b[?25hRequirement already satisfied: filelock in /usr/local/lib/python3.10/dist-packages (from transformers==4.35.2) (3.13.4)\n",
            "Requirement already satisfied: huggingface-hub<1.0,>=0.16.4 in /usr/local/lib/python3.10/dist-packages (from transformers==4.35.2) (0.20.3)\n",
            "Requirement already satisfied: numpy>=1.17 in /usr/local/lib/python3.10/dist-packages (from transformers==4.35.2) (1.25.2)\n",
            "Requirement already satisfied: packaging>=20.0 in /usr/local/lib/python3.10/dist-packages (from transformers==4.35.2) (24.0)\n",
            "Requirement already satisfied: pyyaml>=5.1 in /usr/local/lib/python3.10/dist-packages (from transformers==4.35.2) (6.0.1)\n",
            "Requirement already satisfied: regex!=2019.12.17 in /usr/local/lib/python3.10/dist-packages (from transformers==4.35.2) (2023.12.25)\n",
            "Requirement already satisfied: requests in /usr/local/lib/python3.10/dist-packages (from transformers==4.35.2) (2.31.0)\n",
            "Requirement already satisfied: tokenizers<0.19,>=0.14 in /usr/local/lib/python3.10/dist-packages (from transformers==4.35.2) (0.15.2)\n",
            "Requirement already satisfied: safetensors>=0.3.1 in /usr/local/lib/python3.10/dist-packages (from transformers==4.35.2) (0.4.2)\n",
            "Requirement already satisfied: tqdm>=4.27 in /usr/local/lib/python3.10/dist-packages (from transformers==4.35.2) (4.66.2)\n",
            "Requirement already satisfied: fsspec>=2023.5.0 in /usr/local/lib/python3.10/dist-packages (from huggingface-hub<1.0,>=0.16.4->transformers==4.35.2) (2023.6.0)\n",
            "Requirement already satisfied: typing-extensions>=3.7.4.3 in /usr/local/lib/python3.10/dist-packages (from huggingface-hub<1.0,>=0.16.4->transformers==4.35.2) (4.11.0)\n",
            "Requirement already satisfied: charset-normalizer<4,>=2 in /usr/local/lib/python3.10/dist-packages (from requests->transformers==4.35.2) (3.3.2)\n",
            "Requirement already satisfied: idna<4,>=2.5 in /usr/local/lib/python3.10/dist-packages (from requests->transformers==4.35.2) (3.6)\n",
            "Requirement already satisfied: urllib3<3,>=1.21.1 in /usr/local/lib/python3.10/dist-packages (from requests->transformers==4.35.2) (2.0.7)\n",
            "Requirement already satisfied: certifi>=2017.4.17 in /usr/local/lib/python3.10/dist-packages (from requests->transformers==4.35.2) (2024.2.2)\n",
            "Installing collected packages: transformers\n",
            "  Attempting uninstall: transformers\n",
            "    Found existing installation: transformers 4.38.2\n",
            "    Uninstalling transformers-4.38.2:\n",
            "      Successfully uninstalled transformers-4.38.2\n",
            "Successfully installed transformers-4.35.2\n"
          ]
        }
      ],
      "source": [
        "# Use the old version of transformers to avoid a bug.\n",
        "!pip install transformers==4.35.2"
      ]
    },
    {
      "cell_type": "code",
      "execution_count": 2,
      "metadata": {
        "colab": {
          "base_uri": "https://localhost:8080/"
        },
        "id": "5Q4gGpZsxN2D",
        "outputId": "609be021-936e-4385-a846-0c495308e4a6"
      },
      "outputs": [
        {
          "name": "stdout",
          "output_type": "stream",
          "text": [
            "Mounted at /content/drive\n",
            "Archive:  swda.zip\n",
            "replace swda/.DS_Store? [y]es, [n]o, [A]ll, [N]one, [r]ename: "
          ]
        }
      ],
      "source": [
        "import os\n",
        "from google.colab import drive\n",
        "\n",
        "drive.mount('/content/drive', force_remount=True)\n",
        "\n",
        "os.chdir(\"/content/drive/MyDrive/where_contains_swda_folder\")\n",
        "!unzip swda.zip"
      ]
    },
    {
      "cell_type": "markdown",
      "metadata": {
        "id": "9_ZORURKg-fp"
      },
      "source": [
        "# Lab 10: Dialogue Act Tagging\n",
        "\n",
        "Dialogue act (DA) tagging is an essential step in the development of dialog systems. DA tagging is a problem that is usually solved using supervised machine learning techniques, which all require a large amount of manually labeled data. For DA tagging, a variety of methods have been investigated. In this lab, we'll look at two different DA classification models. The Switchboard Dialog Act Corpus is being used for training.\n",
        "Corpus can be downloaded from http://compprag.christopherpotts.net/swda.html.\n"
      ]
    },
    {
      "cell_type": "markdown",
      "metadata": {
        "id": "ziKyA9R4gyw9"
      },
      "source": [
        "The downloaded dataset should be kept in a data folder in the same directory as this file."
      ]
    },
    {
      "cell_type": "code",
      "execution_count": 3,
      "metadata": {
        "id": "jmTpKt_uefe5"
      },
      "outputs": [],
      "source": [
        "import pandas as pd\n",
        "import glob\n",
        "\n",
        "from keras.utils import pad_sequences\n",
        "from sklearn.model_selection import train_test_split\n",
        "import numpy as np\n",
        "\n",
        "import sklearn.metrics\n",
        "import tensorflow as tf\n",
        "import matplotlib.pyplot as plt\n",
        "from tqdm import tqdm_notebook as tqdm"
      ]
    },
    {
      "cell_type": "markdown",
      "metadata": {
        "id": "cY0C40pejhA9"
      },
      "source": [
        "\n",
        "### Bug: Reading a large number of files multiple times will cause Google Drive to crash. The temporary solution is to change to a new location, re-upload and decompress the data."
      ]
    },
    {
      "cell_type": "code",
      "execution_count": 4,
      "metadata": {
        "id": "6E8axaw1hAbM"
      },
      "outputs": [],
      "source": [
        "f = glob.glob(\"swda/sw*/sw*.csv\")\n",
        "frames = []\n",
        "for i in range(0, len(f)):\n",
        "    frames.append(pd.read_csv(f[i]))\n",
        "\n",
        "result = pd.concat(frames, ignore_index=True)\n"
      ]
    },
    {
      "cell_type": "code",
      "execution_count": 5,
      "metadata": {
        "colab": {
          "base_uri": "https://localhost:8080/"
        },
        "id": "b7hKGF7EhM4s",
        "outputId": "fd88f464-e9f2-496c-9523-36b99c6f7f0d"
      },
      "outputs": [
        {
          "name": "stdout",
          "output_type": "stream",
          "text": [
            "Number of converations in the dataset: 223606\n"
          ]
        }
      ],
      "source": [
        "print(\"Number of converations in the dataset:\",len(result))\n"
      ]
    },
    {
      "cell_type": "markdown",
      "metadata": {
        "id": "0ttyB2lQhc7B"
      },
      "source": [
        "The dataset has many different features, we are only using act_tag and text for this training.\n"
      ]
    },
    {
      "cell_type": "code",
      "execution_count": 6,
      "metadata": {
        "id": "-jUifIdshhD0"
      },
      "outputs": [],
      "source": [
        "reduced_df = result[['act_tag','text']]\n"
      ]
    },
    {
      "cell_type": "markdown",
      "metadata": {
        "id": "-iPmZvysqg2i"
      },
      "source": [
        "Reduce the number of tags to 43 by combining them and converting them to generic tags."
      ]
    },
    {
      "cell_type": "code",
      "execution_count": 7,
      "metadata": {
        "id": "MQuHm0jPt_lz"
      },
      "outputs": [],
      "source": [
        "# Imported from \"https://github.com/cgpotts/swda\"\n",
        "# Convert the combination tags to the generic 43 tags\n",
        "\n",
        "import re\n",
        "def damsl_act_tag(input):\n",
        "        \"\"\"\n",
        "        Seeks to duplicate the tag simplification described at the\n",
        "        Coders' Manual: http://www.stanford.edu/~jurafsky/ws97/manual.august1.html\n",
        "        \"\"\"\n",
        "        d_tags = []\n",
        "        tags = re.split(r\"\\s*[,;]\\s*\", input)\n",
        "        for tag in tags:\n",
        "            if tag in ('qy^d', 'qw^d', 'b^m'): pass\n",
        "            elif tag == 'nn^e': tag = 'ng'\n",
        "            elif tag == 'ny^e': tag = 'na'\n",
        "            else:\n",
        "                tag = re.sub(r'(.)\\^.*', r'\\1', tag)\n",
        "                tag = re.sub(r'[\\(\\)@*]', '', tag)\n",
        "                if tag in ('qr', 'qy'):                         tag = 'qy'\n",
        "                elif tag in ('fe', 'ba'):                       tag = 'ba'\n",
        "                elif tag in ('oo', 'co', 'cc'):                 tag = 'oo_co_cc'\n",
        "                elif tag in ('fx', 'sv'):                       tag = 'sv'\n",
        "                elif tag in ('aap', 'am'):                      tag = 'aap_am'\n",
        "                elif tag in ('arp', 'nd'):                      tag = 'arp_nd'\n",
        "                elif tag in ('fo', 'o', 'fw', '\"', 'by', 'bc'): tag = 'fo_o_fw_\"_by_bc'\n",
        "            d_tags.append(tag)\n",
        "        # Dan J says (p.c.) that it makes sense to take the first;\n",
        "        # there are only a handful of examples with 2 tags here.\n",
        "        return d_tags[0]"
      ]
    },
    {
      "cell_type": "code",
      "execution_count": 8,
      "metadata": {
        "colab": {
          "base_uri": "https://localhost:8080/"
        },
        "id": "S8N_PUCAblq3",
        "outputId": "29a5e147-18ae-4c3b-97d8-a0b19fee6a67"
      },
      "outputs": [
        {
          "name": "stderr",
          "output_type": "stream",
          "text": [
            "<ipython-input-8-3a505b615f58>:1: SettingWithCopyWarning: \n",
            "A value is trying to be set on a copy of a slice from a DataFrame.\n",
            "Try using .loc[row_indexer,col_indexer] = value instead\n",
            "\n",
            "See the caveats in the documentation: https://pandas.pydata.org/pandas-docs/stable/user_guide/indexing.html#returning-a-view-versus-a-copy\n",
            "  reduced_df[\"act_tag\"] = reduced_df[\"act_tag\"].apply(lambda x: damsl_act_tag(x))\n"
          ]
        }
      ],
      "source": [
        "reduced_df[\"act_tag\"] = reduced_df[\"act_tag\"].apply(lambda x: damsl_act_tag(x))"
      ]
    },
    {
      "cell_type": "markdown",
      "metadata": {
        "id": "0UNy0vvhhqpD"
      },
      "source": [
        "This dataset contains 43 tags. Yes-No-Question ('qy'), Statement-non-opinion ('sd'), and Statement-opinion ('sv') are some of the tags. Tags information can be found here http://compprag.christopherpotts.net/swda.html#tags.\n"
      ]
    },
    {
      "cell_type": "markdown",
      "metadata": {
        "id": "9dR1rKmkh9QG"
      },
      "source": [
        "You can check the frequency of tags."
      ]
    },
    {
      "cell_type": "markdown",
      "metadata": {
        "id": "9biiyP8UiGDe"
      },
      "source": [
        "To get unique tags:"
      ]
    },
    {
      "cell_type": "code",
      "execution_count": 9,
      "metadata": {
        "id": "BrhW8gyLfQQK"
      },
      "outputs": [],
      "source": [
        "unique_tags = set()\n",
        "for tag in reduced_df['act_tag']:\n",
        "    unique_tags.add(tag)"
      ]
    },
    {
      "cell_type": "code",
      "execution_count": 10,
      "metadata": {
        "id": "LMOX5KwgiPmu"
      },
      "outputs": [],
      "source": [
        "one_hot_encoding_dic = pd.get_dummies(list(unique_tags))\n"
      ]
    },
    {
      "cell_type": "code",
      "execution_count": 11,
      "metadata": {
        "id": "ZPHPCxE3iPby"
      },
      "outputs": [],
      "source": [
        "tags_encoding = []\n",
        "for i in range(0, len(reduced_df)):\n",
        "    tags_encoding.append(one_hot_encoding_dic[reduced_df['act_tag'].iloc[i]])"
      ]
    },
    {
      "cell_type": "markdown",
      "metadata": {
        "id": "LVI8QyVzjqWh"
      },
      "source": [
        "The tags are one hot encoded."
      ]
    },
    {
      "cell_type": "markdown",
      "metadata": {
        "id": "SQJTiffPjUtu"
      },
      "source": [
        "To create sentence embeddings:"
      ]
    },
    {
      "cell_type": "code",
      "execution_count": 12,
      "metadata": {
        "id": "PmkyD1TfjWGO"
      },
      "outputs": [],
      "source": [
        "sentences = []\n",
        "for i in range(0, len(reduced_df)):\n",
        "    sentences.append(reduced_df['text'].iloc[i].split(\" \"))\n"
      ]
    },
    {
      "cell_type": "code",
      "execution_count": 13,
      "metadata": {
        "id": "MlD6L6e3jV-7"
      },
      "outputs": [],
      "source": [
        "wordvectors = {}\n",
        "index = 1\n",
        "for s in sentences:\n",
        "    for w in s:\n",
        "        if w not in wordvectors:\n",
        "            wordvectors[w] = index\n",
        "            index += 1"
      ]
    },
    {
      "cell_type": "code",
      "execution_count": 14,
      "metadata": {
        "id": "LX6DidEvjVWs"
      },
      "outputs": [],
      "source": [
        "sentence_embeddings = []\n",
        "for s in sentences:\n",
        "    sentence_emb = []\n",
        "    for w in s:\n",
        "        sentence_emb.append(wordvectors[w])\n",
        "    sentence_embeddings.append(sentence_emb)\n"
      ]
    },
    {
      "cell_type": "markdown",
      "metadata": {
        "id": "Nr4iEyNTjmlu"
      },
      "source": [
        "The dataset is divided into two sections: test and training."
      ]
    },
    {
      "cell_type": "code",
      "execution_count": 15,
      "metadata": {
        "id": "GiNZ-iI_jnOF"
      },
      "outputs": [],
      "source": [
        "from sklearn.model_selection import train_test_split\n",
        "import numpy as np\n",
        "X_train, X_test, y_train, y_test = train_test_split(sentence_embeddings, np.array(tags_encoding),shuffle=False, stratify=None)\n"
      ]
    },
    {
      "cell_type": "markdown",
      "metadata": {
        "id": "_RqMeWe_jron"
      },
      "source": [
        "Pad each utterance to make them all the same length.\n",
        "\n",
        "\n"
      ]
    },
    {
      "cell_type": "code",
      "execution_count": 16,
      "metadata": {
        "id": "yqD7DvzRGRY7"
      },
      "outputs": [],
      "source": [
        "MAX_LENGTH = 128\n",
        "BATCH_SZIE = 4096"
      ]
    },
    {
      "cell_type": "code",
      "execution_count": 17,
      "metadata": {
        "id": "Ai9cwv82jufe"
      },
      "outputs": [],
      "source": [
        "train_sentences_X = pad_sequences(X_train, maxlen=MAX_LENGTH, padding='post')\n",
        "test_sentences_X = pad_sequences(X_test, maxlen=MAX_LENGTH, padding='post')"
      ]
    },
    {
      "cell_type": "code",
      "execution_count": 18,
      "metadata": {
        "id": "517zYSQLXkbn"
      },
      "outputs": [],
      "source": [
        "# Split Train into Train and Validation - about 10% into validation - In order to validate the model as it is training\n",
        "\n",
        "train_input = train_sentences_X[:140000]\n",
        "val_input = train_sentences_X[140000:]\n",
        "\n",
        "train_labels = y_train[:140000]\n",
        "val_labels = y_train[140000:]\n"
      ]
    },
    {
      "cell_type": "code",
      "execution_count": 19,
      "metadata": {
        "colab": {
          "base_uri": "https://localhost:8080/"
        },
        "id": "igsWGlltd9Bs",
        "outputId": "7db684d5-af5d-46ff-c275-eab744e8d777"
      },
      "outputs": [
        {
          "data": {
            "text/plain": [
              "array([  29,  236,    6,    9,   10,   52,   22,  804,  679, 7015,    0,\n",
              "          0,    0,    0,    0,    0,    0,    0,    0,    0,    0,    0,\n",
              "          0,    0,    0,    0,    0,    0,    0,    0,    0,    0,    0,\n",
              "          0,    0,    0,    0,    0,    0,    0,    0,    0,    0,    0,\n",
              "          0,    0,    0,    0,    0,    0,    0,    0,    0,    0,    0,\n",
              "          0,    0,    0,    0,    0,    0,    0,    0,    0,    0,    0,\n",
              "          0,    0,    0,    0,    0,    0,    0,    0,    0,    0,    0,\n",
              "          0,    0,    0,    0,    0,    0,    0,    0,    0,    0,    0,\n",
              "          0,    0,    0,    0,    0,    0,    0,    0,    0,    0,    0,\n",
              "          0,    0,    0,    0,    0,    0,    0,    0,    0,    0,    0,\n",
              "          0,    0,    0,    0,    0,    0,    0,    0,    0,    0,    0,\n",
              "          0,    0,    0,    0,    0,    0,    0], dtype=int32)"
            ]
          },
          "execution_count": 19,
          "metadata": {},
          "output_type": "execute_result"
        }
      ],
      "source": [
        "train_input[11050]\n"
      ]
    },
    {
      "cell_type": "code",
      "execution_count": 20,
      "metadata": {
        "colab": {
          "base_uri": "https://localhost:8080/"
        },
        "id": "RMHV2AoseXYT",
        "outputId": "857a23e7-3aea-43d5-fea2-48ed0439d623"
      },
      "outputs": [
        {
          "data": {
            "text/plain": [
              "[29, 236, 6, 9, 10, 52, 22, 804, 679, 7015]"
            ]
          },
          "execution_count": 20,
          "metadata": {},
          "output_type": "execute_result"
        }
      ],
      "source": [
        "sentence_embeddings[11050]"
      ]
    },
    {
      "cell_type": "markdown",
      "metadata": {
        "id": "kHJbZDtk7N-3"
      },
      "source": [
        "# Model 1 -\n",
        "\n",
        "This first model has an architecture of:\n",
        "\n",
        "- Embedding  \n",
        "- BLSTM  \n",
        "- Fully Connected Layer\n",
        "- Softmax Activation"
      ]
    },
    {
      "cell_type": "markdown",
      "metadata": {
        "id": "FItlHC1Fjz6y"
      },
      "source": [
        "The model architecture is as follows: Embedding Layer (to generate word\n",
        "embeddings). Next layer Bidirectional LSTM. Feed forward layer with number of neurons = number of tags. Softmax activation to get probabilities.\n"
      ]
    },
    {
      "cell_type": "code",
      "execution_count": 21,
      "metadata": {
        "id": "M97Sw5iv-lEU"
      },
      "outputs": [],
      "source": [
        "VOCAB_SIZE = len(wordvectors)+1 # 43,731\n",
        "EMBED_SIZE = 100 # arbitary\n",
        "HIDDEN_SIZE = len(unique_tags)"
      ]
    },
    {
      "cell_type": "code",
      "execution_count": 22,
      "metadata": {
        "colab": {
          "base_uri": "https://localhost:8080/"
        },
        "id": "LCaX-ptaj8G2",
        "outputId": "347143d1-b049-40ad-fccf-cfe833342161"
      },
      "outputs": [
        {
          "name": "stdout",
          "output_type": "stream",
          "text": [
            "Model: \"sequential\"\n",
            "_________________________________________________________________\n",
            " Layer (type)                Output Shape              Param #   \n",
            "=================================================================\n",
            " embedding (Embedding)       (None, 128, 100)          4373200   \n",
            "                                                                 \n",
            " bidirectional (Bidirection  (None, 128, 86)           49536     \n",
            " al)                                                             \n",
            "                                                                 \n",
            " bidirectional_1 (Bidirecti  (None, 86)                44720     \n",
            " onal)                                                           \n",
            "                                                                 \n",
            " dense (Dense)               (None, 43)                3741      \n",
            "                                                                 \n",
            " activation (Activation)     (None, 43)                0         \n",
            "                                                                 \n",
            "=================================================================\n",
            "Total params: 4471197 (17.06 MB)\n",
            "Trainable params: 4471197 (17.06 MB)\n",
            "Non-trainable params: 0 (0.00 Byte)\n",
            "_________________________________________________________________\n"
          ]
        }
      ],
      "source": [
        "from keras.models import Sequential\n",
        "from keras.layers import LSTM\n",
        "from keras.layers import Dense\n",
        "from keras.layers import Dropout, InputLayer, Bidirectional, TimeDistributed, Activation, Embedding\n",
        "\n",
        "#Building the network\n",
        "# Include 2 BLSTM layers, in order to capture both the forward and backward hidden states\n",
        "model = Sequential()\n",
        "\n",
        "# Embedding layer\n",
        "model.add(Embedding(input_dim=VOCAB_SIZE, output_dim=EMBED_SIZE, input_length=128))\n",
        "# Bidirectional 1\n",
        "model.add(Bidirectional(LSTM(units=HIDDEN_SIZE, return_sequences=True)))\n",
        "# Bidirectional 2\n",
        "model.add(Bidirectional(LSTM(units=HIDDEN_SIZE, return_sequences=False)))\n",
        "\n",
        "# Dense layer\n",
        "model.add(Dense(HIDDEN_SIZE))\n",
        "# Activation\n",
        "model.add(Activation('softmax'))\n",
        "\n",
        "\n",
        "model.compile(loss='categorical_crossentropy',optimizer='adam',metrics=['accuracy'])\n",
        "\n",
        "model.summary()"
      ]
    },
    {
      "cell_type": "code",
      "execution_count": 23,
      "metadata": {
        "colab": {
          "base_uri": "https://localhost:8080/"
        },
        "id": "OeiLkgD3Arpl",
        "outputId": "29652ddc-be03-4549-ce33-8f6709c2f61e"
      },
      "outputs": [
        {
          "name": "stdout",
          "output_type": "stream",
          "text": [
            "Epoch 1/5\n",
            "1094/1094 [==============================] - 939s 850ms/step - loss: 1.4197 - accuracy: 0.5981 - val_loss: 1.1020 - val_accuracy: 0.6595\n",
            "Epoch 2/5\n",
            "1094/1094 [==============================] - 913s 835ms/step - loss: 1.0228 - accuracy: 0.7006 - val_loss: 0.9470 - val_accuracy: 0.7181\n",
            "Epoch 3/5\n",
            "1094/1094 [==============================] - 899s 822ms/step - loss: 0.8726 - accuracy: 0.7417 - val_loss: 0.9083 - val_accuracy: 0.7163\n",
            "Epoch 4/5\n",
            "1094/1094 [==============================] - 917s 838ms/step - loss: 0.7783 - accuracy: 0.7660 - val_loss: 0.9104 - val_accuracy: 0.7187\n",
            "Epoch 5/5\n",
            "1094/1094 [==============================] - 910s 832ms/step - loss: 0.7095 - accuracy: 0.7843 - val_loss: 0.9290 - val_accuracy: 0.7154\n"
          ]
        },
        {
          "data": {
            "text/plain": [
              "<keras.src.callbacks.History at 0x7c27fc2b7b50>"
            ]
          },
          "execution_count": 23,
          "metadata": {},
          "output_type": "execute_result"
        }
      ],
      "source": [
        "# Train the model - use validation\n",
        "\n",
        "model.fit(train_input, train_labels, batch_size=128, epochs=5, validation_data=(val_input, val_labels))"
      ]
    },
    {
      "cell_type": "code",
      "execution_count": 24,
      "metadata": {
        "colab": {
          "base_uri": "https://localhost:8080/"
        },
        "id": "2LkONUKQkSrL",
        "outputId": "9ab2c5d7-f7da-4c8d-a6f6-bcc9617d8e53"
      },
      "outputs": [
        {
          "name": "stdout",
          "output_type": "stream",
          "text": [
            "14/14 [==============================] - 74s 5s/step - loss: 1.0179 - accuracy: 0.6981\n"
          ]
        }
      ],
      "source": [
        "score = model.evaluate(test_sentences_X, y_test, batch_size=BATCH_SZIE)"
      ]
    },
    {
      "cell_type": "code",
      "execution_count": 25,
      "metadata": {
        "colab": {
          "base_uri": "https://localhost:8080/"
        },
        "id": "Ab0ZL1dqkTY4",
        "outputId": "577a58c7-3eec-45a5-d98e-ae6e7337020f"
      },
      "outputs": [
        {
          "name": "stdout",
          "output_type": "stream",
          "text": [
            "Overall Accuracy: 69.80966925621033\n"
          ]
        }
      ],
      "source": [
        "print(\"Overall Accuracy:\", score[1]*100)\n"
      ]
    },
    {
      "cell_type": "markdown",
      "metadata": {
        "id": "LhMViQVSPY1J"
      },
      "source": [
        "## Evaluation\n",
        "\n",
        "\n"
      ]
    },
    {
      "cell_type": "markdown",
      "metadata": {
        "id": "XHwoVCEwjEz7"
      },
      "source": [
        "You should look at the accuracy of some minority classes in addition to overall\n",
        "accuracy. Signal-non-understanding ('br') is a good indicator of \"other-repair,\" or situations in which the other conversational participant tries to correct the speaker's mistake. In dialogue summarization, the term \"summarize/reformulate\" ('bf') has been used. Report on the system's accuracy in predicting these classes, as well as any common errors you notice."
      ]
    },
    {
      "cell_type": "markdown",
      "metadata": {
        "id": "H7owA1f27se8"
      },
      "source": [
        "## Minority Classes"
      ]
    },
    {
      "cell_type": "code",
      "execution_count": 26,
      "metadata": {
        "colab": {
          "base_uri": "https://localhost:8080/"
        },
        "id": "UZ8BwgDxNcIr",
        "outputId": "b58b97a8-f305-4e73-ff27-d8782c9e8aea"
      },
      "outputs": [
        {
          "name": "stdout",
          "output_type": "stream",
          "text": [
            "1747/1747 [==============================] - 125s 70ms/step\n"
          ]
        }
      ],
      "source": [
        "# Generate predictions for the test data\n",
        "predictions = model.predict(test_sentences_X)\n"
      ]
    },
    {
      "cell_type": "code",
      "execution_count": 27,
      "metadata": {
        "colab": {
          "base_uri": "https://localhost:8080/"
        },
        "id": "5I26g20qQdzF",
        "outputId": "7d22450f-d84c-4a88-c7da-f6d9341483bf"
      },
      "outputs": [
        {
          "name": "stdout",
          "output_type": "stream",
          "text": [
            "predicted_format [22 28 28 ... 22  1 28]\n"
          ]
        }
      ],
      "source": [
        "# Build the confusion matrix off these predictions\n",
        "from sklearn.metrics import confusion_matrix\n",
        "\n",
        "num_classes = predictions.shape[1]\n",
        "predicted_format = np.argmax(predictions, axis=1)\n",
        "if y_test.ndim > 1:\n",
        "    y_test = np.argmax(y_test, axis=1)\n",
        "# predicted_format = np.eye(num_cy_test = np.argmax(y_test, axis=1)lasses)[predicted_classes]\n",
        "\n",
        "cm = confusion_matrix(predicted_format, y_test)\n",
        "\n",
        "print('predicted_format',predicted_format)\n",
        "# print('y_test',y_test.shape)\n",
        "\n"
      ]
    },
    {
      "cell_type": "code",
      "execution_count": 28,
      "metadata": {
        "colab": {
          "base_uri": "https://localhost:8080/"
        },
        "id": "muWtF2t0W0zd",
        "outputId": "b0e6256b-cfd0-4b9f-ff44-57d24eab8b7d"
      },
      "outputs": [
        {
          "name": "stdout",
          "output_type": "stream",
          "text": [
            "br_index 15\n",
            "bf_index 13\n",
            "[92 14 11  2  0  0  4  0  0  0  1  0  1  0  0  0 59  0  0 15 93  0  6  2\n",
            "  1  1  0  0  2  0  0  0  1  0  0  0  0  0 84  0  0  1  6]\n",
            "Accuracy for 'br': 39.66%\n",
            "Accuracy for 'bf': 2.33%\n"
          ]
        }
      ],
      "source": [
        "\n",
        "unique_tags_list=list(unique_tags)\n",
        "br_index = unique_tags_list.index('br')\n",
        "bf_index = unique_tags_list.index('bf')\n",
        "\n",
        "print('br_index',br_index)\n",
        "print('bf_index',bf_index)\n",
        "print(cm[0])\n",
        "\n",
        "# Calculate and print accuracies\n",
        "tp_br = cm[br_index, br_index]\n",
        "total_predictions_br = sum(cm[br_index, :])\n",
        "accuracy_br = tp_br / total_predictions_br if total_predictions_br > 0 else 0\n",
        "\n",
        "tp_bf = cm[bf_index, bf_index]\n",
        "total_predictions_bf = sum(cm[bf_index, :])\n",
        "accuracy_bf = tp_bf / total_predictions_bf if total_predictions_bf > 0 else 0\n",
        "\n",
        "print(f\"Accuracy for 'br': {accuracy_br*100:.2f}%\")\n",
        "print(f\"Accuracy for 'bf': {accuracy_bf*100:.2f}%\")"
      ]
    },
    {
      "cell_type": "markdown",
      "metadata": {
        "id": "HdnpWLggZ-6z"
      },
      "source": [
        "## Minority Classes\n",
        "\n",
        "\n",
        "\n",
        "Minority classes are frequently misidentified as majority classes, owing to the fact that majority classes have significantly more data and thus can be trained on. With 33 percent and 17 percent, respectively, the classes \"sd\" (40) and \"b\" (10) are the most common here.\n",
        "\n",
        "\n"
      ]
    },
    {
      "cell_type": "markdown",
      "metadata": {
        "id": "sUXH7H8IRpwi"
      },
      "source": [
        "## Minority Class showcase\n",
        "The frequencies of the data are plotted in the graph below. This illustrates how some classes are common, while the majority of classes are rare.\n",
        "\n",
        "Only 0.13 percent of the data belongs to the \"br\" class, while 0.42 percent belongs to the \"bf\" class."
      ]
    },
    {
      "cell_type": "code",
      "execution_count": 29,
      "metadata": {
        "colab": {
          "base_uri": "https://localhost:8080/"
        },
        "id": "onujyCDk-_s2",
        "outputId": "5bdfbe80-78b2-4f34-a5ea-9f4881e64054"
      },
      "outputs": [
        {
          "name": "stdout",
          "output_type": "stream",
          "text": [
            "bf frequency: 0.42977379855638936%\n",
            "br frequency: 0.13371734211067682%\n"
          ]
        }
      ],
      "source": [
        "# Print the frequency of the \"br\" and \"bf\" classes\n",
        "value_counts = reduced_df[\"act_tag\"].value_counts()\n",
        "bf_frequency = value_counts[\"bf\"]/sum(value_counts)\n",
        "print(\"bf frequency: \" + str(bf_frequency*100) + \"%\")\n",
        "\n",
        "br_frequency = value_counts[\"br\"]/sum(value_counts)\n",
        "print(\"br frequency: \" + str(br_frequency*100) + \"%\")"
      ]
    },
    {
      "cell_type": "code",
      "execution_count": 30,
      "metadata": {
        "colab": {
          "base_uri": "https://localhost:8080/",
          "height": 447
        },
        "id": "zIr0fSSaR51s",
        "outputId": "33381bd5-a346-47ce-c101-c9781a65ce97"
      },
      "outputs": [
        {
          "data": {
            "text/plain": [
              "[<matplotlib.lines.Line2D at 0x7c27e3d566b0>]"
            ]
          },
          "execution_count": 30,
          "metadata": {},
          "output_type": "execute_result"
        },
        {
          "data": {
            "image/png": "[encoded data removed]",
            "text/plain": [
              "<Figure size 640x480 with 1 Axes>"
            ]
          },
          "metadata": {},
          "output_type": "display_data"
        }
      ],
      "source": [
        "# Plot the frequencies of the classes\n",
        "\n",
        "plt.plot(value_counts)"
      ]
    },
    {
      "cell_type": "markdown",
      "metadata": {
        "id": "BZ16sE5F7x9e"
      },
      "source": [
        "# Model 2 - Balanced Network"
      ]
    },
    {
      "cell_type": "markdown",
      "metadata": {
        "id": "hKHbOs4WkFaP"
      },
      "source": [
        "\n",
        "As the dataset is highly imbalanced, we can simply weight up the minority classes proportionally to their underrepresentation while training."
      ]
    },
    {
      "cell_type": "code",
      "execution_count": 31,
      "metadata": {
        "id": "6L4kNdf6kGEa"
      },
      "outputs": [],
      "source": [
        "import numpy as np\n",
        "from sklearn.utils.class_weight import compute_class_weight\n",
        "\n",
        "y_integers = np.argmax(tags_encoding, axis=1)\n",
        "class_weights = compute_class_weight(class_weight='balanced', classes=np.unique(y_integers), y=y_integers)\n",
        "d_class_weights = dict(enumerate(class_weights))"
      ]
    },
    {
      "cell_type": "markdown",
      "metadata": {
        "id": "zF1UM-ZMZoa1"
      },
      "source": [
        "## Define & Train the model"
      ]
    },
    {
      "cell_type": "code",
      "execution_count": 32,
      "metadata": {
        "colab": {
          "base_uri": "https://localhost:8080/"
        },
        "id": "xIRgRAzOPSAZ",
        "outputId": "8741c814-46d6-4e53-8cc2-509164b5d828"
      },
      "outputs": [
        {
          "name": "stdout",
          "output_type": "stream",
          "text": [
            "Model: \"sequential_1\"\n",
            "_________________________________________________________________\n",
            " Layer (type)                Output Shape              Param #   \n",
            "=================================================================\n",
            " embedding_1 (Embedding)     (None, 128, 100)          4373200   \n",
            "                                                                 \n",
            " bidirectional_2 (Bidirecti  (None, 128, 86)           49536     \n",
            " onal)                                                           \n",
            "                                                                 \n",
            " bidirectional_3 (Bidirecti  (None, 86)                44720     \n",
            " onal)                                                           \n",
            "                                                                 \n",
            " dense_1 (Dense)             (None, 43)                3741      \n",
            "                                                                 \n",
            " activation_1 (Activation)   (None, 43)                0         \n",
            "                                                                 \n",
            "=================================================================\n",
            "Total params: 4471197 (17.06 MB)\n",
            "Trainable params: 4471197 (17.06 MB)\n",
            "Non-trainable params: 0 (0.00 Byte)\n",
            "_________________________________________________________________\n"
          ]
        }
      ],
      "source": [
        "# Re-built the model for the balanced training\n",
        "model_balanced = Sequential()\n",
        "\n",
        "# Embedding layer\n",
        "model_balanced.add(Embedding(input_dim=VOCAB_SIZE, output_dim=EMBED_SIZE, input_length=128))\n",
        "# Bidirectional 1\n",
        "model_balanced.add(Bidirectional(LSTM(units=HIDDEN_SIZE, return_sequences=True)))\n",
        "# Bidirectional 2\n",
        "model_balanced.add(Bidirectional(LSTM(units=HIDDEN_SIZE, return_sequences=False)))\n",
        "\n",
        "# Dense layer\n",
        "model_balanced.add(Dense(HIDDEN_SIZE))\n",
        "# Activation\n",
        "model_balanced.add(Activation('softmax'))\n",
        "\n",
        "\n",
        "model_balanced.compile(loss='categorical_crossentropy',optimizer='adam',metrics=['accuracy'])\n",
        "\n",
        "model_balanced.summary()"
      ]
    },
    {
      "cell_type": "code",
      "execution_count": 33,
      "metadata": {
        "colab": {
          "base_uri": "https://localhost:8080/"
        },
        "id": "xB2McUREkL4B",
        "outputId": "326f12e8-5885-4aff-e3b6-3e4998aebc7f"
      },
      "outputs": [
        {
          "name": "stdout",
          "output_type": "stream",
          "text": [
            "Epoch 1/5\n",
            "1094/1094 [==============================] - 867s 784ms/step - loss: 3.0128 - accuracy: 0.3038 - val_loss: 2.3395 - val_accuracy: 0.4073\n",
            "Epoch 2/5\n",
            "1094/1094 [==============================] - 885s 809ms/step - loss: 2.1969 - accuracy: 0.3954 - val_loss: 2.0942 - val_accuracy: 0.3917\n",
            "Epoch 3/5\n",
            "1094/1094 [==============================] - 902s 825ms/step - loss: 1.7881 - accuracy: 0.4255 - val_loss: 1.8941 - val_accuracy: 0.4455\n",
            "Epoch 4/5\n",
            "1094/1094 [==============================] - 882s 806ms/step - loss: 1.4857 - accuracy: 0.4607 - val_loss: 1.9738 - val_accuracy: 0.4377\n",
            "Epoch 5/5\n",
            "1094/1094 [==============================] - 886s 810ms/step - loss: 1.2828 - accuracy: 0.4875 - val_loss: 1.7918 - val_accuracy: 0.4765\n"
          ]
        },
        {
          "data": {
            "text/plain": [
              "<keras.src.callbacks.History at 0x7c27f1fb1ed0>"
            ]
          },
          "execution_count": 33,
          "metadata": {},
          "output_type": "execute_result"
        }
      ],
      "source": [
        "# Train the balanced network - Seems to take long time to achieve good accuracy?\n",
        "model_balanced.fit(x=train_input,\n",
        "          y=train_labels,\n",
        "          batch_size=128,\n",
        "          epochs=5,\n",
        "          validation_data=(val_input, val_labels),\n",
        "          class_weight=d_class_weights)"
      ]
    },
    {
      "cell_type": "markdown",
      "metadata": {
        "id": "DJPjlMclZtw2"
      },
      "source": [
        "## Test the model"
      ]
    },
    {
      "cell_type": "code",
      "execution_count": 36,
      "metadata": {
        "colab": {
          "base_uri": "https://localhost:8080/"
        },
        "id": "8UMAMGpJRINC",
        "outputId": "687d51be-70d8-454e-8b95-ef6f11559ea5"
      },
      "outputs": [
        {
          "name": "stdout",
          "output_type": "stream",
          "text": [
            "14/14 [==============================] - 85s 6s/step - loss: 1.8428 - accuracy: 0.4605\n"
          ]
        }
      ],
      "source": [
        "# Overall Accuracy\n",
        "from tensorflow.keras.utils import to_categorical\n",
        "\n",
        "y_test_encoded = to_categorical(y_test, num_classes=43)\n",
        "score = model_balanced.evaluate(test_sentences_X, y_test_encoded, batch_size=BATCH_SZIE)\n"
      ]
    },
    {
      "cell_type": "code",
      "execution_count": 37,
      "metadata": {
        "colab": {
          "base_uri": "https://localhost:8080/"
        },
        "id": "0xzLIkTarjei",
        "outputId": "c50b9992-d4e3-426f-b588-1edaffb07ff3"
      },
      "outputs": [
        {
          "name": "stdout",
          "output_type": "stream",
          "text": [
            "Overall Accuracy: 46.05380892753601\n"
          ]
        }
      ],
      "source": [
        "print(\"Overall Accuracy:\", score[1]*100)"
      ]
    },
    {
      "cell_type": "code",
      "execution_count": 38,
      "metadata": {
        "colab": {
          "base_uri": "https://localhost:8080/"
        },
        "id": "QTA-K3AosET_",
        "outputId": "75956bc5-3090-41bf-a3df-668d9691d859"
      },
      "outputs": [
        {
          "name": "stdout",
          "output_type": "stream",
          "text": [
            "14/14 [==============================] - 78s 5s/step\n"
          ]
        }
      ],
      "source": [
        "# Generate predictions for the test data\n",
        "label_pred = model_balanced.predict(test_sentences_X, batch_size=BATCH_SZIE)"
      ]
    },
    {
      "cell_type": "markdown",
      "metadata": {
        "id": "hq7i7giWZ4_l"
      },
      "source": [
        "## Balanced network evaluation"
      ]
    },
    {
      "cell_type": "markdown",
      "metadata": {
        "id": "fM7VWweco0Et"
      },
      "source": [
        "Report the overall accuracy and the accuracy of  'br' and 'bf'  classes. Suggest other ways to handle imbalanced classes."
      ]
    },
    {
      "cell_type": "code",
      "execution_count": 37,
      "metadata": {
        "colab": {
          "base_uri": "https://localhost:8080/"
        },
        "id": "4jNfWmSNgRvT",
        "outputId": "1be1a179-d9d9-4ead-d296-9fb17366f0d5"
      },
      "outputs": [
        {
          "name": "stdout",
          "output_type": "stream",
          "text": [
            "Accuracy for 'br': 17.02%\n",
            "Accuracy for 'bf': 1.66%\n"
          ]
        }
      ],
      "source": [
        "# Build the confusion matrix off these predictions\n",
        "predicted_format = np.argmax(label_pred, axis=1)\n",
        "if y_test.ndim > 1:\n",
        "    y_test = np.argmax(y_test, axis=1)\n",
        "\n",
        "cm_balanced = confusion_matrix(predicted_format, y_test)\n",
        "\n",
        "# Calculate Accuracies for \"br\" and \"bf\"\n",
        "br_index = unique_tags_list.index('br')\n",
        "bf_index = unique_tags_list.index('bf')\n",
        "\n",
        "# Calculate and print accuracies\n",
        "tp_br = cm_balanced[br_index, br_index]\n",
        "total_predictions_br = sum(cm_balanced[br_index, :])\n",
        "accuracy_br = tp_br / total_predictions_br if total_predictions_br > 0 else 0\n",
        "\n",
        "tp_bf = cm_balanced[bf_index, bf_index]\n",
        "total_predictions_bf = sum(cm_balanced[bf_index, :])\n",
        "accuracy_bf = tp_bf / total_predictions_bf if total_predictions_bf > 0 else 0\n",
        "\n",
        "print(f\"Accuracy for 'br': {accuracy_br*100:.2f}%\")\n",
        "print(f\"Accuracy for 'bf': {accuracy_bf*100:.2f}%\")"
      ]
    },
    {
      "cell_type": "markdown",
      "metadata": {
        "id": "Zi9GyVUvPcrF"
      },
      "source": [
        "\n",
        "\n",
        "\n",
        "\n",
        "### Explanation\n",
        "\n",
        "\n",
        "\n",
        "### Other ways to handle imbalanced classes\n",
        "\n",
        "\n",
        "- The model can be turned into multiple single-class classifiers, giving a confidence score for each of the classes. Instead of just taking the highest confidence class, the model can run the individual classifiers in ascending order of frequency of the classes in the training corpus.  The first classifier to classify the data point over a certain confidence threshold determines the class given to the example. This gives chance for the minority class classifiers to classify before the frequent classes arrive with their more confident predicitions.\n",
        "\n",
        "- Transfer Learning could also be implemented, to initialise weights on a larger dataset, where these minority classes may be prevelant. This would allow fine-tuning with the small data for this particular application."
      ]
    },
    {
      "cell_type": "markdown",
      "metadata": {
        "id": "fW4g5mQkkaFv"
      },
      "source": [
        "Can we improve things by using context information?  Next we try to build a model which predicts DA tag from the sequence of\n",
        "previous DA tags, plus the utterance representation."
      ]
    },
    {
      "cell_type": "markdown",
      "metadata": {
        "id": "WfrGWuZ6nk4y"
      },
      "source": [
        "# Using Context for Dialog Act Classification\n",
        "We expect there is valuable sequential information among the DA tags. So in this section we apply a BiLSTM on top of the sentence CNN representation. The CNN model learns textual information in each utterance for DA classification. Here, we use bidirectional-LSTM (BLSTM) to learn the context before and after the current utterance.\n",
        "\n",
        "To make it easier to train, we combined all of the utterances into one long sequence rather than breaking them up into individual dialogues.\n",
        "\n",
        "Notes: please reduce the BATCH_SIZE and the input size of data to run the following code.\n"
      ]
    },
    {
      "cell_type": "markdown",
      "metadata": {
        "id": "Sz693CIUvcca"
      },
      "source": [
        "## Define the model\n",
        "\n",
        "This model has an architecture of:\n",
        "\n",
        "- BERT Word Embedding\n",
        "- CNN\n",
        "- Bidirectional LSTM\n",
        "- Fully-Connected output\n"
      ]
    },
    {
      "cell_type": "markdown",
      "metadata": {
        "id": "2RMhHSzdoCJM"
      },
      "source": [
        "## BERT Word Embedding\n",
        "\n",
        "### Please refer back to Lab3 for more information."
      ]
    },
    {
      "cell_type": "code",
      "execution_count": 38,
      "metadata": {
        "colab": {
          "base_uri": "https://localhost:8080/",
          "height": 304,
          "referenced_widgets": [
            "11e4da26ced44221bd7d2cacd5952db9",
            "b24ecd4e0fa64a85b311ae1ad17684e0",
            "44a5fe5d284742459101b2ab4df0001f",
            "e29509ebb24b4b8491d138dc3736525e",
            "9c739ba59d92449d8d7af5976995b493",
            "e8e4a63182c440558010b39faa0d3fba",
            "cadd11848cad4d33a0fa43ce363e4712",
            "3891eabb60d646198cb7adb95ca0dbf9",
            "4ef0b0563be4493ea80fe7659c8c780b",
            "c9dda7bbecba401c8a19911aed3aabc5",
            "9692a253f22a4b2b87caa0221c82f604",
            "9b4654301dbf49d6ba9004e9908cf3dc",
            "7ed96b14aa0f4bb284cc2cd58edc98a4",
            "5fcd01fac22445eeb7fbb2a8860188fd",
            "c0830d211ac343868c4ead2fcc1b8d4a",
            "775939c7498048dcb9dff254cb6e50e7",
            "139a5b38a4e149cc8f42ad5513d45baf",
            "541c50c524c74cd98c928e7931562c57",
            "5aa1b3e6d98a4864936d0ee7059bad53",
            "bc52b6765bfe43209f6fe8419f47eccd",
            "e5839bb027ef41c8b6663caad533fa13",
            "6c5d657a3b1648d7b842563f06251e0a",
            "e02600460674475aa171155e44081d65",
            "cbdcf4a1c6c94602a269fc079039be6d",
            "b2b301d343d240dfa910b4a14490d0f0",
            "46fe187a499743e2b3e1b260979b5700",
            "3023acf7fc89459590d74348d1c59360",
            "7583f05db1bd4af39e4a590a4fabc241",
            "a9fb54647dfa4f41bfaa774a5077524b",
            "eb1e9a5d0bda493a973a5532f4bc2787",
            "2e74cc563c6346dfb79f84a0d53b585e",
            "d080d5cc7d7c476b96b3d3d1c0866d78",
            "e949d8f85fb842df86d25a550d2c81e8",
            "fd97420044a14c298359d06a05e40991",
            "4ab15e31265b415cbdaf813759aa47a7",
            "0301def8cbf44c46adc2d31646f8a62d",
            "c041817ecdab4ac389cf12a5bc7b8e9b",
            "d87e5daf15f64159aee24359798518a8",
            "46f3d9449f2a4c689a3e8554368db1c9",
            "fc1a5a720a0b4c57be974f43779e97d2",
            "2ef35a5e8ae44b5783168432f62643b6",
            "71e7b9d92f72481d98277dbcb5fa8706",
            "4bde6a84249347389be0279a3a6af26a",
            "f887fb35a21e40fa95488ccc84849b34"
          ]
        },
        "id": "VweAQ5W5oJAL",
        "outputId": "46f72c2a-417d-44bc-939a-24c813257daf"
      },
      "outputs": [
        {
          "name": "stderr",
          "output_type": "stream",
          "text": [
            "/usr/local/lib/python3.10/dist-packages/transformers/utils/generic.py:441: UserWarning: torch.utils._pytree._register_pytree_node is deprecated. Please use torch.utils._pytree.register_pytree_node instead.\n",
            "  _torch_pytree._register_pytree_node(\n",
            "/usr/local/lib/python3.10/dist-packages/huggingface_hub/utils/_token.py:88: UserWarning: \n",
            "The secret `HF_TOKEN` does not exist in your Colab secrets.\n",
            "To authenticate with the Hugging Face Hub, create a token in your settings tab (https://huggingface.co/settings/tokens), set it as secret in your Google Colab and restart your session.\n",
            "You will be able to reuse this secret in all of your notebooks.\n",
            "Please note that authentication is recommended but still optional to access public models or datasets.\n",
            "  warnings.warn(\n"
          ]
        },
        {
          "data": {
            "application/vnd.jupyter.widget-view+json": {
              "model_id": "11e4da26ced44221bd7d2cacd5952db9",
              "version_major": 2,
              "version_minor": 0
            },
            "text/plain": [
              "tokenizer_config.json:   0%|          | 0.00/28.0 [00:00<?, ?B/s]"
            ]
          },
          "metadata": {},
          "output_type": "display_data"
        },
        {
          "data": {
            "application/vnd.jupyter.widget-view+json": {
              "model_id": "9b4654301dbf49d6ba9004e9908cf3dc",
              "version_major": 2,
              "version_minor": 0
            },
            "text/plain": [
              "vocab.txt:   0%|          | 0.00/232k [00:00<?, ?B/s]"
            ]
          },
          "metadata": {},
          "output_type": "display_data"
        },
        {
          "data": {
            "application/vnd.jupyter.widget-view+json": {
              "model_id": "e02600460674475aa171155e44081d65",
              "version_major": 2,
              "version_minor": 0
            },
            "text/plain": [
              "tokenizer.json:   0%|          | 0.00/466k [00:00<?, ?B/s]"
            ]
          },
          "metadata": {},
          "output_type": "display_data"
        },
        {
          "data": {
            "application/vnd.jupyter.widget-view+json": {
              "model_id": "fd97420044a14c298359d06a05e40991",
              "version_major": 2,
              "version_minor": 0
            },
            "text/plain": [
              "config.json:   0%|          | 0.00/483 [00:00<?, ?B/s]"
            ]
          },
          "metadata": {},
          "output_type": "display_data"
        }
      ],
      "source": [
        "from transformers import DistilBertTokenizer, RobertaTokenizer\n",
        "import tqdm\n",
        "distil_bert = 'distilbert-base-uncased' # Pick a pre-trained model\n",
        "\n",
        "# Defining DistilBERT tokenizer\n",
        "tokenizer = DistilBertTokenizer.from_pretrained(distil_bert, do_lower_case=True, add_special_tokens=True,\n",
        "                                                max_length=MAX_LENGTH, pad_to_max_length=True)\n",
        "\n",
        "def tokenize(sentences, tokenizer, pad_length=MAX_LENGTH, pad_to_max_length=True ):\n",
        "    if type(sentences) == str:\n",
        "        inputs = tokenizer.encode_plus(sentences, add_special_tokens=True, max_length=pad_length, pad_to_max_length=pad_to_max_length,\n",
        "                                             return_attention_mask=True, return_token_type_ids=True)\n",
        "        return np.asarray(inputs['input_ids'], dtype='int32'), np.asarray(inputs['attention_mask'], dtype='int32'), np.asarray(inputs['token_type_ids'], dtype='int32')\n",
        "\n",
        "    input_ids, input_masks, input_segments = [],[],[]\n",
        "    for sentence in sentences:\n",
        "        inputs = tokenizer.encode_plus(sentence, add_special_tokens=True, max_length=pad_length, pad_to_max_length=pad_to_max_length,\n",
        "                                             return_attention_mask=True, return_token_type_ids=True)\n",
        "        input_ids.append(inputs['input_ids'])\n",
        "        input_masks.append(inputs['attention_mask'])\n",
        "        input_segments.append(inputs['token_type_ids'])\n",
        "\n",
        "    return np.asarray(input_ids, dtype='int32'), np.asarray(input_masks, dtype='int32'), np.asarray(input_segments, dtype='int32')\n"
      ]
    },
    {
      "cell_type": "markdown",
      "metadata": {
        "id": "98hBrjwlktl1"
      },
      "source": [
        "### Preprocess the dataset to make it be proper input of BERT"
      ]
    },
    {
      "cell_type": "code",
      "execution_count": 39,
      "metadata": {
        "colab": {
          "base_uri": "https://localhost:8080/"
        },
        "id": "Fl3wbKj1A8qv",
        "outputId": "17ee65af-796b-4563-8ed1-6ecb087eaa58"
      },
      "outputs": [
        {
          "name": "stderr",
          "output_type": "stream",
          "text": [
            "Truncation was not explicitly activated but `max_length` is provided a specific value, please use `truncation=True` to explicitly truncate examples to max length. Defaulting to 'longest_first' truncation strategy. If you encode pairs of sequences (GLUE-style) with the tokenizer you can select this strategy more precisely by providing a specific strategy to `truncation`.\n",
            "/usr/local/lib/python3.10/dist-packages/transformers/tokenization_utils_base.py:2614: FutureWarning: The `pad_to_max_length` argument is deprecated and will be removed in a future version, use `padding=True` or `padding='longest'` to pad to the longest sequence in the batch, or use `padding='max_length'` to pad to a max length. In this case, you can give a specific length with `max_length` (e.g. `max_length=45`) or leave max_length to None to pad to the maximal input size of the model (e.g. 512 for Bert).\n",
            "  warnings.warn(\n"
          ]
        }
      ],
      "source": [
        "# Preprocess the dataset to make it be proper input of BERT\n",
        "x_sen_int, x_sen_masks, _ = tokenize(sentences, tokenizer)"
      ]
    },
    {
      "cell_type": "markdown",
      "metadata": {
        "id": "_HiOCETRk1gL"
      },
      "source": [
        "### Split dataset into Train and Test set"
      ]
    },
    {
      "cell_type": "code",
      "execution_count": 40,
      "metadata": {
        "id": "izA3PSGgGNk5"
      },
      "outputs": [],
      "source": [
        "from sklearn.model_selection import train_test_split\n",
        "import numpy as np\n",
        "# split datasets\n",
        "X_train, X_test, X_train_mask, X_test_mask, y_train, y_test = train_test_split(\n",
        "    x_sen_int, x_sen_masks, np.array(tags_encoding),shuffle=False, stratify=None\n",
        ")"
      ]
    },
    {
      "cell_type": "code",
      "execution_count": 41,
      "metadata": {
        "id": "iuC4POBoGfFC"
      },
      "outputs": [],
      "source": [
        "# Split Train into Train and Validation - about 10% into validation - In order to validate the model as it is training\n",
        "\n",
        "# train_input_sen = X_train[:140000]\n",
        "# train_input_mask = X_train_mask[:140000]\n",
        "# train_input = [train_input_sen, train_input_mask]\n",
        "\n",
        "# val_input_sen = X_train[140000:]\n",
        "# val_input_mask = X_train_mask[140000:]\n",
        "# val_input = [val_input_sen, val_input_mask]\n",
        "\n",
        "# train_labels = y_train[:140000]\n",
        "# val_labels = y_train[140000:]\n",
        "\n",
        "train_input_sen = X_train[:140000]\n",
        "train_input_mask = X_train_mask[:140000]\n",
        "train_input = [train_input_sen[:1000], train_input_mask[:1000]]\n",
        "\n",
        "val_input_sen = X_train[140000:]\n",
        "val_input_mask = X_train_mask[140000:]\n",
        "val_input = [val_input_sen[:1000], val_input_mask[:1000]]\n",
        "\n",
        "train_labels = y_train[:140000]\n",
        "val_labels = y_train[140000:]"
      ]
    },
    {
      "cell_type": "code",
      "execution_count": 42,
      "metadata": {
        "colab": {
          "base_uri": "https://localhost:8080/"
        },
        "id": "Y5gKk7byo1IN",
        "outputId": "481e1662-69f2-4592-fef6-7da1c0934fee"
      },
      "outputs": [
        {
          "name": "stdout",
          "output_type": "stream",
          "text": [
            "[ 101  100  100 1013  102    0    0    0    0    0    0    0    0    0\n",
            "    0    0    0    0    0    0    0    0    0    0    0    0    0    0\n",
            "    0    0    0    0    0    0    0    0    0    0    0    0    0    0\n",
            "    0    0    0    0    0    0    0    0    0    0    0    0    0    0\n",
            "    0    0    0    0    0    0    0    0    0    0    0    0    0    0\n",
            "    0    0    0    0    0    0    0    0    0    0    0    0    0    0\n",
            "    0    0    0    0    0    0    0    0    0    0    0    0    0    0\n",
            "    0    0    0    0    0    0    0    0    0    0    0    0    0    0\n",
            "    0    0    0    0    0    0    0    0    0    0    0    0    0    0\n",
            "    0    0]\n",
            "[1 1 1 1 1 0 0 0 0 0 0 0 0 0 0 0 0 0 0 0 0 0 0 0 0 0 0 0 0 0 0 0 0 0 0 0 0\n",
            " 0 0 0 0 0 0 0 0 0 0 0 0 0 0 0 0 0 0 0 0 0 0 0 0 0 0 0 0 0 0 0 0 0 0 0 0 0\n",
            " 0 0 0 0 0 0 0 0 0 0 0 0 0 0 0 0 0 0 0 0 0 0 0 0 0 0 0 0 0 0 0 0 0 0 0 0 0\n",
            " 0 0 0 0 0 0 0 0 0 0 0 0 0 0 0 0 0]\n",
            "[False False False False False False False False False False False False\n",
            " False False False False False False False False False False False False\n",
            " False False False False False False False False False False False False\n",
            " False False False False  True False False]\n"
          ]
        }
      ],
      "source": [
        "print(X_train[0])\n",
        "print(X_train_mask[0])\n",
        "print(y_train[0])"
      ]
    },
    {
      "cell_type": "markdown",
      "metadata": {
        "id": "4EMp2cWXk4me"
      },
      "source": [
        "### Get BERT Layer"
      ]
    },
    {
      "cell_type": "code",
      "execution_count": 43,
      "metadata": {
        "colab": {
          "base_uri": "https://localhost:8080/"
        },
        "id": "wx6ObZG4o37p",
        "outputId": "0eb85759-895d-437d-cff0-b5e61df83c6a"
      },
      "outputs": [
        {
          "name": "stderr",
          "output_type": "stream",
          "text": [
            "/usr/local/lib/python3.10/dist-packages/transformers/utils/generic.py:309: UserWarning: torch.utils._pytree._register_pytree_node is deprecated. Please use torch.utils._pytree.register_pytree_node instead.\n",
            "  _torch_pytree._register_pytree_node(\n"
          ]
        }
      ],
      "source": [
        "from transformers import TFDistilBertModel, DistilBertConfig\n",
        "\n",
        "def get_BERT_layer():\n",
        "  distil_bert = 'distilbert-base-uncased'\n",
        "  config = DistilBertConfig(dropout=0.2, attention_dropout=0.2)\n",
        "  config.output_hidden_states = False\n",
        "  return TFDistilBertModel.from_pretrained(distil_bert, config = config)\n"
      ]
    },
    {
      "cell_type": "markdown",
      "metadata": {
        "id": "z4e0g9BdWjZF"
      },
      "source": [
        "## CNN\n",
        "\n",
        "\n",
        "This is classical CNN layer used to convolve over embedings tensor and gether useful information from it. The data is represented by hierarchy of features, which can be modelled using a CNN. We transform/reshape conv output to 2d matrix. Then we pass it to the max pooling layer that applies the max pool operation on windows of different sizes."
      ]
    },
    {
      "cell_type": "code",
      "execution_count": 44,
      "metadata": {
        "id": "eRZsrezamtsM"
      },
      "outputs": [],
      "source": [
        "import tensorflow as tf\n",
        "\n",
        "from keras.models import Model,Sequential\n",
        "from keras.layers import LSTM\n",
        "from keras import Input\n",
        "from keras.layers import Dense, Dropout, InputLayer, Bidirectional, TimeDistributed, Activation, Embedding, TimeDistributed\n",
        "from keras.optimizers import Adam\n",
        "from keras.layers import Reshape, Conv2D, BatchNormalization,MaxPool2D,Concatenate, Flatten\n",
        "\n",
        "\n",
        "filter_sizes = [3,4,5]\n",
        "num_filters = 64\n",
        "drop = 0.2\n",
        "VOCAB_SIZE = len(wordvectors)+1 # 43,731\n",
        "MAX_LENGTH = 128\n",
        "EMBED_SIZE = 768 # fixed\n",
        "HIDDEN_SIZE = len(unique_tags)"
      ]
    },
    {
      "cell_type": "code",
      "execution_count": 45,
      "metadata": {
        "colab": {
          "base_uri": "https://localhost:8080/",
          "height": 156,
          "referenced_widgets": [
            "6d3025d407604ccc89a7548c0eb3f900",
            "5094e21e95bc46af9c8d5bb5f5d71eb1",
            "e8ba9b2cce2348d0828c5e3622628c9c",
            "47ec0a50e7c7414b86dca08d61969b23",
            "1b42a1c2c4fc472f80e229dbe9f78cf2",
            "46fdf92f5b22465d85f8bf064e16a98e",
            "5fe1e6057bcd4afebdc6d08ecbefd65a",
            "3d687e184bcf4b4fa2811a380ab7ecb4",
            "cd5e6e5ef4b94abb92c677742e825e21",
            "57465533d81a478c8f2af290a64a51b3",
            "7b71cc49594445208962034c810096d3"
          ]
        },
        "id": "Gsilj-xxmv5L",
        "outputId": "020d6dac-109e-4130-fdbf-36ad0429c323"
      },
      "outputs": [
        {
          "data": {
            "application/vnd.jupyter.widget-view+json": {
              "model_id": "6d3025d407604ccc89a7548c0eb3f900",
              "version_major": 2,
              "version_minor": 0
            },
            "text/plain": [
              "model.safetensors:   0%|          | 0.00/268M [00:00<?, ?B/s]"
            ]
          },
          "metadata": {},
          "output_type": "display_data"
        },
        {
          "name": "stderr",
          "output_type": "stream",
          "text": [
            "Some weights of the PyTorch model were not used when initializing the TF 2.0 model TFDistilBertModel: ['vocab_projector.bias', 'vocab_layer_norm.weight', 'vocab_layer_norm.bias', 'vocab_transform.weight', 'vocab_transform.bias']\n",
            "- This IS expected if you are initializing TFDistilBertModel from a PyTorch model trained on another task or with another architecture (e.g. initializing a TFBertForSequenceClassification model from a BertForPreTraining model).\n",
            "- This IS NOT expected if you are initializing TFDistilBertModel from a PyTorch model that you expect to be exactly identical (e.g. initializing a TFBertForSequenceClassification model from a BertForSequenceClassification model).\n",
            "All the weights of TFDistilBertModel were initialized from the PyTorch model.\n",
            "If your task is similar to the task the model of the checkpoint was trained on, you can already use TFDistilBertModel for predictions without further training.\n"
          ]
        }
      ],
      "source": [
        "# BERT Embedding Layer\n",
        "input_ids_in =Input(shape=(MAX_LENGTH,), dtype=tf.int32, name='input_ids')\n",
        "input_masks_in =Input(shape=(MAX_LENGTH,), dtype=tf.int32, name='input_masks')\n",
        "bert_embeddings = get_BERT_layer()\n",
        "embedded_sent = bert_embeddings(input_ids_in, attention_mask=input_masks_in)[0]\n"
      ]
    },
    {
      "cell_type": "code",
      "execution_count": 46,
      "metadata": {
        "id": "9hMj-KaKvfHb"
      },
      "outputs": [],
      "source": [
        "reshape = Reshape((MAX_LENGTH, EMBED_SIZE, 1))(embedded_sent)\n",
        "\n",
        "# 3 convolutions\n",
        "conv_0 = Conv2D(num_filters, kernel_size=(filter_sizes[0], EMBED_SIZE), strides=1, padding='valid', kernel_initializer='normal', activation='relu')(reshape)\n",
        "bn_0 = BatchNormalization()(conv_0)\n",
        "conv_1 = Conv2D(num_filters, kernel_size=(filter_sizes[1], EMBED_SIZE), strides=1, padding='valid', kernel_initializer='normal', activation='relu')(reshape)\n",
        "bn_1 = BatchNormalization()(conv_1)\n",
        "conv_2 = Conv2D(num_filters, kernel_size=(filter_sizes[2], EMBED_SIZE), strides=1, padding='valid', kernel_initializer='normal', activation='relu')(reshape)\n",
        "bn_2 = BatchNormalization()(conv_2)\n",
        "\n",
        "# maxpool for 3 layers\n",
        "maxpool_0 = MaxPool2D(pool_size=(MAX_LENGTH - filter_sizes[0] + 1, 1), padding='valid')(bn_0)\n",
        "maxpool_1 = MaxPool2D(pool_size=(MAX_LENGTH - filter_sizes[1] + 1, 1), padding='valid')(bn_1)\n",
        "maxpool_2 = MaxPool2D(pool_size=(MAX_LENGTH - filter_sizes[2] + 1, 1), padding='valid')(bn_2)"
      ]
    },
    {
      "cell_type": "code",
      "execution_count": 47,
      "metadata": {
        "colab": {
          "base_uri": "https://localhost:8080/"
        },
        "id": "oitwAO5ivkbk",
        "outputId": "3056512d-ba4a-4b88-afee-cef19ad302cb"
      },
      "outputs": [
        {
          "data": {
            "text/plain": [
              "TensorShape([None, 1, 768])"
            ]
          },
          "execution_count": 47,
          "metadata": {},
          "output_type": "execute_result"
        }
      ],
      "source": [
        "# concatenate tensors\n",
        "concatenated = Concatenate(axis=-1)([maxpool_0, maxpool_1, maxpool_2])\n",
        "# flatten concatenated tensors\n",
        "flatten = TimeDistributed(Flatten())(concatenated)\n",
        "# dense layer (dense_1)\n",
        "dense_1 = Dense(EMBED_SIZE, activation='relu')(flatten)\n",
        "# dropout_1\n",
        "dropout_1 = Dropout(drop)(dense_1)\n",
        "dense_1.shape"
      ]
    },
    {
      "cell_type": "markdown",
      "metadata": {
        "id": "DuJLqgjWqcIf"
      },
      "source": [
        "## BLSTM\n",
        "\n",
        "This is used to create LSTM layers. The data we’re working with has temporal properties which we want to model as well — hence the use of a LSTM. You should create a BiLSTM.\n",
        "    "
      ]
    },
    {
      "cell_type": "code",
      "execution_count": 48,
      "metadata": {
        "id": "UuaiZkOjZGx1"
      },
      "outputs": [],
      "source": [
        "# BLSTM model\n",
        "\n",
        "# Bidirectional 1\n",
        "BiLSTM = Bidirectional(LSTM(EMBED_SIZE, return_sequences=True))(dropout_1)\n",
        "# Bidirectional 2\n",
        "BiLSTM = Bidirectional(LSTM(units=EMBED_SIZE))(BiLSTM)\n",
        "\n",
        "# Dense layer (dense_2)\n",
        "dense_2 = Dense(EMBED_SIZE, activation='relu')(BiLSTM)\n",
        "\n",
        "flatten_2 = Flatten()(dense_2)\n",
        "\n",
        "# dropout_2\n",
        "dropout_2 = Dropout(drop)(dense_2)"
      ]
    },
    {
      "cell_type": "markdown",
      "metadata": {
        "id": "mU0Xa3QOqwS3"
      },
      "source": [
        "Concatenate 2 last layers and create the output layer\n",
        "network"
      ]
    },
    {
      "cell_type": "code",
      "execution_count": 49,
      "metadata": {
        "id": "QaxUrmPIZI7S"
      },
      "outputs": [],
      "source": [
        "# concatenate 2 final layers\n",
        "concatenated_layer = Concatenate(axis=1)([flatten_2, dropout_2])\n",
        "\n",
        "# output\n",
        "output = Dense(len(unique_tags), activation='softmax')(concatenated_layer)"
      ]
    },
    {
      "cell_type": "markdown",
      "metadata": {
        "id": "UxlRv9dDrcy5"
      },
      "source": [
        "Report your overall accuracy. Did context help disambiguate and better predict the minority classes ('br' and 'bf')? What are frequent errors? Show one positive example where adding context changed the prediction.\n",
        "layer"
      ]
    },
    {
      "cell_type": "code",
      "execution_count": 53,
      "metadata": {
        "colab": {
          "base_uri": "https://localhost:8080/"
        },
        "id": "hYxHsBvwZRA4",
        "outputId": "4c2e3c11-0c9c-461e-e679-f2a9c19cf7d2"
      },
      "outputs": [
        {
          "name": "stdout",
          "output_type": "stream",
          "text": [
            "Model: \"model_1\"\n",
            "__________________________________________________________________________________________________\n",
            " Layer (type)                Output Shape                 Param #   Connected to                  \n",
            "==================================================================================================\n",
            " input_ids (InputLayer)      [(None, 128)]                0         []                            \n",
            "                                                                                                  \n",
            " input_masks (InputLayer)    [(None, 128)]                0         []                            \n",
            "                                                                                                  \n",
            " tf_distil_bert_model (TFDi  TFBaseModelOutput(last_hid   6636288   ['input_ids[0][0]',           \n",
            " stilBertModel)              den_state=(None, 128, 768)   0          'input_masks[0][0]']         \n",
            "                             , hidden_states=None, atte                                           \n",
            "                             ntions=None)                                                         \n",
            "                                                                                                  \n",
            " reshape (Reshape)           (None, 128, 768, 1)          0         ['tf_distil_bert_model[0][0]']\n",
            "                                                                                                  \n",
            " conv2d (Conv2D)             (None, 126, 1, 64)           147520    ['reshape[0][0]']             \n",
            "                                                                                                  \n",
            " conv2d_1 (Conv2D)           (None, 125, 1, 64)           196672    ['reshape[0][0]']             \n",
            "                                                                                                  \n",
            " conv2d_2 (Conv2D)           (None, 124, 1, 64)           245824    ['reshape[0][0]']             \n",
            "                                                                                                  \n",
            " batch_normalization (Batch  (None, 126, 1, 64)           256       ['conv2d[0][0]']              \n",
            " Normalization)                                                                                   \n",
            "                                                                                                  \n",
            " batch_normalization_1 (Bat  (None, 125, 1, 64)           256       ['conv2d_1[0][0]']            \n",
            " chNormalization)                                                                                 \n",
            "                                                                                                  \n",
            " batch_normalization_2 (Bat  (None, 124, 1, 64)           256       ['conv2d_2[0][0]']            \n",
            " chNormalization)                                                                                 \n",
            "                                                                                                  \n",
            " max_pooling2d (MaxPooling2  (None, 1, 1, 64)             0         ['batch_normalization[0][0]'] \n",
            " D)                                                                                               \n",
            "                                                                                                  \n",
            " max_pooling2d_1 (MaxPoolin  (None, 1, 1, 64)             0         ['batch_normalization_1[0][0]'\n",
            " g2D)                                                               ]                             \n",
            "                                                                                                  \n",
            " max_pooling2d_2 (MaxPoolin  (None, 1, 1, 64)             0         ['batch_normalization_2[0][0]'\n",
            " g2D)                                                               ]                             \n",
            "                                                                                                  \n",
            " concatenate (Concatenate)   (None, 1, 1, 192)            0         ['max_pooling2d[0][0]',       \n",
            "                                                                     'max_pooling2d_1[0][0]',     \n",
            "                                                                     'max_pooling2d_2[0][0]']     \n",
            "                                                                                                  \n",
            " time_distributed (TimeDist  (None, 1, 192)               0         ['concatenate[0][0]']         \n",
            " ributed)                                                                                         \n",
            "                                                                                                  \n",
            " dense_2 (Dense)             (None, 1, 768)               148224    ['time_distributed[0][0]']    \n",
            "                                                                                                  \n",
            " dropout_19 (Dropout)        (None, 1, 768)               0         ['dense_2[0][0]']             \n",
            "                                                                                                  \n",
            " bidirectional_4 (Bidirecti  (None, 1, 1536)              9443328   ['dropout_19[0][0]']          \n",
            " onal)                                                                                            \n",
            "                                                                                                  \n",
            " bidirectional_5 (Bidirecti  (None, 1536)                 1416192   ['bidirectional_4[0][0]']     \n",
            " onal)                                                    0                                       \n",
            "                                                                                                  \n",
            " dense_3 (Dense)             (None, 768)                  1180416   ['bidirectional_5[0][0]']     \n",
            "                                                                                                  \n",
            " flatten_1 (Flatten)         (None, 768)                  0         ['dense_3[0][0]']             \n",
            "                                                                                                  \n",
            " dropout_20 (Dropout)        (None, 768)                  0         ['dense_3[0][0]']             \n",
            "                                                                                                  \n",
            " concatenate_1 (Concatenate  (None, 1536)                 0         ['flatten_1[0][0]',           \n",
            " )                                                                   'dropout_20[0][0]']          \n",
            "                                                                                                  \n",
            " dense_4 (Dense)             (None, 43)                   66091     ['concatenate_1[0][0]']       \n",
            "                                                                                                  \n",
            "==================================================================================================\n",
            "Total params: 91953643 (350.78 MB)\n",
            "Trainable params: 91953259 (350.77 MB)\n",
            "Non-trainable params: 384 (1.50 KB)\n",
            "__________________________________________________________________________________________________\n",
            "32/32 [==============================] - 1014s 31s/step - loss: 2.3081 - accuracy: 0.3780 - val_loss: 2.2937 - val_accuracy: 0.2850\n"
          ]
        },
        {
          "data": {
            "text/plain": [
              "<keras.src.callbacks.History at 0x7c6fcd04b910>"
            ]
          },
          "execution_count": 53,
          "metadata": {},
          "output_type": "execute_result"
        }
      ],
      "source": [
        "# Train the model - using validation\n",
        "model2 = Model(inputs=[input_ids_in, input_masks_in], outputs=output)\n",
        "model2.summary()\n",
        "model2.compile(optimizer='adam', loss='categorical_crossentropy', metrics=['accuracy'])\n",
        "\n",
        "model2.fit(x=train_input, y=train_labels[:1000], epochs=1, batch_size=32,\n",
        "           validation_data=(val_input, val_labels[:1000]), verbose=1)\n"
      ]
    },
    {
      "cell_type": "code",
      "execution_count": 51,
      "metadata": {
        "colab": {
          "base_uri": "https://localhost:8080/"
        },
        "id": "d84nFOulZkhP",
        "outputId": "1160ae8b-9655-44f1-a1a9-2ee91bfe8d39"
      },
      "outputs": [
        {
          "name": "stdout",
          "output_type": "stream",
          "text": [
            "1747/1747 [==============================] - 11803s 7s/step - loss: 2.4727 - accuracy: 0.3261\n"
          ]
        }
      ],
      "source": [
        "score = model2.evaluate([X_test, X_test_mask], y_test, batch_size=32)"
      ]
    },
    {
      "cell_type": "code",
      "execution_count": 52,
      "metadata": {
        "colab": {
          "base_uri": "https://localhost:8080/"
        },
        "id": "5Kwmu4yH6ZQM",
        "outputId": "8466771c-1793-46b9-e4a9-1bf5b13f710b"
      },
      "outputs": [
        {
          "name": "stdout",
          "output_type": "stream",
          "text": [
            "Overall Accuracy: 32.60885179042816\n"
          ]
        }
      ],
      "source": [
        "print(\"Overall Accuracy:\", score[1]*100)"
      ]
    }
  ],
  "metadata": {
    "colab": {
      "provenance": []
    },
    "kernelspec": {
      "display_name": "Python 3",
      "name": "python3"
    },
    "language_info": {
      "codemirror_mode": {
        "name": "ipython",
        "version": 3
      },
      "file_extension": ".py",
      "mimetype": "text/x-python",
      "name": "python",
      "nbconvert_exporter": "python",
      "pygments_lexer": "ipython3",
      "version": "3.9.5"
    },
    "widgets": {
      "application/vnd.jupyter.widget-state+json": {
        "0301def8cbf44c46adc2d31646f8a62d": {
          "model_module": "@jupyter-widgets/controls",
          "model_module_version": "1.5.0",
          "model_name": "FloatProgressModel",
          "state": {
            "_dom_classes": [],
            "_model_module": "@jupyter-widgets/controls",
            "_model_module_version": "1.5.0",
            "_model_name": "FloatProgressModel",
            "_view_count": null,
            "_view_module": "@jupyter-widgets/controls",
            "_view_module_version": "1.5.0",
            "_view_name": "ProgressView",
            "bar_style": "success",
            "description": "",
            "description_tooltip": null,
            "layout": "IPY_MODEL_2ef35a5e8ae44b5783168432f62643b6",
            "max": 483,
            "min": 0,
            "orientation": "horizontal",
            "style": "IPY_MODEL_71e7b9d92f72481d98277dbcb5fa8706",
            "value": 483
          }
        },
        "11e4da26ced44221bd7d2cacd5952db9": {
          "model_module": "@jupyter-widgets/controls",
          "model_module_version": "1.5.0",
          "model_name": "HBoxModel",
          "state": {
            "_dom_classes": [],
            "_model_module": "@jupyter-widgets/controls",
            "_model_module_version": "1.5.0",
            "_model_name": "HBoxModel",
            "_view_count": null,
            "_view_module": "@jupyter-widgets/controls",
            "_view_module_version": "1.5.0",
            "_view_name": "HBoxView",
            "box_style": "",
            "children": [
              "IPY_MODEL_b24ecd4e0fa64a85b311ae1ad17684e0",
              "IPY_MODEL_44a5fe5d284742459101b2ab4df0001f",
              "IPY_MODEL_e29509ebb24b4b8491d138dc3736525e"
            ],
            "layout": "IPY_MODEL_9c739ba59d92449d8d7af5976995b493"
          }
        },
        "139a5b38a4e149cc8f42ad5513d45baf": {
          "model_module": "@jupyter-widgets/base",
          "model_module_version": "1.2.0",
          "model_name": "LayoutModel",
          "state": {
            "_model_module": "@jupyter-widgets/base",
            "_model_module_version": "1.2.0",
            "_model_name": "LayoutModel",
            "_view_count": null,
            "_view_module": "@jupyter-widgets/base",
            "_view_module_version": "1.2.0",
            "_view_name": "LayoutView",
            "align_content": null,
            "align_items": null,
            "align_self": null,
            "border": null,
            "bottom": null,
            "display": null,
            "flex": null,
            "flex_flow": null,
            "grid_area": null,
            "grid_auto_columns": null,
            "grid_auto_flow": null,
            "grid_auto_rows": null,
            "grid_column": null,
            "grid_gap": null,
            "grid_row": null,
            "grid_template_areas": null,
            "grid_template_columns": null,
            "grid_template_rows": null,
            "height": null,
            "justify_content": null,
            "justify_items": null,
            "left": null,
            "margin": null,
            "max_height": null,
            "max_width": null,
            "min_height": null,
            "min_width": null,
            "object_fit": null,
            "object_position": null,
            "order": null,
            "overflow": null,
            "overflow_x": null,
            "overflow_y": null,
            "padding": null,
            "right": null,
            "top": null,
            "visibility": null,
            "width": null
          }
        },
        "1b42a1c2c4fc472f80e229dbe9f78cf2": {
          "model_module": "@jupyter-widgets/base",
          "model_module_version": "1.2.0",
          "model_name": "LayoutModel",
          "state": {
            "_model_module": "@jupyter-widgets/base",
            "_model_module_version": "1.2.0",
            "_model_name": "LayoutModel",
            "_view_count": null,
            "_view_module": "@jupyter-widgets/base",
            "_view_module_version": "1.2.0",
            "_view_name": "LayoutView",
            "align_content": null,
            "align_items": null,
            "align_self": null,
            "border": null,
            "bottom": null,
            "display": null,
            "flex": null,
            "flex_flow": null,
            "grid_area": null,
            "grid_auto_columns": null,
            "grid_auto_flow": null,
            "grid_auto_rows": null,
            "grid_column": null,
            "grid_gap": null,
            "grid_row": null,
            "grid_template_areas": null,
            "grid_template_columns": null,
            "grid_template_rows": null,
            "height": null,
            "justify_content": null,
            "justify_items": null,
            "left": null,
            "margin": null,
            "max_height": null,
            "max_width": null,
            "min_height": null,
            "min_width": null,
            "object_fit": null,
            "object_position": null,
            "order": null,
            "overflow": null,
            "overflow_x": null,
            "overflow_y": null,
            "padding": null,
            "right": null,
            "top": null,
            "visibility": null,
            "width": null
          }
        },
        "2e74cc563c6346dfb79f84a0d53b585e": {
          "model_module": "@jupyter-widgets/controls",
          "model_module_version": "1.5.0",
          "model_name": "ProgressStyleModel",
          "state": {
            "_model_module": "@jupyter-widgets/controls",
            "_model_module_version": "1.5.0",
            "_model_name": "ProgressStyleModel",
            "_view_count": null,
            "_view_module": "@jupyter-widgets/base",
            "_view_module_version": "1.2.0",
            "_view_name": "StyleView",
            "bar_color": null,
            "description_width": ""
          }
        },
        "2ef35a5e8ae44b5783168432f62643b6": {
          "model_module": "@jupyter-widgets/base",
          "model_module_version": "1.2.0",
          "model_name": "LayoutModel",
          "state": {
            "_model_module": "@jupyter-widgets/base",
            "_model_module_version": "1.2.0",
            "_model_name": "LayoutModel",
            "_view_count": null,
            "_view_module": "@jupyter-widgets/base",
            "_view_module_version": "1.2.0",
            "_view_name": "LayoutView",
            "align_content": null,
            "align_items": null,
            "align_self": null,
            "border": null,
            "bottom": null,
            "display": null,
            "flex": null,
            "flex_flow": null,
            "grid_area": null,
            "grid_auto_columns": null,
            "grid_auto_flow": null,
            "grid_auto_rows": null,
            "grid_column": null,
            "grid_gap": null,
            "grid_row": null,
            "grid_template_areas": null,
            "grid_template_columns": null,
            "grid_template_rows": null,
            "height": null,
            "justify_content": null,
            "justify_items": null,
            "left": null,
            "margin": null,
            "max_height": null,
            "max_width": null,
            "min_height": null,
            "min_width": null,
            "object_fit": null,
            "object_position": null,
            "order": null,
            "overflow": null,
            "overflow_x": null,
            "overflow_y": null,
            "padding": null,
            "right": null,
            "top": null,
            "visibility": null,
            "width": null
          }
        },
        "3023acf7fc89459590d74348d1c59360": {
          "model_module": "@jupyter-widgets/base",
          "model_module_version": "1.2.0",
          "model_name": "LayoutModel",
          "state": {
            "_model_module": "@jupyter-widgets/base",
            "_model_module_version": "1.2.0",
            "_model_name": "LayoutModel",
            "_view_count": null,
            "_view_module": "@jupyter-widgets/base",
            "_view_module_version": "1.2.0",
            "_view_name": "LayoutView",
            "align_content": null,
            "align_items": null,
            "align_self": null,
            "border": null,
            "bottom": null,
            "display": null,
            "flex": null,
            "flex_flow": null,
            "grid_area": null,
            "grid_auto_columns": null,
            "grid_auto_flow": null,
            "grid_auto_rows": null,
            "grid_column": null,
            "grid_gap": null,
            "grid_row": null,
            "grid_template_areas": null,
            "grid_template_columns": null,
            "grid_template_rows": null,
            "height": null,
            "justify_content": null,
            "justify_items": null,
            "left": null,
            "margin": null,
            "max_height": null,
            "max_width": null,
            "min_height": null,
            "min_width": null,
            "object_fit": null,
            "object_position": null,
            "order": null,
            "overflow": null,
            "overflow_x": null,
            "overflow_y": null,
            "padding": null,
            "right": null,
            "top": null,
            "visibility": null,
            "width": null
          }
        },
        "3891eabb60d646198cb7adb95ca0dbf9": {
          "model_module": "@jupyter-widgets/base",
          "model_module_version": "1.2.0",
          "model_name": "LayoutModel",
          "state": {
            "_model_module": "@jupyter-widgets/base",
            "_model_module_version": "1.2.0",
            "_model_name": "LayoutModel",
            "_view_count": null,
            "_view_module": "@jupyter-widgets/base",
            "_view_module_version": "1.2.0",
            "_view_name": "LayoutView",
            "align_content": null,
            "align_items": null,
            "align_self": null,
            "border": null,
            "bottom": null,
            "display": null,
            "flex": null,
            "flex_flow": null,
            "grid_area": null,
            "grid_auto_columns": null,
            "grid_auto_flow": null,
            "grid_auto_rows": null,
            "grid_column": null,
            "grid_gap": null,
            "grid_row": null,
            "grid_template_areas": null,
            "grid_template_columns": null,
            "grid_template_rows": null,
            "height": null,
            "justify_content": null,
            "justify_items": null,
            "left": null,
            "margin": null,
            "max_height": null,
            "max_width": null,
            "min_height": null,
            "min_width": null,
            "object_fit": null,
            "object_position": null,
            "order": null,
            "overflow": null,
            "overflow_x": null,
            "overflow_y": null,
            "padding": null,
            "right": null,
            "top": null,
            "visibility": null,
            "width": null
          }
        },
        "3d687e184bcf4b4fa2811a380ab7ecb4": {
          "model_module": "@jupyter-widgets/base",
          "model_module_version": "1.2.0",
          "model_name": "LayoutModel",
          "state": {
            "_model_module": "@jupyter-widgets/base",
            "_model_module_version": "1.2.0",
            "_model_name": "LayoutModel",
            "_view_count": null,
            "_view_module": "@jupyter-widgets/base",
            "_view_module_version": "1.2.0",
            "_view_name": "LayoutView",
            "align_content": null,
            "align_items": null,
            "align_self": null,
            "border": null,
            "bottom": null,
            "display": null,
            "flex": null,
            "flex_flow": null,
            "grid_area": null,
            "grid_auto_columns": null,
            "grid_auto_flow": null,
            "grid_auto_rows": null,
            "grid_column": null,
            "grid_gap": null,
            "grid_row": null,
            "grid_template_areas": null,
            "grid_template_columns": null,
            "grid_template_rows": null,
            "height": null,
            "justify_content": null,
            "justify_items": null,
            "left": null,
            "margin": null,
            "max_height": null,
            "max_width": null,
            "min_height": null,
            "min_width": null,
            "object_fit": null,
            "object_position": null,
            "order": null,
            "overflow": null,
            "overflow_x": null,
            "overflow_y": null,
            "padding": null,
            "right": null,
            "top": null,
            "visibility": null,
            "width": null
          }
        },
        "44a5fe5d284742459101b2ab4df0001f": {
          "model_module": "@jupyter-widgets/controls",
          "model_module_version": "1.5.0",
          "model_name": "FloatProgressModel",
          "state": {
            "_dom_classes": [],
            "_model_module": "@jupyter-widgets/controls",
            "_model_module_version": "1.5.0",
            "_model_name": "FloatProgressModel",
            "_view_count": null,
            "_view_module": "@jupyter-widgets/controls",
            "_view_module_version": "1.5.0",
            "_view_name": "ProgressView",
            "bar_style": "success",
            "description": "",
            "description_tooltip": null,
            "layout": "IPY_MODEL_3891eabb60d646198cb7adb95ca0dbf9",
            "max": 28,
            "min": 0,
            "orientation": "horizontal",
            "style": "IPY_MODEL_4ef0b0563be4493ea80fe7659c8c780b",
            "value": 28
          }
        },
        "46f3d9449f2a4c689a3e8554368db1c9": {
          "model_module": "@jupyter-widgets/base",
          "model_module_version": "1.2.0",
          "model_name": "LayoutModel",
          "state": {
            "_model_module": "@jupyter-widgets/base",
            "_model_module_version": "1.2.0",
            "_model_name": "LayoutModel",
            "_view_count": null,
            "_view_module": "@jupyter-widgets/base",
            "_view_module_version": "1.2.0",
            "_view_name": "LayoutView",
            "align_content": null,
            "align_items": null,
            "align_self": null,
            "border": null,
            "bottom": null,
            "display": null,
            "flex": null,
            "flex_flow": null,
            "grid_area": null,
            "grid_auto_columns": null,
            "grid_auto_flow": null,
            "grid_auto_rows": null,
            "grid_column": null,
            "grid_gap": null,
            "grid_row": null,
            "grid_template_areas": null,
            "grid_template_columns": null,
            "grid_template_rows": null,
            "height": null,
            "justify_content": null,
            "justify_items": null,
            "left": null,
            "margin": null,
            "max_height": null,
            "max_width": null,
            "min_height": null,
            "min_width": null,
            "object_fit": null,
            "object_position": null,
            "order": null,
            "overflow": null,
            "overflow_x": null,
            "overflow_y": null,
            "padding": null,
            "right": null,
            "top": null,
            "visibility": null,
            "width": null
          }
        },
        "46fdf92f5b22465d85f8bf064e16a98e": {
          "model_module": "@jupyter-widgets/base",
          "model_module_version": "1.2.0",
          "model_name": "LayoutModel",
          "state": {
            "_model_module": "@jupyter-widgets/base",
            "_model_module_version": "1.2.0",
            "_model_name": "LayoutModel",
            "_view_count": null,
            "_view_module": "@jupyter-widgets/base",
            "_view_module_version": "1.2.0",
            "_view_name": "LayoutView",
            "align_content": null,
            "align_items": null,
            "align_self": null,
            "border": null,
            "bottom": null,
            "display": null,
            "flex": null,
            "flex_flow": null,
            "grid_area": null,
            "grid_auto_columns": null,
            "grid_auto_flow": null,
            "grid_auto_rows": null,
            "grid_column": null,
            "grid_gap": null,
            "grid_row": null,
            "grid_template_areas": null,
            "grid_template_columns": null,
            "grid_template_rows": null,
            "height": null,
            "justify_content": null,
            "justify_items": null,
            "left": null,
            "margin": null,
            "max_height": null,
            "max_width": null,
            "min_height": null,
            "min_width": null,
            "object_fit": null,
            "object_position": null,
            "order": null,
            "overflow": null,
            "overflow_x": null,
            "overflow_y": null,
            "padding": null,
            "right": null,
            "top": null,
            "visibility": null,
            "width": null
          }
        },
        "46fe187a499743e2b3e1b260979b5700": {
          "model_module": "@jupyter-widgets/controls",
          "model_module_version": "1.5.0",
          "model_name": "HTMLModel",
          "state": {
            "_dom_classes": [],
            "_model_module": "@jupyter-widgets/controls",
            "_model_module_version": "1.5.0",
            "_model_name": "HTMLModel",
            "_view_count": null,
            "_view_module": "@jupyter-widgets/controls",
            "_view_module_version": "1.5.0",
            "_view_name": "HTMLView",
            "description": "",
            "description_tooltip": null,
            "layout": "IPY_MODEL_d080d5cc7d7c476b96b3d3d1c0866d78",
            "placeholder": "​",
            "style": "IPY_MODEL_e949d8f85fb842df86d25a550d2c81e8",
            "value": " 466k/466k [00:00&lt;00:00, 832kB/s]"
          }
        },
        "47ec0a50e7c7414b86dca08d61969b23": {
          "model_module": "@jupyter-widgets/controls",
          "model_module_version": "1.5.0",
          "model_name": "HTMLModel",
          "state": {
            "_dom_classes": [],
            "_model_module": "@jupyter-widgets/controls",
            "_model_module_version": "1.5.0",
            "_model_name": "HTMLModel",
            "_view_count": null,
            "_view_module": "@jupyter-widgets/controls",
            "_view_module_version": "1.5.0",
            "_view_name": "HTMLView",
            "description": "",
            "description_tooltip": null,
            "layout": "IPY_MODEL_57465533d81a478c8f2af290a64a51b3",
            "placeholder": "​",
            "style": "IPY_MODEL_7b71cc49594445208962034c810096d3",
            "value": " 268M/268M [00:03&lt;00:00, 76.6MB/s]"
          }
        },
        "4ab15e31265b415cbdaf813759aa47a7": {
          "model_module": "@jupyter-widgets/controls",
          "model_module_version": "1.5.0",
          "model_name": "HTMLModel",
          "state": {
            "_dom_classes": [],
            "_model_module": "@jupyter-widgets/controls",
            "_model_module_version": "1.5.0",
            "_model_name": "HTMLModel",
            "_view_count": null,
            "_view_module": "@jupyter-widgets/controls",
            "_view_module_version": "1.5.0",
            "_view_name": "HTMLView",
            "description": "",
            "description_tooltip": null,
            "layout": "IPY_MODEL_46f3d9449f2a4c689a3e8554368db1c9",
            "placeholder": "​",
            "style": "IPY_MODEL_fc1a5a720a0b4c57be974f43779e97d2",
            "value": "config.json: 100%"
          }
        },
        "4bde6a84249347389be0279a3a6af26a": {
          "model_module": "@jupyter-widgets/base",
          "model_module_version": "1.2.0",
          "model_name": "LayoutModel",
          "state": {
            "_model_module": "@jupyter-widgets/base",
            "_model_module_version": "1.2.0",
            "_model_name": "LayoutModel",
            "_view_count": null,
            "_view_module": "@jupyter-widgets/base",
            "_view_module_version": "1.2.0",
            "_view_name": "LayoutView",
            "align_content": null,
            "align_items": null,
            "align_self": null,
            "border": null,
            "bottom": null,
            "display": null,
            "flex": null,
            "flex_flow": null,
            "grid_area": null,
            "grid_auto_columns": null,
            "grid_auto_flow": null,
            "grid_auto_rows": null,
            "grid_column": null,
            "grid_gap": null,
            "grid_row": null,
            "grid_template_areas": null,
            "grid_template_columns": null,
            "grid_template_rows": null,
            "height": null,
            "justify_content": null,
            "justify_items": null,
            "left": null,
            "margin": null,
            "max_height": null,
            "max_width": null,
            "min_height": null,
            "min_width": null,
            "object_fit": null,
            "object_position": null,
            "order": null,
            "overflow": null,
            "overflow_x": null,
            "overflow_y": null,
            "padding": null,
            "right": null,
            "top": null,
            "visibility": null,
            "width": null
          }
        },
        "4ef0b0563be4493ea80fe7659c8c780b": {
          "model_module": "@jupyter-widgets/controls",
          "model_module_version": "1.5.0",
          "model_name": "ProgressStyleModel",
          "state": {
            "_model_module": "@jupyter-widgets/controls",
            "_model_module_version": "1.5.0",
            "_model_name": "ProgressStyleModel",
            "_view_count": null,
            "_view_module": "@jupyter-widgets/base",
            "_view_module_version": "1.2.0",
            "_view_name": "StyleView",
            "bar_color": null,
            "description_width": ""
          }
        },
        "5094e21e95bc46af9c8d5bb5f5d71eb1": {
          "model_module": "@jupyter-widgets/controls",
          "model_module_version": "1.5.0",
          "model_name": "HTMLModel",
          "state": {
            "_dom_classes": [],
            "_model_module": "@jupyter-widgets/controls",
            "_model_module_version": "1.5.0",
            "_model_name": "HTMLModel",
            "_view_count": null,
            "_view_module": "@jupyter-widgets/controls",
            "_view_module_version": "1.5.0",
            "_view_name": "HTMLView",
            "description": "",
            "description_tooltip": null,
            "layout": "IPY_MODEL_46fdf92f5b22465d85f8bf064e16a98e",
            "placeholder": "​",
            "style": "IPY_MODEL_5fe1e6057bcd4afebdc6d08ecbefd65a",
            "value": "model.safetensors: 100%"
          }
        },
        "541c50c524c74cd98c928e7931562c57": {
          "model_module": "@jupyter-widgets/controls",
          "model_module_version": "1.5.0",
          "model_name": "DescriptionStyleModel",
          "state": {
            "_model_module": "@jupyter-widgets/controls",
            "_model_module_version": "1.5.0",
            "_model_name": "DescriptionStyleModel",
            "_view_count": null,
            "_view_module": "@jupyter-widgets/base",
            "_view_module_version": "1.2.0",
            "_view_name": "StyleView",
            "description_width": ""
          }
        },
        "57465533d81a478c8f2af290a64a51b3": {
          "model_module": "@jupyter-widgets/base",
          "model_module_version": "1.2.0",
          "model_name": "LayoutModel",
          "state": {
            "_model_module": "@jupyter-widgets/base",
            "_model_module_version": "1.2.0",
            "_model_name": "LayoutModel",
            "_view_count": null,
            "_view_module": "@jupyter-widgets/base",
            "_view_module_version": "1.2.0",
            "_view_name": "LayoutView",
            "align_content": null,
            "align_items": null,
            "align_self": null,
            "border": null,
            "bottom": null,
            "display": null,
            "flex": null,
            "flex_flow": null,
            "grid_area": null,
            "grid_auto_columns": null,
            "grid_auto_flow": null,
            "grid_auto_rows": null,
            "grid_column": null,
            "grid_gap": null,
            "grid_row": null,
            "grid_template_areas": null,
            "grid_template_columns": null,
            "grid_template_rows": null,
            "height": null,
            "justify_content": null,
            "justify_items": null,
            "left": null,
            "margin": null,
            "max_height": null,
            "max_width": null,
            "min_height": null,
            "min_width": null,
            "object_fit": null,
            "object_position": null,
            "order": null,
            "overflow": null,
            "overflow_x": null,
            "overflow_y": null,
            "padding": null,
            "right": null,
            "top": null,
            "visibility": null,
            "width": null
          }
        },
        "5aa1b3e6d98a4864936d0ee7059bad53": {
          "model_module": "@jupyter-widgets/base",
          "model_module_version": "1.2.0",
          "model_name": "LayoutModel",
          "state": {
            "_model_module": "@jupyter-widgets/base",
            "_model_module_version": "1.2.0",
            "_model_name": "LayoutModel",
            "_view_count": null,
            "_view_module": "@jupyter-widgets/base",
            "_view_module_version": "1.2.0",
            "_view_name": "LayoutView",
            "align_content": null,
            "align_items": null,
            "align_self": null,
            "border": null,
            "bottom": null,
            "display": null,
            "flex": null,
            "flex_flow": null,
            "grid_area": null,
            "grid_auto_columns": null,
            "grid_auto_flow": null,
            "grid_auto_rows": null,
            "grid_column": null,
            "grid_gap": null,
            "grid_row": null,
            "grid_template_areas": null,
            "grid_template_columns": null,
            "grid_template_rows": null,
            "height": null,
            "justify_content": null,
            "justify_items": null,
            "left": null,
            "margin": null,
            "max_height": null,
            "max_width": null,
            "min_height": null,
            "min_width": null,
            "object_fit": null,
            "object_position": null,
            "order": null,
            "overflow": null,
            "overflow_x": null,
            "overflow_y": null,
            "padding": null,
            "right": null,
            "top": null,
            "visibility": null,
            "width": null
          }
        },
        "5fcd01fac22445eeb7fbb2a8860188fd": {
          "model_module": "@jupyter-widgets/controls",
          "model_module_version": "1.5.0",
          "model_name": "FloatProgressModel",
          "state": {
            "_dom_classes": [],
            "_model_module": "@jupyter-widgets/controls",
            "_model_module_version": "1.5.0",
            "_model_name": "FloatProgressModel",
            "_view_count": null,
            "_view_module": "@jupyter-widgets/controls",
            "_view_module_version": "1.5.0",
            "_view_name": "ProgressView",
            "bar_style": "success",
            "description": "",
            "description_tooltip": null,
            "layout": "IPY_MODEL_5aa1b3e6d98a4864936d0ee7059bad53",
            "max": 231508,
            "min": 0,
            "orientation": "horizontal",
            "style": "IPY_MODEL_bc52b6765bfe43209f6fe8419f47eccd",
            "value": 231508
          }
        },
        "5fe1e6057bcd4afebdc6d08ecbefd65a": {
          "model_module": "@jupyter-widgets/controls",
          "model_module_version": "1.5.0",
          "model_name": "DescriptionStyleModel",
          "state": {
            "_model_module": "@jupyter-widgets/controls",
            "_model_module_version": "1.5.0",
            "_model_name": "DescriptionStyleModel",
            "_view_count": null,
            "_view_module": "@jupyter-widgets/base",
            "_view_module_version": "1.2.0",
            "_view_name": "StyleView",
            "description_width": ""
          }
        },
        "6c5d657a3b1648d7b842563f06251e0a": {
          "model_module": "@jupyter-widgets/controls",
          "model_module_version": "1.5.0",
          "model_name": "DescriptionStyleModel",
          "state": {
            "_model_module": "@jupyter-widgets/controls",
            "_model_module_version": "1.5.0",
            "_model_name": "DescriptionStyleModel",
            "_view_count": null,
            "_view_module": "@jupyter-widgets/base",
            "_view_module_version": "1.2.0",
            "_view_name": "StyleView",
            "description_width": ""
          }
        },
        "6d3025d407604ccc89a7548c0eb3f900": {
          "model_module": "@jupyter-widgets/controls",
          "model_module_version": "1.5.0",
          "model_name": "HBoxModel",
          "state": {
            "_dom_classes": [],
            "_model_module": "@jupyter-widgets/controls",
            "_model_module_version": "1.5.0",
            "_model_name": "HBoxModel",
            "_view_count": null,
            "_view_module": "@jupyter-widgets/controls",
            "_view_module_version": "1.5.0",
            "_view_name": "HBoxView",
            "box_style": "",
            "children": [
              "IPY_MODEL_5094e21e95bc46af9c8d5bb5f5d71eb1",
              "IPY_MODEL_e8ba9b2cce2348d0828c5e3622628c9c",
              "IPY_MODEL_47ec0a50e7c7414b86dca08d61969b23"
            ],
            "layout": "IPY_MODEL_1b42a1c2c4fc472f80e229dbe9f78cf2"
          }
        },
        "71e7b9d92f72481d98277dbcb5fa8706": {
          "model_module": "@jupyter-widgets/controls",
          "model_module_version": "1.5.0",
          "model_name": "ProgressStyleModel",
          "state": {
            "_model_module": "@jupyter-widgets/controls",
            "_model_module_version": "1.5.0",
            "_model_name": "ProgressStyleModel",
            "_view_count": null,
            "_view_module": "@jupyter-widgets/base",
            "_view_module_version": "1.2.0",
            "_view_name": "StyleView",
            "bar_color": null,
            "description_width": ""
          }
        },
        "7583f05db1bd4af39e4a590a4fabc241": {
          "model_module": "@jupyter-widgets/base",
          "model_module_version": "1.2.0",
          "model_name": "LayoutModel",
          "state": {
            "_model_module": "@jupyter-widgets/base",
            "_model_module_version": "1.2.0",
            "_model_name": "LayoutModel",
            "_view_count": null,
            "_view_module": "@jupyter-widgets/base",
            "_view_module_version": "1.2.0",
            "_view_name": "LayoutView",
            "align_content": null,
            "align_items": null,
            "align_self": null,
            "border": null,
            "bottom": null,
            "display": null,
            "flex": null,
            "flex_flow": null,
            "grid_area": null,
            "grid_auto_columns": null,
            "grid_auto_flow": null,
            "grid_auto_rows": null,
            "grid_column": null,
            "grid_gap": null,
            "grid_row": null,
            "grid_template_areas": null,
            "grid_template_columns": null,
            "grid_template_rows": null,
            "height": null,
            "justify_content": null,
            "justify_items": null,
            "left": null,
            "margin": null,
            "max_height": null,
            "max_width": null,
            "min_height": null,
            "min_width": null,
            "object_fit": null,
            "object_position": null,
            "order": null,
            "overflow": null,
            "overflow_x": null,
            "overflow_y": null,
            "padding": null,
            "right": null,
            "top": null,
            "visibility": null,
            "width": null
          }
        },
        "775939c7498048dcb9dff254cb6e50e7": {
          "model_module": "@jupyter-widgets/base",
          "model_module_version": "1.2.0",
          "model_name": "LayoutModel",
          "state": {
            "_model_module": "@jupyter-widgets/base",
            "_model_module_version": "1.2.0",
            "_model_name": "LayoutModel",
            "_view_count": null,
            "_view_module": "@jupyter-widgets/base",
            "_view_module_version": "1.2.0",
            "_view_name": "LayoutView",
            "align_content": null,
            "align_items": null,
            "align_self": null,
            "border": null,
            "bottom": null,
            "display": null,
            "flex": null,
            "flex_flow": null,
            "grid_area": null,
            "grid_auto_columns": null,
            "grid_auto_flow": null,
            "grid_auto_rows": null,
            "grid_column": null,
            "grid_gap": null,
            "grid_row": null,
            "grid_template_areas": null,
            "grid_template_columns": null,
            "grid_template_rows": null,
            "height": null,
            "justify_content": null,
            "justify_items": null,
            "left": null,
            "margin": null,
            "max_height": null,
            "max_width": null,
            "min_height": null,
            "min_width": null,
            "object_fit": null,
            "object_position": null,
            "order": null,
            "overflow": null,
            "overflow_x": null,
            "overflow_y": null,
            "padding": null,
            "right": null,
            "top": null,
            "visibility": null,
            "width": null
          }
        },
        "7b71cc49594445208962034c810096d3": {
          "model_module": "@jupyter-widgets/controls",
          "model_module_version": "1.5.0",
          "model_name": "DescriptionStyleModel",
          "state": {
            "_model_module": "@jupyter-widgets/controls",
            "_model_module_version": "1.5.0",
            "_model_name": "DescriptionStyleModel",
            "_view_count": null,
            "_view_module": "@jupyter-widgets/base",
            "_view_module_version": "1.2.0",
            "_view_name": "StyleView",
            "description_width": ""
          }
        },
        "7ed96b14aa0f4bb284cc2cd58edc98a4": {
          "model_module": "@jupyter-widgets/controls",
          "model_module_version": "1.5.0",
          "model_name": "HTMLModel",
          "state": {
            "_dom_classes": [],
            "_model_module": "@jupyter-widgets/controls",
            "_model_module_version": "1.5.0",
            "_model_name": "HTMLModel",
            "_view_count": null,
            "_view_module": "@jupyter-widgets/controls",
            "_view_module_version": "1.5.0",
            "_view_name": "HTMLView",
            "description": "",
            "description_tooltip": null,
            "layout": "IPY_MODEL_139a5b38a4e149cc8f42ad5513d45baf",
            "placeholder": "​",
            "style": "IPY_MODEL_541c50c524c74cd98c928e7931562c57",
            "value": "vocab.txt: 100%"
          }
        },
        "9692a253f22a4b2b87caa0221c82f604": {
          "model_module": "@jupyter-widgets/controls",
          "model_module_version": "1.5.0",
          "model_name": "DescriptionStyleModel",
          "state": {
            "_model_module": "@jupyter-widgets/controls",
            "_model_module_version": "1.5.0",
            "_model_name": "DescriptionStyleModel",
            "_view_count": null,
            "_view_module": "@jupyter-widgets/base",
            "_view_module_version": "1.2.0",
            "_view_name": "StyleView",
            "description_width": ""
          }
        },
        "9b4654301dbf49d6ba9004e9908cf3dc": {
          "model_module": "@jupyter-widgets/controls",
          "model_module_version": "1.5.0",
          "model_name": "HBoxModel",
          "state": {
            "_dom_classes": [],
            "_model_module": "@jupyter-widgets/controls",
            "_model_module_version": "1.5.0",
            "_model_name": "HBoxModel",
            "_view_count": null,
            "_view_module": "@jupyter-widgets/controls",
            "_view_module_version": "1.5.0",
            "_view_name": "HBoxView",
            "box_style": "",
            "children": [
              "IPY_MODEL_7ed96b14aa0f4bb284cc2cd58edc98a4",
              "IPY_MODEL_5fcd01fac22445eeb7fbb2a8860188fd",
              "IPY_MODEL_c0830d211ac343868c4ead2fcc1b8d4a"
            ],
            "layout": "IPY_MODEL_775939c7498048dcb9dff254cb6e50e7"
          }
        },
        "9c739ba59d92449d8d7af5976995b493": {
          "model_module": "@jupyter-widgets/base",
          "model_module_version": "1.2.0",
          "model_name": "LayoutModel",
          "state": {
            "_model_module": "@jupyter-widgets/base",
            "_model_module_version": "1.2.0",
            "_model_name": "LayoutModel",
            "_view_count": null,
            "_view_module": "@jupyter-widgets/base",
            "_view_module_version": "1.2.0",
            "_view_name": "LayoutView",
            "align_content": null,
            "align_items": null,
            "align_self": null,
            "border": null,
            "bottom": null,
            "display": null,
            "flex": null,
            "flex_flow": null,
            "grid_area": null,
            "grid_auto_columns": null,
            "grid_auto_flow": null,
            "grid_auto_rows": null,
            "grid_column": null,
            "grid_gap": null,
            "grid_row": null,
            "grid_template_areas": null,
            "grid_template_columns": null,
            "grid_template_rows": null,
            "height": null,
            "justify_content": null,
            "justify_items": null,
            "left": null,
            "margin": null,
            "max_height": null,
            "max_width": null,
            "min_height": null,
            "min_width": null,
            "object_fit": null,
            "object_position": null,
            "order": null,
            "overflow": null,
            "overflow_x": null,
            "overflow_y": null,
            "padding": null,
            "right": null,
            "top": null,
            "visibility": null,
            "width": null
          }
        },
        "a9fb54647dfa4f41bfaa774a5077524b": {
          "model_module": "@jupyter-widgets/controls",
          "model_module_version": "1.5.0",
          "model_name": "DescriptionStyleModel",
          "state": {
            "_model_module": "@jupyter-widgets/controls",
            "_model_module_version": "1.5.0",
            "_model_name": "DescriptionStyleModel",
            "_view_count": null,
            "_view_module": "@jupyter-widgets/base",
            "_view_module_version": "1.2.0",
            "_view_name": "StyleView",
            "description_width": ""
          }
        },
        "b24ecd4e0fa64a85b311ae1ad17684e0": {
          "model_module": "@jupyter-widgets/controls",
          "model_module_version": "1.5.0",
          "model_name": "HTMLModel",
          "state": {
            "_dom_classes": [],
            "_model_module": "@jupyter-widgets/controls",
            "_model_module_version": "1.5.0",
            "_model_name": "HTMLModel",
            "_view_count": null,
            "_view_module": "@jupyter-widgets/controls",
            "_view_module_version": "1.5.0",
            "_view_name": "HTMLView",
            "description": "",
            "description_tooltip": null,
            "layout": "IPY_MODEL_e8e4a63182c440558010b39faa0d3fba",
            "placeholder": "​",
            "style": "IPY_MODEL_cadd11848cad4d33a0fa43ce363e4712",
            "value": "tokenizer_config.json: 100%"
          }
        },
        "b2b301d343d240dfa910b4a14490d0f0": {
          "model_module": "@jupyter-widgets/controls",
          "model_module_version": "1.5.0",
          "model_name": "FloatProgressModel",
          "state": {
            "_dom_classes": [],
            "_model_module": "@jupyter-widgets/controls",
            "_model_module_version": "1.5.0",
            "_model_name": "FloatProgressModel",
            "_view_count": null,
            "_view_module": "@jupyter-widgets/controls",
            "_view_module_version": "1.5.0",
            "_view_name": "ProgressView",
            "bar_style": "success",
            "description": "",
            "description_tooltip": null,
            "layout": "IPY_MODEL_eb1e9a5d0bda493a973a5532f4bc2787",
            "max": 466062,
            "min": 0,
            "orientation": "horizontal",
            "style": "IPY_MODEL_2e74cc563c6346dfb79f84a0d53b585e",
            "value": 466062
          }
        },
        "bc52b6765bfe43209f6fe8419f47eccd": {
          "model_module": "@jupyter-widgets/controls",
          "model_module_version": "1.5.0",
          "model_name": "ProgressStyleModel",
          "state": {
            "_model_module": "@jupyter-widgets/controls",
            "_model_module_version": "1.5.0",
            "_model_name": "ProgressStyleModel",
            "_view_count": null,
            "_view_module": "@jupyter-widgets/base",
            "_view_module_version": "1.2.0",
            "_view_name": "StyleView",
            "bar_color": null,
            "description_width": ""
          }
        },
        "c041817ecdab4ac389cf12a5bc7b8e9b": {
          "model_module": "@jupyter-widgets/controls",
          "model_module_version": "1.5.0",
          "model_name": "HTMLModel",
          "state": {
            "_dom_classes": [],
            "_model_module": "@jupyter-widgets/controls",
            "_model_module_version": "1.5.0",
            "_model_name": "HTMLModel",
            "_view_count": null,
            "_view_module": "@jupyter-widgets/controls",
            "_view_module_version": "1.5.0",
            "_view_name": "HTMLView",
            "description": "",
            "description_tooltip": null,
            "layout": "IPY_MODEL_4bde6a84249347389be0279a3a6af26a",
            "placeholder": "​",
            "style": "IPY_MODEL_f887fb35a21e40fa95488ccc84849b34",
            "value": " 483/483 [00:00&lt;00:00, 14.2kB/s]"
          }
        },
        "c0830d211ac343868c4ead2fcc1b8d4a": {
          "model_module": "@jupyter-widgets/controls",
          "model_module_version": "1.5.0",
          "model_name": "HTMLModel",
          "state": {
            "_dom_classes": [],
            "_model_module": "@jupyter-widgets/controls",
            "_model_module_version": "1.5.0",
            "_model_name": "HTMLModel",
            "_view_count": null,
            "_view_module": "@jupyter-widgets/controls",
            "_view_module_version": "1.5.0",
            "_view_name": "HTMLView",
            "description": "",
            "description_tooltip": null,
            "layout": "IPY_MODEL_e5839bb027ef41c8b6663caad533fa13",
            "placeholder": "​",
            "style": "IPY_MODEL_6c5d657a3b1648d7b842563f06251e0a",
            "value": " 232k/232k [00:00&lt;00:00, 397kB/s]"
          }
        },
        "c9dda7bbecba401c8a19911aed3aabc5": {
          "model_module": "@jupyter-widgets/base",
          "model_module_version": "1.2.0",
          "model_name": "LayoutModel",
          "state": {
            "_model_module": "@jupyter-widgets/base",
            "_model_module_version": "1.2.0",
            "_model_name": "LayoutModel",
            "_view_count": null,
            "_view_module": "@jupyter-widgets/base",
            "_view_module_version": "1.2.0",
            "_view_name": "LayoutView",
            "align_content": null,
            "align_items": null,
            "align_self": null,
            "border": null,
            "bottom": null,
            "display": null,
            "flex": null,
            "flex_flow": null,
            "grid_area": null,
            "grid_auto_columns": null,
            "grid_auto_flow": null,
            "grid_auto_rows": null,
            "grid_column": null,
            "grid_gap": null,
            "grid_row": null,
            "grid_template_areas": null,
            "grid_template_columns": null,
            "grid_template_rows": null,
            "height": null,
            "justify_content": null,
            "justify_items": null,
            "left": null,
            "margin": null,
            "max_height": null,
            "max_width": null,
            "min_height": null,
            "min_width": null,
            "object_fit": null,
            "object_position": null,
            "order": null,
            "overflow": null,
            "overflow_x": null,
            "overflow_y": null,
            "padding": null,
            "right": null,
            "top": null,
            "visibility": null,
            "width": null
          }
        },
        "cadd11848cad4d33a0fa43ce363e4712": {
          "model_module": "@jupyter-widgets/controls",
          "model_module_version": "1.5.0",
          "model_name": "DescriptionStyleModel",
          "state": {
            "_model_module": "@jupyter-widgets/controls",
            "_model_module_version": "1.5.0",
            "_model_name": "DescriptionStyleModel",
            "_view_count": null,
            "_view_module": "@jupyter-widgets/base",
            "_view_module_version": "1.2.0",
            "_view_name": "StyleView",
            "description_width": ""
          }
        },
        "cbdcf4a1c6c94602a269fc079039be6d": {
          "model_module": "@jupyter-widgets/controls",
          "model_module_version": "1.5.0",
          "model_name": "HTMLModel",
          "state": {
            "_dom_classes": [],
            "_model_module": "@jupyter-widgets/controls",
            "_model_module_version": "1.5.0",
            "_model_name": "HTMLModel",
            "_view_count": null,
            "_view_module": "@jupyter-widgets/controls",
            "_view_module_version": "1.5.0",
            "_view_name": "HTMLView",
            "description": "",
            "description_tooltip": null,
            "layout": "IPY_MODEL_7583f05db1bd4af39e4a590a4fabc241",
            "placeholder": "​",
            "style": "IPY_MODEL_a9fb54647dfa4f41bfaa774a5077524b",
            "value": "tokenizer.json: 100%"
          }
        },
        "cd5e6e5ef4b94abb92c677742e825e21": {
          "model_module": "@jupyter-widgets/controls",
          "model_module_version": "1.5.0",
          "model_name": "ProgressStyleModel",
          "state": {
            "_model_module": "@jupyter-widgets/controls",
            "_model_module_version": "1.5.0",
            "_model_name": "ProgressStyleModel",
            "_view_count": null,
            "_view_module": "@jupyter-widgets/base",
            "_view_module_version": "1.2.0",
            "_view_name": "StyleView",
            "bar_color": null,
            "description_width": ""
          }
        },
        "d080d5cc7d7c476b96b3d3d1c0866d78": {
          "model_module": "@jupyter-widgets/base",
          "model_module_version": "1.2.0",
          "model_name": "LayoutModel",
          "state": {
            "_model_module": "@jupyter-widgets/base",
            "_model_module_version": "1.2.0",
            "_model_name": "LayoutModel",
            "_view_count": null,
            "_view_module": "@jupyter-widgets/base",
            "_view_module_version": "1.2.0",
            "_view_name": "LayoutView",
            "align_content": null,
            "align_items": null,
            "align_self": null,
            "border": null,
            "bottom": null,
            "display": null,
            "flex": null,
            "flex_flow": null,
            "grid_area": null,
            "grid_auto_columns": null,
            "grid_auto_flow": null,
            "grid_auto_rows": null,
            "grid_column": null,
            "grid_gap": null,
            "grid_row": null,
            "grid_template_areas": null,
            "grid_template_columns": null,
            "grid_template_rows": null,
            "height": null,
            "justify_content": null,
            "justify_items": null,
            "left": null,
            "margin": null,
            "max_height": null,
            "max_width": null,
            "min_height": null,
            "min_width": null,
            "object_fit": null,
            "object_position": null,
            "order": null,
            "overflow": null,
            "overflow_x": null,
            "overflow_y": null,
            "padding": null,
            "right": null,
            "top": null,
            "visibility": null,
            "width": null
          }
        },
        "d87e5daf15f64159aee24359798518a8": {
          "model_module": "@jupyter-widgets/base",
          "model_module_version": "1.2.0",
          "model_name": "LayoutModel",
          "state": {
            "_model_module": "@jupyter-widgets/base",
            "_model_module_version": "1.2.0",
            "_model_name": "LayoutModel",
            "_view_count": null,
            "_view_module": "@jupyter-widgets/base",
            "_view_module_version": "1.2.0",
            "_view_name": "LayoutView",
            "align_content": null,
            "align_items": null,
            "align_self": null,
            "border": null,
            "bottom": null,
            "display": null,
            "flex": null,
            "flex_flow": null,
            "grid_area": null,
            "grid_auto_columns": null,
            "grid_auto_flow": null,
            "grid_auto_rows": null,
            "grid_column": null,
            "grid_gap": null,
            "grid_row": null,
            "grid_template_areas": null,
            "grid_template_columns": null,
            "grid_template_rows": null,
            "height": null,
            "justify_content": null,
            "justify_items": null,
            "left": null,
            "margin": null,
            "max_height": null,
            "max_width": null,
            "min_height": null,
            "min_width": null,
            "object_fit": null,
            "object_position": null,
            "order": null,
            "overflow": null,
            "overflow_x": null,
            "overflow_y": null,
            "padding": null,
            "right": null,
            "top": null,
            "visibility": null,
            "width": null
          }
        },
        "e02600460674475aa171155e44081d65": {
          "model_module": "@jupyter-widgets/controls",
          "model_module_version": "1.5.0",
          "model_name": "HBoxModel",
          "state": {
            "_dom_classes": [],
            "_model_module": "@jupyter-widgets/controls",
            "_model_module_version": "1.5.0",
            "_model_name": "HBoxModel",
            "_view_count": null,
            "_view_module": "@jupyter-widgets/controls",
            "_view_module_version": "1.5.0",
            "_view_name": "HBoxView",
            "box_style": "",
            "children": [
              "IPY_MODEL_cbdcf4a1c6c94602a269fc079039be6d",
              "IPY_MODEL_b2b301d343d240dfa910b4a14490d0f0",
              "IPY_MODEL_46fe187a499743e2b3e1b260979b5700"
            ],
            "layout": "IPY_MODEL_3023acf7fc89459590d74348d1c59360"
          }
        },
        "e29509ebb24b4b8491d138dc3736525e": {
          "model_module": "@jupyter-widgets/controls",
          "model_module_version": "1.5.0",
          "model_name": "HTMLModel",
          "state": {
            "_dom_classes": [],
            "_model_module": "@jupyter-widgets/controls",
            "_model_module_version": "1.5.0",
            "_model_name": "HTMLModel",
            "_view_count": null,
            "_view_module": "@jupyter-widgets/controls",
            "_view_module_version": "1.5.0",
            "_view_name": "HTMLView",
            "description": "",
            "description_tooltip": null,
            "layout": "IPY_MODEL_c9dda7bbecba401c8a19911aed3aabc5",
            "placeholder": "​",
            "style": "IPY_MODEL_9692a253f22a4b2b87caa0221c82f604",
            "value": " 28.0/28.0 [00:00&lt;00:00, 1.08kB/s]"
          }
        },
        "e5839bb027ef41c8b6663caad533fa13": {
          "model_module": "@jupyter-widgets/base",
          "model_module_version": "1.2.0",
          "model_name": "LayoutModel",
          "state": {
            "_model_module": "@jupyter-widgets/base",
            "_model_module_version": "1.2.0",
            "_model_name": "LayoutModel",
            "_view_count": null,
            "_view_module": "@jupyter-widgets/base",
            "_view_module_version": "1.2.0",
            "_view_name": "LayoutView",
            "align_content": null,
            "align_items": null,
            "align_self": null,
            "border": null,
            "bottom": null,
            "display": null,
            "flex": null,
            "flex_flow": null,
            "grid_area": null,
            "grid_auto_columns": null,
            "grid_auto_flow": null,
            "grid_auto_rows": null,
            "grid_column": null,
            "grid_gap": null,
            "grid_row": null,
            "grid_template_areas": null,
            "grid_template_columns": null,
            "grid_template_rows": null,
            "height": null,
            "justify_content": null,
            "justify_items": null,
            "left": null,
            "margin": null,
            "max_height": null,
            "max_width": null,
            "min_height": null,
            "min_width": null,
            "object_fit": null,
            "object_position": null,
            "order": null,
            "overflow": null,
            "overflow_x": null,
            "overflow_y": null,
            "padding": null,
            "right": null,
            "top": null,
            "visibility": null,
            "width": null
          }
        },
        "e8ba9b2cce2348d0828c5e3622628c9c": {
          "model_module": "@jupyter-widgets/controls",
          "model_module_version": "1.5.0",
          "model_name": "FloatProgressModel",
          "state": {
            "_dom_classes": [],
            "_model_module": "@jupyter-widgets/controls",
            "_model_module_version": "1.5.0",
            "_model_name": "FloatProgressModel",
            "_view_count": null,
            "_view_module": "@jupyter-widgets/controls",
            "_view_module_version": "1.5.0",
            "_view_name": "ProgressView",
            "bar_style": "success",
            "description": "",
            "description_tooltip": null,
            "layout": "IPY_MODEL_3d687e184bcf4b4fa2811a380ab7ecb4",
            "max": 267954768,
            "min": 0,
            "orientation": "horizontal",
            "style": "IPY_MODEL_cd5e6e5ef4b94abb92c677742e825e21",
            "value": 267954768
          }
        },
        "e8e4a63182c440558010b39faa0d3fba": {
          "model_module": "@jupyter-widgets/base",
          "model_module_version": "1.2.0",
          "model_name": "LayoutModel",
          "state": {
            "_model_module": "@jupyter-widgets/base",
            "_model_module_version": "1.2.0",
            "_model_name": "LayoutModel",
            "_view_count": null,
            "_view_module": "@jupyter-widgets/base",
            "_view_module_version": "1.2.0",
            "_view_name": "LayoutView",
            "align_content": null,
            "align_items": null,
            "align_self": null,
            "border": null,
            "bottom": null,
            "display": null,
            "flex": null,
            "flex_flow": null,
            "grid_area": null,
            "grid_auto_columns": null,
            "grid_auto_flow": null,
            "grid_auto_rows": null,
            "grid_column": null,
            "grid_gap": null,
            "grid_row": null,
            "grid_template_areas": null,
            "grid_template_columns": null,
            "grid_template_rows": null,
            "height": null,
            "justify_content": null,
            "justify_items": null,
            "left": null,
            "margin": null,
            "max_height": null,
            "max_width": null,
            "min_height": null,
            "min_width": null,
            "object_fit": null,
            "object_position": null,
            "order": null,
            "overflow": null,
            "overflow_x": null,
            "overflow_y": null,
            "padding": null,
            "right": null,
            "top": null,
            "visibility": null,
            "width": null
          }
        },
        "e949d8f85fb842df86d25a550d2c81e8": {
          "model_module": "@jupyter-widgets/controls",
          "model_module_version": "1.5.0",
          "model_name": "DescriptionStyleModel",
          "state": {
            "_model_module": "@jupyter-widgets/controls",
            "_model_module_version": "1.5.0",
            "_model_name": "DescriptionStyleModel",
            "_view_count": null,
            "_view_module": "@jupyter-widgets/base",
            "_view_module_version": "1.2.0",
            "_view_name": "StyleView",
            "description_width": ""
          }
        },
        "eb1e9a5d0bda493a973a5532f4bc2787": {
          "model_module": "@jupyter-widgets/base",
          "model_module_version": "1.2.0",
          "model_name": "LayoutModel",
          "state": {
            "_model_module": "@jupyter-widgets/base",
            "_model_module_version": "1.2.0",
            "_model_name": "LayoutModel",
            "_view_count": null,
            "_view_module": "@jupyter-widgets/base",
            "_view_module_version": "1.2.0",
            "_view_name": "LayoutView",
            "align_content": null,
            "align_items": null,
            "align_self": null,
            "border": null,
            "bottom": null,
            "display": null,
            "flex": null,
            "flex_flow": null,
            "grid_area": null,
            "grid_auto_columns": null,
            "grid_auto_flow": null,
            "grid_auto_rows": null,
            "grid_column": null,
            "grid_gap": null,
            "grid_row": null,
            "grid_template_areas": null,
            "grid_template_columns": null,
            "grid_template_rows": null,
            "height": null,
            "justify_content": null,
            "justify_items": null,
            "left": null,
            "margin": null,
            "max_height": null,
            "max_width": null,
            "min_height": null,
            "min_width": null,
            "object_fit": null,
            "object_position": null,
            "order": null,
            "overflow": null,
            "overflow_x": null,
            "overflow_y": null,
            "padding": null,
            "right": null,
            "top": null,
            "visibility": null,
            "width": null
          }
        },
        "f887fb35a21e40fa95488ccc84849b34": {
          "model_module": "@jupyter-widgets/controls",
          "model_module_version": "1.5.0",
          "model_name": "DescriptionStyleModel",
          "state": {
            "_model_module": "@jupyter-widgets/controls",
            "_model_module_version": "1.5.0",
            "_model_name": "DescriptionStyleModel",
            "_view_count": null,
            "_view_module": "@jupyter-widgets/base",
            "_view_module_version": "1.2.0",
            "_view_name": "StyleView",
            "description_width": ""
          }
        },
        "fc1a5a720a0b4c57be974f43779e97d2": {
          "model_module": "@jupyter-widgets/controls",
          "model_module_version": "1.5.0",
          "model_name": "DescriptionStyleModel",
          "state": {
            "_model_module": "@jupyter-widgets/controls",
            "_model_module_version": "1.5.0",
            "_model_name": "DescriptionStyleModel",
            "_view_count": null,
            "_view_module": "@jupyter-widgets/base",
            "_view_module_version": "1.2.0",
            "_view_name": "StyleView",
            "description_width": ""
          }
        },
        "fd97420044a14c298359d06a05e40991": {
          "model_module": "@jupyter-widgets/controls",
          "model_module_version": "1.5.0",
          "model_name": "HBoxModel",
          "state": {
            "_dom_classes": [],
            "_model_module": "@jupyter-widgets/controls",
            "_model_module_version": "1.5.0",
            "_model_name": "HBoxModel",
            "_view_count": null,
            "_view_module": "@jupyter-widgets/controls",
            "_view_module_version": "1.5.0",
            "_view_name": "HBoxView",
            "box_style": "",
            "children": [
              "IPY_MODEL_4ab15e31265b415cbdaf813759aa47a7",
              "IPY_MODEL_0301def8cbf44c46adc2d31646f8a62d",
              "IPY_MODEL_c041817ecdab4ac389cf12a5bc7b8e9b"
            ],
            "layout": "IPY_MODEL_d87e5daf15f64159aee24359798518a8"
          }
        }
      }
    }
  },
  "nbformat": 4,
  "nbformat_minor": 0
}
