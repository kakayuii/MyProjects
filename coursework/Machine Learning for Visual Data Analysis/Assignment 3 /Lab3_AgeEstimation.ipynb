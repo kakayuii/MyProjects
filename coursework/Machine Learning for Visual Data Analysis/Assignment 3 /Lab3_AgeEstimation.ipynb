{
  "cells": [
    {
      "cell_type": "markdown",
      "metadata": {
        "id": "WukTZHBcilSm"
      },
      "source": [
        "## 0. Introduction\n",
        "\n",
        "The aim of this lab is to get familiar with **Age Estimation** from **facial images** using  **regression**. In particular, you are required to understand and build programs that take the\n",
        "AAM parameters as representation of human faces and learn a regression function to predict age for an unseen face.\n",
        "\n",
        "\n",
        "1.   This lab is the third course-work activity **Assignment 3**\n",
        "2.   A report answering the <font color = 'red'>**questions in</font><font color = \"maroon\"> red**</font> should be submitted on QMplus along with the completed Notebook.\n",
        "3. The report should be a separate file in **pdf format** (so **NOT** *doc, docx, notebook* etc.), well identified with your name, student number, assignment number (for instance, Assignment 1), module code.\n",
        "4. Make sure that **any figures or code** you comment on, are **included in the report**.\n",
        "5. No other means of submission other than the appropriate QM+ link is acceptable at any time (so NO email attachments, etc.)\n",
        "6. **PLAGIARISM** <ins>is an irreversible non-negotiable failure in the course</ins> (if in doubt of what constitutes plagiarism, ask!)."
      ]
    },
    {
      "cell_type": "code",
      "execution_count": null,
      "metadata": {
        "id": "MIm5G577iaVz"
      },
      "outputs": [],
      "source": [
        "import torch\n",
        "from torch import nn\n",
        "from torch import optim\n",
        "from torch.utils.data import Dataset\n",
        "from torch.utils.data import DataLoader\n",
        "import numpy as np\n",
        "\n",
        "from sklearn.cross_decomposition import PLSRegression\n"
      ]
    },
    {
      "cell_type": "markdown",
      "metadata": {
        "id": "JWWNnnsCjc53"
      },
      "source": [
        "We will use the [FGNET dataset](https://yanweifu.github.io/FG_NET_data/) for this lab.It is a dataset for age estimation and face recognition across ages. It is composed of a total of 1,002 images with 82 people aged 0 to 69. It is often used for face verification across large age gaps. The dataset contains images ranging from child/young to adult/old.\n",
        "\n",
        "\n",
        "The `.npz` files `data_age` and `data_age_test` respectively, contain the precomputed AAM features for the dataset.\n"
      ]
    },
    {
      "cell_type": "code",
      "execution_count": null,
      "metadata": {
        "id": "BrhYm9FejbbE"
      },
      "outputs": [],
      "source": [
        "train_file = 'data_age.npz'\n",
        "test_file = 'data_age_test.npz'\n",
        "train = np.load(train_file)\n",
        "test = np.load(test_file)"
      ]
    },
    {
      "cell_type": "code",
      "execution_count": null,
      "metadata": {
        "id": "7wPQA6vTBSgG"
      },
      "outputs": [],
      "source": [
        "class FGNET(Dataset):\n",
        "    def __init__(self, data, labels):\n",
        "        super().__init__()\n",
        "        self.data = data\n",
        "        self.labels = labels\n",
        "\n",
        "    def __len__(self):\n",
        "        return len(self.data)\n",
        "\n",
        "    def __getitem__(self, idx):\n",
        "        return self.data[idx], self.labels[idx]\n",
        "\n",
        "train_data = FGNET(train['features'], train['labels'])\n",
        "test_data = FGNET(test['features'], test['labels'])\n",
        "\n",
        "\n",
        "train_loader = DataLoader(train_data, batch_size=64, shuffle=True)\n",
        "test_loader = DataLoader(test_data, batch_size=64)"
      ]
    },
    {
      "cell_type": "markdown",
      "metadata": {
        "id": "mGvd95z6G1y3"
      },
      "source": [
        "# 1. Linear Regression\n",
        "\n",
        "We will use pytorch [Linear](https://pytorch.org/docs/stable/generated/torch.nn.Linear.html) layer and Stochastic Gradient Descent [(SGD)](https://pytorch.org/docs/stable/generated/torch.optim.SGD.html?highlight=sgd) to do the age estimation. We will use the Mean Absolute Error [(MAE)](https://pytorch.org/docs/stable/generated/torch.nn.L1Loss.html?highlight=mae)\n",
        "\n",
        "Task 1: Train a linear regression model using pytorch on Age Estimation [4 marks]"
      ]
    },
    {
      "cell_type": "code",
      "execution_count": null,
      "metadata": {
        "id": "rLzT2eCIIthJ"
      },
      "outputs": [],
      "source": [
        "### YOUR CODE HERE\n",
        "# Step 1: Create a sequential model with a single nn.Linear layer.\n",
        "# Set the number of inputs and outputs according to the dimensionality of\n",
        "# the features and labels accordingly\n",
        "sample_features, _ = train_data[0]\n",
        "n = sample_features.shape[0]\n",
        "\n",
        "# model = nn.Sequential(\"linear regression layer\")\n",
        "model = nn.Sequential(\n",
        "    nn.Linear(in_features=n, out_features=1)\n",
        ")\n",
        "\n",
        "# Step 2: Create an SGD optimizer\n",
        "# Hint: check pytorch API\n",
        "\n",
        "# optimizer = 0\n",
        "optimizer = optim.SGD(model.parameters(), lr=0.01)\n",
        "\n",
        "# Step 3: Create the mae criterion\n",
        "\n",
        "# criterion = 0\n",
        "criterion = nn.L1Loss()\n",
        "\n",
        "# Step 4: Train the model\n",
        "for epoch in range(50):\n",
        "    for batch_idx, (inputs, targets) in enumerate(train_loader):\n",
        "        inputs = inputs.float()\n",
        "        targets = targets.float()\n",
        "        optimizer.zero_grad()\n",
        "        outputs = model(inputs)\n",
        "        loss = criterion(outputs, targets)\n",
        "        loss.backward()\n",
        "        optimizer.step()"
      ]
    },
    {
      "cell_type": "markdown",
      "metadata": {
        "id": "aSyv9zRJLtax"
      },
      "source": [
        "Task 2: Apply the learned linear regressionmodel to estimate the age for each test data point. Compute the MAE and CS value (with a cumulative error level of 5) by comparing the estimated ages with the ground truth ages. [4 marks]"
      ]
    },
    {
      "cell_type": "code",
      "execution_count": null,
      "metadata": {
        "id": "s0IgfGa5MA2C"
      },
      "outputs": [],
      "source": [
        "### YOUR CODE HERE\n",
        "model.eval()\n",
        "\n",
        "total_mae = 0\n",
        "total_cs = 0\n",
        "mae_criterion = nn.L1Loss(reduction='sum')\n",
        "\n",
        "with torch.no_grad():\n",
        "    for data, labels in test_loader:\n",
        "        data = data.float()\n",
        "        labels = labels.float()\n",
        "        predictions = model(data)\n",
        "        total_mae += mae_criterion(predictions, labels).item()\n",
        "        cs=(torch.abs(predictions - labels) <= 5).float().mean().item()\n",
        "        total_cs += cs * data.size(0)\n",
        "\n",
        "average_mae = total_mae / len(test_loader.dataset)\n",
        "cs_value = total_cs / len(test_loader.dataset)\n",
        "\n",
        "print(f\"linear regression Average MAE: {average_mae}\")\n",
        "print(f\"linear regression CS (Error <= 5): {cs_value}\")"
      ]
    },
    {
      "cell_type": "markdown",
      "metadata": {
        "id": "-ViX8KRdMCcT"
      },
      "source": [
        "Task 3: <font color = 'red'>  Vary the cumulative error level from 1 to 15 and generate a plot of the CS value against the cumulative error level. What do you observe? </font> [4 marks]"
      ]
    },
    {
      "cell_type": "code",
      "execution_count": null,
      "metadata": {
        "id": "rhKq7a17MNr5"
      },
      "outputs": [],
      "source": [
        "### YOUR CODE HERE\n",
        "import matplotlib.pyplot as plt\n",
        "\n",
        "model.eval()\n",
        "cs_values = []\n",
        "error_levels = range(1, 16)\n",
        "for error_level in error_levels:\n",
        "    total_cs = 0.0\n",
        "    with torch.no_grad():\n",
        "        for data, labels in test_loader:\n",
        "            data = data.float()\n",
        "            labels = labels.float()\n",
        "            predictions = model(data)\n",
        "            cs=(torch.abs(predictions - labels) <= error_level).float().mean().item()\n",
        "            total_cs += cs * data.size(0)\n",
        "    cs_value = total_cs / len(test_loader.dataset)\n",
        "    cs_values.append(cs_value)\n",
        "\n",
        "\n",
        "plt.plot(error_levels, cs_values, marker='o', linestyle='-', color='b')\n",
        "plt.title(\"CS Value vs Cumulative Error Level\")\n",
        "plt.xlabel(\"Cumulative Error Level\")\n",
        "plt.ylabel(\"CS Value\")\n",
        "plt.grid(True)\n",
        "plt.xticks(error_levels)\n",
        "plt.show()"
      ]
    },
    {
      "cell_type": "markdown",
      "metadata": {
        "id": "o6KUuuXUMPp5"
      },
      "source": [
        "# 2. PLS and Regression tree\n",
        "\n",
        "We will compare the results of the linear regression above with Partial Least Squares and Regression Tree methods.\n",
        "\n",
        "For this we will use scikit-learn [PLSRegression](https://scikit-learn.org/stable/modules/generated/sklearn.cross_decomposition.PLSRegression.html) and [DecisionTreeRegressor](https://scikit-learn.org/stable/modules/generated/sklearn.tree.DecisionTreeRegressor.html).\n",
        "\n",
        "Task 4: Compute the MAE and CS values (with cumulative error level of 5) for both partial least square regression model and the regression tree model. <font color = 'red'> Compare with the previous method </font> [4 marks]"
      ]
    },
    {
      "cell_type": "code",
      "execution_count": null,
      "metadata": {
        "id": "OYYWmN6sQRpl"
      },
      "outputs": [],
      "source": [
        "train_data, train_labels = train['features'], train['labels']\n",
        "test_data, test_labels = test['features'], test['labels']"
      ]
    },
    {
      "cell_type": "code",
      "execution_count": null,
      "metadata": {
        "id": "ayrMREHPO6Ij"
      },
      "outputs": [],
      "source": [
        "### YOUR CODE HERE\n",
        "# PLS Regression\n",
        "from sklearn.metrics import mean_absolute_error\n",
        "pls = PLSRegression()\n",
        "pls.fit(train_data, train_labels)\n",
        "\n",
        "test_predictions_pls = pls.predict(test_data)\n",
        "\n",
        "mae_pls = mean_absolute_error(test_labels, test_predictions_pls)\n",
        "cs_pls = np.mean(np.abs(test_predictions_pls - test_labels) <= 5)\n",
        "\n",
        "print(f\"PLS Regression MAE: {mae_pls}\")\n",
        "print(f\"PLS Regression CS (Error <= 5): {cs_pls}\")"
      ]
    },
    {
      "cell_type": "code",
      "execution_count": null,
      "metadata": {
        "id": "OropbF23O-5C"
      },
      "outputs": [],
      "source": [
        "### YOUR CODE HERE\n",
        "# Regression Tree\n",
        "from sklearn.tree import DecisionTreeRegressor\n",
        "regression_tree = DecisionTreeRegressor()\n",
        "regression_tree.fit(train_data, train_labels)\n",
        "\n",
        "test_predictions_tree = regression_tree.predict(test_data)\n",
        "\n",
        "mae_regression_tree = mean_absolute_error(test_labels, test_predictions_tree)\n",
        "cs_regression_tree = np.mean(np.abs(test_predictions_tree - test_labels.ravel()) <= 5)\n",
        "\n",
        "print(f\"Regression Tree MAE: {mae_regression_tree}\")\n",
        "print(f\"Regression Tree CS (Error <= 5): {cs_regression_tree}\")"
      ]
    },
    {
      "cell_type": "markdown",
      "metadata": {
        "id": "dC_kOzT0PD-F"
      },
      "source": [
        "# 3. SVR\n",
        "\n",
        "Task 5:  Compute the MAE and CS values (with cumulative error level of 5) for Support Vector Regression. <font color = 'red'> Compare with the previous methods. How do you explain the results in the method comparison? Are the scores expected?</font> [4 marks]"
      ]
    },
    {
      "cell_type": "code",
      "execution_count": null,
      "metadata": {
        "id": "QF1v0PqFQDWc"
      },
      "outputs": [],
      "source": [
        "### YOUR CODE HERE\n",
        "# SVR\n",
        "from sklearn.svm import SVR\n",
        "svr = SVR()\n",
        "svr.fit(train_data, train_labels.ravel())\n",
        "\n",
        "svr_predictions = svr.predict(test_data)\n",
        "\n",
        "mae = mean_absolute_error(test_labels, svr_predictions)\n",
        "cs = np.mean(np.abs(svr_predictions - test_labels.ravel()) <= 5)\n",
        "\n",
        "print(f\"Support Vector Regression MAE: {mae}\")\n",
        "print(f\"Support Vector Regression CS (Error <= 5): {cs}\")"
      ]
    }
  ],
  "metadata": {
    "colab": {
      "private_outputs": true,
      "provenance": []
    },
    "kernelspec": {
      "display_name": "Python 3",
      "name": "python3"
    },
    "language_info": {
      "name": "python"
    }
  },
  "nbformat": 4,
  "nbformat_minor": 0
}
