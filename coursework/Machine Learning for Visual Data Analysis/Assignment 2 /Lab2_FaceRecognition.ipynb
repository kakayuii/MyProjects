{
  "cells": [
    {
      "cell_type": "markdown",
      "metadata": {
        "id": "ZprIcydoEOR8"
      },
      "source": [
        "## 0. Introduction\n",
        "\n",
        "The aim of this lab is to get familiar with **Face Recognition** using  **eigenfaces**, as described in Turk & Pentland (1991).\n",
        "\n",
        "\n",
        "1.   This lab is the second course-work activity **Assignment 2**\n",
        "2.   A report answering the <font color = 'red'>**questions in</font><font color = \"maroon\"> red**</font> should be submitted on QMplus along with the completed Notebook.\n",
        "3. The report should be a separate file in **pdf format** (so **NOT** *doc, docx, notebook* etc.), well identified with your name, student number, assignment number (for instance, Assignment 1), module code.\n",
        "4. Make sure that **any figures or code** you comment on, are **included in the report**.\n",
        "5. No other means of submission other than the appropriate QM+ link is acceptable at any time (so NO email attachments, etc.)\n",
        "6. **PLAGIARISM** <ins>is an irreversible non-negotiable failure in the course</ins> (if in doubt of what constitutes plagiarism, ask!).\n",
        "\n",
        "\n",
        "Bib:\n",
        "\n",
        "Turk, M. and Pentland, A., 1991. Eigenfaces for recognition. *Journal of cognitive neuroscience*, 3(1), pp.71-86."
      ]
    },
    {
      "cell_type": "code",
      "execution_count": null,
      "metadata": {
        "id": "0tSDA8dJEHUK"
      },
      "outputs": [],
      "source": [
        "from torch import pca_lowrank\n",
        "from sklearn.model_selection import train_test_split\n",
        "from sklearn import datasets\n",
        "%matplotlib inline\n",
        "from matplotlib import pyplot as plt\n",
        "import numpy as np\n",
        "import cv2"
      ]
    },
    {
      "cell_type": "markdown",
      "metadata": {
        "id": "AGC1PIjbFEap"
      },
      "source": [
        "We will use the [Olivetti faces dataset](https://scikit-learn.org/stable/modules/generated/sklearn.datasets.fetch_olivetti_faces.html#sklearn.datasets.fetch_olivetti_faces) from AT&T.\n",
        "\n",
        "The dataset consists of 400, 64 x 64 grey-scale images. We will split this in train and test sets, where 75\\% is used in the training and the remaining in the test set."
      ]
    },
    {
      "cell_type": "code",
      "execution_count": null,
      "metadata": {
        "id": "V2lnyTCLFRzx"
      },
      "outputs": [],
      "source": [
        "faces = datasets.fetch_olivetti_faces()\n",
        "fig = plt.figure(figsize=(8, 6))\n",
        "for i in range(15):\n",
        "    ax = fig.add_subplot(3, 5, i + 1, xticks=[], yticks=[])\n",
        "    ax.imshow(faces.images[i], cmap=plt.cm.bone)"
      ]
    },
    {
      "cell_type": "code",
      "execution_count": null,
      "metadata": {
        "id": "pGL9Toldrbbi"
      },
      "outputs": [],
      "source": [
        "X_train, X_test, y_train, y_test = train_test_split(\n",
        "    faces.data,\n",
        "    faces.target,\n",
        "    random_state=0\n",
        "    )\n",
        "\n",
        "print(X_train.shape, X_test.shape) \n",
        "# 在X_train中存储的数据代表Olivetti人脸数据库中图像的像素值，这些图像用于训练机器学习模型进行人脸识别或其他相关任务。每个图像被展平成一个一维数组，其中的每个元素对应一个像素值。这些像素值一般是归一化过的，范围在0到1之间，代表图像的灰度级别"
      ]
    },
    {
      "cell_type": "markdown",
      "metadata": {
        "id": "8PN_t-ZHR0ed"
      },
      "source": [
        "## 1. Face Recognition using Eigenfaces"
      ]
    },
    {
      "cell_type": "markdown",
      "metadata": {
        "id": "oJWIhufMFX2d"
      },
      "source": [
        "Task 1: Construct the mean image and the covariance matrix of the training image set. <font color = 'red'> Explain the method implemented and display the mean image.</font> [4 marks]"
      ]
    },
    {
      "cell_type": "code",
      "execution_count": null,
      "metadata": {
        "id": "-0Br49IEFciL"
      },
      "outputs": [],
      "source": [
        "### YOUR CODE\n",
        "# calculate the mean face of the train set\n",
        "# calculate the covariance matrix\n",
        "# display the mean face (hint: you will need to reshape the mean)\n",
        "mean_face = np.mean(X_train, axis=0)\n",
        "cov_matrix = np.cov(X_train.T) # 特征相关性：协方差矩阵可以帮助我们了解训练集中的特征之间的相关性。协方差的数值表示了两个特征之间的线性关系，如果协方差为正，表示两个特征呈正相关，如果为负，则呈负相关，如果接近于零，则表示两个特征之间不存在线性相关性。特征提取：在人脸识别中，协方差矩阵通常被用于进行特征提取。例如，通过对协方差矩阵进行特征值分解，我们可以得到最重要的特征向量（即主成分），然后利用这些主成分来表示数据，从而实现降维和特征提取的目的。\n",
        "mean_face_reshaped = mean_face.reshape((64, 64))\n",
        "\n",
        "plt.figure(figsize=(4, 4))\n",
        "plt.imshow(mean_face_reshaped, cmap='gray')\n",
        "plt.title(\"Mean Face\")\n",
        "plt.xticks([])\n",
        "plt.yticks([])\n",
        "plt.show()\n",
        "\n",
        "mean_face.shape, cov_matrix.shape"
      ]
    },
    {
      "cell_type": "markdown",
      "metadata": {
        "id": "qlaci_s9HZ-m"
      },
      "source": [
        "Recall from the lectures, to solve PCA we need the eigenvectors of\n",
        "the covariance matrix so that: $[U,V]=eig(X,X.T)$. However, faster convergence is achieved without using explicit covariance so:  $[U,S,V]=svd(X)$\n",
        "\n",
        "where:\n",
        "* $U$ is a $m \\times q$ matrix\n",
        "* $S$ is a $q$ vector\n",
        "* $V$ is a $n \\times q$ matrix\n",
        "\n",
        "Pytorch provides a lower level method that allows us to explore $[U, S, V]$ through [pca_lowrank](https://pytorch.org/docs/stable/generated/torch.pca_lowrank.html)\n",
        "\n",
        "Task 2: Compute the eigenfaces of the training set, using [pca_lowrank](https://pytorch.org/docs/stable/generated/torch.pca_lowrank.html)\n",
        ".  <font color = 'red'> Explain eigenfaces and display the 20 first eigenfaces</font> [4 marks]\n"
      ]
    },
    {
      "cell_type": "code",
      "execution_count": null,
      "metadata": {
        "id": "AIo_711zF29A"
      },
      "outputs": [],
      "source": [
        "### YOUR CODE HERE\n",
        "import torch\n",
        "\n",
        "X_train_tensor = torch.tensor(X_train, dtype=torch.float32)\n",
        "\n",
        "# Compute the low-rank approximation of the PCA\n",
        "U, S, V = pca_lowrank(X_train_tensor, 20) # U, S, V分别代表主成分分析（PCA）的低秩近似中的三个重要矩阵。U是左奇异向量矩阵，表示数据中的特征方向；S是对角矩阵，包含奇异值，表示每个特征方向的重要性或方差；V是右奇异向量矩阵，通常用于降维后的数据重构\n",
        "\n",
        "num_eigenfaces = V.shape[1]\n",
        "\n",
        "fig, axes = plt.subplots(4, 5, figsize=(15, 12))\n",
        "axes = axes.flatten()\n",
        "for i in range(num_eigenfaces):\n",
        "    eigenface_reshaped = V[:, i].reshape(64, 64).detach().numpy()\n",
        "    axes[i].imshow(eigenface_reshaped, cmap='gray')\n",
        "    axes[i].set_title(f'Eigenface {i+1}')\n",
        "    axes[i].axis('off')\n",
        "\n",
        "plt.show()"
      ]
    },
    {
      "cell_type": "markdown",
      "metadata": {
        "id": "-Ius_pCvH3IE"
      },
      "source": []
    },
    {
      "cell_type": "markdown",
      "metadata": {
        "id": "7IomkQFyH3Jg"
      },
      "source": [
        "$A$ is a data matrix with m samples and n features\n",
        "\n",
        "$V$ columns represent the principal directions\n",
        "\n",
        "$S^2 / (m - 1)$ contains the eigenvalues of $A.T * A / (m - 1)$\n",
        "\n",
        "`matmul(A, V[:, :k])` projects data to the first k principal components."
      ]
    },
    {
      "cell_type": "markdown",
      "metadata": {
        "id": "T5TaUXgtGDsR"
      },
      "source": [
        "Task 3:  Project both training images and testing images onto the first 20 eigenfaces.\n",
        "\n",
        "\n",
        "---\n",
        "\n",
        "\n",
        "Compute the distance from the projected test images to the projected training images.\n",
        "\n",
        "<font color = 'red'>\n",
        "Display the top 6 best matched training images for the first 6 test images.\n",
        "</font>\n",
        "\n",
        "<font color = 'red'>\n",
        "Compute the recognition rate using 20 eigenfaces (predicted class is the class of the nearest training set image).\n",
        "</font>\n",
        "\n",
        "<font color = 'red'>\n",
        "Investigate the effect of using different number of eigenfaces for recognition (e.g. plot the recognition rate against the number of eigenfaces).\n",
        "</font> [7 marks]"
      ]
    },
    {
      "cell_type": "code",
      "execution_count": null,
      "metadata": {
        "id": "tzpu00YaG9Sl"
      },
      "outputs": [],
      "source": [
        "### YOUR CODE HERE\n",
        "# Step 1: Project all images onto the first 20 eigenfaces.\n",
        "#     Hint: this is regulated by the number of components\n",
        "\n",
        "k = 20  # Number of eigenfaces to use for projection\n",
        "X_train_proj = np.dot(X_train, V[:, :k])   # 使用np.dot进行PCA投影是因为我们需要将数据转换到这些主成分构成的新空间中，np.dot用于计算数据点和主成分之间的点积，从而实现这种转换。这样可以降维，同时保留数据的主要变化信息。\n",
        "X_test_proj = np.dot(X_test, V[:, :k])\n",
        "print('X_train_proj.shape', X_train_proj.shape)\n",
        "print('X_test_proj.shape', X_test_proj.shape)\n",
        "# X_train_proj.shape (300, 20)表示变量X_train_proj是一个形状为300行20列的矩阵。这里，300代表样本的数量，而20代表经过主成分分析（PCA）降维后保留的特征数量。每行代表一个样本，每列代表一个降维后的特征。"
      ]
    },
    {
      "cell_type": "code",
      "execution_count": null,
      "metadata": {
        "id": "rUtTRl6Lpsr1"
      },
      "outputs": [],
      "source": [
        "# Step 2: Compute the distance from the projected test images to the projected\n",
        "# training.\n",
        "\n",
        "def euclidean_distance(v1, v2):\n",
        "  d = 0\n",
        "  ### fill in the method\n",
        "  d=np.sqrt(np.sum((v1 - v2) ** 2))\n",
        "  return d\n",
        "\n",
        "# Find the distance between test and training projections\n",
        "distances = np.array([[euclidean_distance(test, train) for train in X_train_proj] for test in X_test_proj])\n",
        "\n",
        "distances.shape #shape为(100, 300) 每行代表一个测试样本与所有训练样本的距离，每列代表所有测试样本与一个训练样本的距离。"
      ]
    },
    {
      "cell_type": "code",
      "execution_count": null,
      "metadata": {
        "id": "l3ewCqy2qKio"
      },
      "outputs": [],
      "source": [
        "# Step 3: Display the top 6 best matched images for the first 6 test images\n",
        "top_match_num=6\n",
        "# np.argsort是一个NumPy库中的函数，用于返回数组元素从小到大排序的索引。它不会改变原数组，而是返回一个新的数组，包含按排序顺序的索引\n",
        "top_matches = np.argsort(distances, axis=1)[:, :top_match_num] # 存储了每个测试图像与训练集图像之间距离最小的几个索引\n",
        "print('top_matches',top_matches.shape)\n",
        "\n",
        "fig, axes = plt.subplots(nrows=top_match_num, ncols=top_match_num + 1, figsize=(20, 10))\n",
        "\n",
        "for i in range(top_match_num):\n",
        "    # Display the test image\n",
        "    axes[i, 0].imshow(X_test[i].reshape((64, 64)), cmap='gray')\n",
        "    axes[i, 0].set_title('Test Image {}'.format(i + 1))\n",
        "    axes[i, 0].axis('off')\n",
        "\n",
        "    # Display the top 6 matching training images\n",
        "    for j in range(top_match_num):\n",
        "        match_idx = top_matches[i, j]\n",
        "        axes[i, j + 1].imshow(X_train[match_idx].reshape((64, 64)), cmap='gray')\n",
        "        axes[i, j + 1].set_title('Match {}'.format(j + 1))\n",
        "        axes[i, j + 1].axis('off')\n",
        "\n",
        "plt.show()"
      ]
    },
    {
      "cell_type": "code",
      "execution_count": null,
      "metadata": {
        "id": "Deunc5ouqR9A"
      },
      "outputs": [],
      "source": [
        "# Step 4: Assign a class to each image on the test set (class of test image is\n",
        "# the class of it's nearest neighbour in the train set)\n",
        "# and calculate the recognition rate\n",
        "\n",
        "# the class of it's nearest neighbour in the train set\n",
        "predicted_classes = y_train[top_matches[:, 0]]\n",
        "print(y_train.shape)\n",
        "print(top_matches[:, 0].shape)\n",
        "\n",
        "# Calculate recognition rate\n",
        "accuracy = np.mean(predicted_classes == y_test) #通过比较predicted_classes和y_test中的每个元素是否相等（返回一个布尔数组），然后计算这个布尔数组中True的比例，从而得到准确率\n",
        "\n",
        "\n",
        "print('predicted_classes',predicted_classes.shape)\n",
        "print('accuracy',accuracy)"
      ]
    },
    {
      "cell_type": "code",
      "execution_count": null,
      "metadata": {
        "id": "MRd5Cfd3HnRy"
      },
      "outputs": [],
      "source": [
        "# Step 5: investigate effect of number of eigenfaces for recognition rate\n",
        "num_eigenfaces = range(1, 21)\n",
        "recognition_rates = []\n",
        "\n",
        "for k in num_eigenfaces:\n",
        "    X_train_proj_k = np.dot(X_train, V[:, :k])\n",
        "    X_test_proj_k = np.dot(X_test, V[:, :k])\n",
        "    distances_k = np.array([[euclidean_distance(test, train) for train in X_train_proj_k] for test in X_test_proj_k])\n",
        "    top_match_k = np.argsort(distances_k, axis=1)[:, 0]\n",
        "    predicted_classes_k = y_train[top_match_k]\n",
        "    accuracy_k = np.mean(predicted_classes_k == y_test)\n",
        "    recognition_rates.append(accuracy_k)\n",
        "\n",
        "print('recognition_rates',recognition_rates)\n",
        "\n",
        "# Plotting the recognition rate against the number of eigenfaces\n",
        "plt.figure(figsize=(10, 6))\n",
        "plt.plot(num_eigenfaces, recognition_rates, marker='o')\n",
        "plt.title('the recognition rate against the number of eigenfaces')\n",
        "plt.xlabel('Number of Eigenfaces')\n",
        "plt.ylabel('Recognition Rate')\n",
        "plt.xticks(num_eigenfaces)\n",
        "plt.grid(True)\n",
        "plt.show()"
      ]
    },
    {
      "cell_type": "markdown",
      "metadata": {
        "id": "FCX6cxbFHvFx"
      },
      "source": [
        "Task 4: So far we have implemented a KNN classifier with K=1. <font color = 'red'> Investigate the effect of K in K-Nearest-Neighbour (KNN) classifier. Plot the average recognition rate against K).</font> [5 marks]"
      ]
    },
    {
      "cell_type": "code",
      "execution_count": null,
      "metadata": {
        "id": "KIpk2vlOIzYh"
      },
      "outputs": [],
      "source": [
        "### YOUR CODE HERE\n",
        "\n",
        "def knn_classify(distances, y_train, k_num):\n",
        "    top_match_k = np.argsort(distances, axis=1)[:, k_num]\n",
        "    predicted_classes = y_train[top_match_k]\n",
        "    return predicted_classes\n",
        "\n",
        "# Range of k values to test\n",
        "k_values = range(1, 21)\n",
        "recognition_rates = [] \n",
        "\n",
        "for i in k_values:\n",
        "    predicted_classes = knn_classify(distances, y_train, i)\n",
        "    recognition_rate = np.mean(predicted_classes == y_test)\n",
        "    recognition_rates.append(recognition_rate)\n",
        "\n",
        "print('recognition_rates',recognition_rates)\n",
        "\n",
        "# Plot the recognition rate against k\n",
        "plt.figure(figsize=(10, 6))\n",
        "plt.plot(k_values, recognition_rates, marker='o')\n",
        "plt.xlabel('K in KNN')\n",
        "plt.ylabel('Recognition Rate')\n",
        "plt.title('Recognition Rate vs. K in KNN')\n",
        "plt.xticks(k_values)\n",
        "plt.grid(True)\n",
        "plt.show()\n"
      ]
    },
    {
      "cell_type": "markdown",
      "metadata": {
        "id": "it2XP0Ijtqvb"
      },
      "source": [
        "## 2. Handing in\n",
        "\n",
        "Create a folder that will contain:\n",
        "\n",
        "* A .pdf report that contains the answers to the exercises\n",
        "* The programs files\n",
        "\n",
        "Create a .zip file and submit electronically on QMplus.\n",
        "\n",
        "IMPORTANT: Plagiarism (copying from other students, or copying the work of others without proper referencing) is cheating, and will not be tolerated.\n",
        "\n",
        "IF TWO “FOLDERS” ARE FOUND TO CONTAIN IDENTICAL MATERIAL, BOTH WILL BE GIVEN A MARK OF ZERO.\n"
      ]
    }
  ],
  "metadata": {
    "colab": {
      "private_outputs": true,
      "provenance": []
    },
    "kernelspec": {
      "display_name": "Python 3",
      "name": "python3"
    },
    "language_info": {
      "name": "python"
    }
  },
  "nbformat": 4,
  "nbformat_minor": 0
}
