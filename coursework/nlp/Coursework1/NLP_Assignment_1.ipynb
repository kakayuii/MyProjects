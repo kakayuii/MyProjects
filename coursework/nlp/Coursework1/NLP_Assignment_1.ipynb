{
  "cells": [
    {
      "cell_type": "markdown",
      "metadata": {
        "id": "vhN9vDhOcmZb"
      },
      "source": [
        "# NLP Assignment 1 (40% of grade): Sentiment Analysis from Tweets\n",
        "\n",
        "This coursework will involve you implementing functions for a text classifier, which you will train to identify the **sentiment expressed in a text** in a dataset of approx. 27,000 entries, which will be split into a 80%/20% training/test split.\n",
        "\n",
        "In this template you are given the basis for that implementation, though some of the functions are missing, which you have to fill in.\n",
        "\n",
        "Follow the instructions file **NLP_Assignment_1_Instructions.pdf** for details of each question - the outline of what needs to be achieved for each question is as below.\n",
        "\n",
        "You must submit all **ipython notebooks and extra resources you need to run the code if you've added them** in the code submission, and a **2 page report (pdf)** in the report submission on QMPlus where you report your methods and findings according to the instructions file for each question."
      ]
    },
    {
      "cell_type": "code",
      "execution_count": 41,
      "metadata": {
        "id": "pvSDn_0WcmZg"
      },
      "outputs": [],
      "source": [
        "import csv # csv reader\n",
        "from sklearn.svm import LinearSVC\n",
        "from nltk.classify import SklearnClassifier\n",
        "from sklearn.pipeline import Pipeline\n",
        "from sklearn.metrics import precision_recall_fscore_support # to report on precision and recall\n",
        "import numpy as np"
      ]
    },
    {
      "cell_type": "code",
      "source": [
        "from google.colab import drive\n",
        "drive.mount('/content/drive')"
      ],
      "metadata": {
        "colab": {
          "base_uri": "https://localhost:8080/"
        },
        "id": "D_xrp4X9cteQ",
        "outputId": "f06c7746-4a6a-4c9d-cf75-47810a50e40e"
      },
      "execution_count": 42,
      "outputs": [
        {
          "output_type": "stream",
          "name": "stdout",
          "text": [
            "Drive already mounted at /content/drive; to attempt to forcibly remount, call drive.mount(\"/content/drive\", force_remount=True).\n"
          ]
        }
      ]
    },
    {
      "cell_type": "code",
      "execution_count": 43,
      "metadata": {
        "id": "2_c9tplucmZh"
      },
      "outputs": [],
      "source": [
        "def load_data(path):\n",
        "    \"\"\"Load data from a tab-separated file and append it to raw_data.\"\"\"\n",
        "    with open(path) as f:\n",
        "        reader = csv.reader(f, delimiter='\\t')\n",
        "        for line in reader:\n",
        "            if line[0] == \"Id\":  # skip header\n",
        "                continue\n",
        "            (label, text) = parse_data_line(line)\n",
        "            raw_data.append((text, label))\n",
        "\n",
        "def split_and_preprocess_data(percentage):\n",
        "    \"\"\"Split the data between train_data and test_data according to the percentage\n",
        "    and performs the preprocessing.\"\"\"\n",
        "    num_samples = len(raw_data)\n",
        "    num_training_samples = int((percentage * num_samples))\n",
        "    for (text, label) in raw_data[:num_training_samples]:\n",
        "        train_data.append((to_feature_vector(pre_process(text),training=True),label))\n",
        "    for (text, label) in raw_data[num_training_samples:]:\n",
        "        test_data.append((to_feature_vector(pre_process(text)),label))"
      ]
    },
    {
      "cell_type": "markdown",
      "metadata": {
        "id": "ccMswc6zcmZi"
      },
      "source": [
        "# Question 1: Input and Basic preprocessing (10 marks)"
      ]
    },
    {
      "cell_type": "code",
      "execution_count": 44,
      "metadata": {
        "id": "1BcFH-B5cmZi"
      },
      "outputs": [],
      "source": [
        "def parse_data_line(data_line):\n",
        "    # Should return a tuple of the label as just positive or negative and the statement\n",
        "    # e.g. (label, statement)\n",
        "\n",
        "    label=data_line[1]\n",
        "    statement = data_line[2]\n",
        "    # Check if the label is either \"positive\" or \"negative\" and convert it to lowercase\n",
        "    label = label.strip().lower()\n",
        "    if label in (\"positive\", \"negative\"):\n",
        "        return (label, statement)\n",
        "    return (None, None)"
      ]
    },
    {
      "cell_type": "code",
      "execution_count": 45,
      "metadata": {
        "id": "IpKE2q3kcmZj"
      },
      "outputs": [],
      "source": [
        "import re\n",
        "\n",
        "# Input: a string of one statement\n",
        "def pre_process(text):\n",
        "    # Should return a list of tokens\n",
        "    # DESCRIBE YOUR METHOD IN WORDS\n",
        "\n",
        "    text = re.sub(r\"(\\w)([.,;:!?'\\\"”\\)])\", r\"\\1 \\2\", text) # separates punctuation at ends of strings\n",
        "    text = re.sub(r\"([.,;:!?'\\\"“\\(\\)])(\\w)\", r\"\\1 \\2\", text) # separates punctuation at beginning of strings\n",
        "    tokens = re.split(r\"\\s+\",text)\n",
        "    # normalisation - only by lower casing for now\n",
        "    tokens = [t.lower() for t in tokens]\n",
        "    return tokens"
      ]
    },
    {
      "cell_type": "markdown",
      "metadata": {
        "id": "QSws8ZiEcmZj"
      },
      "source": [
        "# Question 2: Basic Feature Extraction (20 marks)"
      ]
    },
    {
      "cell_type": "code",
      "execution_count": 46,
      "metadata": {
        "id": "-zF6XEGGcmZk"
      },
      "outputs": [],
      "source": [
        "global_feature_dict = {} # A global dictionary of features\n",
        "\n",
        "def to_feature_vector(tokens, training=False):\n",
        "    # Should return a dictionary containing features as keys, and weights as values\n",
        "    # DESCRIBE YOUR METHOD IN WORDS\n",
        "\n",
        "    i = 0\n",
        "    featureVector = {}\n",
        "    for w in tokens:\n",
        "        try:\n",
        "            # if the word w is in the dictionary,\n",
        "            # then assign i to its value in the dictionary\n",
        "            i = global_feature_dict[w]\n",
        "        except KeyError:\n",
        "            # else if it's not in the dictionary,\n",
        "            # it's a new feature in training, add new entry\n",
        "            if training:\n",
        "                i = len(global_feature_dict) + 1\n",
        "                global_feature_dict[w] = i\n",
        "            else:\n",
        "                # At test time don't add new entry\n",
        "                i = global_feature_dict[\"<unk/>\"]  # get the special unknown word token\n",
        "\n",
        "        try:\n",
        "            # if the word w is in the local feature vector (repeat word), add 1/n weight\n",
        "            featureVector[i] += 1 #(1.0/len(words))\n",
        "        except KeyError:\n",
        "            # else if it's not in the local feature vector, create the entry with 1/n weight\n",
        "            featureVector[i] = 1 #(1.0/len(words))\n",
        "\n",
        "    return featureVector\n",
        "\n",
        "# start by using binary feature values; 1 if the feature is present, by default the sklearn learn vectorization function will give it 0 if it’s not.\n",
        "# def to_feature_vector(tokens, training=False):\n",
        "#     featureVector = {}\n",
        "#     i = 0\n",
        "#     for w in tokens:\n",
        "#         try:\n",
        "#             i = global_feature_dict[w]\n",
        "#         except KeyError:\n",
        "#             if training:\n",
        "#                 i = len(global_feature_dict) + 1\n",
        "#                 global_feature_dict[w] = i\n",
        "#             else:\n",
        "#                 i = global_feature_dict[\"<unk/>\"]\n",
        "\n",
        "#         try:\n",
        "#             # if the word w is in the local feature vector (repeat word), weight could simply be 1 for each word\n",
        "#             featureVector[i] = 1\n",
        "#         except KeyError:\n",
        "#             # else if it's not in the local feature vector, create the entry with 1/n weight\n",
        "#             featureVector[i] = 0\n",
        "\n",
        "#     return featureVector\n",
        "\n",
        "\n",
        "global_feature_dict[\"<unk/>\"] = len(global_feature_dict)+1"
      ]
    },
    {
      "cell_type": "code",
      "execution_count": 47,
      "metadata": {
        "id": "FRzqf1qDcmZl"
      },
      "outputs": [],
      "source": [
        "# TRAINING AND VALIDATING OUR CLASSIFIER\n",
        "\n",
        "def train_classifier(data):\n",
        "    print(\"Training Classifier...\")\n",
        "    pipeline =  Pipeline([('svc', LinearSVC(dual=False))])\n",
        "    return SklearnClassifier(pipeline).train(data)"
      ]
    },
    {
      "cell_type": "markdown",
      "metadata": {
        "id": "KmIXyvpBcmZl"
      },
      "source": [
        "# Question 3: Cross-validation (20 marks)"
      ]
    },
    {
      "cell_type": "code",
      "execution_count": 48,
      "metadata": {
        "id": "FQpEq7tYcmZl"
      },
      "outputs": [],
      "source": [
        "#solution\n",
        "# the package sklearn.metrics contains many utilities for evaluation metrics - try precision, recall, fscore, support to start with\n",
        "from sklearn.metrics import classification_report\n",
        "from sklearn.metrics import accuracy_score\n",
        "\n",
        "def cross_validate(dataset, folds):\n",
        "    results = []\n",
        "    all_accuracy = []\n",
        "    fold_size = int(len(dataset)/folds) + 1\n",
        "\n",
        "    for i in range(0,len(dataset),int(fold_size)):\n",
        "        # insert code here that trains and tests on the 10 folds of data in the dataset\n",
        "        print(\"Fold start on items %d - %d\" % (i, i+fold_size))\n",
        "        # FILL IN THE METHOD HERE\n",
        "\n",
        "        # create training and test data for each fold\n",
        "        test_start = i\n",
        "        test_end = min(i + fold_size, len(dataset))\n",
        "        test_set = dataset[test_start:test_end]\n",
        "        train_set = dataset[:test_start] + dataset[test_end:]\n",
        "\n",
        "        # Make use of the given functions train_classifier() and predict_labels() to do the cross-validation\n",
        "        # train the classifier on the larger training part, and test on the smaller test part.\n",
        "        classifier = train_classifier(train_set)\n",
        "        test_true = [t[1] for t in test_set]\n",
        "        test_pred = predict_labels([x[0] for x in test_set], classifier)\n",
        "\n",
        "        # get the precision, recall, f1 score, and accuracy of classifier in a variable cv_results, which should contain average scores for all folds and be returned by this function\n",
        "        report = classification_report(test_true, test_pred, output_dict=True)\n",
        "        results.append(report)\n",
        "        print(report)\n"
      ]
    },
    {
      "cell_type": "code",
      "execution_count": 49,
      "metadata": {
        "id": "RQtEf_uHcmZm"
      },
      "outputs": [],
      "source": [
        "# PREDICTING LABELS GIVEN A CLASSIFIER\n",
        "def predict_labels(samples, classifier):\n",
        "    \"\"\"Assuming preprocessed samples, return their predicted labels from the classifier model.\"\"\"\n",
        "    return classifier.classify_many(samples)\n",
        "\n",
        "def predict_label_from_raw(sample, classifier):\n",
        "    \"\"\"Assuming raw text, return its predicted label from the classifier model.\"\"\"\n",
        "    return classifier.classify(to_feature_vector(pre_process(sample)))"
      ]
    },
    {
      "cell_type": "code",
      "execution_count": 50,
      "metadata": {
        "editable": true,
        "tags": [],
        "colab": {
          "base_uri": "https://localhost:8080/"
        },
        "id": "yy91RPhkcmZm",
        "outputId": "9abe214e-26b5-4694-b047-3b2ed55ca44e"
      },
      "outputs": [
        {
          "output_type": "stream",
          "name": "stdout",
          "text": [
            "Now 0 rawData, 0 trainData, 0 testData\n",
            "Preparing the dataset...\n",
            "Now 33540 rawData, 0 trainData, 0 testData\n",
            "Preparing training and test data...\n",
            "After split, 33540 rawData, 26832 trainData, 6708 testData\n",
            "Training Samples: \n",
            "26832\n",
            "Features: \n",
            "55395\n"
          ]
        }
      ],
      "source": [
        "# MAIN\n",
        "\n",
        "# loading reviews\n",
        "# initialize global lists that will be appended to by the methods below\n",
        "raw_data = []          # the filtered data from the dataset file\n",
        "train_data = []        # the pre-processed training data as a percentage of the total dataset\n",
        "test_data = []         # the pre-processed test data as a percentage of the total dataset\n",
        "\n",
        "\n",
        "# references to the data files\n",
        "# data_file_path = 'sentiment-dataset.tsv'\n",
        "data_file_path = '/content/drive/MyDrive/nlp/sentiment-dataset.tsv'\n",
        "\n",
        "# Do the actual stuff (i.e. call the functions we've made)\n",
        "# We parse the dataset and put it in a raw data list\n",
        "print(\"Now %d rawData, %d trainData, %d testData\" % (len(raw_data), len(train_data), len(test_data)),\n",
        "      \"Preparing the dataset...\",sep='\\n')\n",
        "\n",
        "load_data(data_file_path)\n",
        "\n",
        "# We split the raw dataset into a set of training data and a set of test data (80/20)\n",
        "# You do the cross validation on the 80% (training data)\n",
        "# We print the number of training samples and the number of features before the split\n",
        "print(\"Now %d rawData, %d trainData, %d testData\" % (len(raw_data), len(train_data), len(test_data)),\n",
        "      \"Preparing training and test data...\",sep='\\n')\n",
        "\n",
        "split_and_preprocess_data(0.8)\n",
        "\n",
        "# We print the number of training samples and the number of features after the split\n",
        "print(\"After split, %d rawData, %d trainData, %d testData\" % (len(raw_data), len(train_data), len(test_data)),\n",
        "      \"Training Samples: \", len(train_data), \"Features: \", len(global_feature_dict), sep='\\n')\n"
      ]
    },
    {
      "cell_type": "code",
      "execution_count": 51,
      "metadata": {
        "colab": {
          "base_uri": "https://localhost:8080/"
        },
        "id": "BbxoblE6cmZn",
        "outputId": "46077c5f-d2f9-4adb-e66b-30aa109d2135"
      },
      "outputs": [
        {
          "output_type": "stream",
          "name": "stdout",
          "text": [
            "Fold start on items 0 - 2684\n",
            "Training Classifier...\n",
            "{'negative': {'precision': 0.7925033467202142, 'recall': 0.7237163814180929, 'f1-score': 0.7565495207667732, 'support': 818}, 'positive': {'precision': 0.8833247289623128, 'recall': 0.9169346195069668, 'f1-score': 0.8998159347883249, 'support': 1866}, 'accuracy': 0.8580476900149031, 'macro avg': {'precision': 0.8379140378412635, 'recall': 0.8203255004625298, 'f1-score': 0.8281827277775491, 'support': 2684}, 'weighted avg': {'precision': 0.8556451869824183, 'recall': 0.8580476900149031, 'f1-score': 0.8561527728398788, 'support': 2684}}\n",
            "Fold start on items 2684 - 5368\n",
            "Training Classifier...\n",
            "{'negative': {'precision': 0.6700507614213198, 'recall': 0.6677908937605397, 'f1-score': 0.668918918918919, 'support': 593}, 'positive': {'precision': 0.9058767319636885, 'recall': 0.9067431850789096, 'f1-score': 0.9063097514340345, 'support': 2091}, 'accuracy': 0.8539493293591655, 'macro avg': {'precision': 0.7879637466925041, 'recall': 0.7872670394197246, 'f1-score': 0.7876143351764767, 'support': 2684}, 'weighted avg': {'precision': 0.8537736021083886, 'recall': 0.8539493293591655, 'f1-score': 0.8538608827002553, 'support': 2684}}\n",
            "Fold start on items 5368 - 8052\n",
            "Training Classifier...\n",
            "{'negative': {'precision': 0.7518939393939394, 'recall': 0.7598086124401914, 'f1-score': 0.7558305568776773, 'support': 1045}, 'positive': {'precision': 0.8458230958230958, 'recall': 0.8401464307504576, 'f1-score': 0.8429752066115703, 'support': 1639}, 'accuracy': 0.8088673621460507, 'macro avg': {'precision': 0.7988585176085177, 'recall': 0.7999775215953244, 'f1-score': 0.7994028817446238, 'support': 2684}, 'weighted avg': {'precision': 0.8092523177051866, 'recall': 0.8088673621460507, 'f1-score': 0.8090459372479645, 'support': 2684}}\n",
            "Fold start on items 8052 - 10736\n",
            "Training Classifier...\n",
            "{'negative': {'precision': 0.8592767295597484, 'recall': 0.8218045112781955, 'f1-score': 0.8401229823212912, 'support': 1330}, 'positive': {'precision': 0.8321529745042493, 'recall': 0.8677991137370753, 'f1-score': 0.8496023138105567, 'support': 1354}, 'accuracy': 0.8450074515648286, 'macro avg': {'precision': 0.8457148520319988, 'recall': 0.8448018125076354, 'f1-score': 0.844862648065924, 'support': 2684}, 'weighted avg': {'precision': 0.8455935833804838, 'recall': 0.8450074515648286, 'f1-score': 0.8449050295777984, 'support': 2684}}\n",
            "Fold start on items 10736 - 13420\n",
            "Training Classifier...\n",
            "{'negative': {'precision': 0.7917620137299771, 'recall': 0.751357220412595, 'f1-score': 0.7710306406685238, 'support': 921}, 'positive': {'precision': 0.8734806629834254, 'recall': 0.8967668746454907, 'f1-score': 0.8849706129303108, 'support': 1763}, 'accuracy': 0.8468703427719821, 'macro avg': {'precision': 0.8326213383567013, 'recall': 0.8240620475290428, 'f1-score': 0.8280006267994173, 'support': 2684}, 'weighted avg': {'precision': 0.8454393530123278, 'recall': 0.8468703427719821, 'f1-score': 0.8458727312413742, 'support': 2684}}\n",
            "Fold start on items 13420 - 16104\n",
            "Training Classifier...\n",
            "{'negative': {'precision': 0.831603229527105, 'recall': 0.7744360902255639, 'f1-score': 0.8020022246941046, 'support': 931}, 'positive': {'precision': 0.8844248761695102, 'recall': 0.9167142042213349, 'f1-score': 0.9002801120448178, 'support': 1753}, 'accuracy': 0.8673621460506706, 'macro avg': {'precision': 0.8580140528483076, 'recall': 0.8455751472234494, 'f1-score': 0.8511411683694612, 'support': 2684}, 'weighted avg': {'precision': 0.8661026134928785, 'recall': 0.8673621460506706, 'f1-score': 0.8661904275725697, 'support': 2684}}\n",
            "Fold start on items 16104 - 18788\n",
            "Training Classifier...\n",
            "{'negative': {'precision': 0.8173302107728337, 'recall': 0.77728285077951, 'f1-score': 0.7968036529680366, 'support': 898}, 'positive': {'precision': 0.8907103825136612, 'recall': 0.9126539753639418, 'f1-score': 0.9015486725663717, 'support': 1786}, 'accuracy': 0.8673621460506706, 'macro avg': {'precision': 0.8540202966432475, 'recall': 0.8449684130717259, 'f1-score': 0.8491761627672041, 'support': 2684}, 'weighted avg': {'precision': 0.8661591924155752, 'recall': 0.8673621460506706, 'f1-score': 0.8665035803162581, 'support': 2684}}\n",
            "Fold start on items 18788 - 21472\n",
            "Training Classifier...\n",
            "{'negative': {'precision': 0.7849829351535836, 'recall': 0.7599118942731278, 'f1-score': 0.7722439843312814, 'support': 908}, 'positive': {'precision': 0.8792243767313019, 'recall': 0.893581081081081, 'f1-score': 0.8863445964814297, 'support': 1776}, 'accuracy': 0.8483606557377049, 'macro avg': {'precision': 0.8321036559424428, 'recall': 0.8267464876771045, 'f1-score': 0.8292942904063556, 'support': 2684}, 'weighted avg': {'precision': 0.8473423987310903, 'recall': 0.8483606557377049, 'f1-score': 0.8477442403590995, 'support': 2684}}\n",
            "Fold start on items 21472 - 24156\n",
            "Training Classifier...\n",
            "{'negative': {'precision': 0.79463243873979, 'recall': 0.7483516483516484, 'f1-score': 0.7707979626485569, 'support': 910}, 'positive': {'precision': 0.8746579091406678, 'recall': 0.9007891770011274, 'f1-score': 0.887531241321855, 'support': 1774}, 'accuracy': 0.8491058122205664, 'macro avg': {'precision': 0.8346451739402289, 'recall': 0.8245704126763879, 'f1-score': 0.8291646019852059, 'support': 2684}, 'weighted avg': {'precision': 0.8475255775218903, 'recall': 0.8491058122205664, 'f1-score': 0.8479532668089261, 'support': 2684}}\n",
            "Fold start on items 24156 - 26840\n",
            "Training Classifier...\n",
            "{'negative': {'precision': 0.8212226066897347, 'recall': 0.7664155005382132, 'f1-score': 0.7928730512249443, 'support': 929}, 'positive': {'precision': 0.8800442233278054, 'recall': 0.911276473955352, 'f1-score': 0.8953880764904387, 'support': 1747}, 'accuracy': 0.8609865470852018, 'macro avg': {'precision': 0.85063341500877, 'recall': 0.8388459872467826, 'f1-score': 0.8441305638576915, 'support': 2676}, 'weighted avg': {'precision': 0.8596237144127202, 'recall': 0.8609865470852018, 'f1-score': 0.8597989664487181, 'support': 2676}}\n"
          ]
        }
      ],
      "source": [
        "cross_validate(train_data, 10)  # will work and output overall performance of p, r, f-score when cv implemented"
      ]
    },
    {
      "cell_type": "markdown",
      "metadata": {
        "id": "NPdpugu7cmZn"
      },
      "source": [
        "# Question 4: Error Analysis (20 marks)"
      ]
    },
    {
      "cell_type": "code",
      "execution_count": 52,
      "metadata": {
        "id": "O8HNG3v5cmZn"
      },
      "outputs": [],
      "source": [
        "from sklearn import metrics\n",
        "import matplotlib.pyplot as plt\n",
        "# a function to make the confusion matrix readable and pretty\n",
        "def confusion_matrix_heatmap(y_test, preds, labels):\n",
        "    \"\"\"Function to plot a confusion matrix\"\"\"\n",
        "    # pass labels to the confusion matrix function to ensure right order\n",
        "    # cm = metrics.confusion_matrix(y_test, preds, labels)\n",
        "    cm = metrics.confusion_matrix(y_test, preds, labels=labels)\n",
        "    fig = plt.figure(figsize=(10,10))\n",
        "    ax = fig.add_subplot(111)\n",
        "    cax = ax.matshow(cm)\n",
        "    plt.title('Confusion matrix of the classifier')\n",
        "    fig.colorbar(cax)\n",
        "    ax.set_xticks(np.arange(len(labels)))\n",
        "    ax.set_yticks(np.arange(len(labels)))\n",
        "    ax.set_xticklabels( labels, rotation=45)\n",
        "    ax.set_yticklabels( labels)\n",
        "\n",
        "    for i in range(len(cm)):\n",
        "        for j in range(len(cm)):\n",
        "            text = ax.text(j, i, cm[i, j],\n",
        "                           ha=\"center\", va=\"center\", color=\"w\")\n",
        "\n",
        "    plt.xlabel('Predicted')\n",
        "    plt.ylabel('True')\n",
        "\n",
        "    # fix for mpl bug that cuts off top/bottom of seaborn viz:\n",
        "    b, t = plt.ylim() # discover the values for bottom and top\n",
        "    b += 0.5 # Add 0.5 to the bottom\n",
        "    t -= 0.5 # Subtract 0.5 from the top\n",
        "    plt.ylim(b, t) # update the ylim(bottom, top) values\n",
        "    plt.show() # ta-da!\n",
        "    plt.show()"
      ]
    },
    {
      "cell_type": "code",
      "execution_count": 53,
      "metadata": {
        "colab": {
          "base_uri": "https://localhost:8080/",
          "height": 953
        },
        "id": "XpLdj-T1cmZn",
        "outputId": "516fbcd3-9fe4-4bb3-be46-dfcc5cfa2ea0"
      },
      "outputs": [
        {
          "output_type": "stream",
          "name": "stdout",
          "text": [
            "Training Classifier...\n"
          ]
        },
        {
          "output_type": "display_data",
          "data": {
            "text/plain": [
              "<Figure size 1000x1000 with 2 Axes>"
            ],
            "image/png": "[encoded data removed]"
          },
          "metadata": {}
        },
        {
          "output_type": "stream",
          "name": "stdout",
          "text": [
            "              precision    recall  f1-score   support\n",
            "\n",
            "    positive       0.82      0.77      0.79       930\n",
            "    negative       0.88      0.91      0.89      1754\n",
            "\n",
            "    accuracy                           0.86      2684\n",
            "   macro avg       0.85      0.84      0.84      2684\n",
            "weighted avg       0.86      0.86      0.86      2684\n",
            "\n"
          ]
        }
      ],
      "source": [
        "# Carry out an error analysis on a simple train-test split of the training data (e.g. the first fold from cross-validation function)\n",
        "train_train_data=[]\n",
        "train_test_data=[]\n",
        "labels=[\"positive\", \"negative\"]\n",
        "num_samples = len(train_data)\n",
        "num_training_samples = int((0.9 * num_samples))\n",
        "for (text, label) in train_data[:num_training_samples]:\n",
        "    train_train_data.append((text,label))\n",
        "for (text, label) in train_data[num_training_samples:]:\n",
        "    train_test_data.append((text,label))\n",
        "\n",
        "classifier = train_classifier(train_train_data)\n",
        "train_test_true = [t[1] for t in train_test_data]\n",
        "train_test_pred = predict_labels([x[0] for x in train_test_data], classifier)\n",
        "confusion_matrix_heatmap(train_test_true, train_test_pred, labels)\n",
        "\n",
        "print(metrics.classification_report(train_test_true, train_test_pred,\n",
        "                                    target_names=labels))"
      ]
    },
    {
      "cell_type": "code",
      "execution_count": 54,
      "metadata": {
        "id": "QOyRjvfBcmZo"
      },
      "outputs": [],
      "source": [
        "# # print out (or better, print to file) all the false positives and false negatives for the positive label to try to understand why the classifier is not getting these correct\n",
        "with open('false_positive.txt', 'a') as file:\n",
        "    file.write(\"False Positives:\\n\")\n",
        "\n",
        "    # Error analysis of False Positives TODO\n",
        "    for doc, label in zip(train_test_data, train_test_true):\n",
        "        prediction = train_test_pred[train_test_data.index(doc)]  # Find index based on doc\n",
        "\n",
        "        if label not in labels:  # only focus on the target categories\n",
        "            continue\n",
        "        if prediction == label:  # correct/TP, ignore these\n",
        "            continue\n",
        "        if label == 'positive' and label != prediction:\n",
        "            file.write('**** FALSE POSITIVE for {1} (ground truth = {2}):****\\n\\n {0}\\n'.format(doc, prediction, label))\n",
        "            file.write('*' * 50 + '\\n')  # Add a line break after each false positive entry\n"
      ]
    },
    {
      "cell_type": "code",
      "execution_count": 55,
      "metadata": {
        "id": "RODHYQKecmZo"
      },
      "outputs": [],
      "source": [
        "# # # Error analysis of False Negatives\n",
        "with open('false_negative.txt', 'a') as file:\n",
        "    file.write(\"False negative:\\n\")\n",
        "\n",
        "    # Error analysis of False Positives TODO\n",
        "    for doc, label in zip(train_test_data, train_test_true):\n",
        "        prediction = train_test_pred[train_test_data.index(doc)]  # Find index based on doc\n",
        "\n",
        "        if label not in labels:  # only focus on the target categories\n",
        "            continue\n",
        "        if prediction == label:  # correct/TP, ignore these\n",
        "            continue\n",
        "        if label != 'positive' and label != prediction:\n",
        "            file.write('**** FALSE NEGATIVE for {1} (ground truth = {2}):****\\n\\n {0}\\n'.format(doc, prediction, label))\n",
        "            file.write('*' * 50 + '\\n')  # Add a line break after each false positive entry\n"
      ]
    },
    {
      "cell_type": "markdown",
      "metadata": {
        "id": "gDVBY2GYcmZo"
      },
      "source": [
        "# Questions 5: Optimising pre-processing and feature extraction (30 marks)"
      ]
    },
    {
      "cell_type": "markdown",
      "metadata": {
        "id": "mZcmv50qcmZp"
      },
      "source": [
        "**Note:** it is advisable to implement question 5 in a separate notebook where you further develop the pre-processing and feature extraction functions you implemented above."
      ]
    },
    {
      "cell_type": "code",
      "execution_count": 56,
      "metadata": {
        "colab": {
          "base_uri": "https://localhost:8080/"
        },
        "id": "7YI2F9uJcmZp",
        "outputId": "9b299e47-d09d-48ce-ced7-9dc5081211b7"
      },
      "outputs": [
        {
          "output_type": "stream",
          "name": "stdout",
          "text": [
            "({105: 1, 226: 2, 6: 2, 750: 2, 1050: 1, 60: 2, 30050: 1, 96: 1, 59: 1, 1: 3, 287: 1, 979: 1, 110: 2, 172: 1, 148: 1, 19090: 1, 24: 1, 2778: 1}, 'positive')\n",
            "Training Classifier...\n",
            "Done training!\n",
            "Precision: 0.852547\n",
            "Recall: 0.853757\n",
            "F Score:0.852916\n"
          ]
        }
      ],
      "source": [
        "# Finally, check the accuracy of your classifier by training on all the traning data\n",
        "# and testing on the test set\n",
        "# Will only work once all functions are complete\n",
        "functions_complete = True  # set to True once you're happy with your methods for cross val\n",
        "if functions_complete:\n",
        "    print(test_data[0])   # have a look at the first test data instance\n",
        "    classifier = train_classifier(train_data)  # train the classifier\n",
        "    test_true = [t[1] for t in test_data]   # get the ground-truth labels from the data\n",
        "    test_pred = predict_labels([x[0] for x in test_data], classifier)  # classify the test data to get predicted labels\n",
        "    final_scores = precision_recall_fscore_support(test_true, test_pred, average='weighted') # evaluate\n",
        "    print(\"Done training!\")\n",
        "    print(\"Precision: %f\\nRecall: %f\\nF Score:%f\" % final_scores[:3])"
      ]
    },
    {
      "cell_type": "code",
      "source": [],
      "metadata": {
        "id": "c3dfMzizdcYN"
      },
      "execution_count": 56,
      "outputs": []
    }
  ],
  "metadata": {
    "kernelspec": {
      "display_name": "Python 3 (ipykernel)",
      "language": "python",
      "name": "python3"
    },
    "language_info": {
      "codemirror_mode": {
        "name": "ipython",
        "version": 3
      },
      "file_extension": ".py",
      "mimetype": "text/x-python",
      "name": "python",
      "nbconvert_exporter": "python",
      "pygments_lexer": "ipython3",
      "version": "3.10.13"
    },
    "colab": {
      "provenance": []
    }
  },
  "nbformat": 4,
  "nbformat_minor": 0
}