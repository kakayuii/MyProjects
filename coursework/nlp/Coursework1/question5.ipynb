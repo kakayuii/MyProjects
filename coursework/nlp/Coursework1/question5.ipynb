{
  "cells": [
    {
      "cell_type": "code",
      "execution_count": null,
      "id": "3acb5b60-a970-49f9-8c07-91d6cd2e9a0a",
      "metadata": {
        "id": "3acb5b60-a970-49f9-8c07-91d6cd2e9a0a",
        "outputId": "a12554ac-2f49-4147-bb7b-5cbef5c13736",
        "colab": {
          "base_uri": "https://localhost:8080/"
        }
      },
      "outputs": [
        {
          "output_type": "stream",
          "name": "stderr",
          "text": [
            "[nltk_data] Downloading package stopwords to /root/nltk_data...\n",
            "[nltk_data]   Package stopwords is already up-to-date!\n",
            "[nltk_data] Downloading package wordnet to /root/nltk_data...\n",
            "[nltk_data]   Package wordnet is already up-to-date!\n"
          ]
        }
      ],
      "source": [
        "import csv # csv reader\n",
        "import nltk\n",
        "nltk.download('stopwords')\n",
        "nltk.download('wordnet')\n",
        "from sklearn.svm import LinearSVC\n",
        "from nltk.classify import SklearnClassifier\n",
        "from sklearn.pipeline import Pipeline, FeatureUnion\n",
        "from sklearn.metrics import precision_recall_fscore_support # to report on precision and recall\n",
        "from sklearn.feature_extraction import DictVectorizer\n",
        "from sklearn.feature_selection import SelectKBest, chi2, SelectFromModel\n",
        "from sklearn.feature_extraction.text import CountVectorizer\n",
        "from sklearn.feature_extraction.text import TfidfVectorizer\n",
        "from sklearn.preprocessing import FunctionTransformer\n",
        "from scipy.sparse import issparse\n",
        "from sklearn.base import BaseEstimator, TransformerMixin\n",
        "import numpy as np\n"
      ]
    },
    {
      "cell_type": "code",
      "source": [
        "from google.colab import drive\n",
        "drive.mount('/content/drive')"
      ],
      "metadata": {
        "colab": {
          "base_uri": "https://localhost:8080/"
        },
        "id": "A4fdCt8HkZCo",
        "outputId": "f73690ec-3bf4-435c-dc8e-1223ef51cb1e"
      },
      "id": "A4fdCt8HkZCo",
      "execution_count": null,
      "outputs": [
        {
          "output_type": "stream",
          "name": "stdout",
          "text": [
            "Drive already mounted at /content/drive; to attempt to forcibly remount, call drive.mount(\"/content/drive\", force_remount=True).\n"
          ]
        }
      ]
    },
    {
      "cell_type": "code",
      "execution_count": null,
      "id": "04f321cf-b70f-4030-8ce3-c42d1482c0d9",
      "metadata": {
        "id": "04f321cf-b70f-4030-8ce3-c42d1482c0d9"
      },
      "outputs": [],
      "source": [
        "def load_data(path):\n",
        "    \"\"\"Load data from a tab-separated file and append it to raw_data.\"\"\"\n",
        "    with open(path) as f:\n",
        "        reader = csv.reader(f, delimiter='\\t')\n",
        "        for line in reader:\n",
        "            if line[0] == \"Id\":  # skip header\n",
        "                continue\n",
        "            (label, text) = parse_data_line(line)\n",
        "            raw_data.append((text, label))\n",
        "\n",
        "def split_and_preprocess_data(percentage):\n",
        "    \"\"\"Split the data between train_data and test_data according to the percentage\n",
        "    and performs the preprocessing.\"\"\"\n",
        "    num_samples = len(raw_data)\n",
        "    num_training_samples = int((percentage * num_samples))\n",
        "    for (text, label) in raw_data[:num_training_samples]:\n",
        "        train_data.append((to_feature_vector(pre_process(text),training=True),label))\n",
        "    for (text, label) in raw_data[num_training_samples:]:\n",
        "        test_data.append((to_feature_vector(pre_process(text)),label))"
      ]
    },
    {
      "cell_type": "code",
      "execution_count": null,
      "id": "f6ce898f-461e-4e11-be0a-9b68ee15db77",
      "metadata": {
        "id": "f6ce898f-461e-4e11-be0a-9b68ee15db77"
      },
      "outputs": [],
      "source": [
        "def parse_data_line(data_line):\n",
        "    # Should return a tuple of the label as just positive or negative and the statement\n",
        "    # e.g. (label, statement)\n",
        "\n",
        "    label=data_line[1]\n",
        "    statement = data_line[2]\n",
        "    # Check if the label is either \"positive\" or \"negative\" and convert it to lowercase\n",
        "    label = label.strip().lower()\n",
        "    if label in (\"positive\", \"negative\"):\n",
        "        return (label, statement)\n",
        "    return (None, None)"
      ]
    },
    {
      "cell_type": "code",
      "execution_count": null,
      "id": "7bf4b0cc-ae97-4ca9-8db1-e156a527395f",
      "metadata": {
        "id": "7bf4b0cc-ae97-4ca9-8db1-e156a527395f"
      },
      "outputs": [],
      "source": [
        "import re\n",
        "from nltk.corpus import stopwords\n",
        "from nltk.stem import WordNetLemmatizer\n",
        "from nltk import ngrams\n",
        "\n",
        "# Improve the preprocessing. Which tokens might you want to throw out or preserve?\n",
        "# What about punctuation? Do not forget normalisation, lemmatising, stop word removal - what aspects of this might be useful?\n",
        "# Think about the features: what could you use other than unigram tokens? It may be useful to look beyond single words to combinations of words or characters.\n",
        "def generate_ngrams(tokens, n):\n",
        "    return list(ngrams(tokens, n))\n",
        "\n",
        "def pre_process(text):\n",
        "    text = re.sub(r\"(\\w)([.,;:!?'\\\"”\\)])\", r\"\\1 \\2\", text) # separates punctuation at ends of strings\n",
        "    text = re.sub(r\"([.,;:!?'\\\"“\\(\\)])(\\w)\", r\"\\1 \\2\", text) # separates punctuation at beginning of strings\n",
        "\n",
        "    # Tokenization\n",
        "    tokens = re.split(r\"\\s+\",text)\n",
        "\n",
        "    # Lowercasing: Normalize text to lowercase to ensure uniformity in word representations.\n",
        "    tokens = [t.lower() for t in tokens]\n",
        "\n",
        "    # Remove stop words:Common English stopwords are removed using NLTK's stopwords.\n",
        "    stop_words = set(stopwords.words('english'))\n",
        "    tokens = [t for t in tokens if t not in stop_words]\n",
        "\n",
        "    # Lemmatization:  reduce words to their base or root form. Eliminate common stop words that may not contribute much to the meaning.\n",
        "    lemmatizer = WordNetLemmatizer()\n",
        "    tokens = [lemmatizer.lemmatize(t) for t in tokens]\n",
        "\n",
        "    # using bigrams or trigrams to capture sequences of words.\n",
        "    unigrams = tokens\n",
        "    bigrams = generate_ngrams(tokens, 2)\n",
        "    trigrams = generate_ngrams(tokens, 3)\n",
        "\n",
        "    all_features = unigrams + bigrams + trigrams\n",
        "\n",
        "    return all_features"
      ]
    },
    {
      "cell_type": "code",
      "execution_count": null,
      "id": "daa962b6-bfa2-416e-9eef-be9eaf2d1c28",
      "metadata": {
        "id": "daa962b6-bfa2-416e-9eef-be9eaf2d1c28"
      },
      "outputs": [],
      "source": [
        "# Also the feature weighting scheme: what could you do other than using binary values?\n",
        "# You could add extra stylistic features like the number of words per sentence.\n",
        "global_feature_dict = {}\n",
        "def to_feature_vector(tokens, training=False):\n",
        "    i = 0\n",
        "    # Stylistic feature: Number of words per sentence\n",
        "    featureVector = {'0':0}\n",
        "\n",
        "    for w in tokens:\n",
        "        try:\n",
        "            i = global_feature_dict[w]\n",
        "        except KeyError:\n",
        "            if training:\n",
        "                i = len(global_feature_dict) + 1\n",
        "                global_feature_dict[w] = i\n",
        "            else:\n",
        "                i = global_feature_dict[\"<unk/>\"]\n",
        "\n",
        "        try:\n",
        "            featureVector[str(i)] += 1\n",
        "        except KeyError:\n",
        "            featureVector[str(i)] = 1\n",
        "\n",
        "    featureVector['0'] = len(featureVector)\n",
        "    return featureVector\n",
        "global_feature_dict[\"<unk/>\"] = len(global_feature_dict)+1"
      ]
    },
    {
      "cell_type": "code",
      "source": [
        "def train_classifier(data, c=1.0, class_weight=None):\n",
        "    \"\"\"\n",
        "    Train a LinearSVC classifier using scikit-learn.\n",
        "\n",
        "    Parameters:\n",
        "    - data: Training data in the required format for NLTK classifiers.\n",
        "    - c: Cost parameter for the SVM (default is 1.0).\n",
        "    - class_weight: Weights associated with classes (default is None).\n",
        "\n",
        "    Returns:\n",
        "    - Trained classifier.\n",
        "    \"\"\"\n",
        "    print(\"Training Classifier...\")\n",
        "\n",
        "    # Customize the SVM classifier with parameters\n",
        "    # Cost Parameter (C): Adjust the cost parameter to control the trade-off between achieving a smooth decision boundary and classifying training points correctly.\n",
        "    # Class Weights: Experiment with assigning different weights to classes, especially in imbalanced datasets.\n",
        "    svm_classifier = LinearSVC(C=c, class_weight=class_weight, dual=False)\n",
        "    pipeline = Pipeline([('svc', svm_classifier)])\n",
        "\n",
        "    # Train the classifier using NLTK's SklearnClassifier\n",
        "    return SklearnClassifier(pipeline).train(data)\n"
      ],
      "metadata": {
        "id": "EhqsUDgGBcd8"
      },
      "id": "EhqsUDgGBcd8",
      "execution_count": null,
      "outputs": []
    },
    {
      "cell_type": "code",
      "execution_count": null,
      "id": "3276d6b6-0a73-4b64-92e8-7cb3c906b080",
      "metadata": {
        "id": "3276d6b6-0a73-4b64-92e8-7cb3c906b080"
      },
      "outputs": [],
      "source": [
        "from sklearn.metrics import classification_report\n",
        "from sklearn.metrics import accuracy_score\n",
        "\n",
        "def cross_validate(dataset, folds):\n",
        "    results = []\n",
        "    all_accuracy = []\n",
        "    fold_size = int(len(dataset)/folds) + 1\n",
        "\n",
        "    for i in range(0,len(dataset),int(fold_size)):\n",
        "        # insert code here that trains and tests on the 10 folds of data in the dataset\n",
        "        print(\"Fold start on items %d - %d\" % (i, i+fold_size))\n",
        "        # FILL IN THE METHOD HERE\n",
        "\n",
        "        # create training and test data for each fold\n",
        "        test_start = i\n",
        "        test_end = min(i + fold_size, len(dataset))\n",
        "        test_set = dataset[test_start:test_end]\n",
        "        train_set = dataset[:test_start] + dataset[test_end:]\n",
        "\n",
        "        # Make use of the given functions train_classifier() and predict_labels() to do the cross-validation\n",
        "        # train the classifier on the larger training part, and test on the smaller test part.\n",
        "        classifier = train_classifier(train_set, c=0.5, class_weight='balanced')\n",
        "\n",
        "        test_true = [t[1] for t in test_set]\n",
        "        test_pred = predict_labels([x[0] for x in test_set], classifier)\n",
        "\n",
        "        # get the precision, recall, f1 score, and accuracy of classifier in a variable cv_results, which should contain average scores for all folds and be returned by this function\n",
        "        report = classification_report(test_true, test_pred, output_dict=True)\n",
        "        results.append(report)\n",
        "        print(report)"
      ]
    },
    {
      "cell_type": "code",
      "execution_count": null,
      "id": "039c099c-f56d-4259-bbb8-6a7f532e909d",
      "metadata": {
        "id": "039c099c-f56d-4259-bbb8-6a7f532e909d"
      },
      "outputs": [],
      "source": [
        "def predict_labels(samples, classifier):\n",
        "    \"\"\"Assuming preprocessed samples, return their predicted labels from the classifier model.\"\"\"\n",
        "    return classifier.classify_many(samples)\n",
        "\n",
        "def predict_label_from_raw(sample, classifier):\n",
        "    \"\"\"Assuming raw text, return its predicted label from the classifier model.\"\"\"\n",
        "    return classifier.classify(to_feature_vector(pre_process(sample)))"
      ]
    },
    {
      "cell_type": "code",
      "execution_count": null,
      "id": "3bb9bf7a-8fee-40d8-badd-f6b5d9e65d31",
      "metadata": {
        "id": "3bb9bf7a-8fee-40d8-badd-f6b5d9e65d31",
        "outputId": "a2789a09-0da9-4e89-d820-b6ce6979e2e9",
        "colab": {
          "base_uri": "https://localhost:8080/"
        }
      },
      "outputs": [
        {
          "output_type": "stream",
          "name": "stdout",
          "text": [
            "Now 0 rawData, 0 trainData, 0 testData\n",
            "Preparing the dataset...\n",
            "Now 33540 rawData, 0 trainData, 0 testData\n",
            "Preparing training and test data...\n",
            "After split, 33540 rawData, 26832 trainData, 6708 testData\n",
            "Training Samples: \n",
            "26832\n",
            "Features: \n",
            "613189\n"
          ]
        }
      ],
      "source": [
        "raw_data = []          # the filtered data from the dataset file\n",
        "train_data = []        # the pre-processed training data as a percentage of the total dataset\n",
        "test_data = []         # the pre-processed test data as a percentage of the total dataset\n",
        "\n",
        "data_file_path = '/content/drive/MyDrive/nlp/sentiment-dataset.tsv'\n",
        "\n",
        "print(\"Now %d rawData, %d trainData, %d testData\" % (len(raw_data), len(train_data), len(test_data)),\n",
        "      \"Preparing the dataset...\",sep='\\n')\n",
        "\n",
        "load_data(data_file_path)\n",
        "\n",
        "print(\"Now %d rawData, %d trainData, %d testData\" % (len(raw_data), len(train_data), len(test_data)),\n",
        "      \"Preparing training and test data...\",sep='\\n')\n",
        "\n",
        "split_and_preprocess_data(0.8)\n",
        "\n",
        "print(\"After split, %d rawData, %d trainData, %d testData\" % (len(raw_data), len(train_data), len(test_data)),\n",
        "      \"Training Samples: \", len(train_data), \"Features: \", len(global_feature_dict), sep='\\n')"
      ]
    },
    {
      "cell_type": "code",
      "execution_count": null,
      "id": "c4266e68-bd3e-49bf-914f-375f5ed15b60",
      "metadata": {
        "id": "c4266e68-bd3e-49bf-914f-375f5ed15b60",
        "colab": {
          "base_uri": "https://localhost:8080/"
        },
        "outputId": "6e57bbe2-ba83-4e75-84fd-2997738bd1ab"
      },
      "outputs": [
        {
          "output_type": "stream",
          "name": "stdout",
          "text": [
            "Fold start on items 0 - 2684\n",
            "Training Classifier...\n",
            "{'negative': {'precision': 0.8249641319942611, 'recall': 0.7029339853300733, 'f1-score': 0.759075907590759, 'support': 818}, 'positive': {'precision': 0.8777050830397585, 'recall': 0.9346195069667739, 'f1-score': 0.9052686218531015, 'support': 1866}, 'accuracy': 0.8640089418777943, 'macro avg': {'precision': 0.8513346075170098, 'recall': 0.8187767461484237, 'f1-score': 0.8321722647219303, 'support': 2684}, 'weighted avg': {'precision': 0.8616312760519728, 'recall': 0.8640089418777943, 'f1-score': 0.8607136143022088, 'support': 2684}}\n",
            "Fold start on items 2684 - 5368\n",
            "Training Classifier...\n",
            "{'negative': {'precision': 0.7389473684210527, 'recall': 0.5919055649241147, 'f1-score': 0.6573033707865168, 'support': 593}, 'positive': {'precision': 0.8904481665912177, 'recall': 0.9406982305117169, 'f1-score': 0.9148837209302326, 'support': 2091}, 'accuracy': 0.8636363636363636, 'macro avg': {'precision': 0.8146977675061352, 'recall': 0.7663018977179158, 'f1-score': 0.7860935458583747, 'support': 2684}, 'weighted avg': {'precision': 0.8569757473233683, 'recall': 0.8636363636363636, 'f1-score': 0.8579742024372283, 'support': 2684}}\n",
            "Fold start on items 5368 - 8052\n",
            "Training Classifier...\n",
            "{'negative': {'precision': 0.7926587301587301, 'recall': 0.7645933014354067, 'f1-score': 0.778373112518266, 'support': 1045}, 'positive': {'precision': 0.8532219570405728, 'recall': 0.87248322147651, 'f1-score': 0.8627450980392156, 'support': 1639}, 'accuracy': 0.8304769001490313, 'macro avg': {'precision': 0.8229403435996514, 'recall': 0.8185382614559584, 'f1-score': 0.8205591052787409, 'support': 2684}, 'weighted avg': {'precision': 0.8296420121480522, 'recall': 0.8304769001490313, 'f1-score': 0.8298953495781901, 'support': 2684}}\n",
            "Fold start on items 8052 - 10736\n",
            "Training Classifier...\n",
            "{'negative': {'precision': 0.8234582829504232, 'recall': 0.739413680781759, 'f1-score': 0.7791762013729978, 'support': 921}, 'positive': {'precision': 0.8707592891760905, 'recall': 0.9171866137266024, 'f1-score': 0.8933701657458564, 'support': 1763}, 'accuracy': 0.8561847988077497, 'macro avg': {'precision': 0.8471087860632569, 'recall': 0.8283001472541807, 'f1-score': 0.836273183559427, 'support': 2684}, 'weighted avg': {'precision': 0.8545282061903082, 'recall': 0.8561847988077497, 'f1-score': 0.854185128045632, 'support': 2684}}\n",
            "Fold start on items 13420 - 16104\n",
            "Training Classifier...\n",
            "{'negative': {'precision': 0.8640897755610972, 'recall': 0.7443609022556391, 'f1-score': 0.7997691863819965, 'support': 931}, 'positive': {'precision': 0.873538788522848, 'recall': 0.9378208784940103, 'f1-score': 0.9045392022008253, 'support': 1753}, 'accuracy': 0.870715350223547, 'macro avg': {'precision': 0.8688142820419726, 'recall': 0.8410908903748247, 'f1-score': 0.8521541942914108, 'support': 2684}, 'weighted avg': {'precision': 0.8702612061579487, 'recall': 0.870715350223547, 'f1-score': 0.8681975909015222, 'support': 2684}}\n",
            "Fold start on items 16104 - 18788\n",
            "Training Classifier...\n",
            "{'negative': {'precision': 0.8308457711442786, 'recall': 0.7438752783964365, 'f1-score': 0.7849588719153937, 'support': 898}, 'positive': {'precision': 0.8776595744680851, 'recall': 0.9238521836506159, 'f1-score': 0.9001636661211129, 'support': 1786}, 'accuracy': 0.8636363636363636, 'macro avg': {'precision': 0.8542526728061819, 'recall': 0.8338637310235262, 'f1-score': 0.8425612690182533, 'support': 2684}, 'weighted avg': {'precision': 0.8619968340117593, 'recall': 0.8636363636363636, 'f1-score': 0.8616189920537748, 'support': 2684}}\n",
            "Fold start on items 18788 - 21472\n",
            "Training Classifier...\n",
            "{'negative': {'precision': 0.8209500609013398, 'recall': 0.7422907488986784, 'f1-score': 0.7796414112203587, 'support': 908}, 'positive': {'precision': 0.8743961352657005, 'recall': 0.9172297297297297, 'f1-score': 0.8953009068425392, 'support': 1776}, 'accuracy': 0.8580476900149031, 'macro avg': {'precision': 0.8476730980835201, 'recall': 0.8297602393142041, 'f1-score': 0.837471159031449, 'support': 2684}, 'weighted avg': {'precision': 0.8563152725522729, 'recall': 0.8580476900149031, 'f1-score': 0.8561731788153635, 'support': 2684}}\n",
            "Fold start on items 21472 - 24156\n",
            "Training Classifier...\n",
            "{'negative': {'precision': 0.8251231527093597, 'recall': 0.7362637362637363, 'f1-score': 0.7781649245063881, 'support': 910}, 'positive': {'precision': 0.8717948717948718, 'recall': 0.9199549041713642, 'f1-score': 0.8952276467361492, 'support': 1774}, 'accuracy': 0.8576751117734724, 'macro avg': {'precision': 0.8484590122521157, 'recall': 0.8281093202175502, 'f1-score': 0.8366962856212686, 'support': 2684}, 'weighted avg': {'precision': 0.8559710028053725, 'recall': 0.8576751117734724, 'f1-score': 0.8555379756373851, 'support': 2684}}\n",
            "Fold start on items 24156 - 26840\n",
            "Training Classifier...\n",
            "{'negative': {'precision': 0.8459657701711492, 'recall': 0.7448869752421959, 'f1-score': 0.792215226101889, 'support': 929}, 'positive': {'precision': 0.8724434876210979, 'recall': 0.927876359473383, 'f1-score': 0.8993065187239945, 'support': 1747}, 'accuracy': 0.8643497757847534, 'macro avg': {'precision': 0.8592046288961235, 'recall': 0.8363816673577895, 'f1-score': 0.8457608724129417, 'support': 2676}, 'weighted avg': {'precision': 0.8632514848142957, 'recall': 0.8643497757847534, 'f1-score': 0.8621287119803711, 'support': 2676}}\n"
          ]
        }
      ],
      "source": [
        "cross_validate(train_data, 10)"
      ]
    },
    {
      "cell_type": "code",
      "execution_count": null,
      "id": "914a6570-5864-40a2-bbe8-d0d9f15a0268",
      "metadata": {
        "id": "914a6570-5864-40a2-bbe8-d0d9f15a0268"
      },
      "outputs": [],
      "source": [
        "from sklearn import metrics\n",
        "import matplotlib.pyplot as plt\n",
        "# a function to make the confusion matrix readable and pretty\n",
        "def confusion_matrix_heatmap(y_test, preds, labels):\n",
        "    \"\"\"Function to plot a confusion matrix\"\"\"\n",
        "    # pass labels to the confusion matrix function to ensure right order\n",
        "    # cm = metrics.confusion_matrix(y_test, preds, labels)\n",
        "    cm = metrics.confusion_matrix(y_test, preds, labels=labels)\n",
        "    fig = plt.figure(figsize=(10,10))\n",
        "    ax = fig.add_subplot(111)\n",
        "    cax = ax.matshow(cm)\n",
        "    plt.title('Confusion matrix of the classifier')\n",
        "    fig.colorbar(cax)\n",
        "    ax.set_xticks(np.arange(len(labels)))\n",
        "    ax.set_yticks(np.arange(len(labels)))\n",
        "    ax.set_xticklabels( labels, rotation=45)\n",
        "    ax.set_yticklabels( labels)\n",
        "\n",
        "    for i in range(len(cm)):\n",
        "        for j in range(len(cm)):\n",
        "            text = ax.text(j, i, cm[i, j],\n",
        "                           ha=\"center\", va=\"center\", color=\"w\")\n",
        "\n",
        "    plt.xlabel('Predicted')\n",
        "    plt.ylabel('True')\n",
        "\n",
        "    # fix for mpl bug that cuts off top/bottom of seaborn viz:\n",
        "    b, t = plt.ylim() # discover the values for bottom and top\n",
        "    b += 0.5 # Add 0.5 to the bottom\n",
        "    t -= 0.5 # Subtract 0.5 from the top\n",
        "    plt.ylim(b, t) # update the ylim(bottom, top) values\n",
        "    plt.show() # ta-da!\n",
        "    plt.show()"
      ]
    },
    {
      "cell_type": "code",
      "execution_count": null,
      "id": "d37c7b79-4427-44b9-a248-8fa452c4be7e",
      "metadata": {
        "id": "d37c7b79-4427-44b9-a248-8fa452c4be7e",
        "colab": {
          "base_uri": "https://localhost:8080/",
          "height": 934
        },
        "outputId": "739677cc-b4ac-4637-aa36-817d7de02804"
      },
      "outputs": [
        {
          "output_type": "stream",
          "name": "stdout",
          "text": [
            "Training Classifier...\n"
          ]
        },
        {
          "output_type": "display_data",
          "data": {
            "text/plain": [
              "<Figure size 1000x1000 with 2 Axes>"
            ],
            "image/png": "[encoded data removed]"
          },
          "metadata": {}
        }
      ],
      "source": [
        "train_train_data=[]\n",
        "train_test_data=[]\n",
        "labels=[\"positive\", \"negative\"]\n",
        "num_samples = len(train_data)\n",
        "num_training_samples = int((0.9 * num_samples))\n",
        "for (text, label) in train_data[:num_training_samples]:\n",
        "    train_train_data.append((text,label))\n",
        "for (text, label) in train_data[num_training_samples:]:\n",
        "    train_test_data.append((text,label))\n",
        "\n",
        "classifier = train_classifier(train_train_data)\n",
        "train_test_true = [t[1] for t in train_test_data]\n",
        "train_test_pred = predict_labels([x[0] for x in train_test_data], classifier)\n",
        "confusion_matrix_heatmap(train_test_true, train_test_pred, labels)"
      ]
    },
    {
      "cell_type": "code",
      "execution_count": null,
      "id": "d079f1ea-1afa-4acd-acb4-4910f1bded18",
      "metadata": {
        "id": "d079f1ea-1afa-4acd-acb4-4910f1bded18",
        "colab": {
          "base_uri": "https://localhost:8080/"
        },
        "outputId": "a9949a52-573e-4c20-ab8b-fce0978b9aa5"
      },
      "outputs": [
        {
          "output_type": "stream",
          "name": "stdout",
          "text": [
            "({'0': 16, '220': 1, '4': 2, '3676': 1, '280283': 1, '212': 1, '1': 23, '225': 2, '422': 1, '165218': 1, '12305': 1, '8799': 1, '96096': 1, '1167': 1, '29268': 1, '514502': 1}, 'positive')\n",
            "Training Classifier...\n",
            "Done training!\n",
            "Precision: 0.854755\n",
            "Recall: 0.852564\n",
            "F Score:0.847246\n"
          ]
        }
      ],
      "source": [
        "functions_complete = True  # set to True once you're happy with your methods for cross val\n",
        "if functions_complete:\n",
        "    print(test_data[0])   # have a look at the first test data instance\n",
        "    classifier = train_classifier(train_data)  # train the classifier\n",
        "    test_true = [t[1] for t in test_data]   # get the ground-truth labels from the data\n",
        "    test_pred = predict_labels([x[0] for x in test_data], classifier)  # classify the test data to get predicted labels\n",
        "    final_scores = precision_recall_fscore_support(test_true, test_pred, average='weighted') # evaluate\n",
        "    print(\"Done training!\")\n",
        "    print(\"Precision: %f\\nRecall: %f\\nF Score:%f\" % final_scores[:3])"
      ]
    }
  ],
  "metadata": {
    "kernelspec": {
      "display_name": "Python 3 (ipykernel)",
      "language": "python",
      "name": "python3"
    },
    "language_info": {
      "codemirror_mode": {
        "name": "ipython",
        "version": 3
      },
      "file_extension": ".py",
      "mimetype": "text/x-python",
      "name": "python",
      "nbconvert_exporter": "python",
      "pygments_lexer": "ipython3",
      "version": "3.10.13"
    },
    "colab": {
      "provenance": []
    }
  },
  "nbformat": 4,
  "nbformat_minor": 5
}